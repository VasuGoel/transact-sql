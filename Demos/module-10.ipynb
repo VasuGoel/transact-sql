{
    "metadata": {
        "kernelspec": {
            "name": "SQL",
            "display_name": "SQL",
            "language": "sql"
        },
        "language_info": {
            "name": "sql",
            "version": ""
        }
    },
    "nbformat_minor": 2,
    "nbformat": 4,
    "cells": [
        {
            "cell_type": "markdown",
            "source": [
                "# Variables"
            ],
            "metadata": {
                "azdata_cell_guid": "27d8be3b-8e80-4e07-b09e-47dd877029a0"
            }
        },
        {
            "cell_type": "code",
            "source": [
                "-- Search Customer by city using variable (scoped to batch)\n",
                "DECLARE @City varchar(20) = 'Toronto';\n",
                "SET @City = 'Bellevue'\n",
                "\n",
                "SELECT c.CustomerID, c.FirstName + ' ' + c.LastName AS CustomerName, a.City\n",
                "FROM SalesLT.Customer AS c JOIN SalesLT.CustomerAddress AS ca ON c.CustomerID = ca.CustomerID\n",
                "JOIN SalesLT.Address AS a ON ca.AddressID = a.AddressID\n",
                "WHERE a.City = @City\n",
                "-- Note: Do not put GO command between variable declaration and query using that variable (cuz they're sent as different batches for execution)"
            ],
            "metadata": {
                "azdata_cell_guid": "ec25df8c-d7d0-426c-839f-62aa57e1928a"
            },
            "outputs": [
                {
                    "output_type": "display_data",
                    "data": {
                        "text/html": "(2 rows affected)"
                    },
                    "metadata": {}
                },
                {
                    "output_type": "display_data",
                    "data": {
                        "text/html": "Total execution time: 00:00:00.011"
                    },
                    "metadata": {}
                },
                {
                    "output_type": "execute_result",
                    "execution_count": 4,
                    "data": {
                        "application/vnd.dataresource+json": {
                            "schema": {
                                "fields": [
                                    {
                                        "name": "CustomerID"
                                    },
                                    {
                                        "name": "CustomerName"
                                    },
                                    {
                                        "name": "City"
                                    }
                                ]
                            },
                            "data": [
                                {
                                    "0": "29559",
                                    "1": "Robert Bernacchi",
                                    "2": "Bellevue"
                                },
                                {
                                    "0": "29559",
                                    "1": "Robert Bernacchi",
                                    "2": "Bellevue"
                                }
                            ]
                        },
                        "text/html": "<table><tr><th>CustomerID</th><th>CustomerName</th><th>City</th></tr><tr><td>29559</td><td>Robert Bernacchi</td><td>Bellevue</td></tr><tr><td>29559</td><td>Robert Bernacchi</td><td>Bellevue</td></tr></table>"
                    },
                    "metadata": {}
                }
            ],
            "execution_count": 4
        },
        {
            "cell_type": "code",
            "source": [
                "-- Assign value to variable using SELECT query and output it\n",
                "DECLARE @MaxListPrice int;\n",
                "SELECT @MaxListPrice = MAX(ListPrice)\n",
                "FROM SalesLT.Product\n",
                "\n",
                "PRINT 'Maximum List Price in Product table: ' + CAST(@MaxListPrice AS varchar(20));"
            ],
            "metadata": {
                "azdata_cell_guid": "8fda8c8e-1708-44f3-bc02-3b225779b2cd"
            },
            "outputs": [
                {
                    "output_type": "display_data",
                    "data": {
                        "text/html": "Maximum List Price in Product table: 3578"
                    },
                    "metadata": {}
                },
                {
                    "output_type": "display_data",
                    "data": {
                        "text/html": "Total execution time: 00:00:00.006"
                    },
                    "metadata": {}
                }
            ],
            "execution_count": 8
        },
        {
            "cell_type": "markdown",
            "source": [
                "# Conditional Branching"
            ],
            "metadata": {
                "azdata_cell_guid": "0e121626-d6f0-4512-90be-bcc2052a262c"
            }
        },
        {
            "cell_type": "code",
            "source": [
                "IF 'Yes' = 'yes'\n",
                "    PRINT 'True'\n",
                "ELSE\n",
                "    PRINT 'False'"
            ],
            "metadata": {
                "azdata_cell_guid": "c52ded71-0671-469b-b586-b9ab936d8aac"
            },
            "outputs": [
                {
                    "output_type": "display_data",
                    "data": {
                        "text/html": "True"
                    },
                    "metadata": {}
                },
                {
                    "output_type": "display_data",
                    "data": {
                        "text/html": "Total execution time: 00:00:00.003"
                    },
                    "metadata": {}
                }
            ],
            "execution_count": 16
        },
        {
            "cell_type": "code",
            "source": [
                "-- Display a custom message to the user if UPDATE statement affected any rows\n",
                "DECLARE @pid int = 680;\n",
                "\n",
                "UPDATE SalesLT.Product\n",
                "SET DiscontinuedDate = GETDATE()\n",
                "WHERE ProductID = @pid;\n",
                "\n",
                "DECLARE @RowsAffected int = @@ROWCOUNT;\n",
                "\n",
                "IF @RowsAffected < 1\n",
                "    PRINT 'No product found.'\n",
                "ELSE\n",
                "    BEGIN\n",
                "        PRINT CAST(@RowsAffected AS varchar(10)) + ' product updated.'\n",
                "        SELECT * FROM SalesLT.Product WHERE ProductID = @pid;\n",
                "    END\n",
                "\n",
                "-- Note: @@ROWCOUNT is a system variable which returns the number of rows affected by the previous query"
            ],
            "metadata": {
                "azdata_cell_guid": "008edada-1659-4ec6-80ba-546ecbc20feb"
            },
            "outputs": [
                {
                    "output_type": "display_data",
                    "data": {
                        "text/html": "(1 row affected)"
                    },
                    "metadata": {}
                },
                {
                    "output_type": "display_data",
                    "data": {
                        "text/html": "1 product updated."
                    },
                    "metadata": {}
                },
                {
                    "output_type": "display_data",
                    "data": {
                        "text/html": "(1 row affected)"
                    },
                    "metadata": {}
                },
                {
                    "output_type": "display_data",
                    "data": {
                        "text/html": "Total execution time: 00:00:00.013"
                    },
                    "metadata": {}
                },
                {
                    "output_type": "execute_result",
                    "execution_count": 22,
                    "data": {
                        "application/vnd.dataresource+json": {
                            "schema": {
                                "fields": [
                                    {
                                        "name": "ProductID"
                                    },
                                    {
                                        "name": "Name"
                                    },
                                    {
                                        "name": "ProductNumber"
                                    },
                                    {
                                        "name": "Color"
                                    },
                                    {
                                        "name": "StandardCost"
                                    },
                                    {
                                        "name": "ListPrice"
                                    },
                                    {
                                        "name": "Size"
                                    },
                                    {
                                        "name": "Weight"
                                    },
                                    {
                                        "name": "ProductCategoryID"
                                    },
                                    {
                                        "name": "ProductModelID"
                                    },
                                    {
                                        "name": "SellStartDate"
                                    },
                                    {
                                        "name": "SellEndDate"
                                    },
                                    {
                                        "name": "DiscontinuedDate"
                                    },
                                    {
                                        "name": "ThumbNailPhoto"
                                    },
                                    {
                                        "name": "ThumbnailPhotoFileName"
                                    },
                                    {
                                        "name": "rowguid"
                                    },
                                    {
                                        "name": "ModifiedDate"
                                    }
                                ]
                            },
                            "data": [
                                {
                                    "0": "680",
                                    "1": "HL Road Frame - Black, 58",
                                    "2": "FR-R92B-58",
                                    "3": "Black",
                                    "4": "1059.3100",
                                    "5": "1431.5000",
                                    "6": "58",
                                    "7": "1016.04",
                                    "8": "18",
                                    "9": "6",
                                    "10": "1998-06-01 00:00:00.000",
                                    "11": "NULL",
                                    "12": "2020-04-25 15:21:02.633",
                                    "13": "0x47494638396150003100F70000000000800000008000808000000080800080008080808080C0C0C0FF000000FF00FFFF000000FFFF00FF00FFFFFFFFFF0000000000000000000000000000000000000000000000000000000000000000000000000000000000000000000000000000000000000000000000000000000000000000000000000000000000330000660000990000CC0000FF0033000033330033660033990033CC0033FF0066000066330066660066990066CC0066FF0099000099330099660099990099CC0099FF00CC0000CC3300CC6600CC9900CCCC00CCFF00FF0000FF3300FF6600FF9900FFCC00FFFF3300003300333300663300993300CC3300FF3333003333333333663333993333CC3333FF3366003366333366663366993366CC3366FF3399003399333399663399993399CC3399FF33CC0033CC3333CC6633CC9933CCCC33CCFF33FF0033FF3333FF6633FF9933FFCC33FFFF6600006600336600666600996600CC6600FF6633006633336633666633996633CC6633FF6666006666336666666666996666CC6666FF6699006699336699666699996699CC6699FF66CC0066CC3366CC6666CC9966CCCC66CCFF66FF0066FF3366FF6666FF9966FFCC66FFFF9900009900339900669900999900CC9900FF9933009933339933669933999933CC9933FF9966009966339966669966999966CC9966FF9999009999339999669999999999CC9999FF99CC0099CC3399CC6699CC9999CCCC99CCFF99FF0099FF3399FF6699FF9999FFCC99FFFFCC0000CC0033CC0066CC0099CC00CCCC00FFCC3300CC3333CC3366CC3399CC33CCCC33FFCC6600CC6633CC6666CC6699CC66CCCC66FFCC9900CC9933CC9966CC9999CC99CCCC99FFCCCC00CCCC33CCCC66CCCC99CCCCCCCCCCFFCCFF00CCFF33CCFF66CCFF99CCFFCCCCFFFFFF0000FF0033FF0066FF0099FF00CCFF00FFFF3300FF3333FF3366FF3399FF33CCFF33FFFF6600FF6633FF6666FF6699FF66CCFF66FFFF9900FF9933FF9966FF9999FF99CCFF99FFFFCC00FFCC33FFCC66FFCC99FFCCCCFFCCFFFFFF00FFFF33FFFF66FFFF99FFFFCCFFFFFF21F90401000010002C00000000500031000008FF00FF091C48B0A0C18308132A5CC8B0A1C38710234A9C48B1A2C58B18336ADCC8B1A3C78F20438A1C49B2A4C9932853AA5C9911058A812E17C664F9D0E5CB7F3313E6A4C9D0A6C099366FC27C19D367CEA04371DE44CA1169D1A542952A25FA1467D2A7547F46C558542AD0A855A58A9D9AD52BD4A654C3EE547BD6AC58AC3E377E2DBB96EED9AF6FCB7A9C9B97205BAD7DB1F6952B74EED6BF79E3B2DDC95362E1AD8D2F328D4CB9B2E5CB9831C77518D62063C6223743040DD82F6490558FA6BD0B152F5EB2A8B3AA7EEC96B651D96D3BFE9D8D7BE86EBB1F7F034ECD3AF06AD292831237EEB6F9F290AAB5B65DEE9A7A6EC249A7FA7EAEDC79EBD399C38B121F4FBEBCF9F3E8D3AB5FCFBEBDFBF7EF0302003B",
                                    "14": "no_image_available_small.gif",
                                    "15": "43dd68d6-14a4-461f-9069-55309d90ea7e",
                                    "16": "2004-03-11 10:01:36.827"
                                }
                            ]
                        },
                        "text/html": "<table><tr><th>ProductID</th><th>Name</th><th>ProductNumber</th><th>Color</th><th>StandardCost</th><th>ListPrice</th><th>Size</th><th>Weight</th><th>ProductCategoryID</th><th>ProductModelID</th><th>SellStartDate</th><th>SellEndDate</th><th>DiscontinuedDate</th><th>ThumbNailPhoto</th><th>ThumbnailPhotoFileName</th><th>rowguid</th><th>ModifiedDate</th></tr><tr><td>680</td><td>HL Road Frame - Black, 58</td><td>FR-R92B-58</td><td>Black</td><td>1059.3100</td><td>1431.5000</td><td>58</td><td>1016.04</td><td>18</td><td>6</td><td>1998-06-01 00:00:00.000</td><td>NULL</td><td>2020-04-25 15:21:02.633</td><td>0x47494638396150003100F70000000000800000008000808000000080800080008080808080C0C0C0FF000000FF00FFFF000000FFFF00FF00FFFFFFFFFF0000000000000000000000000000000000000000000000000000000000000000000000000000000000000000000000000000000000000000000000000000000000000000000000000000000000330000660000990000CC0000FF0033000033330033660033990033CC0033FF0066000066330066660066990066CC0066FF0099000099330099660099990099CC0099FF00CC0000CC3300CC6600CC9900CCCC00CCFF00FF0000FF3300FF6600FF9900FFCC00FFFF3300003300333300663300993300CC3300FF3333003333333333663333993333CC3333FF3366003366333366663366993366CC3366FF3399003399333399663399993399CC3399FF33CC0033CC3333CC6633CC9933CCCC33CCFF33FF0033FF3333FF6633FF9933FFCC33FFFF6600006600336600666600996600CC6600FF6633006633336633666633996633CC6633FF6666006666336666666666996666CC6666FF6699006699336699666699996699CC6699FF66CC0066CC3366CC6666CC9966CCCC66CCFF66FF0066FF3366FF6666FF9966FFCC66FFFF9900009900339900669900999900CC9900FF9933009933339933669933999933CC9933FF9966009966339966669966999966CC9966FF9999009999339999669999999999CC9999FF99CC0099CC3399CC6699CC9999CCCC99CCFF99FF0099FF3399FF6699FF9999FFCC99FFFFCC0000CC0033CC0066CC0099CC00CCCC00FFCC3300CC3333CC3366CC3399CC33CCCC33FFCC6600CC6633CC6666CC6699CC66CCCC66FFCC9900CC9933CC9966CC9999CC99CCCC99FFCCCC00CCCC33CCCC66CCCC99CCCCCCCCCCFFCCFF00CCFF33CCFF66CCFF99CCFFCCCCFFFFFF0000FF0033FF0066FF0099FF00CCFF00FFFF3300FF3333FF3366FF3399FF33CCFF33FFFF6600FF6633FF6666FF6699FF66CCFF66FFFF9900FF9933FF9966FF9999FF99CCFF99FFFFCC00FFCC33FFCC66FFCC99FFCCCCFFCCFFFFFF00FFFF33FFFF66FFFF99FFFFCCFFFFFF21F90401000010002C00000000500031000008FF00FF091C48B0A0C18308132A5CC8B0A1C38710234A9C48B1A2C58B18336ADCC8B1A3C78F20438A1C49B2A4C9932853AA5C9911058A812E17C664F9D0E5CB7F3313E6A4C9D0A6C099366FC27C19D367CEA04371DE44CA1169D1A542952A25FA1467D2A7547F46C558542AD0A855A58A9D9AD52BD4A654C3EE547BD6AC58AC3E377E2DBB96EED9AF6FCB7A9C9B97205BAD7DB1F6952B74EED6BF79E3B2DDC95362E1AD8D2F328D4CB9B2E5CB9831C77518D62063C6223743040DD82F6490558FA6BD0B152F5EB2A8B3AA7EEC96B651D96D3BFE9D8D7BE86EBB1F7F034ECD3AF06AD292831237EEB6F9F290AAB5B65DEE9A7A6EC249A7FA7EAEDC79EBD399C38B121F4FBEBCF9F3E8D3AB5FCFBEBDFBF7EF0302003B</td><td>no_image_available_small.gif</td><td>43dd68d6-14a4-461f-9069-55309d90ea7e</td><td>2004-03-11 10:01:36.827</td></tr></table>"
                    },
                    "metadata": {}
                }
            ],
            "execution_count": 22
        },
        {
            "cell_type": "markdown",
            "source": [
                "# Looping"
            ],
            "metadata": {
                "azdata_cell_guid": "a6d729ca-d6ef-43a5-8d87-87be496115f0"
            }
        },
        {
            "cell_type": "code",
            "source": [
                "DECLARE @DemoTable AS TABLE (Description varchar(20));\n",
                "DECLARE @Counter int = 1;\n",
                "\n",
                "WHILE @Counter <= 5\n",
                "    BEGIN\n",
                "        INSERT INTO @DemoTable\n",
                "        VALUES ('Row ' + CAST(@Counter AS varchar(20)));\n",
                "        SET @Counter += 1;\n",
                "    END\n",
                "\n",
                "SELECT * FROM @DemoTable;"
            ],
            "metadata": {
                "azdata_cell_guid": "810d7748-1b11-42ce-9c60-6996ba65f2f7",
                "tags": []
            },
            "outputs": [
                {
                    "output_type": "display_data",
                    "data": {
                        "text/html": "(1 row affected)"
                    },
                    "metadata": {}
                },
                {
                    "output_type": "display_data",
                    "data": {
                        "text/html": "(1 row affected)"
                    },
                    "metadata": {}
                },
                {
                    "output_type": "display_data",
                    "data": {
                        "text/html": "(1 row affected)"
                    },
                    "metadata": {}
                },
                {
                    "output_type": "display_data",
                    "data": {
                        "text/html": "(1 row affected)"
                    },
                    "metadata": {}
                },
                {
                    "output_type": "display_data",
                    "data": {
                        "text/html": "(1 row affected)"
                    },
                    "metadata": {}
                },
                {
                    "output_type": "display_data",
                    "data": {
                        "text/html": "(5 rows affected)"
                    },
                    "metadata": {}
                },
                {
                    "output_type": "display_data",
                    "data": {
                        "text/html": "Total execution time: 00:00:00.137"
                    },
                    "metadata": {}
                },
                {
                    "output_type": "execute_result",
                    "metadata": {},
                    "execution_count": 1,
                    "data": {
                        "application/vnd.dataresource+json": {
                            "schema": {
                                "fields": [
                                    {
                                        "name": "Description"
                                    }
                                ]
                            },
                            "data": [
                                {
                                    "0": "Row 1"
                                },
                                {
                                    "0": "Row 2"
                                },
                                {
                                    "0": "Row 3"
                                },
                                {
                                    "0": "Row 4"
                                },
                                {
                                    "0": "Row 5"
                                }
                            ]
                        },
                        "text/html": "<table><tr><th>Description</th></tr><tr><td>Row 1</td></tr><tr><td>Row 2</td></tr><tr><td>Row 3</td></tr><tr><td>Row 4</td></tr><tr><td>Row 5</td></tr></table>"
                    }
                }
            ],
            "execution_count": 1
        },
        {
            "cell_type": "markdown",
            "source": [
                "# Stored Procedures"
            ],
            "metadata": {
                "azdata_cell_guid": "4d99f9b9-2d42-4392-9292-356e06e1c5ae"
            }
        },
        {
            "cell_type": "code",
            "source": [
                "-- Create a stored procedure to get all Products by ProductCategoryID\n",
                "CREATE PROCEDURE SalesLT.GetProductsByCategoryID (@CategoryID INT = NULL)\n",
                "AS\n",
                "IF @CategoryID IS NULL\n",
                "    SELECT ProductID, Name, Color, Size, ListPrice\n",
                "    FROM SalesLT.Product;\n",
                "ELSE\n",
                "    SELECT ProductID, Name, Color, Size, ListPrice\n",
                "    FROM SalesLT.Product\n",
                "    WHERE ProductCategoryID = @CategoryID;\n",
                "GO  -- Marks the end of procedure definition batch\n",
                "\n",
                "-- Execute procedure without parameters\n",
                "EXEC SalesLT.GetProductsByCategoryID;\n",
                "-- Execute procedure with parameter\n",
                "EXEC SalesLT.GetProductsByCategoryID 6;"
            ],
            "metadata": {
                "azdata_cell_guid": "cf43fd3c-f258-4dbf-afbb-c3cbf2a991f2"
            },
            "outputs": [
                {
                    "output_type": "display_data",
                    "data": {
                        "text/html": "Commands completed successfully."
                    },
                    "metadata": {}
                },
                {
                    "output_type": "display_data",
                    "data": {
                        "text/html": "(295 rows affected)"
                    },
                    "metadata": {}
                },
                {
                    "output_type": "display_data",
                    "data": {
                        "text/html": "(43 rows affected)"
                    },
                    "metadata": {}
                },
                {
                    "output_type": "display_data",
                    "data": {
                        "text/html": "Total execution time: 00:00:00.015"
                    },
                    "metadata": {}
                },
                {
                    "output_type": "execute_result",
                    "metadata": {},
                    "execution_count": 8,
                    "data": {
                        "application/vnd.dataresource+json": {
                            "schema": {
                                "fields": [
                                    {
                                        "name": "ProductID"
                                    },
                                    {
                                        "name": "Name"
                                    },
                                    {
                                        "name": "Color"
                                    },
                                    {
                                        "name": "Size"
                                    },
                                    {
                                        "name": "ListPrice"
                                    }
                                ]
                            },
                            "data": [
                                {
                                    "0": "680",
                                    "1": "HL Road Frame - Black, 58",
                                    "2": "Black",
                                    "3": "58",
                                    "4": "1431.5000"
                                },
                                {
                                    "0": "706",
                                    "1": "HL Road Frame - Red, 58",
                                    "2": "Red",
                                    "3": "58",
                                    "4": "1431.5000"
                                },
                                {
                                    "0": "707",
                                    "1": "Sport-100 Helmet, Red",
                                    "2": "Red",
                                    "3": "NULL",
                                    "4": "34.9900"
                                },
                                {
                                    "0": "708",
                                    "1": "Sport-100 Helmet, Black",
                                    "2": "Black",
                                    "3": "NULL",
                                    "4": "34.9900"
                                },
                                {
                                    "0": "709",
                                    "1": "Mountain Bike Socks, M",
                                    "2": "White",
                                    "3": "M",
                                    "4": "9.5000"
                                },
                                {
                                    "0": "710",
                                    "1": "Mountain Bike Socks, L",
                                    "2": "White",
                                    "3": "L",
                                    "4": "9.5000"
                                },
                                {
                                    "0": "711",
                                    "1": "Sport-100 Helmet, Blue",
                                    "2": "Blue",
                                    "3": "NULL",
                                    "4": "34.9900"
                                },
                                {
                                    "0": "712",
                                    "1": "AWC Logo Cap",
                                    "2": "Multi",
                                    "3": "NULL",
                                    "4": "8.9900"
                                },
                                {
                                    "0": "713",
                                    "1": "Long-Sleeve Logo Jersey, S",
                                    "2": "Multi",
                                    "3": "S",
                                    "4": "49.9900"
                                },
                                {
                                    "0": "714",
                                    "1": "Long-Sleeve Logo Jersey, M",
                                    "2": "Multi",
                                    "3": "M",
                                    "4": "49.9900"
                                },
                                {
                                    "0": "715",
                                    "1": "Long-Sleeve Logo Jersey, L",
                                    "2": "Multi",
                                    "3": "L",
                                    "4": "49.9900"
                                },
                                {
                                    "0": "716",
                                    "1": "Long-Sleeve Logo Jersey, XL",
                                    "2": "Multi",
                                    "3": "XL",
                                    "4": "49.9900"
                                },
                                {
                                    "0": "717",
                                    "1": "HL Road Frame - Red, 62",
                                    "2": "Red",
                                    "3": "62",
                                    "4": "1431.5000"
                                },
                                {
                                    "0": "718",
                                    "1": "HL Road Frame - Red, 44",
                                    "2": "Red",
                                    "3": "44",
                                    "4": "1431.5000"
                                },
                                {
                                    "0": "719",
                                    "1": "HL Road Frame - Red, 48",
                                    "2": "Red",
                                    "3": "48",
                                    "4": "1431.5000"
                                },
                                {
                                    "0": "720",
                                    "1": "HL Road Frame - Red, 52",
                                    "2": "Red",
                                    "3": "52",
                                    "4": "1431.5000"
                                },
                                {
                                    "0": "721",
                                    "1": "HL Road Frame - Red, 56",
                                    "2": "Red",
                                    "3": "56",
                                    "4": "1431.5000"
                                },
                                {
                                    "0": "722",
                                    "1": "LL Road Frame - Black, 58",
                                    "2": "Black",
                                    "3": "58",
                                    "4": "337.2200"
                                },
                                {
                                    "0": "723",
                                    "1": "LL Road Frame - Black, 60",
                                    "2": "Black",
                                    "3": "60",
                                    "4": "337.2200"
                                },
                                {
                                    "0": "724",
                                    "1": "LL Road Frame - Black, 62",
                                    "2": "Black",
                                    "3": "62",
                                    "4": "337.2200"
                                },
                                {
                                    "0": "725",
                                    "1": "LL Road Frame - Red, 44",
                                    "2": "Red",
                                    "3": "44",
                                    "4": "337.2200"
                                },
                                {
                                    "0": "726",
                                    "1": "LL Road Frame - Red, 48",
                                    "2": "Red",
                                    "3": "48",
                                    "4": "337.2200"
                                },
                                {
                                    "0": "727",
                                    "1": "LL Road Frame - Red, 52",
                                    "2": "Red",
                                    "3": "52",
                                    "4": "337.2200"
                                },
                                {
                                    "0": "728",
                                    "1": "LL Road Frame - Red, 58",
                                    "2": "Red",
                                    "3": "58",
                                    "4": "337.2200"
                                },
                                {
                                    "0": "729",
                                    "1": "LL Road Frame - Red, 60",
                                    "2": "Red",
                                    "3": "60",
                                    "4": "337.2200"
                                },
                                {
                                    "0": "730",
                                    "1": "LL Road Frame - Red, 62",
                                    "2": "Red",
                                    "3": "62",
                                    "4": "337.2200"
                                },
                                {
                                    "0": "731",
                                    "1": "ML Road Frame - Red, 44",
                                    "2": "Red",
                                    "3": "44",
                                    "4": "594.8300"
                                },
                                {
                                    "0": "732",
                                    "1": "ML Road Frame - Red, 48",
                                    "2": "Red",
                                    "3": "48",
                                    "4": "594.8300"
                                },
                                {
                                    "0": "733",
                                    "1": "ML Road Frame - Red, 52",
                                    "2": "Red",
                                    "3": "52",
                                    "4": "594.8300"
                                },
                                {
                                    "0": "734",
                                    "1": "ML Road Frame - Red, 58",
                                    "2": "Red",
                                    "3": "58",
                                    "4": "594.8300"
                                },
                                {
                                    "0": "735",
                                    "1": "ML Road Frame - Red, 60",
                                    "2": "Red",
                                    "3": "60",
                                    "4": "594.8300"
                                },
                                {
                                    "0": "736",
                                    "1": "LL Road Frame - Black, 44",
                                    "2": "Black",
                                    "3": "44",
                                    "4": "337.2200"
                                },
                                {
                                    "0": "737",
                                    "1": "LL Road Frame - Black, 48",
                                    "2": "Black",
                                    "3": "48",
                                    "4": "337.2200"
                                },
                                {
                                    "0": "738",
                                    "1": "LL Road Frame - Black, 52",
                                    "2": "Black",
                                    "3": "52",
                                    "4": "337.2200"
                                },
                                {
                                    "0": "739",
                                    "1": "HL Mountain Frame - Silver, 42",
                                    "2": "Silver",
                                    "3": "42",
                                    "4": "1364.5000"
                                },
                                {
                                    "0": "740",
                                    "1": "HL Mountain Frame - Silver, 44",
                                    "2": "Silver",
                                    "3": "44",
                                    "4": "1364.5000"
                                },
                                {
                                    "0": "741",
                                    "1": "HL Mountain Frame - Silver, 48",
                                    "2": "Silver",
                                    "3": "48",
                                    "4": "1364.5000"
                                },
                                {
                                    "0": "742",
                                    "1": "HL Mountain Frame - Silver, 46",
                                    "2": "Silver",
                                    "3": "46",
                                    "4": "1364.5000"
                                },
                                {
                                    "0": "743",
                                    "1": "HL Mountain Frame - Black, 42",
                                    "2": "Black",
                                    "3": "42",
                                    "4": "1349.6000"
                                },
                                {
                                    "0": "744",
                                    "1": "HL Mountain Frame - Black, 44",
                                    "2": "Black",
                                    "3": "44",
                                    "4": "1349.6000"
                                },
                                {
                                    "0": "745",
                                    "1": "HL Mountain Frame - Black, 48",
                                    "2": "Black",
                                    "3": "48",
                                    "4": "1349.6000"
                                },
                                {
                                    "0": "746",
                                    "1": "HL Mountain Frame - Black, 46",
                                    "2": "Black",
                                    "3": "46",
                                    "4": "1349.6000"
                                },
                                {
                                    "0": "747",
                                    "1": "HL Mountain Frame - Black, 38",
                                    "2": "Black",
                                    "3": "38",
                                    "4": "1349.6000"
                                },
                                {
                                    "0": "748",
                                    "1": "HL Mountain Frame - Silver, 38",
                                    "2": "Silver",
                                    "3": "38",
                                    "4": "1364.5000"
                                },
                                {
                                    "0": "749",
                                    "1": "Road-150 Red, 62",
                                    "2": "Red",
                                    "3": "62",
                                    "4": "3578.2700"
                                },
                                {
                                    "0": "750",
                                    "1": "Road-150 Red, 44",
                                    "2": "Red",
                                    "3": "44",
                                    "4": "3578.2700"
                                },
                                {
                                    "0": "751",
                                    "1": "Road-150 Red, 48",
                                    "2": "Red",
                                    "3": "48",
                                    "4": "3578.2700"
                                },
                                {
                                    "0": "752",
                                    "1": "Road-150 Red, 52",
                                    "2": "Red",
                                    "3": "52",
                                    "4": "3578.2700"
                                },
                                {
                                    "0": "753",
                                    "1": "Road-150 Red, 56",
                                    "2": "Red",
                                    "3": "56",
                                    "4": "3578.2700"
                                },
                                {
                                    "0": "754",
                                    "1": "Road-450 Red, 58",
                                    "2": "Red",
                                    "3": "58",
                                    "4": "1457.9900"
                                },
                                {
                                    "0": "755",
                                    "1": "Road-450 Red, 60",
                                    "2": "Red",
                                    "3": "60",
                                    "4": "1457.9900"
                                },
                                {
                                    "0": "756",
                                    "1": "Road-450 Red, 44",
                                    "2": "Red",
                                    "3": "44",
                                    "4": "1457.9900"
                                },
                                {
                                    "0": "757",
                                    "1": "Road-450 Red, 48",
                                    "2": "Red",
                                    "3": "48",
                                    "4": "1457.9900"
                                },
                                {
                                    "0": "758",
                                    "1": "Road-450 Red, 52",
                                    "2": "Red",
                                    "3": "52",
                                    "4": "1457.9900"
                                },
                                {
                                    "0": "759",
                                    "1": "Road-650 Red, 58",
                                    "2": "Red",
                                    "3": "58",
                                    "4": "782.9900"
                                },
                                {
                                    "0": "760",
                                    "1": "Road-650 Red, 60",
                                    "2": "Red",
                                    "3": "60",
                                    "4": "782.9900"
                                },
                                {
                                    "0": "761",
                                    "1": "Road-650 Red, 62",
                                    "2": "Red",
                                    "3": "62",
                                    "4": "782.9900"
                                },
                                {
                                    "0": "762",
                                    "1": "Road-650 Red, 44",
                                    "2": "Red",
                                    "3": "44",
                                    "4": "782.9900"
                                },
                                {
                                    "0": "763",
                                    "1": "Road-650 Red, 48",
                                    "2": "Red",
                                    "3": "48",
                                    "4": "782.9900"
                                },
                                {
                                    "0": "764",
                                    "1": "Road-650 Red, 52",
                                    "2": "Red",
                                    "3": "52",
                                    "4": "782.9900"
                                },
                                {
                                    "0": "765",
                                    "1": "Road-650 Black, 58",
                                    "2": "Black",
                                    "3": "58",
                                    "4": "782.9900"
                                },
                                {
                                    "0": "766",
                                    "1": "Road-650 Black, 60",
                                    "2": "Black",
                                    "3": "60",
                                    "4": "782.9900"
                                },
                                {
                                    "0": "767",
                                    "1": "Road-650 Black, 62",
                                    "2": "Black",
                                    "3": "62",
                                    "4": "782.9900"
                                },
                                {
                                    "0": "768",
                                    "1": "Road-650 Black, 44",
                                    "2": "Black",
                                    "3": "44",
                                    "4": "782.9900"
                                },
                                {
                                    "0": "769",
                                    "1": "Road-650 Black, 48",
                                    "2": "Black",
                                    "3": "48",
                                    "4": "782.9900"
                                },
                                {
                                    "0": "770",
                                    "1": "Road-650 Black, 52",
                                    "2": "Black",
                                    "3": "52",
                                    "4": "782.9900"
                                },
                                {
                                    "0": "771",
                                    "1": "Mountain-100 Silver, 38",
                                    "2": "Silver",
                                    "3": "38",
                                    "4": "3399.9900"
                                },
                                {
                                    "0": "772",
                                    "1": "Mountain-100 Silver, 42",
                                    "2": "Silver",
                                    "3": "42",
                                    "4": "3399.9900"
                                },
                                {
                                    "0": "773",
                                    "1": "Mountain-100 Silver, 44",
                                    "2": "Silver",
                                    "3": "44",
                                    "4": "3399.9900"
                                },
                                {
                                    "0": "774",
                                    "1": "Mountain-100 Silver, 48",
                                    "2": "Silver",
                                    "3": "48",
                                    "4": "3399.9900"
                                },
                                {
                                    "0": "775",
                                    "1": "Mountain-100 Black, 38",
                                    "2": "Black",
                                    "3": "38",
                                    "4": "3374.9900"
                                },
                                {
                                    "0": "776",
                                    "1": "Mountain-100 Black, 42",
                                    "2": "Black",
                                    "3": "42",
                                    "4": "3374.9900"
                                },
                                {
                                    "0": "777",
                                    "1": "Mountain-100 Black, 44",
                                    "2": "Black",
                                    "3": "44",
                                    "4": "3374.9900"
                                },
                                {
                                    "0": "778",
                                    "1": "Mountain-100 Black, 48",
                                    "2": "Black",
                                    "3": "48",
                                    "4": "3374.9900"
                                },
                                {
                                    "0": "779",
                                    "1": "Mountain-200 Silver, 38",
                                    "2": "Silver",
                                    "3": "38",
                                    "4": "2319.9900"
                                },
                                {
                                    "0": "780",
                                    "1": "Mountain-200 Silver, 42",
                                    "2": "Silver",
                                    "3": "42",
                                    "4": "2319.9900"
                                },
                                {
                                    "0": "781",
                                    "1": "Mountain-200 Silver, 46",
                                    "2": "Silver",
                                    "3": "46",
                                    "4": "2319.9900"
                                },
                                {
                                    "0": "782",
                                    "1": "Mountain-200 Black, 38",
                                    "2": "Black",
                                    "3": "38",
                                    "4": "2294.9900"
                                },
                                {
                                    "0": "783",
                                    "1": "Mountain-200 Black, 42",
                                    "2": "Black",
                                    "3": "42",
                                    "4": "2294.9900"
                                },
                                {
                                    "0": "784",
                                    "1": "Mountain-200 Black, 46",
                                    "2": "Black",
                                    "3": "46",
                                    "4": "2294.9900"
                                },
                                {
                                    "0": "785",
                                    "1": "Mountain-300 Black, 38",
                                    "2": "Black",
                                    "3": "38",
                                    "4": "1079.9900"
                                },
                                {
                                    "0": "786",
                                    "1": "Mountain-300 Black, 40",
                                    "2": "Black",
                                    "3": "40",
                                    "4": "1079.9900"
                                },
                                {
                                    "0": "787",
                                    "1": "Mountain-300 Black, 44",
                                    "2": "Black",
                                    "3": "44",
                                    "4": "1079.9900"
                                },
                                {
                                    "0": "788",
                                    "1": "Mountain-300 Black, 48",
                                    "2": "Black",
                                    "3": "48",
                                    "4": "1079.9900"
                                },
                                {
                                    "0": "789",
                                    "1": "Road-250 Red, 44",
                                    "2": "Red",
                                    "3": "44",
                                    "4": "2443.3500"
                                },
                                {
                                    "0": "790",
                                    "1": "Road-250 Red, 48",
                                    "2": "Red",
                                    "3": "48",
                                    "4": "2443.3500"
                                },
                                {
                                    "0": "791",
                                    "1": "Road-250 Red, 52",
                                    "2": "Red",
                                    "3": "52",
                                    "4": "2443.3500"
                                },
                                {
                                    "0": "792",
                                    "1": "Road-250 Red, 58",
                                    "2": "Red",
                                    "3": "58",
                                    "4": "2443.3500"
                                },
                                {
                                    "0": "793",
                                    "1": "Road-250 Black, 44",
                                    "2": "Black",
                                    "3": "44",
                                    "4": "2443.3500"
                                },
                                {
                                    "0": "794",
                                    "1": "Road-250 Black, 48",
                                    "2": "Black",
                                    "3": "48",
                                    "4": "2443.3500"
                                },
                                {
                                    "0": "795",
                                    "1": "Road-250 Black, 52",
                                    "2": "Black",
                                    "3": "52",
                                    "4": "2443.3500"
                                },
                                {
                                    "0": "796",
                                    "1": "Road-250 Black, 58",
                                    "2": "Black",
                                    "3": "58",
                                    "4": "2443.3500"
                                },
                                {
                                    "0": "797",
                                    "1": "Road-550-W Yellow, 38",
                                    "2": "Yellow",
                                    "3": "38",
                                    "4": "1120.4900"
                                },
                                {
                                    "0": "798",
                                    "1": "Road-550-W Yellow, 40",
                                    "2": "Yellow",
                                    "3": "40",
                                    "4": "1120.4900"
                                },
                                {
                                    "0": "799",
                                    "1": "Road-550-W Yellow, 42",
                                    "2": "Yellow",
                                    "3": "42",
                                    "4": "1120.4900"
                                },
                                {
                                    "0": "800",
                                    "1": "Road-550-W Yellow, 44",
                                    "2": "Yellow",
                                    "3": "44",
                                    "4": "1120.4900"
                                },
                                {
                                    "0": "801",
                                    "1": "Road-550-W Yellow, 48",
                                    "2": "Yellow",
                                    "3": "48",
                                    "4": "1120.4900"
                                },
                                {
                                    "0": "802",
                                    "1": "LL Fork",
                                    "2": "NULL",
                                    "3": "NULL",
                                    "4": "148.2200"
                                },
                                {
                                    "0": "803",
                                    "1": "ML Fork",
                                    "2": "NULL",
                                    "3": "NULL",
                                    "4": "175.4900"
                                },
                                {
                                    "0": "804",
                                    "1": "HL Fork",
                                    "2": "NULL",
                                    "3": "NULL",
                                    "4": "229.4900"
                                },
                                {
                                    "0": "805",
                                    "1": "LL Headset",
                                    "2": "NULL",
                                    "3": "NULL",
                                    "4": "34.2000"
                                },
                                {
                                    "0": "806",
                                    "1": "ML Headset",
                                    "2": "NULL",
                                    "3": "NULL",
                                    "4": "102.2900"
                                },
                                {
                                    "0": "807",
                                    "1": "HL Headset",
                                    "2": "NULL",
                                    "3": "NULL",
                                    "4": "124.7300"
                                },
                                {
                                    "0": "808",
                                    "1": "LL Mountain Handlebars",
                                    "2": "NULL",
                                    "3": "NULL",
                                    "4": "44.5400"
                                },
                                {
                                    "0": "809",
                                    "1": "ML Mountain Handlebars",
                                    "2": "NULL",
                                    "3": "NULL",
                                    "4": "61.9200"
                                },
                                {
                                    "0": "810",
                                    "1": "HL Mountain Handlebars",
                                    "2": "NULL",
                                    "3": "NULL",
                                    "4": "120.2700"
                                },
                                {
                                    "0": "811",
                                    "1": "LL Road Handlebars",
                                    "2": "NULL",
                                    "3": "NULL",
                                    "4": "44.5400"
                                },
                                {
                                    "0": "812",
                                    "1": "ML Road Handlebars",
                                    "2": "NULL",
                                    "3": "NULL",
                                    "4": "61.9200"
                                },
                                {
                                    "0": "813",
                                    "1": "HL Road Handlebars",
                                    "2": "NULL",
                                    "3": "NULL",
                                    "4": "120.2700"
                                },
                                {
                                    "0": "814",
                                    "1": "ML Mountain Frame - Black, 38",
                                    "2": "Black",
                                    "3": "38",
                                    "4": "348.7600"
                                },
                                {
                                    "0": "815",
                                    "1": "LL Mountain Front Wheel",
                                    "2": "Black",
                                    "3": "NULL",
                                    "4": "60.7450"
                                },
                                {
                                    "0": "816",
                                    "1": "ML Mountain Front Wheel",
                                    "2": "Black",
                                    "3": "NULL",
                                    "4": "209.0250"
                                },
                                {
                                    "0": "817",
                                    "1": "HL Mountain Front Wheel",
                                    "2": "Black",
                                    "3": "NULL",
                                    "4": "300.2150"
                                },
                                {
                                    "0": "818",
                                    "1": "LL Road Front Wheel",
                                    "2": "Black",
                                    "3": "NULL",
                                    "4": "85.5650"
                                },
                                {
                                    "0": "819",
                                    "1": "ML Road Front Wheel",
                                    "2": "Black",
                                    "3": "NULL",
                                    "4": "248.3850"
                                },
                                {
                                    "0": "820",
                                    "1": "HL Road Front Wheel",
                                    "2": "Black",
                                    "3": "NULL",
                                    "4": "330.0600"
                                },
                                {
                                    "0": "821",
                                    "1": "Touring Front Wheel",
                                    "2": "Black",
                                    "3": "NULL",
                                    "4": "218.0100"
                                },
                                {
                                    "0": "822",
                                    "1": "ML Road Frame-W - Yellow, 38",
                                    "2": "Yellow",
                                    "3": "38",
                                    "4": "594.8300"
                                },
                                {
                                    "0": "823",
                                    "1": "LL Mountain Rear Wheel",
                                    "2": "Black",
                                    "3": "NULL",
                                    "4": "87.7450"
                                },
                                {
                                    "0": "824",
                                    "1": "ML Mountain Rear Wheel",
                                    "2": "Black",
                                    "3": "NULL",
                                    "4": "236.0250"
                                },
                                {
                                    "0": "825",
                                    "1": "HL Mountain Rear Wheel",
                                    "2": "Black",
                                    "3": "NULL",
                                    "4": "327.2150"
                                },
                                {
                                    "0": "826",
                                    "1": "LL Road Rear Wheel",
                                    "2": "Black",
                                    "3": "NULL",
                                    "4": "112.5650"
                                },
                                {
                                    "0": "827",
                                    "1": "ML Road Rear Wheel",
                                    "2": "Black",
                                    "3": "NULL",
                                    "4": "275.3850"
                                },
                                {
                                    "0": "828",
                                    "1": "HL Road Rear Wheel",
                                    "2": "Black",
                                    "3": "NULL",
                                    "4": "357.0600"
                                },
                                {
                                    "0": "829",
                                    "1": "Touring Rear Wheel",
                                    "2": "Black",
                                    "3": "NULL",
                                    "4": "245.0100"
                                },
                                {
                                    "0": "830",
                                    "1": "ML Mountain Frame - Black, 40",
                                    "2": "Black",
                                    "3": "40",
                                    "4": "348.7600"
                                },
                                {
                                    "0": "831",
                                    "1": "ML Mountain Frame - Black, 44",
                                    "2": "Black",
                                    "3": "44",
                                    "4": "348.7600"
                                },
                                {
                                    "0": "832",
                                    "1": "ML Mountain Frame - Black, 48",
                                    "2": "Black",
                                    "3": "48",
                                    "4": "348.7600"
                                },
                                {
                                    "0": "833",
                                    "1": "ML Road Frame-W - Yellow, 40",
                                    "2": "Yellow",
                                    "3": "40",
                                    "4": "594.8300"
                                },
                                {
                                    "0": "834",
                                    "1": "ML Road Frame-W - Yellow, 42",
                                    "2": "Yellow",
                                    "3": "42",
                                    "4": "594.8300"
                                },
                                {
                                    "0": "835",
                                    "1": "ML Road Frame-W - Yellow, 44",
                                    "2": "Yellow",
                                    "3": "44",
                                    "4": "594.8300"
                                },
                                {
                                    "0": "836",
                                    "1": "ML Road Frame-W - Yellow, 48",
                                    "2": "Yellow",
                                    "3": "48",
                                    "4": "594.8300"
                                },
                                {
                                    "0": "837",
                                    "1": "HL Road Frame - Black, 62",
                                    "2": "Black",
                                    "3": "62",
                                    "4": "1431.5000"
                                },
                                {
                                    "0": "838",
                                    "1": "HL Road Frame - Black, 44",
                                    "2": "Black",
                                    "3": "44",
                                    "4": "1431.5000"
                                },
                                {
                                    "0": "839",
                                    "1": "HL Road Frame - Black, 48",
                                    "2": "Black",
                                    "3": "48",
                                    "4": "1431.5000"
                                },
                                {
                                    "0": "840",
                                    "1": "HL Road Frame - Black, 52",
                                    "2": "Black",
                                    "3": "52",
                                    "4": "1431.5000"
                                },
                                {
                                    "0": "841",
                                    "1": "Men's Sports Shorts, S",
                                    "2": "Black",
                                    "3": "S",
                                    "4": "59.9900"
                                },
                                {
                                    "0": "842",
                                    "1": "Touring-Panniers, Large",
                                    "2": "Grey",
                                    "3": "NULL",
                                    "4": "125.0000"
                                },
                                {
                                    "0": "843",
                                    "1": "Cable Lock",
                                    "2": "NULL",
                                    "3": "NULL",
                                    "4": "25.0000"
                                },
                                {
                                    "0": "844",
                                    "1": "Minipump",
                                    "2": "NULL",
                                    "3": "NULL",
                                    "4": "19.9900"
                                },
                                {
                                    "0": "845",
                                    "1": "Mountain Pump",
                                    "2": "NULL",
                                    "3": "NULL",
                                    "4": "24.9900"
                                },
                                {
                                    "0": "846",
                                    "1": "Taillights - Battery-Powered",
                                    "2": "NULL",
                                    "3": "NULL",
                                    "4": "13.9900"
                                },
                                {
                                    "0": "847",
                                    "1": "Headlights - Dual-Beam",
                                    "2": "NULL",
                                    "3": "NULL",
                                    "4": "34.9900"
                                },
                                {
                                    "0": "848",
                                    "1": "Headlights - Weatherproof",
                                    "2": "NULL",
                                    "3": "NULL",
                                    "4": "44.9900"
                                },
                                {
                                    "0": "849",
                                    "1": "Men's Sports Shorts, M",
                                    "2": "Black",
                                    "3": "M",
                                    "4": "59.9900"
                                },
                                {
                                    "0": "850",
                                    "1": "Men's Sports Shorts, L",
                                    "2": "Black",
                                    "3": "L",
                                    "4": "59.9900"
                                },
                                {
                                    "0": "851",
                                    "1": "Men's Sports Shorts, XL",
                                    "2": "Black",
                                    "3": "XL",
                                    "4": "59.9900"
                                },
                                {
                                    "0": "852",
                                    "1": "Women's Tights, S",
                                    "2": "Black",
                                    "3": "S",
                                    "4": "74.9900"
                                },
                                {
                                    "0": "853",
                                    "1": "Women's Tights, M",
                                    "2": "Black",
                                    "3": "M",
                                    "4": "74.9900"
                                },
                                {
                                    "0": "854",
                                    "1": "Women's Tights, L",
                                    "2": "Black",
                                    "3": "L",
                                    "4": "74.9900"
                                },
                                {
                                    "0": "855",
                                    "1": "Men's Bib-Shorts, S",
                                    "2": "Multi",
                                    "3": "S",
                                    "4": "89.9900"
                                },
                                {
                                    "0": "856",
                                    "1": "Men's Bib-Shorts, M",
                                    "2": "Multi",
                                    "3": "M",
                                    "4": "89.9900"
                                },
                                {
                                    "0": "857",
                                    "1": "Men's Bib-Shorts, L",
                                    "2": "Multi",
                                    "3": "L",
                                    "4": "89.9900"
                                },
                                {
                                    "0": "858",
                                    "1": "Half-Finger Gloves, S",
                                    "2": "Black",
                                    "3": "S",
                                    "4": "24.4900"
                                },
                                {
                                    "0": "859",
                                    "1": "Half-Finger Gloves, M",
                                    "2": "Black",
                                    "3": "M",
                                    "4": "24.4900"
                                },
                                {
                                    "0": "860",
                                    "1": "Half-Finger Gloves, L",
                                    "2": "Black",
                                    "3": "L",
                                    "4": "24.4900"
                                },
                                {
                                    "0": "861",
                                    "1": "Full-Finger Gloves, S",
                                    "2": "Black",
                                    "3": "S",
                                    "4": "37.9900"
                                },
                                {
                                    "0": "862",
                                    "1": "Full-Finger Gloves, M",
                                    "2": "Black",
                                    "3": "M",
                                    "4": "37.9900"
                                },
                                {
                                    "0": "863",
                                    "1": "Full-Finger Gloves, L",
                                    "2": "Black",
                                    "3": "L",
                                    "4": "37.9900"
                                },
                                {
                                    "0": "864",
                                    "1": "Classic Vest, S",
                                    "2": "Blue",
                                    "3": "S",
                                    "4": "63.5000"
                                },
                                {
                                    "0": "865",
                                    "1": "Classic Vest, M",
                                    "2": "Blue",
                                    "3": "M",
                                    "4": "63.5000"
                                },
                                {
                                    "0": "866",
                                    "1": "Classic Vest, L",
                                    "2": "Blue",
                                    "3": "L",
                                    "4": "63.5000"
                                },
                                {
                                    "0": "867",
                                    "1": "Women's Mountain Shorts, S",
                                    "2": "Black",
                                    "3": "S",
                                    "4": "69.9900"
                                },
                                {
                                    "0": "868",
                                    "1": "Women's Mountain Shorts, M",
                                    "2": "Black",
                                    "3": "M",
                                    "4": "69.9900"
                                },
                                {
                                    "0": "869",
                                    "1": "Women's Mountain Shorts, L",
                                    "2": "Black",
                                    "3": "L",
                                    "4": "69.9900"
                                },
                                {
                                    "0": "870",
                                    "1": "Water Bottle - 30 oz.",
                                    "2": "NULL",
                                    "3": "NULL",
                                    "4": "4.9900"
                                },
                                {
                                    "0": "871",
                                    "1": "Mountain Bottle Cage",
                                    "2": "NULL",
                                    "3": "NULL",
                                    "4": "9.9900"
                                },
                                {
                                    "0": "872",
                                    "1": "Road Bottle Cage",
                                    "2": "NULL",
                                    "3": "NULL",
                                    "4": "8.9900"
                                },
                                {
                                    "0": "873",
                                    "1": "Patch Kit/8 Patches",
                                    "2": "NULL",
                                    "3": "NULL",
                                    "4": "2.2900"
                                },
                                {
                                    "0": "874",
                                    "1": "Racing Socks, M",
                                    "2": "White",
                                    "3": "M",
                                    "4": "8.9900"
                                },
                                {
                                    "0": "875",
                                    "1": "Racing Socks, L",
                                    "2": "White",
                                    "3": "L",
                                    "4": "8.9900"
                                },
                                {
                                    "0": "876",
                                    "1": "Hitch Rack - 4-Bike",
                                    "2": "NULL",
                                    "3": "NULL",
                                    "4": "120.0000"
                                },
                                {
                                    "0": "877",
                                    "1": "Bike Wash - Dissolver",
                                    "2": "NULL",
                                    "3": "NULL",
                                    "4": "7.9500"
                                },
                                {
                                    "0": "878",
                                    "1": "Fender Set - Mountain",
                                    "2": "NULL",
                                    "3": "NULL",
                                    "4": "21.9800"
                                },
                                {
                                    "0": "879",
                                    "1": "All-Purpose Bike Stand",
                                    "2": "NULL",
                                    "3": "NULL",
                                    "4": "159.0000"
                                },
                                {
                                    "0": "880",
                                    "1": "Hydration Pack - 70 oz.",
                                    "2": "Silver",
                                    "3": "70",
                                    "4": "54.9900"
                                },
                                {
                                    "0": "881",
                                    "1": "Short-Sleeve Classic Jersey, S",
                                    "2": "Yellow",
                                    "3": "S",
                                    "4": "53.9900"
                                },
                                {
                                    "0": "882",
                                    "1": "Short-Sleeve Classic Jersey, M",
                                    "2": "Yellow",
                                    "3": "M",
                                    "4": "53.9900"
                                },
                                {
                                    "0": "883",
                                    "1": "Short-Sleeve Classic Jersey, L",
                                    "2": "Yellow",
                                    "3": "L",
                                    "4": "53.9900"
                                },
                                {
                                    "0": "884",
                                    "1": "Short-Sleeve Classic Jersey, XL",
                                    "2": "Yellow",
                                    "3": "XL",
                                    "4": "53.9900"
                                },
                                {
                                    "0": "885",
                                    "1": "HL Touring Frame - Yellow, 60",
                                    "2": "Yellow",
                                    "3": "60",
                                    "4": "1003.9100"
                                },
                                {
                                    "0": "886",
                                    "1": "LL Touring Frame - Yellow, 62",
                                    "2": "Yellow",
                                    "3": "62",
                                    "4": "333.4200"
                                },
                                {
                                    "0": "887",
                                    "1": "HL Touring Frame - Yellow, 46",
                                    "2": "Yellow",
                                    "3": "46",
                                    "4": "1003.9100"
                                },
                                {
                                    "0": "888",
                                    "1": "HL Touring Frame - Yellow, 50",
                                    "2": "Yellow",
                                    "3": "50",
                                    "4": "1003.9100"
                                },
                                {
                                    "0": "889",
                                    "1": "HL Touring Frame - Yellow, 54",
                                    "2": "Yellow",
                                    "3": "54",
                                    "4": "1003.9100"
                                },
                                {
                                    "0": "890",
                                    "1": "HL Touring Frame - Blue, 46",
                                    "2": "Blue",
                                    "3": "46",
                                    "4": "1003.9100"
                                },
                                {
                                    "0": "891",
                                    "1": "HL Touring Frame - Blue, 50",
                                    "2": "Blue",
                                    "3": "50",
                                    "4": "1003.9100"
                                },
                                {
                                    "0": "892",
                                    "1": "HL Touring Frame - Blue, 54",
                                    "2": "Blue",
                                    "3": "54",
                                    "4": "1003.9100"
                                },
                                {
                                    "0": "893",
                                    "1": "HL Touring Frame - Blue, 60",
                                    "2": "Blue",
                                    "3": "60",
                                    "4": "1003.9100"
                                },
                                {
                                    "0": "894",
                                    "1": "Rear Derailleur",
                                    "2": "Silver",
                                    "3": "NULL",
                                    "4": "121.4600"
                                },
                                {
                                    "0": "895",
                                    "1": "LL Touring Frame - Blue, 50",
                                    "2": "Blue",
                                    "3": "50",
                                    "4": "333.4200"
                                },
                                {
                                    "0": "896",
                                    "1": "LL Touring Frame - Blue, 54",
                                    "2": "Blue",
                                    "3": "54",
                                    "4": "333.4200"
                                },
                                {
                                    "0": "897",
                                    "1": "LL Touring Frame - Blue, 58",
                                    "2": "Blue",
                                    "3": "58",
                                    "4": "333.4200"
                                },
                                {
                                    "0": "898",
                                    "1": "LL Touring Frame - Blue, 62",
                                    "2": "Blue",
                                    "3": "62",
                                    "4": "333.4200"
                                },
                                {
                                    "0": "899",
                                    "1": "LL Touring Frame - Yellow, 44",
                                    "2": "Yellow",
                                    "3": "44",
                                    "4": "333.4200"
                                },
                                {
                                    "0": "900",
                                    "1": "LL Touring Frame - Yellow, 50",
                                    "2": "Yellow",
                                    "3": "50",
                                    "4": "333.4200"
                                },
                                {
                                    "0": "901",
                                    "1": "LL Touring Frame - Yellow, 54",
                                    "2": "Yellow",
                                    "3": "54",
                                    "4": "333.4200"
                                },
                                {
                                    "0": "902",
                                    "1": "LL Touring Frame - Yellow, 58",
                                    "2": "Yellow",
                                    "3": "58",
                                    "4": "333.4200"
                                },
                                {
                                    "0": "903",
                                    "1": "LL Touring Frame - Blue, 44",
                                    "2": "Blue",
                                    "3": "44",
                                    "4": "333.4200"
                                },
                                {
                                    "0": "904",
                                    "1": "ML Mountain Frame-W - Silver, 40",
                                    "2": "Silver",
                                    "3": "40",
                                    "4": "364.0900"
                                },
                                {
                                    "0": "905",
                                    "1": "ML Mountain Frame-W - Silver, 42",
                                    "2": "Silver",
                                    "3": "42",
                                    "4": "364.0900"
                                },
                                {
                                    "0": "906",
                                    "1": "ML Mountain Frame-W - Silver, 46",
                                    "2": "Silver",
                                    "3": "46",
                                    "4": "364.0900"
                                },
                                {
                                    "0": "907",
                                    "1": "Rear Brakes",
                                    "2": "Silver",
                                    "3": "NULL",
                                    "4": "106.5000"
                                },
                                {
                                    "0": "908",
                                    "1": "LL Mountain Seat/Saddle",
                                    "2": "NULL",
                                    "3": "NULL",
                                    "4": "27.1200"
                                },
                                {
                                    "0": "909",
                                    "1": "ML Mountain Seat/Saddle",
                                    "2": "NULL",
                                    "3": "NULL",
                                    "4": "39.1400"
                                },
                                {
                                    "0": "910",
                                    "1": "HL Mountain Seat/Saddle",
                                    "2": "NULL",
                                    "3": "NULL",
                                    "4": "52.6400"
                                },
                                {
                                    "0": "911",
                                    "1": "LL Road Seat/Saddle",
                                    "2": "NULL",
                                    "3": "NULL",
                                    "4": "27.1200"
                                },
                                {
                                    "0": "912",
                                    "1": "ML Road Seat/Saddle",
                                    "2": "NULL",
                                    "3": "NULL",
                                    "4": "39.1400"
                                },
                                {
                                    "0": "913",
                                    "1": "HL Road Seat/Saddle",
                                    "2": "NULL",
                                    "3": "NULL",
                                    "4": "52.6400"
                                },
                                {
                                    "0": "914",
                                    "1": "LL Touring Seat/Saddle",
                                    "2": "NULL",
                                    "3": "NULL",
                                    "4": "27.1200"
                                },
                                {
                                    "0": "915",
                                    "1": "ML Touring Seat/Saddle",
                                    "2": "NULL",
                                    "3": "NULL",
                                    "4": "39.1400"
                                },
                                {
                                    "0": "916",
                                    "1": "HL Touring Seat/Saddle",
                                    "2": "NULL",
                                    "3": "NULL",
                                    "4": "52.6400"
                                },
                                {
                                    "0": "917",
                                    "1": "LL Mountain Frame - Silver, 42",
                                    "2": "Silver",
                                    "3": "42",
                                    "4": "264.0500"
                                },
                                {
                                    "0": "918",
                                    "1": "LL Mountain Frame - Silver, 44",
                                    "2": "Silver",
                                    "3": "44",
                                    "4": "264.0500"
                                },
                                {
                                    "0": "919",
                                    "1": "LL Mountain Frame - Silver, 48",
                                    "2": "Silver",
                                    "3": "48",
                                    "4": "264.0500"
                                },
                                {
                                    "0": "920",
                                    "1": "LL Mountain Frame - Silver, 52",
                                    "2": "Silver",
                                    "3": "52",
                                    "4": "264.0500"
                                },
                                {
                                    "0": "921",
                                    "1": "Mountain Tire Tube",
                                    "2": "NULL",
                                    "3": "NULL",
                                    "4": "4.9900"
                                },
                                {
                                    "0": "922",
                                    "1": "Road Tire Tube",
                                    "2": "NULL",
                                    "3": "NULL",
                                    "4": "3.9900"
                                },
                                {
                                    "0": "923",
                                    "1": "Touring Tire Tube",
                                    "2": "NULL",
                                    "3": "NULL",
                                    "4": "4.9900"
                                },
                                {
                                    "0": "924",
                                    "1": "LL Mountain Frame - Black, 42",
                                    "2": "Black",
                                    "3": "42",
                                    "4": "249.7900"
                                },
                                {
                                    "0": "925",
                                    "1": "LL Mountain Frame - Black, 44",
                                    "2": "Black",
                                    "3": "44",
                                    "4": "249.7900"
                                },
                                {
                                    "0": "926",
                                    "1": "LL Mountain Frame - Black, 48",
                                    "2": "Black",
                                    "3": "48",
                                    "4": "249.7900"
                                },
                                {
                                    "0": "927",
                                    "1": "LL Mountain Frame - Black, 52",
                                    "2": "Black",
                                    "3": "52",
                                    "4": "249.7900"
                                },
                                {
                                    "0": "928",
                                    "1": "LL Mountain Tire",
                                    "2": "NULL",
                                    "3": "NULL",
                                    "4": "24.9900"
                                },
                                {
                                    "0": "929",
                                    "1": "ML Mountain Tire",
                                    "2": "NULL",
                                    "3": "NULL",
                                    "4": "29.9900"
                                },
                                {
                                    "0": "930",
                                    "1": "HL Mountain Tire",
                                    "2": "NULL",
                                    "3": "NULL",
                                    "4": "35.0000"
                                },
                                {
                                    "0": "931",
                                    "1": "LL Road Tire",
                                    "2": "NULL",
                                    "3": "NULL",
                                    "4": "21.4900"
                                },
                                {
                                    "0": "932",
                                    "1": "ML Road Tire",
                                    "2": "NULL",
                                    "3": "NULL",
                                    "4": "24.9900"
                                },
                                {
                                    "0": "933",
                                    "1": "HL Road Tire",
                                    "2": "NULL",
                                    "3": "NULL",
                                    "4": "32.6000"
                                },
                                {
                                    "0": "934",
                                    "1": "Touring Tire",
                                    "2": "NULL",
                                    "3": "NULL",
                                    "4": "28.9900"
                                },
                                {
                                    "0": "935",
                                    "1": "LL Mountain Pedal",
                                    "2": "Silver/Black",
                                    "3": "NULL",
                                    "4": "40.4900"
                                },
                                {
                                    "0": "936",
                                    "1": "ML Mountain Pedal",
                                    "2": "Silver/Black",
                                    "3": "NULL",
                                    "4": "62.0900"
                                },
                                {
                                    "0": "937",
                                    "1": "HL Mountain Pedal",
                                    "2": "Silver/Black",
                                    "3": "NULL",
                                    "4": "80.9900"
                                },
                                {
                                    "0": "938",
                                    "1": "LL Road Pedal",
                                    "2": "Silver/Black",
                                    "3": "NULL",
                                    "4": "40.4900"
                                },
                                {
                                    "0": "939",
                                    "1": "ML Road Pedal",
                                    "2": "Silver/Black",
                                    "3": "NULL",
                                    "4": "62.0900"
                                },
                                {
                                    "0": "940",
                                    "1": "HL Road Pedal",
                                    "2": "Silver/Black",
                                    "3": "NULL",
                                    "4": "80.9900"
                                },
                                {
                                    "0": "941",
                                    "1": "Touring Pedal",
                                    "2": "Silver/Black",
                                    "3": "NULL",
                                    "4": "80.9900"
                                },
                                {
                                    "0": "942",
                                    "1": "ML Mountain Frame-W - Silver, 38",
                                    "2": "Silver",
                                    "3": "38",
                                    "4": "364.0900"
                                },
                                {
                                    "0": "943",
                                    "1": "LL Mountain Frame - Black, 40",
                                    "2": "Black",
                                    "3": "40",
                                    "4": "249.7900"
                                },
                                {
                                    "0": "944",
                                    "1": "LL Mountain Frame - Silver, 40",
                                    "2": "Silver",
                                    "3": "40",
                                    "4": "264.0500"
                                },
                                {
                                    "0": "945",
                                    "1": "Front Derailleur",
                                    "2": "Silver",
                                    "3": "NULL",
                                    "4": "91.4900"
                                },
                                {
                                    "0": "946",
                                    "1": "LL Touring Handlebars",
                                    "2": "NULL",
                                    "3": "NULL",
                                    "4": "46.0900"
                                },
                                {
                                    "0": "947",
                                    "1": "HL Touring Handlebars",
                                    "2": "NULL",
                                    "3": "NULL",
                                    "4": "91.5700"
                                },
                                {
                                    "0": "948",
                                    "1": "Front Brakes",
                                    "2": "Silver",
                                    "3": "NULL",
                                    "4": "106.5000"
                                },
                                {
                                    "0": "949",
                                    "1": "LL Crankset",
                                    "2": "Black",
                                    "3": "NULL",
                                    "4": "175.4900"
                                },
                                {
                                    "0": "950",
                                    "1": "ML Crankset",
                                    "2": "Black",
                                    "3": "NULL",
                                    "4": "256.4900"
                                },
                                {
                                    "0": "951",
                                    "1": "HL Crankset",
                                    "2": "Black",
                                    "3": "NULL",
                                    "4": "404.9900"
                                },
                                {
                                    "0": "952",
                                    "1": "Chain",
                                    "2": "Silver",
                                    "3": "NULL",
                                    "4": "20.2400"
                                },
                                {
                                    "0": "953",
                                    "1": "Touring-2000 Blue, 60",
                                    "2": "Blue",
                                    "3": "60",
                                    "4": "1214.8500"
                                },
                                {
                                    "0": "954",
                                    "1": "Touring-1000 Yellow, 46",
                                    "2": "Yellow",
                                    "3": "46",
                                    "4": "2384.0700"
                                },
                                {
                                    "0": "955",
                                    "1": "Touring-1000 Yellow, 50",
                                    "2": "Yellow",
                                    "3": "50",
                                    "4": "2384.0700"
                                },
                                {
                                    "0": "956",
                                    "1": "Touring-1000 Yellow, 54",
                                    "2": "Yellow",
                                    "3": "54",
                                    "4": "2384.0700"
                                },
                                {
                                    "0": "957",
                                    "1": "Touring-1000 Yellow, 60",
                                    "2": "Yellow",
                                    "3": "60",
                                    "4": "2384.0700"
                                },
                                {
                                    "0": "958",
                                    "1": "Touring-3000 Blue, 54",
                                    "2": "Blue",
                                    "3": "54",
                                    "4": "742.3500"
                                },
                                {
                                    "0": "959",
                                    "1": "Touring-3000 Blue, 58",
                                    "2": "Blue",
                                    "3": "58",
                                    "4": "742.3500"
                                },
                                {
                                    "0": "960",
                                    "1": "Touring-3000 Blue, 62",
                                    "2": "Blue",
                                    "3": "62",
                                    "4": "742.3500"
                                },
                                {
                                    "0": "961",
                                    "1": "Touring-3000 Yellow, 44",
                                    "2": "Yellow",
                                    "3": "44",
                                    "4": "742.3500"
                                },
                                {
                                    "0": "962",
                                    "1": "Touring-3000 Yellow, 50",
                                    "2": "Yellow",
                                    "3": "50",
                                    "4": "742.3500"
                                },
                                {
                                    "0": "963",
                                    "1": "Touring-3000 Yellow, 54",
                                    "2": "Yellow",
                                    "3": "54",
                                    "4": "742.3500"
                                },
                                {
                                    "0": "964",
                                    "1": "Touring-3000 Yellow, 58",
                                    "2": "Yellow",
                                    "3": "58",
                                    "4": "742.3500"
                                },
                                {
                                    "0": "965",
                                    "1": "Touring-3000 Yellow, 62",
                                    "2": "Yellow",
                                    "3": "62",
                                    "4": "742.3500"
                                },
                                {
                                    "0": "966",
                                    "1": "Touring-1000 Blue, 46",
                                    "2": "Blue",
                                    "3": "46",
                                    "4": "2384.0700"
                                },
                                {
                                    "0": "967",
                                    "1": "Touring-1000 Blue, 50",
                                    "2": "Blue",
                                    "3": "50",
                                    "4": "2384.0700"
                                },
                                {
                                    "0": "968",
                                    "1": "Touring-1000 Blue, 54",
                                    "2": "Blue",
                                    "3": "54",
                                    "4": "2384.0700"
                                },
                                {
                                    "0": "969",
                                    "1": "Touring-1000 Blue, 60",
                                    "2": "Blue",
                                    "3": "60",
                                    "4": "2384.0700"
                                },
                                {
                                    "0": "970",
                                    "1": "Touring-2000 Blue, 46",
                                    "2": "Blue",
                                    "3": "46",
                                    "4": "1214.8500"
                                },
                                {
                                    "0": "971",
                                    "1": "Touring-2000 Blue, 50",
                                    "2": "Blue",
                                    "3": "50",
                                    "4": "1214.8500"
                                },
                                {
                                    "0": "972",
                                    "1": "Touring-2000 Blue, 54",
                                    "2": "Blue",
                                    "3": "54",
                                    "4": "1214.8500"
                                },
                                {
                                    "0": "973",
                                    "1": "Road-350-W Yellow, 40",
                                    "2": "Yellow",
                                    "3": "40",
                                    "4": "1700.9900"
                                },
                                {
                                    "0": "974",
                                    "1": "Road-350-W Yellow, 42",
                                    "2": "Yellow",
                                    "3": "42",
                                    "4": "1700.9900"
                                },
                                {
                                    "0": "975",
                                    "1": "Road-350-W Yellow, 44",
                                    "2": "Yellow",
                                    "3": "44",
                                    "4": "1700.9900"
                                },
                                {
                                    "0": "976",
                                    "1": "Road-350-W Yellow, 48",
                                    "2": "Yellow",
                                    "3": "48",
                                    "4": "1700.9900"
                                },
                                {
                                    "0": "977",
                                    "1": "Road-750 Black, 58",
                                    "2": "Black",
                                    "3": "58",
                                    "4": "539.9900"
                                },
                                {
                                    "0": "978",
                                    "1": "Touring-3000 Blue, 44",
                                    "2": "Blue",
                                    "3": "44",
                                    "4": "742.3500"
                                },
                                {
                                    "0": "979",
                                    "1": "Touring-3000 Blue, 50",
                                    "2": "Blue",
                                    "3": "50",
                                    "4": "742.3500"
                                },
                                {
                                    "0": "980",
                                    "1": "Mountain-400-W Silver, 38",
                                    "2": "Silver",
                                    "3": "38",
                                    "4": "769.4900"
                                },
                                {
                                    "0": "981",
                                    "1": "Mountain-400-W Silver, 40",
                                    "2": "Silver",
                                    "3": "40",
                                    "4": "769.4900"
                                },
                                {
                                    "0": "982",
                                    "1": "Mountain-400-W Silver, 42",
                                    "2": "Silver",
                                    "3": "42",
                                    "4": "769.4900"
                                },
                                {
                                    "0": "983",
                                    "1": "Mountain-400-W Silver, 46",
                                    "2": "Silver",
                                    "3": "46",
                                    "4": "769.4900"
                                },
                                {
                                    "0": "984",
                                    "1": "Mountain-500 Silver, 40",
                                    "2": "Silver",
                                    "3": "40",
                                    "4": "564.9900"
                                },
                                {
                                    "0": "985",
                                    "1": "Mountain-500 Silver, 42",
                                    "2": "Silver",
                                    "3": "42",
                                    "4": "564.9900"
                                },
                                {
                                    "0": "986",
                                    "1": "Mountain-500 Silver, 44",
                                    "2": "Silver",
                                    "3": "44",
                                    "4": "564.9900"
                                },
                                {
                                    "0": "987",
                                    "1": "Mountain-500 Silver, 48",
                                    "2": "Silver",
                                    "3": "48",
                                    "4": "564.9900"
                                },
                                {
                                    "0": "988",
                                    "1": "Mountain-500 Silver, 52",
                                    "2": "Silver",
                                    "3": "52",
                                    "4": "564.9900"
                                },
                                {
                                    "0": "989",
                                    "1": "Mountain-500 Black, 40",
                                    "2": "Black",
                                    "3": "40",
                                    "4": "539.9900"
                                },
                                {
                                    "0": "990",
                                    "1": "Mountain-500 Black, 42",
                                    "2": "Black",
                                    "3": "42",
                                    "4": "539.9900"
                                },
                                {
                                    "0": "991",
                                    "1": "Mountain-500 Black, 44",
                                    "2": "Black",
                                    "3": "44",
                                    "4": "539.9900"
                                },
                                {
                                    "0": "992",
                                    "1": "Mountain-500 Black, 48",
                                    "2": "Black",
                                    "3": "48",
                                    "4": "539.9900"
                                },
                                {
                                    "0": "993",
                                    "1": "Mountain-500 Black, 52",
                                    "2": "Black",
                                    "3": "52",
                                    "4": "539.9900"
                                },
                                {
                                    "0": "994",
                                    "1": "LL Bottom Bracket",
                                    "2": "NULL",
                                    "3": "NULL",
                                    "4": "53.9900"
                                },
                                {
                                    "0": "995",
                                    "1": "ML Bottom Bracket",
                                    "2": "NULL",
                                    "3": "NULL",
                                    "4": "101.2400"
                                },
                                {
                                    "0": "996",
                                    "1": "HL Bottom Bracket",
                                    "2": "NULL",
                                    "3": "NULL",
                                    "4": "121.4900"
                                },
                                {
                                    "0": "997",
                                    "1": "Road-750 Black, 44",
                                    "2": "Black",
                                    "3": "44",
                                    "4": "539.9900"
                                },
                                {
                                    "0": "998",
                                    "1": "Road-750 Black, 48",
                                    "2": "Black",
                                    "3": "48",
                                    "4": "539.9900"
                                },
                                {
                                    "0": "999",
                                    "1": "Road-750 Black, 52",
                                    "2": "Black",
                                    "3": "52",
                                    "4": "539.9900"
                                }
                            ]
                        },
                        "text/html": "<table><tr><th>ProductID</th><th>Name</th><th>Color</th><th>Size</th><th>ListPrice</th></tr><tr><td>680</td><td>HL Road Frame - Black, 58</td><td>Black</td><td>58</td><td>1431.5000</td></tr><tr><td>706</td><td>HL Road Frame - Red, 58</td><td>Red</td><td>58</td><td>1431.5000</td></tr><tr><td>707</td><td>Sport-100 Helmet, Red</td><td>Red</td><td>NULL</td><td>34.9900</td></tr><tr><td>708</td><td>Sport-100 Helmet, Black</td><td>Black</td><td>NULL</td><td>34.9900</td></tr><tr><td>709</td><td>Mountain Bike Socks, M</td><td>White</td><td>M</td><td>9.5000</td></tr><tr><td>710</td><td>Mountain Bike Socks, L</td><td>White</td><td>L</td><td>9.5000</td></tr><tr><td>711</td><td>Sport-100 Helmet, Blue</td><td>Blue</td><td>NULL</td><td>34.9900</td></tr><tr><td>712</td><td>AWC Logo Cap</td><td>Multi</td><td>NULL</td><td>8.9900</td></tr><tr><td>713</td><td>Long-Sleeve Logo Jersey, S</td><td>Multi</td><td>S</td><td>49.9900</td></tr><tr><td>714</td><td>Long-Sleeve Logo Jersey, M</td><td>Multi</td><td>M</td><td>49.9900</td></tr><tr><td>715</td><td>Long-Sleeve Logo Jersey, L</td><td>Multi</td><td>L</td><td>49.9900</td></tr><tr><td>716</td><td>Long-Sleeve Logo Jersey, XL</td><td>Multi</td><td>XL</td><td>49.9900</td></tr><tr><td>717</td><td>HL Road Frame - Red, 62</td><td>Red</td><td>62</td><td>1431.5000</td></tr><tr><td>718</td><td>HL Road Frame - Red, 44</td><td>Red</td><td>44</td><td>1431.5000</td></tr><tr><td>719</td><td>HL Road Frame - Red, 48</td><td>Red</td><td>48</td><td>1431.5000</td></tr><tr><td>720</td><td>HL Road Frame - Red, 52</td><td>Red</td><td>52</td><td>1431.5000</td></tr><tr><td>721</td><td>HL Road Frame - Red, 56</td><td>Red</td><td>56</td><td>1431.5000</td></tr><tr><td>722</td><td>LL Road Frame - Black, 58</td><td>Black</td><td>58</td><td>337.2200</td></tr><tr><td>723</td><td>LL Road Frame - Black, 60</td><td>Black</td><td>60</td><td>337.2200</td></tr><tr><td>724</td><td>LL Road Frame - Black, 62</td><td>Black</td><td>62</td><td>337.2200</td></tr><tr><td>725</td><td>LL Road Frame - Red, 44</td><td>Red</td><td>44</td><td>337.2200</td></tr><tr><td>726</td><td>LL Road Frame - Red, 48</td><td>Red</td><td>48</td><td>337.2200</td></tr><tr><td>727</td><td>LL Road Frame - Red, 52</td><td>Red</td><td>52</td><td>337.2200</td></tr><tr><td>728</td><td>LL Road Frame - Red, 58</td><td>Red</td><td>58</td><td>337.2200</td></tr><tr><td>729</td><td>LL Road Frame - Red, 60</td><td>Red</td><td>60</td><td>337.2200</td></tr><tr><td>730</td><td>LL Road Frame - Red, 62</td><td>Red</td><td>62</td><td>337.2200</td></tr><tr><td>731</td><td>ML Road Frame - Red, 44</td><td>Red</td><td>44</td><td>594.8300</td></tr><tr><td>732</td><td>ML Road Frame - Red, 48</td><td>Red</td><td>48</td><td>594.8300</td></tr><tr><td>733</td><td>ML Road Frame - Red, 52</td><td>Red</td><td>52</td><td>594.8300</td></tr><tr><td>734</td><td>ML Road Frame - Red, 58</td><td>Red</td><td>58</td><td>594.8300</td></tr><tr><td>735</td><td>ML Road Frame - Red, 60</td><td>Red</td><td>60</td><td>594.8300</td></tr><tr><td>736</td><td>LL Road Frame - Black, 44</td><td>Black</td><td>44</td><td>337.2200</td></tr><tr><td>737</td><td>LL Road Frame - Black, 48</td><td>Black</td><td>48</td><td>337.2200</td></tr><tr><td>738</td><td>LL Road Frame - Black, 52</td><td>Black</td><td>52</td><td>337.2200</td></tr><tr><td>739</td><td>HL Mountain Frame - Silver, 42</td><td>Silver</td><td>42</td><td>1364.5000</td></tr><tr><td>740</td><td>HL Mountain Frame - Silver, 44</td><td>Silver</td><td>44</td><td>1364.5000</td></tr><tr><td>741</td><td>HL Mountain Frame - Silver, 48</td><td>Silver</td><td>48</td><td>1364.5000</td></tr><tr><td>742</td><td>HL Mountain Frame - Silver, 46</td><td>Silver</td><td>46</td><td>1364.5000</td></tr><tr><td>743</td><td>HL Mountain Frame - Black, 42</td><td>Black</td><td>42</td><td>1349.6000</td></tr><tr><td>744</td><td>HL Mountain Frame - Black, 44</td><td>Black</td><td>44</td><td>1349.6000</td></tr><tr><td>745</td><td>HL Mountain Frame - Black, 48</td><td>Black</td><td>48</td><td>1349.6000</td></tr><tr><td>746</td><td>HL Mountain Frame - Black, 46</td><td>Black</td><td>46</td><td>1349.6000</td></tr><tr><td>747</td><td>HL Mountain Frame - Black, 38</td><td>Black</td><td>38</td><td>1349.6000</td></tr><tr><td>748</td><td>HL Mountain Frame - Silver, 38</td><td>Silver</td><td>38</td><td>1364.5000</td></tr><tr><td>749</td><td>Road-150 Red, 62</td><td>Red</td><td>62</td><td>3578.2700</td></tr><tr><td>750</td><td>Road-150 Red, 44</td><td>Red</td><td>44</td><td>3578.2700</td></tr><tr><td>751</td><td>Road-150 Red, 48</td><td>Red</td><td>48</td><td>3578.2700</td></tr><tr><td>752</td><td>Road-150 Red, 52</td><td>Red</td><td>52</td><td>3578.2700</td></tr><tr><td>753</td><td>Road-150 Red, 56</td><td>Red</td><td>56</td><td>3578.2700</td></tr><tr><td>754</td><td>Road-450 Red, 58</td><td>Red</td><td>58</td><td>1457.9900</td></tr><tr><td>755</td><td>Road-450 Red, 60</td><td>Red</td><td>60</td><td>1457.9900</td></tr><tr><td>756</td><td>Road-450 Red, 44</td><td>Red</td><td>44</td><td>1457.9900</td></tr><tr><td>757</td><td>Road-450 Red, 48</td><td>Red</td><td>48</td><td>1457.9900</td></tr><tr><td>758</td><td>Road-450 Red, 52</td><td>Red</td><td>52</td><td>1457.9900</td></tr><tr><td>759</td><td>Road-650 Red, 58</td><td>Red</td><td>58</td><td>782.9900</td></tr><tr><td>760</td><td>Road-650 Red, 60</td><td>Red</td><td>60</td><td>782.9900</td></tr><tr><td>761</td><td>Road-650 Red, 62</td><td>Red</td><td>62</td><td>782.9900</td></tr><tr><td>762</td><td>Road-650 Red, 44</td><td>Red</td><td>44</td><td>782.9900</td></tr><tr><td>763</td><td>Road-650 Red, 48</td><td>Red</td><td>48</td><td>782.9900</td></tr><tr><td>764</td><td>Road-650 Red, 52</td><td>Red</td><td>52</td><td>782.9900</td></tr><tr><td>765</td><td>Road-650 Black, 58</td><td>Black</td><td>58</td><td>782.9900</td></tr><tr><td>766</td><td>Road-650 Black, 60</td><td>Black</td><td>60</td><td>782.9900</td></tr><tr><td>767</td><td>Road-650 Black, 62</td><td>Black</td><td>62</td><td>782.9900</td></tr><tr><td>768</td><td>Road-650 Black, 44</td><td>Black</td><td>44</td><td>782.9900</td></tr><tr><td>769</td><td>Road-650 Black, 48</td><td>Black</td><td>48</td><td>782.9900</td></tr><tr><td>770</td><td>Road-650 Black, 52</td><td>Black</td><td>52</td><td>782.9900</td></tr><tr><td>771</td><td>Mountain-100 Silver, 38</td><td>Silver</td><td>38</td><td>3399.9900</td></tr><tr><td>772</td><td>Mountain-100 Silver, 42</td><td>Silver</td><td>42</td><td>3399.9900</td></tr><tr><td>773</td><td>Mountain-100 Silver, 44</td><td>Silver</td><td>44</td><td>3399.9900</td></tr><tr><td>774</td><td>Mountain-100 Silver, 48</td><td>Silver</td><td>48</td><td>3399.9900</td></tr><tr><td>775</td><td>Mountain-100 Black, 38</td><td>Black</td><td>38</td><td>3374.9900</td></tr><tr><td>776</td><td>Mountain-100 Black, 42</td><td>Black</td><td>42</td><td>3374.9900</td></tr><tr><td>777</td><td>Mountain-100 Black, 44</td><td>Black</td><td>44</td><td>3374.9900</td></tr><tr><td>778</td><td>Mountain-100 Black, 48</td><td>Black</td><td>48</td><td>3374.9900</td></tr><tr><td>779</td><td>Mountain-200 Silver, 38</td><td>Silver</td><td>38</td><td>2319.9900</td></tr><tr><td>780</td><td>Mountain-200 Silver, 42</td><td>Silver</td><td>42</td><td>2319.9900</td></tr><tr><td>781</td><td>Mountain-200 Silver, 46</td><td>Silver</td><td>46</td><td>2319.9900</td></tr><tr><td>782</td><td>Mountain-200 Black, 38</td><td>Black</td><td>38</td><td>2294.9900</td></tr><tr><td>783</td><td>Mountain-200 Black, 42</td><td>Black</td><td>42</td><td>2294.9900</td></tr><tr><td>784</td><td>Mountain-200 Black, 46</td><td>Black</td><td>46</td><td>2294.9900</td></tr><tr><td>785</td><td>Mountain-300 Black, 38</td><td>Black</td><td>38</td><td>1079.9900</td></tr><tr><td>786</td><td>Mountain-300 Black, 40</td><td>Black</td><td>40</td><td>1079.9900</td></tr><tr><td>787</td><td>Mountain-300 Black, 44</td><td>Black</td><td>44</td><td>1079.9900</td></tr><tr><td>788</td><td>Mountain-300 Black, 48</td><td>Black</td><td>48</td><td>1079.9900</td></tr><tr><td>789</td><td>Road-250 Red, 44</td><td>Red</td><td>44</td><td>2443.3500</td></tr><tr><td>790</td><td>Road-250 Red, 48</td><td>Red</td><td>48</td><td>2443.3500</td></tr><tr><td>791</td><td>Road-250 Red, 52</td><td>Red</td><td>52</td><td>2443.3500</td></tr><tr><td>792</td><td>Road-250 Red, 58</td><td>Red</td><td>58</td><td>2443.3500</td></tr><tr><td>793</td><td>Road-250 Black, 44</td><td>Black</td><td>44</td><td>2443.3500</td></tr><tr><td>794</td><td>Road-250 Black, 48</td><td>Black</td><td>48</td><td>2443.3500</td></tr><tr><td>795</td><td>Road-250 Black, 52</td><td>Black</td><td>52</td><td>2443.3500</td></tr><tr><td>796</td><td>Road-250 Black, 58</td><td>Black</td><td>58</td><td>2443.3500</td></tr><tr><td>797</td><td>Road-550-W Yellow, 38</td><td>Yellow</td><td>38</td><td>1120.4900</td></tr><tr><td>798</td><td>Road-550-W Yellow, 40</td><td>Yellow</td><td>40</td><td>1120.4900</td></tr><tr><td>799</td><td>Road-550-W Yellow, 42</td><td>Yellow</td><td>42</td><td>1120.4900</td></tr><tr><td>800</td><td>Road-550-W Yellow, 44</td><td>Yellow</td><td>44</td><td>1120.4900</td></tr><tr><td>801</td><td>Road-550-W Yellow, 48</td><td>Yellow</td><td>48</td><td>1120.4900</td></tr><tr><td>802</td><td>LL Fork</td><td>NULL</td><td>NULL</td><td>148.2200</td></tr><tr><td>803</td><td>ML Fork</td><td>NULL</td><td>NULL</td><td>175.4900</td></tr><tr><td>804</td><td>HL Fork</td><td>NULL</td><td>NULL</td><td>229.4900</td></tr><tr><td>805</td><td>LL Headset</td><td>NULL</td><td>NULL</td><td>34.2000</td></tr><tr><td>806</td><td>ML Headset</td><td>NULL</td><td>NULL</td><td>102.2900</td></tr><tr><td>807</td><td>HL Headset</td><td>NULL</td><td>NULL</td><td>124.7300</td></tr><tr><td>808</td><td>LL Mountain Handlebars</td><td>NULL</td><td>NULL</td><td>44.5400</td></tr><tr><td>809</td><td>ML Mountain Handlebars</td><td>NULL</td><td>NULL</td><td>61.9200</td></tr><tr><td>810</td><td>HL Mountain Handlebars</td><td>NULL</td><td>NULL</td><td>120.2700</td></tr><tr><td>811</td><td>LL Road Handlebars</td><td>NULL</td><td>NULL</td><td>44.5400</td></tr><tr><td>812</td><td>ML Road Handlebars</td><td>NULL</td><td>NULL</td><td>61.9200</td></tr><tr><td>813</td><td>HL Road Handlebars</td><td>NULL</td><td>NULL</td><td>120.2700</td></tr><tr><td>814</td><td>ML Mountain Frame - Black, 38</td><td>Black</td><td>38</td><td>348.7600</td></tr><tr><td>815</td><td>LL Mountain Front Wheel</td><td>Black</td><td>NULL</td><td>60.7450</td></tr><tr><td>816</td><td>ML Mountain Front Wheel</td><td>Black</td><td>NULL</td><td>209.0250</td></tr><tr><td>817</td><td>HL Mountain Front Wheel</td><td>Black</td><td>NULL</td><td>300.2150</td></tr><tr><td>818</td><td>LL Road Front Wheel</td><td>Black</td><td>NULL</td><td>85.5650</td></tr><tr><td>819</td><td>ML Road Front Wheel</td><td>Black</td><td>NULL</td><td>248.3850</td></tr><tr><td>820</td><td>HL Road Front Wheel</td><td>Black</td><td>NULL</td><td>330.0600</td></tr><tr><td>821</td><td>Touring Front Wheel</td><td>Black</td><td>NULL</td><td>218.0100</td></tr><tr><td>822</td><td>ML Road Frame-W - Yellow, 38</td><td>Yellow</td><td>38</td><td>594.8300</td></tr><tr><td>823</td><td>LL Mountain Rear Wheel</td><td>Black</td><td>NULL</td><td>87.7450</td></tr><tr><td>824</td><td>ML Mountain Rear Wheel</td><td>Black</td><td>NULL</td><td>236.0250</td></tr><tr><td>825</td><td>HL Mountain Rear Wheel</td><td>Black</td><td>NULL</td><td>327.2150</td></tr><tr><td>826</td><td>LL Road Rear Wheel</td><td>Black</td><td>NULL</td><td>112.5650</td></tr><tr><td>827</td><td>ML Road Rear Wheel</td><td>Black</td><td>NULL</td><td>275.3850</td></tr><tr><td>828</td><td>HL Road Rear Wheel</td><td>Black</td><td>NULL</td><td>357.0600</td></tr><tr><td>829</td><td>Touring Rear Wheel</td><td>Black</td><td>NULL</td><td>245.0100</td></tr><tr><td>830</td><td>ML Mountain Frame - Black, 40</td><td>Black</td><td>40</td><td>348.7600</td></tr><tr><td>831</td><td>ML Mountain Frame - Black, 44</td><td>Black</td><td>44</td><td>348.7600</td></tr><tr><td>832</td><td>ML Mountain Frame - Black, 48</td><td>Black</td><td>48</td><td>348.7600</td></tr><tr><td>833</td><td>ML Road Frame-W - Yellow, 40</td><td>Yellow</td><td>40</td><td>594.8300</td></tr><tr><td>834</td><td>ML Road Frame-W - Yellow, 42</td><td>Yellow</td><td>42</td><td>594.8300</td></tr><tr><td>835</td><td>ML Road Frame-W - Yellow, 44</td><td>Yellow</td><td>44</td><td>594.8300</td></tr><tr><td>836</td><td>ML Road Frame-W - Yellow, 48</td><td>Yellow</td><td>48</td><td>594.8300</td></tr><tr><td>837</td><td>HL Road Frame - Black, 62</td><td>Black</td><td>62</td><td>1431.5000</td></tr><tr><td>838</td><td>HL Road Frame - Black, 44</td><td>Black</td><td>44</td><td>1431.5000</td></tr><tr><td>839</td><td>HL Road Frame - Black, 48</td><td>Black</td><td>48</td><td>1431.5000</td></tr><tr><td>840</td><td>HL Road Frame - Black, 52</td><td>Black</td><td>52</td><td>1431.5000</td></tr><tr><td>841</td><td>Men's Sports Shorts, S</td><td>Black</td><td>S</td><td>59.9900</td></tr><tr><td>842</td><td>Touring-Panniers, Large</td><td>Grey</td><td>NULL</td><td>125.0000</td></tr><tr><td>843</td><td>Cable Lock</td><td>NULL</td><td>NULL</td><td>25.0000</td></tr><tr><td>844</td><td>Minipump</td><td>NULL</td><td>NULL</td><td>19.9900</td></tr><tr><td>845</td><td>Mountain Pump</td><td>NULL</td><td>NULL</td><td>24.9900</td></tr><tr><td>846</td><td>Taillights - Battery-Powered</td><td>NULL</td><td>NULL</td><td>13.9900</td></tr><tr><td>847</td><td>Headlights - Dual-Beam</td><td>NULL</td><td>NULL</td><td>34.9900</td></tr><tr><td>848</td><td>Headlights - Weatherproof</td><td>NULL</td><td>NULL</td><td>44.9900</td></tr><tr><td>849</td><td>Men's Sports Shorts, M</td><td>Black</td><td>M</td><td>59.9900</td></tr><tr><td>850</td><td>Men's Sports Shorts, L</td><td>Black</td><td>L</td><td>59.9900</td></tr><tr><td>851</td><td>Men's Sports Shorts, XL</td><td>Black</td><td>XL</td><td>59.9900</td></tr><tr><td>852</td><td>Women's Tights, S</td><td>Black</td><td>S</td><td>74.9900</td></tr><tr><td>853</td><td>Women's Tights, M</td><td>Black</td><td>M</td><td>74.9900</td></tr><tr><td>854</td><td>Women's Tights, L</td><td>Black</td><td>L</td><td>74.9900</td></tr><tr><td>855</td><td>Men's Bib-Shorts, S</td><td>Multi</td><td>S</td><td>89.9900</td></tr><tr><td>856</td><td>Men's Bib-Shorts, M</td><td>Multi</td><td>M</td><td>89.9900</td></tr><tr><td>857</td><td>Men's Bib-Shorts, L</td><td>Multi</td><td>L</td><td>89.9900</td></tr><tr><td>858</td><td>Half-Finger Gloves, S</td><td>Black</td><td>S</td><td>24.4900</td></tr><tr><td>859</td><td>Half-Finger Gloves, M</td><td>Black</td><td>M</td><td>24.4900</td></tr><tr><td>860</td><td>Half-Finger Gloves, L</td><td>Black</td><td>L</td><td>24.4900</td></tr><tr><td>861</td><td>Full-Finger Gloves, S</td><td>Black</td><td>S</td><td>37.9900</td></tr><tr><td>862</td><td>Full-Finger Gloves, M</td><td>Black</td><td>M</td><td>37.9900</td></tr><tr><td>863</td><td>Full-Finger Gloves, L</td><td>Black</td><td>L</td><td>37.9900</td></tr><tr><td>864</td><td>Classic Vest, S</td><td>Blue</td><td>S</td><td>63.5000</td></tr><tr><td>865</td><td>Classic Vest, M</td><td>Blue</td><td>M</td><td>63.5000</td></tr><tr><td>866</td><td>Classic Vest, L</td><td>Blue</td><td>L</td><td>63.5000</td></tr><tr><td>867</td><td>Women's Mountain Shorts, S</td><td>Black</td><td>S</td><td>69.9900</td></tr><tr><td>868</td><td>Women's Mountain Shorts, M</td><td>Black</td><td>M</td><td>69.9900</td></tr><tr><td>869</td><td>Women's Mountain Shorts, L</td><td>Black</td><td>L</td><td>69.9900</td></tr><tr><td>870</td><td>Water Bottle - 30 oz.</td><td>NULL</td><td>NULL</td><td>4.9900</td></tr><tr><td>871</td><td>Mountain Bottle Cage</td><td>NULL</td><td>NULL</td><td>9.9900</td></tr><tr><td>872</td><td>Road Bottle Cage</td><td>NULL</td><td>NULL</td><td>8.9900</td></tr><tr><td>873</td><td>Patch Kit/8 Patches</td><td>NULL</td><td>NULL</td><td>2.2900</td></tr><tr><td>874</td><td>Racing Socks, M</td><td>White</td><td>M</td><td>8.9900</td></tr><tr><td>875</td><td>Racing Socks, L</td><td>White</td><td>L</td><td>8.9900</td></tr><tr><td>876</td><td>Hitch Rack - 4-Bike</td><td>NULL</td><td>NULL</td><td>120.0000</td></tr><tr><td>877</td><td>Bike Wash - Dissolver</td><td>NULL</td><td>NULL</td><td>7.9500</td></tr><tr><td>878</td><td>Fender Set - Mountain</td><td>NULL</td><td>NULL</td><td>21.9800</td></tr><tr><td>879</td><td>All-Purpose Bike Stand</td><td>NULL</td><td>NULL</td><td>159.0000</td></tr><tr><td>880</td><td>Hydration Pack - 70 oz.</td><td>Silver</td><td>70</td><td>54.9900</td></tr><tr><td>881</td><td>Short-Sleeve Classic Jersey, S</td><td>Yellow</td><td>S</td><td>53.9900</td></tr><tr><td>882</td><td>Short-Sleeve Classic Jersey, M</td><td>Yellow</td><td>M</td><td>53.9900</td></tr><tr><td>883</td><td>Short-Sleeve Classic Jersey, L</td><td>Yellow</td><td>L</td><td>53.9900</td></tr><tr><td>884</td><td>Short-Sleeve Classic Jersey, XL</td><td>Yellow</td><td>XL</td><td>53.9900</td></tr><tr><td>885</td><td>HL Touring Frame - Yellow, 60</td><td>Yellow</td><td>60</td><td>1003.9100</td></tr><tr><td>886</td><td>LL Touring Frame - Yellow, 62</td><td>Yellow</td><td>62</td><td>333.4200</td></tr><tr><td>887</td><td>HL Touring Frame - Yellow, 46</td><td>Yellow</td><td>46</td><td>1003.9100</td></tr><tr><td>888</td><td>HL Touring Frame - Yellow, 50</td><td>Yellow</td><td>50</td><td>1003.9100</td></tr><tr><td>889</td><td>HL Touring Frame - Yellow, 54</td><td>Yellow</td><td>54</td><td>1003.9100</td></tr><tr><td>890</td><td>HL Touring Frame - Blue, 46</td><td>Blue</td><td>46</td><td>1003.9100</td></tr><tr><td>891</td><td>HL Touring Frame - Blue, 50</td><td>Blue</td><td>50</td><td>1003.9100</td></tr><tr><td>892</td><td>HL Touring Frame - Blue, 54</td><td>Blue</td><td>54</td><td>1003.9100</td></tr><tr><td>893</td><td>HL Touring Frame - Blue, 60</td><td>Blue</td><td>60</td><td>1003.9100</td></tr><tr><td>894</td><td>Rear Derailleur</td><td>Silver</td><td>NULL</td><td>121.4600</td></tr><tr><td>895</td><td>LL Touring Frame - Blue, 50</td><td>Blue</td><td>50</td><td>333.4200</td></tr><tr><td>896</td><td>LL Touring Frame - Blue, 54</td><td>Blue</td><td>54</td><td>333.4200</td></tr><tr><td>897</td><td>LL Touring Frame - Blue, 58</td><td>Blue</td><td>58</td><td>333.4200</td></tr><tr><td>898</td><td>LL Touring Frame - Blue, 62</td><td>Blue</td><td>62</td><td>333.4200</td></tr><tr><td>899</td><td>LL Touring Frame - Yellow, 44</td><td>Yellow</td><td>44</td><td>333.4200</td></tr><tr><td>900</td><td>LL Touring Frame - Yellow, 50</td><td>Yellow</td><td>50</td><td>333.4200</td></tr><tr><td>901</td><td>LL Touring Frame - Yellow, 54</td><td>Yellow</td><td>54</td><td>333.4200</td></tr><tr><td>902</td><td>LL Touring Frame - Yellow, 58</td><td>Yellow</td><td>58</td><td>333.4200</td></tr><tr><td>903</td><td>LL Touring Frame - Blue, 44</td><td>Blue</td><td>44</td><td>333.4200</td></tr><tr><td>904</td><td>ML Mountain Frame-W - Silver, 40</td><td>Silver</td><td>40</td><td>364.0900</td></tr><tr><td>905</td><td>ML Mountain Frame-W - Silver, 42</td><td>Silver</td><td>42</td><td>364.0900</td></tr><tr><td>906</td><td>ML Mountain Frame-W - Silver, 46</td><td>Silver</td><td>46</td><td>364.0900</td></tr><tr><td>907</td><td>Rear Brakes</td><td>Silver</td><td>NULL</td><td>106.5000</td></tr><tr><td>908</td><td>LL Mountain Seat/Saddle</td><td>NULL</td><td>NULL</td><td>27.1200</td></tr><tr><td>909</td><td>ML Mountain Seat/Saddle</td><td>NULL</td><td>NULL</td><td>39.1400</td></tr><tr><td>910</td><td>HL Mountain Seat/Saddle</td><td>NULL</td><td>NULL</td><td>52.6400</td></tr><tr><td>911</td><td>LL Road Seat/Saddle</td><td>NULL</td><td>NULL</td><td>27.1200</td></tr><tr><td>912</td><td>ML Road Seat/Saddle</td><td>NULL</td><td>NULL</td><td>39.1400</td></tr><tr><td>913</td><td>HL Road Seat/Saddle</td><td>NULL</td><td>NULL</td><td>52.6400</td></tr><tr><td>914</td><td>LL Touring Seat/Saddle</td><td>NULL</td><td>NULL</td><td>27.1200</td></tr><tr><td>915</td><td>ML Touring Seat/Saddle</td><td>NULL</td><td>NULL</td><td>39.1400</td></tr><tr><td>916</td><td>HL Touring Seat/Saddle</td><td>NULL</td><td>NULL</td><td>52.6400</td></tr><tr><td>917</td><td>LL Mountain Frame - Silver, 42</td><td>Silver</td><td>42</td><td>264.0500</td></tr><tr><td>918</td><td>LL Mountain Frame - Silver, 44</td><td>Silver</td><td>44</td><td>264.0500</td></tr><tr><td>919</td><td>LL Mountain Frame - Silver, 48</td><td>Silver</td><td>48</td><td>264.0500</td></tr><tr><td>920</td><td>LL Mountain Frame - Silver, 52</td><td>Silver</td><td>52</td><td>264.0500</td></tr><tr><td>921</td><td>Mountain Tire Tube</td><td>NULL</td><td>NULL</td><td>4.9900</td></tr><tr><td>922</td><td>Road Tire Tube</td><td>NULL</td><td>NULL</td><td>3.9900</td></tr><tr><td>923</td><td>Touring Tire Tube</td><td>NULL</td><td>NULL</td><td>4.9900</td></tr><tr><td>924</td><td>LL Mountain Frame - Black, 42</td><td>Black</td><td>42</td><td>249.7900</td></tr><tr><td>925</td><td>LL Mountain Frame - Black, 44</td><td>Black</td><td>44</td><td>249.7900</td></tr><tr><td>926</td><td>LL Mountain Frame - Black, 48</td><td>Black</td><td>48</td><td>249.7900</td></tr><tr><td>927</td><td>LL Mountain Frame - Black, 52</td><td>Black</td><td>52</td><td>249.7900</td></tr><tr><td>928</td><td>LL Mountain Tire</td><td>NULL</td><td>NULL</td><td>24.9900</td></tr><tr><td>929</td><td>ML Mountain Tire</td><td>NULL</td><td>NULL</td><td>29.9900</td></tr><tr><td>930</td><td>HL Mountain Tire</td><td>NULL</td><td>NULL</td><td>35.0000</td></tr><tr><td>931</td><td>LL Road Tire</td><td>NULL</td><td>NULL</td><td>21.4900</td></tr><tr><td>932</td><td>ML Road Tire</td><td>NULL</td><td>NULL</td><td>24.9900</td></tr><tr><td>933</td><td>HL Road Tire</td><td>NULL</td><td>NULL</td><td>32.6000</td></tr><tr><td>934</td><td>Touring Tire</td><td>NULL</td><td>NULL</td><td>28.9900</td></tr><tr><td>935</td><td>LL Mountain Pedal</td><td>Silver/Black</td><td>NULL</td><td>40.4900</td></tr><tr><td>936</td><td>ML Mountain Pedal</td><td>Silver/Black</td><td>NULL</td><td>62.0900</td></tr><tr><td>937</td><td>HL Mountain Pedal</td><td>Silver/Black</td><td>NULL</td><td>80.9900</td></tr><tr><td>938</td><td>LL Road Pedal</td><td>Silver/Black</td><td>NULL</td><td>40.4900</td></tr><tr><td>939</td><td>ML Road Pedal</td><td>Silver/Black</td><td>NULL</td><td>62.0900</td></tr><tr><td>940</td><td>HL Road Pedal</td><td>Silver/Black</td><td>NULL</td><td>80.9900</td></tr><tr><td>941</td><td>Touring Pedal</td><td>Silver/Black</td><td>NULL</td><td>80.9900</td></tr><tr><td>942</td><td>ML Mountain Frame-W - Silver, 38</td><td>Silver</td><td>38</td><td>364.0900</td></tr><tr><td>943</td><td>LL Mountain Frame - Black, 40</td><td>Black</td><td>40</td><td>249.7900</td></tr><tr><td>944</td><td>LL Mountain Frame - Silver, 40</td><td>Silver</td><td>40</td><td>264.0500</td></tr><tr><td>945</td><td>Front Derailleur</td><td>Silver</td><td>NULL</td><td>91.4900</td></tr><tr><td>946</td><td>LL Touring Handlebars</td><td>NULL</td><td>NULL</td><td>46.0900</td></tr><tr><td>947</td><td>HL Touring Handlebars</td><td>NULL</td><td>NULL</td><td>91.5700</td></tr><tr><td>948</td><td>Front Brakes</td><td>Silver</td><td>NULL</td><td>106.5000</td></tr><tr><td>949</td><td>LL Crankset</td><td>Black</td><td>NULL</td><td>175.4900</td></tr><tr><td>950</td><td>ML Crankset</td><td>Black</td><td>NULL</td><td>256.4900</td></tr><tr><td>951</td><td>HL Crankset</td><td>Black</td><td>NULL</td><td>404.9900</td></tr><tr><td>952</td><td>Chain</td><td>Silver</td><td>NULL</td><td>20.2400</td></tr><tr><td>953</td><td>Touring-2000 Blue, 60</td><td>Blue</td><td>60</td><td>1214.8500</td></tr><tr><td>954</td><td>Touring-1000 Yellow, 46</td><td>Yellow</td><td>46</td><td>2384.0700</td></tr><tr><td>955</td><td>Touring-1000 Yellow, 50</td><td>Yellow</td><td>50</td><td>2384.0700</td></tr><tr><td>956</td><td>Touring-1000 Yellow, 54</td><td>Yellow</td><td>54</td><td>2384.0700</td></tr><tr><td>957</td><td>Touring-1000 Yellow, 60</td><td>Yellow</td><td>60</td><td>2384.0700</td></tr><tr><td>958</td><td>Touring-3000 Blue, 54</td><td>Blue</td><td>54</td><td>742.3500</td></tr><tr><td>959</td><td>Touring-3000 Blue, 58</td><td>Blue</td><td>58</td><td>742.3500</td></tr><tr><td>960</td><td>Touring-3000 Blue, 62</td><td>Blue</td><td>62</td><td>742.3500</td></tr><tr><td>961</td><td>Touring-3000 Yellow, 44</td><td>Yellow</td><td>44</td><td>742.3500</td></tr><tr><td>962</td><td>Touring-3000 Yellow, 50</td><td>Yellow</td><td>50</td><td>742.3500</td></tr><tr><td>963</td><td>Touring-3000 Yellow, 54</td><td>Yellow</td><td>54</td><td>742.3500</td></tr><tr><td>964</td><td>Touring-3000 Yellow, 58</td><td>Yellow</td><td>58</td><td>742.3500</td></tr><tr><td>965</td><td>Touring-3000 Yellow, 62</td><td>Yellow</td><td>62</td><td>742.3500</td></tr><tr><td>966</td><td>Touring-1000 Blue, 46</td><td>Blue</td><td>46</td><td>2384.0700</td></tr><tr><td>967</td><td>Touring-1000 Blue, 50</td><td>Blue</td><td>50</td><td>2384.0700</td></tr><tr><td>968</td><td>Touring-1000 Blue, 54</td><td>Blue</td><td>54</td><td>2384.0700</td></tr><tr><td>969</td><td>Touring-1000 Blue, 60</td><td>Blue</td><td>60</td><td>2384.0700</td></tr><tr><td>970</td><td>Touring-2000 Blue, 46</td><td>Blue</td><td>46</td><td>1214.8500</td></tr><tr><td>971</td><td>Touring-2000 Blue, 50</td><td>Blue</td><td>50</td><td>1214.8500</td></tr><tr><td>972</td><td>Touring-2000 Blue, 54</td><td>Blue</td><td>54</td><td>1214.8500</td></tr><tr><td>973</td><td>Road-350-W Yellow, 40</td><td>Yellow</td><td>40</td><td>1700.9900</td></tr><tr><td>974</td><td>Road-350-W Yellow, 42</td><td>Yellow</td><td>42</td><td>1700.9900</td></tr><tr><td>975</td><td>Road-350-W Yellow, 44</td><td>Yellow</td><td>44</td><td>1700.9900</td></tr><tr><td>976</td><td>Road-350-W Yellow, 48</td><td>Yellow</td><td>48</td><td>1700.9900</td></tr><tr><td>977</td><td>Road-750 Black, 58</td><td>Black</td><td>58</td><td>539.9900</td></tr><tr><td>978</td><td>Touring-3000 Blue, 44</td><td>Blue</td><td>44</td><td>742.3500</td></tr><tr><td>979</td><td>Touring-3000 Blue, 50</td><td>Blue</td><td>50</td><td>742.3500</td></tr><tr><td>980</td><td>Mountain-400-W Silver, 38</td><td>Silver</td><td>38</td><td>769.4900</td></tr><tr><td>981</td><td>Mountain-400-W Silver, 40</td><td>Silver</td><td>40</td><td>769.4900</td></tr><tr><td>982</td><td>Mountain-400-W Silver, 42</td><td>Silver</td><td>42</td><td>769.4900</td></tr><tr><td>983</td><td>Mountain-400-W Silver, 46</td><td>Silver</td><td>46</td><td>769.4900</td></tr><tr><td>984</td><td>Mountain-500 Silver, 40</td><td>Silver</td><td>40</td><td>564.9900</td></tr><tr><td>985</td><td>Mountain-500 Silver, 42</td><td>Silver</td><td>42</td><td>564.9900</td></tr><tr><td>986</td><td>Mountain-500 Silver, 44</td><td>Silver</td><td>44</td><td>564.9900</td></tr><tr><td>987</td><td>Mountain-500 Silver, 48</td><td>Silver</td><td>48</td><td>564.9900</td></tr><tr><td>988</td><td>Mountain-500 Silver, 52</td><td>Silver</td><td>52</td><td>564.9900</td></tr><tr><td>989</td><td>Mountain-500 Black, 40</td><td>Black</td><td>40</td><td>539.9900</td></tr><tr><td>990</td><td>Mountain-500 Black, 42</td><td>Black</td><td>42</td><td>539.9900</td></tr><tr><td>991</td><td>Mountain-500 Black, 44</td><td>Black</td><td>44</td><td>539.9900</td></tr><tr><td>992</td><td>Mountain-500 Black, 48</td><td>Black</td><td>48</td><td>539.9900</td></tr><tr><td>993</td><td>Mountain-500 Black, 52</td><td>Black</td><td>52</td><td>539.9900</td></tr><tr><td>994</td><td>LL Bottom Bracket</td><td>NULL</td><td>NULL</td><td>53.9900</td></tr><tr><td>995</td><td>ML Bottom Bracket</td><td>NULL</td><td>NULL</td><td>101.2400</td></tr><tr><td>996</td><td>HL Bottom Bracket</td><td>NULL</td><td>NULL</td><td>121.4900</td></tr><tr><td>997</td><td>Road-750 Black, 44</td><td>Black</td><td>44</td><td>539.9900</td></tr><tr><td>998</td><td>Road-750 Black, 48</td><td>Black</td><td>48</td><td>539.9900</td></tr><tr><td>999</td><td>Road-750 Black, 52</td><td>Black</td><td>52</td><td>539.9900</td></tr></table>"
                    }
                },
                {
                    "output_type": "execute_result",
                    "metadata": {},
                    "execution_count": 8,
                    "data": {
                        "application/vnd.dataresource+json": {
                            "schema": {
                                "fields": [
                                    {
                                        "name": "ProductID"
                                    },
                                    {
                                        "name": "Name"
                                    },
                                    {
                                        "name": "Color"
                                    },
                                    {
                                        "name": "Size"
                                    },
                                    {
                                        "name": "ListPrice"
                                    }
                                ]
                            },
                            "data": [
                                {
                                    "0": "749",
                                    "1": "Road-150 Red, 62",
                                    "2": "Red",
                                    "3": "62",
                                    "4": "3578.2700"
                                },
                                {
                                    "0": "750",
                                    "1": "Road-150 Red, 44",
                                    "2": "Red",
                                    "3": "44",
                                    "4": "3578.2700"
                                },
                                {
                                    "0": "751",
                                    "1": "Road-150 Red, 48",
                                    "2": "Red",
                                    "3": "48",
                                    "4": "3578.2700"
                                },
                                {
                                    "0": "752",
                                    "1": "Road-150 Red, 52",
                                    "2": "Red",
                                    "3": "52",
                                    "4": "3578.2700"
                                },
                                {
                                    "0": "753",
                                    "1": "Road-150 Red, 56",
                                    "2": "Red",
                                    "3": "56",
                                    "4": "3578.2700"
                                },
                                {
                                    "0": "754",
                                    "1": "Road-450 Red, 58",
                                    "2": "Red",
                                    "3": "58",
                                    "4": "1457.9900"
                                },
                                {
                                    "0": "755",
                                    "1": "Road-450 Red, 60",
                                    "2": "Red",
                                    "3": "60",
                                    "4": "1457.9900"
                                },
                                {
                                    "0": "756",
                                    "1": "Road-450 Red, 44",
                                    "2": "Red",
                                    "3": "44",
                                    "4": "1457.9900"
                                },
                                {
                                    "0": "757",
                                    "1": "Road-450 Red, 48",
                                    "2": "Red",
                                    "3": "48",
                                    "4": "1457.9900"
                                },
                                {
                                    "0": "758",
                                    "1": "Road-450 Red, 52",
                                    "2": "Red",
                                    "3": "52",
                                    "4": "1457.9900"
                                },
                                {
                                    "0": "759",
                                    "1": "Road-650 Red, 58",
                                    "2": "Red",
                                    "3": "58",
                                    "4": "782.9900"
                                },
                                {
                                    "0": "760",
                                    "1": "Road-650 Red, 60",
                                    "2": "Red",
                                    "3": "60",
                                    "4": "782.9900"
                                },
                                {
                                    "0": "761",
                                    "1": "Road-650 Red, 62",
                                    "2": "Red",
                                    "3": "62",
                                    "4": "782.9900"
                                },
                                {
                                    "0": "762",
                                    "1": "Road-650 Red, 44",
                                    "2": "Red",
                                    "3": "44",
                                    "4": "782.9900"
                                },
                                {
                                    "0": "763",
                                    "1": "Road-650 Red, 48",
                                    "2": "Red",
                                    "3": "48",
                                    "4": "782.9900"
                                },
                                {
                                    "0": "764",
                                    "1": "Road-650 Red, 52",
                                    "2": "Red",
                                    "3": "52",
                                    "4": "782.9900"
                                },
                                {
                                    "0": "765",
                                    "1": "Road-650 Black, 58",
                                    "2": "Black",
                                    "3": "58",
                                    "4": "782.9900"
                                },
                                {
                                    "0": "766",
                                    "1": "Road-650 Black, 60",
                                    "2": "Black",
                                    "3": "60",
                                    "4": "782.9900"
                                },
                                {
                                    "0": "767",
                                    "1": "Road-650 Black, 62",
                                    "2": "Black",
                                    "3": "62",
                                    "4": "782.9900"
                                },
                                {
                                    "0": "768",
                                    "1": "Road-650 Black, 44",
                                    "2": "Black",
                                    "3": "44",
                                    "4": "782.9900"
                                },
                                {
                                    "0": "769",
                                    "1": "Road-650 Black, 48",
                                    "2": "Black",
                                    "3": "48",
                                    "4": "782.9900"
                                },
                                {
                                    "0": "770",
                                    "1": "Road-650 Black, 52",
                                    "2": "Black",
                                    "3": "52",
                                    "4": "782.9900"
                                },
                                {
                                    "0": "789",
                                    "1": "Road-250 Red, 44",
                                    "2": "Red",
                                    "3": "44",
                                    "4": "2443.3500"
                                },
                                {
                                    "0": "790",
                                    "1": "Road-250 Red, 48",
                                    "2": "Red",
                                    "3": "48",
                                    "4": "2443.3500"
                                },
                                {
                                    "0": "791",
                                    "1": "Road-250 Red, 52",
                                    "2": "Red",
                                    "3": "52",
                                    "4": "2443.3500"
                                },
                                {
                                    "0": "792",
                                    "1": "Road-250 Red, 58",
                                    "2": "Red",
                                    "3": "58",
                                    "4": "2443.3500"
                                },
                                {
                                    "0": "793",
                                    "1": "Road-250 Black, 44",
                                    "2": "Black",
                                    "3": "44",
                                    "4": "2443.3500"
                                },
                                {
                                    "0": "794",
                                    "1": "Road-250 Black, 48",
                                    "2": "Black",
                                    "3": "48",
                                    "4": "2443.3500"
                                },
                                {
                                    "0": "795",
                                    "1": "Road-250 Black, 52",
                                    "2": "Black",
                                    "3": "52",
                                    "4": "2443.3500"
                                },
                                {
                                    "0": "796",
                                    "1": "Road-250 Black, 58",
                                    "2": "Black",
                                    "3": "58",
                                    "4": "2443.3500"
                                },
                                {
                                    "0": "797",
                                    "1": "Road-550-W Yellow, 38",
                                    "2": "Yellow",
                                    "3": "38",
                                    "4": "1120.4900"
                                },
                                {
                                    "0": "798",
                                    "1": "Road-550-W Yellow, 40",
                                    "2": "Yellow",
                                    "3": "40",
                                    "4": "1120.4900"
                                },
                                {
                                    "0": "799",
                                    "1": "Road-550-W Yellow, 42",
                                    "2": "Yellow",
                                    "3": "42",
                                    "4": "1120.4900"
                                },
                                {
                                    "0": "800",
                                    "1": "Road-550-W Yellow, 44",
                                    "2": "Yellow",
                                    "3": "44",
                                    "4": "1120.4900"
                                },
                                {
                                    "0": "801",
                                    "1": "Road-550-W Yellow, 48",
                                    "2": "Yellow",
                                    "3": "48",
                                    "4": "1120.4900"
                                },
                                {
                                    "0": "973",
                                    "1": "Road-350-W Yellow, 40",
                                    "2": "Yellow",
                                    "3": "40",
                                    "4": "1700.9900"
                                },
                                {
                                    "0": "974",
                                    "1": "Road-350-W Yellow, 42",
                                    "2": "Yellow",
                                    "3": "42",
                                    "4": "1700.9900"
                                },
                                {
                                    "0": "975",
                                    "1": "Road-350-W Yellow, 44",
                                    "2": "Yellow",
                                    "3": "44",
                                    "4": "1700.9900"
                                },
                                {
                                    "0": "976",
                                    "1": "Road-350-W Yellow, 48",
                                    "2": "Yellow",
                                    "3": "48",
                                    "4": "1700.9900"
                                },
                                {
                                    "0": "977",
                                    "1": "Road-750 Black, 58",
                                    "2": "Black",
                                    "3": "58",
                                    "4": "539.9900"
                                },
                                {
                                    "0": "997",
                                    "1": "Road-750 Black, 44",
                                    "2": "Black",
                                    "3": "44",
                                    "4": "539.9900"
                                },
                                {
                                    "0": "998",
                                    "1": "Road-750 Black, 48",
                                    "2": "Black",
                                    "3": "48",
                                    "4": "539.9900"
                                },
                                {
                                    "0": "999",
                                    "1": "Road-750 Black, 52",
                                    "2": "Black",
                                    "3": "52",
                                    "4": "539.9900"
                                }
                            ]
                        },
                        "text/html": "<table><tr><th>ProductID</th><th>Name</th><th>Color</th><th>Size</th><th>ListPrice</th></tr><tr><td>749</td><td>Road-150 Red, 62</td><td>Red</td><td>62</td><td>3578.2700</td></tr><tr><td>750</td><td>Road-150 Red, 44</td><td>Red</td><td>44</td><td>3578.2700</td></tr><tr><td>751</td><td>Road-150 Red, 48</td><td>Red</td><td>48</td><td>3578.2700</td></tr><tr><td>752</td><td>Road-150 Red, 52</td><td>Red</td><td>52</td><td>3578.2700</td></tr><tr><td>753</td><td>Road-150 Red, 56</td><td>Red</td><td>56</td><td>3578.2700</td></tr><tr><td>754</td><td>Road-450 Red, 58</td><td>Red</td><td>58</td><td>1457.9900</td></tr><tr><td>755</td><td>Road-450 Red, 60</td><td>Red</td><td>60</td><td>1457.9900</td></tr><tr><td>756</td><td>Road-450 Red, 44</td><td>Red</td><td>44</td><td>1457.9900</td></tr><tr><td>757</td><td>Road-450 Red, 48</td><td>Red</td><td>48</td><td>1457.9900</td></tr><tr><td>758</td><td>Road-450 Red, 52</td><td>Red</td><td>52</td><td>1457.9900</td></tr><tr><td>759</td><td>Road-650 Red, 58</td><td>Red</td><td>58</td><td>782.9900</td></tr><tr><td>760</td><td>Road-650 Red, 60</td><td>Red</td><td>60</td><td>782.9900</td></tr><tr><td>761</td><td>Road-650 Red, 62</td><td>Red</td><td>62</td><td>782.9900</td></tr><tr><td>762</td><td>Road-650 Red, 44</td><td>Red</td><td>44</td><td>782.9900</td></tr><tr><td>763</td><td>Road-650 Red, 48</td><td>Red</td><td>48</td><td>782.9900</td></tr><tr><td>764</td><td>Road-650 Red, 52</td><td>Red</td><td>52</td><td>782.9900</td></tr><tr><td>765</td><td>Road-650 Black, 58</td><td>Black</td><td>58</td><td>782.9900</td></tr><tr><td>766</td><td>Road-650 Black, 60</td><td>Black</td><td>60</td><td>782.9900</td></tr><tr><td>767</td><td>Road-650 Black, 62</td><td>Black</td><td>62</td><td>782.9900</td></tr><tr><td>768</td><td>Road-650 Black, 44</td><td>Black</td><td>44</td><td>782.9900</td></tr><tr><td>769</td><td>Road-650 Black, 48</td><td>Black</td><td>48</td><td>782.9900</td></tr><tr><td>770</td><td>Road-650 Black, 52</td><td>Black</td><td>52</td><td>782.9900</td></tr><tr><td>789</td><td>Road-250 Red, 44</td><td>Red</td><td>44</td><td>2443.3500</td></tr><tr><td>790</td><td>Road-250 Red, 48</td><td>Red</td><td>48</td><td>2443.3500</td></tr><tr><td>791</td><td>Road-250 Red, 52</td><td>Red</td><td>52</td><td>2443.3500</td></tr><tr><td>792</td><td>Road-250 Red, 58</td><td>Red</td><td>58</td><td>2443.3500</td></tr><tr><td>793</td><td>Road-250 Black, 44</td><td>Black</td><td>44</td><td>2443.3500</td></tr><tr><td>794</td><td>Road-250 Black, 48</td><td>Black</td><td>48</td><td>2443.3500</td></tr><tr><td>795</td><td>Road-250 Black, 52</td><td>Black</td><td>52</td><td>2443.3500</td></tr><tr><td>796</td><td>Road-250 Black, 58</td><td>Black</td><td>58</td><td>2443.3500</td></tr><tr><td>797</td><td>Road-550-W Yellow, 38</td><td>Yellow</td><td>38</td><td>1120.4900</td></tr><tr><td>798</td><td>Road-550-W Yellow, 40</td><td>Yellow</td><td>40</td><td>1120.4900</td></tr><tr><td>799</td><td>Road-550-W Yellow, 42</td><td>Yellow</td><td>42</td><td>1120.4900</td></tr><tr><td>800</td><td>Road-550-W Yellow, 44</td><td>Yellow</td><td>44</td><td>1120.4900</td></tr><tr><td>801</td><td>Road-550-W Yellow, 48</td><td>Yellow</td><td>48</td><td>1120.4900</td></tr><tr><td>973</td><td>Road-350-W Yellow, 40</td><td>Yellow</td><td>40</td><td>1700.9900</td></tr><tr><td>974</td><td>Road-350-W Yellow, 42</td><td>Yellow</td><td>42</td><td>1700.9900</td></tr><tr><td>975</td><td>Road-350-W Yellow, 44</td><td>Yellow</td><td>44</td><td>1700.9900</td></tr><tr><td>976</td><td>Road-350-W Yellow, 48</td><td>Yellow</td><td>48</td><td>1700.9900</td></tr><tr><td>977</td><td>Road-750 Black, 58</td><td>Black</td><td>58</td><td>539.9900</td></tr><tr><td>997</td><td>Road-750 Black, 44</td><td>Black</td><td>44</td><td>539.9900</td></tr><tr><td>998</td><td>Road-750 Black, 48</td><td>Black</td><td>48</td><td>539.9900</td></tr><tr><td>999</td><td>Road-750 Black, 52</td><td>Black</td><td>52</td><td>539.9900</td></tr></table>"
                    }
                }
            ],
            "execution_count": 8
        }
    ]
}