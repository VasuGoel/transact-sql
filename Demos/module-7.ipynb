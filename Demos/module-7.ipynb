{
    "metadata": {
        "kernelspec": {
            "name": "SQL",
            "display_name": "SQL",
            "language": "sql"
        },
        "language_info": {
            "name": "sql",
            "version": ""
        }
    },
    "nbformat_minor": 2,
    "nbformat": 4,
    "cells": [
        {
            "cell_type": "markdown",
            "source": [
                "# Querying Views"
            ],
            "metadata": {
                "azdata_cell_guid": "43ddc3bc-4985-40c0-91bd-d4ddc87d69a4"
            }
        },
        {
            "cell_type": "code",
            "source": [
                "-- Store CustomerID, FirstName, LastName, Address, City, StateProvince into a view database object\n",
                "CREATE VIEW SalesLT.vCustomerAddress\n",
                "AS\n",
                "SELECT c.CustomerID, c.FirstName, c.LastName, a.AddressLine1, a.City, a.StateProvince\n",
                "FROM SalesLT.Customer AS c JOIN SalesLT.CustomerAddress AS ca ON c.CustomerID = ca.CustomerID\n",
                "JOIN SalesLT.Address as a ON ca.AddressID = a.AddressID"
            ],
            "metadata": {
                "azdata_cell_guid": "351ea31e-2ef5-4a0f-b733-a61cd6de532e",
                "tags": []
            },
            "outputs": [
                {
                    "output_type": "display_data",
                    "data": {
                        "text/html": "Commands completed successfully."
                    },
                    "metadata": {}
                },
                {
                    "output_type": "display_data",
                    "data": {
                        "text/html": "Total execution time: 00:00:00.005"
                    },
                    "metadata": {}
                }
            ],
            "execution_count": 2
        },
        {
            "cell_type": "code",
            "source": [
                "-- Select from view\n",
                "SELECT CustomerID, City \n",
                "FROM SalesLT.vCustomerAddress"
            ],
            "metadata": {
                "azdata_cell_guid": "64d60a37-9c7d-4f43-ba69-f2c58a0260a2"
            },
            "outputs": [
                {
                    "output_type": "display_data",
                    "data": {
                        "text/html": "(417 rows affected)"
                    },
                    "metadata": {}
                },
                {
                    "output_type": "display_data",
                    "data": {
                        "text/html": "Total execution time: 00:00:00.030"
                    },
                    "metadata": {}
                },
                {
                    "output_type": "execute_result",
                    "metadata": {},
                    "execution_count": 3,
                    "data": {
                        "application/vnd.dataresource+json": {
                            "schema": {
                                "fields": [
                                    {
                                        "name": "CustomerID"
                                    },
                                    {
                                        "name": "City"
                                    }
                                ]
                            },
                            "data": [
                                {
                                    "0": "29698",
                                    "1": "Burnaby"
                                },
                                {
                                    "0": "29997",
                                    "1": "Seattle"
                                },
                                {
                                    "0": "29854",
                                    "1": "Joliet"
                                },
                                {
                                    "0": "30027",
                                    "1": "Oxnard"
                                },
                                {
                                    "0": "30023",
                                    "1": "Peoria"
                                },
                                {
                                    "0": "29637",
                                    "1": "Irving"
                                },
                                {
                                    "0": "29545",
                                    "1": "Bothell"
                                },
                                {
                                    "0": "29890",
                                    "1": "Port Orchard"
                                },
                                {
                                    "0": "29772",
                                    "1": "Austin"
                                },
                                {
                                    "0": "29883",
                                    "1": "Denver"
                                },
                                {
                                    "0": "29625",
                                    "1": "Montreal"
                                },
                                {
                                    "0": "29646",
                                    "1": "Garland"
                                },
                                {
                                    "0": "29719",
                                    "1": "Federal Way"
                                },
                                {
                                    "0": "29773",
                                    "1": "Seattle"
                                },
                                {
                                    "0": "30031",
                                    "1": "Albany"
                                },
                                {
                                    "0": "29598",
                                    "1": "San Diego"
                                },
                                {
                                    "0": "30070",
                                    "1": "Idaho Falls"
                                },
                                {
                                    "0": "29627",
                                    "1": "Toronto"
                                },
                                {
                                    "0": "29505",
                                    "1": "North Las Vegas"
                                },
                                {
                                    "0": "29764",
                                    "1": "San Antonio"
                                },
                                {
                                    "0": "29523",
                                    "1": "Houston"
                                },
                                {
                                    "0": "29873",
                                    "1": "Lynnwood"
                                },
                                {
                                    "0": "29911",
                                    "1": "Toronto"
                                },
                                {
                                    "0": "29539",
                                    "1": "Toronto"
                                },
                                {
                                    "0": "29978",
                                    "1": "London"
                                },
                                {
                                    "0": "29654",
                                    "1": "Chicago"
                                },
                                {
                                    "0": "30010",
                                    "1": "Mississauga"
                                },
                                {
                                    "0": "30063",
                                    "1": "El Segundo"
                                },
                                {
                                    "0": "29574",
                                    "1": "Dallas"
                                },
                                {
                                    "0": "29994",
                                    "1": "Toronto"
                                },
                                {
                                    "0": "29590",
                                    "1": "Detroit"
                                },
                                {
                                    "0": "29805",
                                    "1": "Milpitas"
                                },
                                {
                                    "0": "29544",
                                    "1": "Calgary"
                                },
                                {
                                    "0": "29606",
                                    "1": "Everett"
                                },
                                {
                                    "0": "29863",
                                    "1": "Calgary"
                                },
                                {
                                    "0": "29569",
                                    "1": "North Sioux City"
                                },
                                {
                                    "0": "29711",
                                    "1": "Richmond"
                                },
                                {
                                    "0": "29622",
                                    "1": "Tacoma"
                                },
                                {
                                    "0": "29835",
                                    "1": "Beaverton"
                                },
                                {
                                    "0": "29591",
                                    "1": "Saint Louis"
                                },
                                {
                                    "0": "29937",
                                    "1": "Carrollton"
                                },
                                {
                                    "0": "29906",
                                    "1": "Ferguson"
                                },
                                {
                                    "0": "29601",
                                    "1": "Brampton"
                                },
                                {
                                    "0": "30072",
                                    "1": "Wokingham"
                                },
                                {
                                    "0": "29870",
                                    "1": "Montreal"
                                },
                                {
                                    "0": "30064",
                                    "1": "Wenatchee"
                                },
                                {
                                    "0": "29639",
                                    "1": "Toronto"
                                },
                                {
                                    "0": "30018",
                                    "1": "Bothell"
                                },
                                {
                                    "0": "29939",
                                    "1": "Calgary"
                                },
                                {
                                    "0": "29934",
                                    "1": "Calgary"
                                },
                                {
                                    "0": "30033",
                                    "1": "Sandy"
                                },
                                {
                                    "0": "29938",
                                    "1": "Cerritos"
                                },
                                {
                                    "0": "29584",
                                    "1": "Culver City"
                                },
                                {
                                    "0": "30048",
                                    "1": "Edmonton"
                                },
                                {
                                    "0": "29967",
                                    "1": "West Chicago"
                                },
                                {
                                    "0": "29914",
                                    "1": "San Bruno"
                                },
                                {
                                    "0": "30108",
                                    "1": "Toronto"
                                },
                                {
                                    "0": "29918",
                                    "1": "Markham"
                                },
                                {
                                    "0": "29732",
                                    "1": "Corpus Christi"
                                },
                                {
                                    "0": "29615",
                                    "1": "London"
                                },
                                {
                                    "0": "29671",
                                    "1": "Montreal"
                                },
                                {
                                    "0": "29842",
                                    "1": "Scottsdale"
                                },
                                {
                                    "0": "29668",
                                    "1": "Wood Dale"
                                },
                                {
                                    "0": "29915",
                                    "1": "Kirkland"
                                },
                                {
                                    "0": "30024",
                                    "1": "Puyallup"
                                },
                                {
                                    "0": "29499",
                                    "1": "Richmond"
                                },
                                {
                                    "0": "29883",
                                    "1": "Denver"
                                },
                                {
                                    "0": "29931",
                                    "1": "Medford"
                                },
                                {
                                    "0": "29616",
                                    "1": "College Station"
                                },
                                {
                                    "0": "29830",
                                    "1": "Calgary"
                                },
                                {
                                    "0": "29528",
                                    "1": "Southgate"
                                },
                                {
                                    "0": "29557",
                                    "1": "Richmond"
                                },
                                {
                                    "0": "30028",
                                    "1": "Surprise"
                                },
                                {
                                    "0": "29632",
                                    "1": "Woodinville"
                                },
                                {
                                    "0": "29510",
                                    "1": "Nepean"
                                },
                                {
                                    "0": "29683",
                                    "1": "Cheyenne"
                                },
                                {
                                    "0": "29614",
                                    "1": "Richmond"
                                },
                                {
                                    "0": "29988",
                                    "1": "Toronto"
                                },
                                {
                                    "0": "30069",
                                    "1": "Fontana"
                                },
                                {
                                    "0": "29926",
                                    "1": "London"
                                },
                                {
                                    "0": "29903",
                                    "1": "Portland"
                                },
                                {
                                    "0": "29797",
                                    "1": "Weston"
                                },
                                {
                                    "0": "30095",
                                    "1": "Houston"
                                },
                                {
                                    "0": "29506",
                                    "1": "Gilbert"
                                },
                                {
                                    "0": "29548",
                                    "1": "Victoria"
                                },
                                {
                                    "0": "29674",
                                    "1": "Elgin"
                                },
                                {
                                    "0": "29705",
                                    "1": "Etobicoke"
                                },
                                {
                                    "0": "29677",
                                    "1": "Toronto"
                                },
                                {
                                    "0": "29710",
                                    "1": "Fernley"
                                },
                                {
                                    "0": "29944",
                                    "1": "Santa Ana"
                                },
                                {
                                    "0": "29728",
                                    "1": "Riverton"
                                },
                                {
                                    "0": "29936",
                                    "1": "Clackamas"
                                },
                                {
                                    "0": "29734",
                                    "1": "Toronto"
                                },
                                {
                                    "0": "29831",
                                    "1": "Dorval"
                                },
                                {
                                    "0": "29860",
                                    "1": "Oxford"
                                },
                                {
                                    "0": "29567",
                                    "1": "Toronto"
                                },
                                {
                                    "0": "29913",
                                    "1": "Loveland"
                                },
                                {
                                    "0": "29935",
                                    "1": "Salt Lake City"
                                },
                                {
                                    "0": "29953",
                                    "1": "Redmond"
                                },
                                {
                                    "0": "29892",
                                    "1": "Toronto"
                                },
                                {
                                    "0": "29921",
                                    "1": "Beaverton"
                                },
                                {
                                    "0": "29787",
                                    "1": "Kent"
                                },
                                {
                                    "0": "29541",
                                    "1": "Calgary"
                                },
                                {
                                    "0": "29559",
                                    "1": "Bellevue"
                                },
                                {
                                    "0": "29503",
                                    "1": "Montreal"
                                },
                                {
                                    "0": "29810",
                                    "1": "Kent"
                                },
                                {
                                    "0": "29559",
                                    "1": "Bellevue"
                                },
                                {
                                    "0": "29503",
                                    "1": "Montreal"
                                },
                                {
                                    "0": "29900",
                                    "1": "Vancouver"
                                },
                                {
                                    "0": "29649",
                                    "1": "Burnaby"
                                },
                                {
                                    "0": "29991",
                                    "1": "Shelton"
                                },
                                {
                                    "0": "29565",
                                    "1": "Trabuco Canyon"
                                },
                                {
                                    "0": "29908",
                                    "1": "York"
                                },
                                {
                                    "0": "29816",
                                    "1": "Renton"
                                },
                                {
                                    "0": "29757",
                                    "1": "Baldwin Park"
                                },
                                {
                                    "0": "29747",
                                    "1": "Puyallup"
                                },
                                {
                                    "0": "29928",
                                    "1": "Toronto"
                                },
                                {
                                    "0": "29832",
                                    "1": "Aurora"
                                },
                                {
                                    "0": "29611",
                                    "1": "Washougal"
                                },
                                {
                                    "0": "29858",
                                    "1": "Tacoma"
                                },
                                {
                                    "0": "29775",
                                    "1": "Puyallup"
                                },
                                {
                                    "0": "29769",
                                    "1": "Milwaukee"
                                },
                                {
                                    "0": "29857",
                                    "1": "London"
                                },
                                {
                                    "0": "29638",
                                    "1": "Camarillo"
                                },
                                {
                                    "0": "29688",
                                    "1": "Madison Heights"
                                },
                                {
                                    "0": "29629",
                                    "1": "Vancouver"
                                },
                                {
                                    "0": "30112",
                                    "1": "Ellensburg"
                                },
                                {
                                    "0": "29998",
                                    "1": "Santa Monica"
                                },
                                {
                                    "0": "29663",
                                    "1": "Chicago"
                                },
                                {
                                    "0": "29580",
                                    "1": "Seattle"
                                },
                                {
                                    "0": "29583",
                                    "1": "Carol Stream"
                                },
                                {
                                    "0": "29766",
                                    "1": "Richmond"
                                },
                                {
                                    "0": "29889",
                                    "1": "Monrovia"
                                },
                                {
                                    "0": "29785",
                                    "1": "Kanata"
                                },
                                {
                                    "0": "29738",
                                    "1": "Denby"
                                },
                                {
                                    "0": "29608",
                                    "1": "Burnaby"
                                },
                                {
                                    "0": "30111",
                                    "1": "Moline"
                                },
                                {
                                    "0": "29720",
                                    "1": "Ogden"
                                },
                                {
                                    "0": "30005",
                                    "1": "London"
                                },
                                {
                                    "0": "29891",
                                    "1": "Novi"
                                },
                                {
                                    "0": "29653",
                                    "1": "Santa Fe"
                                },
                                {
                                    "0": "30042",
                                    "1": "Richmond"
                                },
                                {
                                    "0": "29599",
                                    "1": "Sandpoint"
                                },
                                {
                                    "0": "29815",
                                    "1": "Fremont"
                                },
                                {
                                    "0": "29535",
                                    "1": "Baytown"
                                },
                                {
                                    "0": "29695",
                                    "1": "Everett"
                                },
                                {
                                    "0": "29942",
                                    "1": "Renton"
                                },
                                {
                                    "0": "29867",
                                    "1": "Puyallup"
                                },
                                {
                                    "0": "29748",
                                    "1": "Rio Rancho"
                                },
                                {
                                    "0": "30029",
                                    "1": "Montreal"
                                },
                                {
                                    "0": "29774",
                                    "1": "Laredo"
                                },
                                {
                                    "0": "29920",
                                    "1": "Fort Worth"
                                },
                                {
                                    "0": "29813",
                                    "1": "Toronto"
                                },
                                {
                                    "0": "29771",
                                    "1": "Salt Lake City"
                                },
                                {
                                    "0": "29662",
                                    "1": "Stockton"
                                },
                                {
                                    "0": "29803",
                                    "1": "Toronto"
                                },
                                {
                                    "0": "30083",
                                    "1": "Mississauga"
                                },
                                {
                                    "0": "29562",
                                    "1": "La Mesa"
                                },
                                {
                                    "0": "29783",
                                    "1": "Longmont"
                                },
                                {
                                    "0": "29645",
                                    "1": "Klamath Falls"
                                },
                                {
                                    "0": "29636",
                                    "1": "Cedar City"
                                },
                                {
                                    "0": "29550",
                                    "1": "Milwaukie"
                                },
                                {
                                    "0": "29558",
                                    "1": "Mississauga"
                                },
                                {
                                    "0": "29943",
                                    "1": "Plano"
                                },
                                {
                                    "0": "29485",
                                    "1": "Van Nuys"
                                },
                                {
                                    "0": "29959",
                                    "1": "Quebec"
                                },
                                {
                                    "0": "29868",
                                    "1": "London"
                                },
                                {
                                    "0": "30047",
                                    "1": "Citrus Heights"
                                },
                                {
                                    "0": "29714",
                                    "1": "Vancouver"
                                },
                                {
                                    "0": "29631",
                                    "1": "Pleasanton"
                                },
                                {
                                    "0": "29755",
                                    "1": "Mississauga"
                                },
                                {
                                    "0": "30016",
                                    "1": "Kingston"
                                },
                                {
                                    "0": "29741",
                                    "1": "Maidenhead"
                                },
                                {
                                    "0": "30098",
                                    "1": "Montreal"
                                },
                                {
                                    "0": "29596",
                                    "1": "Ottawa"
                                },
                                {
                                    "0": "29809",
                                    "1": "San Ramon"
                                },
                                {
                                    "0": "29982",
                                    "1": "Daly City"
                                },
                                {
                                    "0": "29750",
                                    "1": "Ottawa"
                                },
                                {
                                    "0": "29872",
                                    "1": "Jefferson City"
                                },
                                {
                                    "0": "29971",
                                    "1": "Toronto"
                                },
                                {
                                    "0": "29884",
                                    "1": "Chicago"
                                },
                                {
                                    "0": "30107",
                                    "1": "Reno"
                                },
                                {
                                    "0": "29969",
                                    "1": "Toronto"
                                },
                                {
                                    "0": "29930",
                                    "1": "Chicago"
                                },
                                {
                                    "0": "29576",
                                    "1": "Richmond Hill"
                                },
                                {
                                    "0": "29893",
                                    "1": "San Jose"
                                },
                                {
                                    "0": "29946",
                                    "1": "Toronto"
                                },
                                {
                                    "0": "29964",
                                    "1": "Montreal"
                                },
                                {
                                    "0": "29770",
                                    "1": "Burnaby"
                                },
                                {
                                    "0": "29806",
                                    "1": "Billings"
                                },
                                {
                                    "0": "29905",
                                    "1": "Calgary"
                                },
                                {
                                    "0": "29902",
                                    "1": "San Antonio"
                                },
                                {
                                    "0": "29876",
                                    "1": "Hull"
                                },
                                {
                                    "0": "29496",
                                    "1": "Tucson"
                                },
                                {
                                    "0": "29794",
                                    "1": "Calgary"
                                },
                                {
                                    "0": "30118",
                                    "1": "Saint Louis"
                                },
                                {
                                    "0": "29822",
                                    "1": "Montreal"
                                },
                                {
                                    "0": "29571",
                                    "1": "Renton"
                                },
                                {
                                    "0": "29740",
                                    "1": "Brossard"
                                },
                                {
                                    "0": "29730",
                                    "1": "Calgary"
                                },
                                {
                                    "0": "29862",
                                    "1": "Las Vegas"
                                },
                                {
                                    "0": "29919",
                                    "1": "Newark"
                                },
                                {
                                    "0": "29699",
                                    "1": "Burnaby"
                                },
                                {
                                    "0": "29600",
                                    "1": "Midland"
                                },
                                {
                                    "0": "29536",
                                    "1": "Westland"
                                },
                                {
                                    "0": "29489",
                                    "1": "Modesto"
                                },
                                {
                                    "0": "29761",
                                    "1": "Mississauga"
                                },
                                {
                                    "0": "30055",
                                    "1": "Saint Louis"
                                },
                                {
                                    "0": "29855",
                                    "1": "Toronto"
                                },
                                {
                                    "0": "30104",
                                    "1": "London"
                                },
                                {
                                    "0": "29524",
                                    "1": "Saint Ann"
                                },
                                {
                                    "0": "29527",
                                    "1": "Montreal"
                                },
                                {
                                    "0": "30034",
                                    "1": "Clackamas"
                                },
                                {
                                    "0": "29840",
                                    "1": "Toronto"
                                },
                                {
                                    "0": "29709",
                                    "1": "Tigard"
                                },
                                {
                                    "0": "29799",
                                    "1": "Visalia"
                                },
                                {
                                    "0": "29753",
                                    "1": "Everett"
                                },
                                {
                                    "0": "29573",
                                    "1": "Bell Gardens"
                                },
                                {
                                    "0": "30117",
                                    "1": "San Antonio"
                                },
                                {
                                    "0": "30044",
                                    "1": "Berks"
                                },
                                {
                                    "0": "29962",
                                    "1": "Edina"
                                },
                                {
                                    "0": "29689",
                                    "1": "Bellingham"
                                },
                                {
                                    "0": "30058",
                                    "1": "Waterloo"
                                },
                                {
                                    "0": "30012",
                                    "1": "Elk Grove"
                                },
                                {
                                    "0": "30080",
                                    "1": "Kennewick"
                                },
                                {
                                    "0": "30071",
                                    "1": "Issaquah"
                                },
                                {
                                    "0": "29907",
                                    "1": "Sequim"
                                },
                                {
                                    "0": "29898",
                                    "1": "Seattle"
                                },
                                {
                                    "0": "29673",
                                    "1": "San Francisco"
                                },
                                {
                                    "0": "29577",
                                    "1": "Montreal"
                                },
                                {
                                    "0": "29744",
                                    "1": "Phoenix"
                                },
                                {
                                    "0": "30036",
                                    "1": "Scottsdale"
                                },
                                {
                                    "0": "29659",
                                    "1": "San Antonio"
                                },
                                {
                                    "0": "29579",
                                    "1": "Westminster"
                                },
                                {
                                    "0": "29816",
                                    "1": "Renton"
                                },
                                {
                                    "0": "29885",
                                    "1": "Longview"
                                },
                                {
                                    "0": "29772",
                                    "1": "Austin"
                                },
                                {
                                    "0": "29826",
                                    "1": "Bountiful"
                                },
                                {
                                    "0": "30076",
                                    "1": "Parker"
                                },
                                {
                                    "0": "29955",
                                    "1": "Zeeland"
                                },
                                {
                                    "0": "29987",
                                    "1": "Chandler"
                                },
                                {
                                    "0": "30018",
                                    "1": "Bothell"
                                },
                                {
                                    "0": "29956",
                                    "1": "Irving"
                                },
                                {
                                    "0": "29949",
                                    "1": "Sparks"
                                },
                                {
                                    "0": "29954",
                                    "1": "Dallas"
                                },
                                {
                                    "0": "29897",
                                    "1": "Phoenix"
                                },
                                {
                                    "0": "29864",
                                    "1": "Calgary"
                                },
                                {
                                    "0": "29546",
                                    "1": "London"
                                },
                                {
                                    "0": "30105",
                                    "1": "Springfield"
                                },
                                {
                                    "0": "30061",
                                    "1": "Killeen"
                                },
                                {
                                    "0": "29877",
                                    "1": "Englewood"
                                },
                                {
                                    "0": "29881",
                                    "1": "Ottawa"
                                },
                                {
                                    "0": "29789",
                                    "1": "Montreal"
                                },
                                {
                                    "0": "29895",
                                    "1": "Ville De'anjou"
                                },
                                {
                                    "0": "29793",
                                    "1": "Modesto"
                                },
                                {
                                    "0": "30053",
                                    "1": "Kingston"
                                },
                                {
                                    "0": "29980",
                                    "1": "London"
                                },
                                {
                                    "0": "29861",
                                    "1": "Minneapolis"
                                },
                                {
                                    "0": "30067",
                                    "1": "Pnot-Rouge"
                                },
                                {
                                    "0": "29879",
                                    "1": "Etobicoke"
                                },
                                {
                                    "0": "29716",
                                    "1": "Carson"
                                },
                                {
                                    "0": "30000",
                                    "1": "Brossard"
                                },
                                {
                                    "0": "29570",
                                    "1": "Houston"
                                },
                                {
                                    "0": "29641",
                                    "1": "Sand City"
                                },
                                {
                                    "0": "29981",
                                    "1": "Kelso"
                                },
                                {
                                    "0": "29784",
                                    "1": "Camarillo"
                                },
                                {
                                    "0": "29824",
                                    "1": "Montreal"
                                },
                                {
                                    "0": "29950",
                                    "1": "Toronto"
                                },
                                {
                                    "0": "30052",
                                    "1": "San Mateo"
                                },
                                {
                                    "0": "29655",
                                    "1": "Pontiac"
                                },
                                {
                                    "0": "29818",
                                    "1": "Tooele"
                                },
                                {
                                    "0": "29727",
                                    "1": "Hillsboro"
                                },
                                {
                                    "0": "29587",
                                    "1": "London"
                                },
                                {
                                    "0": "29545",
                                    "1": "Bothell"
                                },
                                {
                                    "0": "29717",
                                    "1": "Troutdale"
                                },
                                {
                                    "0": "29651",
                                    "1": "Racine"
                                },
                                {
                                    "0": "29792",
                                    "1": "Humble"
                                },
                                {
                                    "0": "29603",
                                    "1": "Richmond Hill"
                                },
                                {
                                    "0": "29722",
                                    "1": "Toronto"
                                },
                                {
                                    "0": "29992",
                                    "1": "Las Cruces"
                                },
                                {
                                    "0": "30093",
                                    "1": "Toronto"
                                },
                                {
                                    "0": "29847",
                                    "1": "Auburn"
                                },
                                {
                                    "0": "29554",
                                    "1": "Southfield"
                                },
                                {
                                    "0": "29780",
                                    "1": "Barrie"
                                },
                                {
                                    "0": "30030",
                                    "1": "London"
                                },
                                {
                                    "0": "29517",
                                    "1": "Saginaw"
                                },
                                {
                                    "0": "30040",
                                    "1": "Chandler"
                                },
                                {
                                    "0": "29684",
                                    "1": "Saginaw"
                                },
                                {
                                    "0": "29866",
                                    "1": "Dallas"
                                },
                                {
                                    "0": "29983",
                                    "1": "Ottawa"
                                },
                                {
                                    "0": "30037",
                                    "1": "Vancouver"
                                },
                                {
                                    "0": "29957",
                                    "1": "Union City"
                                },
                                {
                                    "0": "29782",
                                    "1": "Duluth"
                                },
                                {
                                    "0": "30087",
                                    "1": "Sainte-Foy"
                                },
                                {
                                    "0": "29605",
                                    "1": "Phoenix"
                                },
                                {
                                    "0": "29644",
                                    "1": "Oxon"
                                },
                                {
                                    "0": "29763",
                                    "1": "Eureka"
                                },
                                {
                                    "0": "29521",
                                    "1": "Las Vegas"
                                },
                                {
                                    "0": "29582",
                                    "1": "Redmond"
                                },
                                {
                                    "0": "29492",
                                    "1": "Kansas City"
                                },
                                {
                                    "0": "29692",
                                    "1": "Saint John"
                                },
                                {
                                    "0": "29952",
                                    "1": "W. York"
                                },
                                {
                                    "0": "29713",
                                    "1": "W. York"
                                },
                                {
                                    "0": "29852",
                                    "1": "Outremont"
                                },
                                {
                                    "0": "30113",
                                    "1": "West Sussex"
                                },
                                {
                                    "0": "29990",
                                    "1": "Lancaster"
                                },
                                {
                                    "0": "29924",
                                    "1": "Greeley"
                                },
                                {
                                    "0": "29848",
                                    "1": "Mosinee"
                                },
                                {
                                    "0": "29861",
                                    "1": "Minneapolis"
                                },
                                {
                                    "0": "29834",
                                    "1": "El Segundo"
                                },
                                {
                                    "0": "29568",
                                    "1": "El Segundo"
                                },
                                {
                                    "0": "29702",
                                    "1": "Garland"
                                },
                                {
                                    "0": "30074",
                                    "1": "Sillery"
                                },
                                {
                                    "0": "29531",
                                    "1": "Las Vegas"
                                },
                                {
                                    "0": "29497",
                                    "1": "Casper"
                                },
                                {
                                    "0": "29618",
                                    "1": "Bracknell"
                                },
                                {
                                    "0": "29778",
                                    "1": "Reading"
                                },
                                {
                                    "0": "29560",
                                    "1": "Escondido"
                                },
                                {
                                    "0": "29686",
                                    "1": "Barstow"
                                },
                                {
                                    "0": "30032",
                                    "1": "Branson"
                                },
                                {
                                    "0": "29739",
                                    "1": "Mesa"
                                },
                                {
                                    "0": "29733",
                                    "1": "Tucson"
                                },
                                {
                                    "0": "29508",
                                    "1": "Sugar Land"
                                },
                                {
                                    "0": "29522",
                                    "1": "Culver City"
                                },
                                {
                                    "0": "30004",
                                    "1": "Cheyenne"
                                },
                                {
                                    "0": "29796",
                                    "1": "Liverpool"
                                },
                                {
                                    "0": "29941",
                                    "1": "Milton Keynes"
                                },
                                {
                                    "0": "29922",
                                    "1": "Milton Keynes"
                                },
                                {
                                    "0": "29800",
                                    "1": "Portland"
                                },
                                {
                                    "0": "29925",
                                    "1": "North Bend"
                                },
                                {
                                    "0": "29788",
                                    "1": "Hanford"
                                },
                                {
                                    "0": "29588",
                                    "1": "Great Falls"
                                },
                                {
                                    "0": "30003",
                                    "1": "Woodbury"
                                },
                                {
                                    "0": "29533",
                                    "1": "Holland"
                                },
                                {
                                    "0": "29765",
                                    "1": "Monroe"
                                },
                                {
                                    "0": "29703",
                                    "1": "Ontario"
                                },
                                {
                                    "0": "30102",
                                    "1": "Cambridge"
                                },
                                {
                                    "0": "30008",
                                    "1": "Johnson Creek"
                                },
                                {
                                    "0": "29827",
                                    "1": "Odessa"
                                },
                                {
                                    "0": "30109",
                                    "1": "Howell"
                                },
                                {
                                    "0": "29612",
                                    "1": "High Wycombe"
                                },
                                {
                                    "0": "29853",
                                    "1": "Lake Elsinore"
                                },
                                {
                                    "0": "29758",
                                    "1": "Cedar Park"
                                },
                                {
                                    "0": "29623",
                                    "1": "Lakewood"
                                },
                                {
                                    "0": "30045",
                                    "1": "Salem"
                                },
                                {
                                    "0": "29742",
                                    "1": "Chehalis"
                                },
                                {
                                    "0": "29490",
                                    "1": "Lewiston"
                                },
                                {
                                    "0": "30106",
                                    "1": "Arlington"
                                },
                                {
                                    "0": "30035",
                                    "1": "La Marque"
                                },
                                {
                                    "0": "30100",
                                    "1": "Orange"
                                },
                                {
                                    "0": "29859",
                                    "1": "San Antonio"
                                },
                                {
                                    "0": "29737",
                                    "1": "Medford"
                                },
                                {
                                    "0": "29819",
                                    "1": "Medford"
                                },
                                {
                                    "0": "29696",
                                    "1": "Upland"
                                },
                                {
                                    "0": "30094",
                                    "1": "Sacramento"
                                },
                                {
                                    "0": "30025",
                                    "1": "Abingdon"
                                },
                                {
                                    "0": "30007",
                                    "1": "Quebec"
                                },
                                {
                                    "0": "29910",
                                    "1": "Edmonton"
                                },
                                {
                                    "0": "29494",
                                    "1": "Toronto"
                                },
                                {
                                    "0": "29843",
                                    "1": "Bellingham"
                                },
                                {
                                    "0": "29593",
                                    "1": "Chicago"
                                },
                                {
                                    "0": "29643",
                                    "1": "Spokane"
                                },
                                {
                                    "0": "29850",
                                    "1": "Houston"
                                },
                                {
                                    "0": "30090",
                                    "1": "Round Rock"
                                },
                                {
                                    "0": "30116",
                                    "1": "Ontario"
                                },
                                {
                                    "0": "30089",
                                    "1": "Oxnard"
                                },
                                {
                                    "0": "29620",
                                    "1": "Winnipeg"
                                },
                                {
                                    "0": "29948",
                                    "1": "Dallas"
                                },
                                {
                                    "0": "29901",
                                    "1": "Gilroy"
                                },
                                {
                                    "0": "30050",
                                    "1": "London"
                                },
                                {
                                    "0": "29985",
                                    "1": "London"
                                },
                                {
                                    "0": "30022",
                                    "1": "El Cajon"
                                },
                                {
                                    "0": "29682",
                                    "1": "Redlands"
                                },
                                {
                                    "0": "29932",
                                    "1": "Gloucestershire"
                                },
                                {
                                    "0": "29975",
                                    "1": "Santa Ana"
                                },
                                {
                                    "0": "29553",
                                    "1": "Dallas"
                                },
                                {
                                    "0": "29954",
                                    "1": "Dallas"
                                },
                                {
                                    "0": "29666",
                                    "1": "Vancouver"
                                },
                                {
                                    "0": "29973",
                                    "1": "Port Huron"
                                },
                                {
                                    "0": "29897",
                                    "1": "Phoenix"
                                },
                                {
                                    "0": "29929",
                                    "1": "Fullerton"
                                },
                                {
                                    "0": "29566",
                                    "1": "Redford"
                                },
                                {
                                    "0": "29743",
                                    "1": "Norridge"
                                },
                                {
                                    "0": "29660",
                                    "1": "Sherman Oaks"
                                },
                                {
                                    "0": "29511",
                                    "1": "Loveland"
                                },
                                {
                                    "0": "29617",
                                    "1": "Lacey"
                                },
                                {
                                    "0": "30056",
                                    "1": "San Ysidro"
                                },
                                {
                                    "0": "29708",
                                    "1": "Round Rock"
                                },
                                {
                                    "0": "29776",
                                    "1": "Warrington"
                                },
                                {
                                    "0": "29865",
                                    "1": "Simi Valley"
                                },
                                {
                                    "0": "29532",
                                    "1": "Missoula"
                                },
                                {
                                    "0": "29690",
                                    "1": "Park City"
                                },
                                {
                                    "0": "30039",
                                    "1": "Tuscola"
                                },
                                {
                                    "0": "29974",
                                    "1": "Saint Louis"
                                },
                                {
                                    "0": "29807",
                                    "1": "Chalk Riber"
                                },
                                {
                                    "0": "30110",
                                    "1": "San Jose"
                                },
                                {
                                    "0": "30115",
                                    "1": "Waterloo"
                                },
                                {
                                    "0": "29680",
                                    "1": "Surrey"
                                },
                                {
                                    "0": "30021",
                                    "1": "Mississauga"
                                },
                                {
                                    "0": "29530",
                                    "1": "Ottawa"
                                },
                                {
                                    "0": "29515",
                                    "1": "Calgary"
                                },
                                {
                                    "0": "29486",
                                    "1": "Branch"
                                },
                                {
                                    "0": "29525",
                                    "1": "City Of Commerce"
                                },
                                {
                                    "0": "29650",
                                    "1": "Whittier"
                                },
                                {
                                    "0": "30051",
                                    "1": "Kelso"
                                },
                                {
                                    "0": "29871",
                                    "1": "Canoga Park"
                                },
                                {
                                    "0": "30046",
                                    "1": "Mesquite"
                                },
                                {
                                    "0": "29851",
                                    "1": "Birmingham"
                                },
                                {
                                    "0": "29781",
                                    "1": "Alhambra"
                                },
                                {
                                    "0": "29874",
                                    "1": "Basingstoke Hants"
                                },
                                {
                                    "0": "29635",
                                    "1": "Kansas City"
                                },
                                {
                                    "0": "29736",
                                    "1": "Woolston"
                                },
                                {
                                    "0": "29585",
                                    "1": "Portland"
                                },
                                {
                                    "0": "29768",
                                    "1": "Irvine"
                                },
                                {
                                    "0": "29904",
                                    "1": "Berkshire"
                                },
                                {
                                    "0": "29502",
                                    "1": "Rock Springs"
                                },
                                {
                                    "0": "30019",
                                    "1": "Milton Keynes"
                                }
                            ]
                        },
                        "text/html": "<table><tr><th>CustomerID</th><th>City</th></tr><tr><td>29698</td><td>Burnaby</td></tr><tr><td>29997</td><td>Seattle</td></tr><tr><td>29854</td><td>Joliet</td></tr><tr><td>30027</td><td>Oxnard</td></tr><tr><td>30023</td><td>Peoria</td></tr><tr><td>29637</td><td>Irving</td></tr><tr><td>29545</td><td>Bothell</td></tr><tr><td>29890</td><td>Port Orchard</td></tr><tr><td>29772</td><td>Austin</td></tr><tr><td>29883</td><td>Denver</td></tr><tr><td>29625</td><td>Montreal</td></tr><tr><td>29646</td><td>Garland</td></tr><tr><td>29719</td><td>Federal Way</td></tr><tr><td>29773</td><td>Seattle</td></tr><tr><td>30031</td><td>Albany</td></tr><tr><td>29598</td><td>San Diego</td></tr><tr><td>30070</td><td>Idaho Falls</td></tr><tr><td>29627</td><td>Toronto</td></tr><tr><td>29505</td><td>North Las Vegas</td></tr><tr><td>29764</td><td>San Antonio</td></tr><tr><td>29523</td><td>Houston</td></tr><tr><td>29873</td><td>Lynnwood</td></tr><tr><td>29911</td><td>Toronto</td></tr><tr><td>29539</td><td>Toronto</td></tr><tr><td>29978</td><td>London</td></tr><tr><td>29654</td><td>Chicago</td></tr><tr><td>30010</td><td>Mississauga</td></tr><tr><td>30063</td><td>El Segundo</td></tr><tr><td>29574</td><td>Dallas</td></tr><tr><td>29994</td><td>Toronto</td></tr><tr><td>29590</td><td>Detroit</td></tr><tr><td>29805</td><td>Milpitas</td></tr><tr><td>29544</td><td>Calgary</td></tr><tr><td>29606</td><td>Everett</td></tr><tr><td>29863</td><td>Calgary</td></tr><tr><td>29569</td><td>North Sioux City</td></tr><tr><td>29711</td><td>Richmond</td></tr><tr><td>29622</td><td>Tacoma</td></tr><tr><td>29835</td><td>Beaverton</td></tr><tr><td>29591</td><td>Saint Louis</td></tr><tr><td>29937</td><td>Carrollton</td></tr><tr><td>29906</td><td>Ferguson</td></tr><tr><td>29601</td><td>Brampton</td></tr><tr><td>30072</td><td>Wokingham</td></tr><tr><td>29870</td><td>Montreal</td></tr><tr><td>30064</td><td>Wenatchee</td></tr><tr><td>29639</td><td>Toronto</td></tr><tr><td>30018</td><td>Bothell</td></tr><tr><td>29939</td><td>Calgary</td></tr><tr><td>29934</td><td>Calgary</td></tr><tr><td>30033</td><td>Sandy</td></tr><tr><td>29938</td><td>Cerritos</td></tr><tr><td>29584</td><td>Culver City</td></tr><tr><td>30048</td><td>Edmonton</td></tr><tr><td>29967</td><td>West Chicago</td></tr><tr><td>29914</td><td>San Bruno</td></tr><tr><td>30108</td><td>Toronto</td></tr><tr><td>29918</td><td>Markham</td></tr><tr><td>29732</td><td>Corpus Christi</td></tr><tr><td>29615</td><td>London</td></tr><tr><td>29671</td><td>Montreal</td></tr><tr><td>29842</td><td>Scottsdale</td></tr><tr><td>29668</td><td>Wood Dale</td></tr><tr><td>29915</td><td>Kirkland</td></tr><tr><td>30024</td><td>Puyallup</td></tr><tr><td>29499</td><td>Richmond</td></tr><tr><td>29883</td><td>Denver</td></tr><tr><td>29931</td><td>Medford</td></tr><tr><td>29616</td><td>College Station</td></tr><tr><td>29830</td><td>Calgary</td></tr><tr><td>29528</td><td>Southgate</td></tr><tr><td>29557</td><td>Richmond</td></tr><tr><td>30028</td><td>Surprise</td></tr><tr><td>29632</td><td>Woodinville</td></tr><tr><td>29510</td><td>Nepean</td></tr><tr><td>29683</td><td>Cheyenne</td></tr><tr><td>29614</td><td>Richmond</td></tr><tr><td>29988</td><td>Toronto</td></tr><tr><td>30069</td><td>Fontana</td></tr><tr><td>29926</td><td>London</td></tr><tr><td>29903</td><td>Portland</td></tr><tr><td>29797</td><td>Weston</td></tr><tr><td>30095</td><td>Houston</td></tr><tr><td>29506</td><td>Gilbert</td></tr><tr><td>29548</td><td>Victoria</td></tr><tr><td>29674</td><td>Elgin</td></tr><tr><td>29705</td><td>Etobicoke</td></tr><tr><td>29677</td><td>Toronto</td></tr><tr><td>29710</td><td>Fernley</td></tr><tr><td>29944</td><td>Santa Ana</td></tr><tr><td>29728</td><td>Riverton</td></tr><tr><td>29936</td><td>Clackamas</td></tr><tr><td>29734</td><td>Toronto</td></tr><tr><td>29831</td><td>Dorval</td></tr><tr><td>29860</td><td>Oxford</td></tr><tr><td>29567</td><td>Toronto</td></tr><tr><td>29913</td><td>Loveland</td></tr><tr><td>29935</td><td>Salt Lake City</td></tr><tr><td>29953</td><td>Redmond</td></tr><tr><td>29892</td><td>Toronto</td></tr><tr><td>29921</td><td>Beaverton</td></tr><tr><td>29787</td><td>Kent</td></tr><tr><td>29541</td><td>Calgary</td></tr><tr><td>29559</td><td>Bellevue</td></tr><tr><td>29503</td><td>Montreal</td></tr><tr><td>29810</td><td>Kent</td></tr><tr><td>29559</td><td>Bellevue</td></tr><tr><td>29503</td><td>Montreal</td></tr><tr><td>29900</td><td>Vancouver</td></tr><tr><td>29649</td><td>Burnaby</td></tr><tr><td>29991</td><td>Shelton</td></tr><tr><td>29565</td><td>Trabuco Canyon</td></tr><tr><td>29908</td><td>York</td></tr><tr><td>29816</td><td>Renton</td></tr><tr><td>29757</td><td>Baldwin Park</td></tr><tr><td>29747</td><td>Puyallup</td></tr><tr><td>29928</td><td>Toronto</td></tr><tr><td>29832</td><td>Aurora</td></tr><tr><td>29611</td><td>Washougal</td></tr><tr><td>29858</td><td>Tacoma</td></tr><tr><td>29775</td><td>Puyallup</td></tr><tr><td>29769</td><td>Milwaukee</td></tr><tr><td>29857</td><td>London</td></tr><tr><td>29638</td><td>Camarillo</td></tr><tr><td>29688</td><td>Madison Heights</td></tr><tr><td>29629</td><td>Vancouver</td></tr><tr><td>30112</td><td>Ellensburg</td></tr><tr><td>29998</td><td>Santa Monica</td></tr><tr><td>29663</td><td>Chicago</td></tr><tr><td>29580</td><td>Seattle</td></tr><tr><td>29583</td><td>Carol Stream</td></tr><tr><td>29766</td><td>Richmond</td></tr><tr><td>29889</td><td>Monrovia</td></tr><tr><td>29785</td><td>Kanata</td></tr><tr><td>29738</td><td>Denby</td></tr><tr><td>29608</td><td>Burnaby</td></tr><tr><td>30111</td><td>Moline</td></tr><tr><td>29720</td><td>Ogden</td></tr><tr><td>30005</td><td>London</td></tr><tr><td>29891</td><td>Novi</td></tr><tr><td>29653</td><td>Santa Fe</td></tr><tr><td>30042</td><td>Richmond</td></tr><tr><td>29599</td><td>Sandpoint</td></tr><tr><td>29815</td><td>Fremont</td></tr><tr><td>29535</td><td>Baytown</td></tr><tr><td>29695</td><td>Everett</td></tr><tr><td>29942</td><td>Renton</td></tr><tr><td>29867</td><td>Puyallup</td></tr><tr><td>29748</td><td>Rio Rancho</td></tr><tr><td>30029</td><td>Montreal</td></tr><tr><td>29774</td><td>Laredo</td></tr><tr><td>29920</td><td>Fort Worth</td></tr><tr><td>29813</td><td>Toronto</td></tr><tr><td>29771</td><td>Salt Lake City</td></tr><tr><td>29662</td><td>Stockton</td></tr><tr><td>29803</td><td>Toronto</td></tr><tr><td>30083</td><td>Mississauga</td></tr><tr><td>29562</td><td>La Mesa</td></tr><tr><td>29783</td><td>Longmont</td></tr><tr><td>29645</td><td>Klamath Falls</td></tr><tr><td>29636</td><td>Cedar City</td></tr><tr><td>29550</td><td>Milwaukie</td></tr><tr><td>29558</td><td>Mississauga</td></tr><tr><td>29943</td><td>Plano</td></tr><tr><td>29485</td><td>Van Nuys</td></tr><tr><td>29959</td><td>Quebec</td></tr><tr><td>29868</td><td>London</td></tr><tr><td>30047</td><td>Citrus Heights</td></tr><tr><td>29714</td><td>Vancouver</td></tr><tr><td>29631</td><td>Pleasanton</td></tr><tr><td>29755</td><td>Mississauga</td></tr><tr><td>30016</td><td>Kingston</td></tr><tr><td>29741</td><td>Maidenhead</td></tr><tr><td>30098</td><td>Montreal</td></tr><tr><td>29596</td><td>Ottawa</td></tr><tr><td>29809</td><td>San Ramon</td></tr><tr><td>29982</td><td>Daly City</td></tr><tr><td>29750</td><td>Ottawa</td></tr><tr><td>29872</td><td>Jefferson City</td></tr><tr><td>29971</td><td>Toronto</td></tr><tr><td>29884</td><td>Chicago</td></tr><tr><td>30107</td><td>Reno</td></tr><tr><td>29969</td><td>Toronto</td></tr><tr><td>29930</td><td>Chicago</td></tr><tr><td>29576</td><td>Richmond Hill</td></tr><tr><td>29893</td><td>San Jose</td></tr><tr><td>29946</td><td>Toronto</td></tr><tr><td>29964</td><td>Montreal</td></tr><tr><td>29770</td><td>Burnaby</td></tr><tr><td>29806</td><td>Billings</td></tr><tr><td>29905</td><td>Calgary</td></tr><tr><td>29902</td><td>San Antonio</td></tr><tr><td>29876</td><td>Hull</td></tr><tr><td>29496</td><td>Tucson</td></tr><tr><td>29794</td><td>Calgary</td></tr><tr><td>30118</td><td>Saint Louis</td></tr><tr><td>29822</td><td>Montreal</td></tr><tr><td>29571</td><td>Renton</td></tr><tr><td>29740</td><td>Brossard</td></tr><tr><td>29730</td><td>Calgary</td></tr><tr><td>29862</td><td>Las Vegas</td></tr><tr><td>29919</td><td>Newark</td></tr><tr><td>29699</td><td>Burnaby</td></tr><tr><td>29600</td><td>Midland</td></tr><tr><td>29536</td><td>Westland</td></tr><tr><td>29489</td><td>Modesto</td></tr><tr><td>29761</td><td>Mississauga</td></tr><tr><td>30055</td><td>Saint Louis</td></tr><tr><td>29855</td><td>Toronto</td></tr><tr><td>30104</td><td>London</td></tr><tr><td>29524</td><td>Saint Ann</td></tr><tr><td>29527</td><td>Montreal</td></tr><tr><td>30034</td><td>Clackamas</td></tr><tr><td>29840</td><td>Toronto</td></tr><tr><td>29709</td><td>Tigard</td></tr><tr><td>29799</td><td>Visalia</td></tr><tr><td>29753</td><td>Everett</td></tr><tr><td>29573</td><td>Bell Gardens</td></tr><tr><td>30117</td><td>San Antonio</td></tr><tr><td>30044</td><td>Berks</td></tr><tr><td>29962</td><td>Edina</td></tr><tr><td>29689</td><td>Bellingham</td></tr><tr><td>30058</td><td>Waterloo</td></tr><tr><td>30012</td><td>Elk Grove</td></tr><tr><td>30080</td><td>Kennewick</td></tr><tr><td>30071</td><td>Issaquah</td></tr><tr><td>29907</td><td>Sequim</td></tr><tr><td>29898</td><td>Seattle</td></tr><tr><td>29673</td><td>San Francisco</td></tr><tr><td>29577</td><td>Montreal</td></tr><tr><td>29744</td><td>Phoenix</td></tr><tr><td>30036</td><td>Scottsdale</td></tr><tr><td>29659</td><td>San Antonio</td></tr><tr><td>29579</td><td>Westminster</td></tr><tr><td>29816</td><td>Renton</td></tr><tr><td>29885</td><td>Longview</td></tr><tr><td>29772</td><td>Austin</td></tr><tr><td>29826</td><td>Bountiful</td></tr><tr><td>30076</td><td>Parker</td></tr><tr><td>29955</td><td>Zeeland</td></tr><tr><td>29987</td><td>Chandler</td></tr><tr><td>30018</td><td>Bothell</td></tr><tr><td>29956</td><td>Irving</td></tr><tr><td>29949</td><td>Sparks</td></tr><tr><td>29954</td><td>Dallas</td></tr><tr><td>29897</td><td>Phoenix</td></tr><tr><td>29864</td><td>Calgary</td></tr><tr><td>29546</td><td>London</td></tr><tr><td>30105</td><td>Springfield</td></tr><tr><td>30061</td><td>Killeen</td></tr><tr><td>29877</td><td>Englewood</td></tr><tr><td>29881</td><td>Ottawa</td></tr><tr><td>29789</td><td>Montreal</td></tr><tr><td>29895</td><td>Ville De'anjou</td></tr><tr><td>29793</td><td>Modesto</td></tr><tr><td>30053</td><td>Kingston</td></tr><tr><td>29980</td><td>London</td></tr><tr><td>29861</td><td>Minneapolis</td></tr><tr><td>30067</td><td>Pnot-Rouge</td></tr><tr><td>29879</td><td>Etobicoke</td></tr><tr><td>29716</td><td>Carson</td></tr><tr><td>30000</td><td>Brossard</td></tr><tr><td>29570</td><td>Houston</td></tr><tr><td>29641</td><td>Sand City</td></tr><tr><td>29981</td><td>Kelso</td></tr><tr><td>29784</td><td>Camarillo</td></tr><tr><td>29824</td><td>Montreal</td></tr><tr><td>29950</td><td>Toronto</td></tr><tr><td>30052</td><td>San Mateo</td></tr><tr><td>29655</td><td>Pontiac</td></tr><tr><td>29818</td><td>Tooele</td></tr><tr><td>29727</td><td>Hillsboro</td></tr><tr><td>29587</td><td>London</td></tr><tr><td>29545</td><td>Bothell</td></tr><tr><td>29717</td><td>Troutdale</td></tr><tr><td>29651</td><td>Racine</td></tr><tr><td>29792</td><td>Humble</td></tr><tr><td>29603</td><td>Richmond Hill</td></tr><tr><td>29722</td><td>Toronto</td></tr><tr><td>29992</td><td>Las Cruces</td></tr><tr><td>30093</td><td>Toronto</td></tr><tr><td>29847</td><td>Auburn</td></tr><tr><td>29554</td><td>Southfield</td></tr><tr><td>29780</td><td>Barrie</td></tr><tr><td>30030</td><td>London</td></tr><tr><td>29517</td><td>Saginaw</td></tr><tr><td>30040</td><td>Chandler</td></tr><tr><td>29684</td><td>Saginaw</td></tr><tr><td>29866</td><td>Dallas</td></tr><tr><td>29983</td><td>Ottawa</td></tr><tr><td>30037</td><td>Vancouver</td></tr><tr><td>29957</td><td>Union City</td></tr><tr><td>29782</td><td>Duluth</td></tr><tr><td>30087</td><td>Sainte-Foy</td></tr><tr><td>29605</td><td>Phoenix</td></tr><tr><td>29644</td><td>Oxon</td></tr><tr><td>29763</td><td>Eureka</td></tr><tr><td>29521</td><td>Las Vegas</td></tr><tr><td>29582</td><td>Redmond</td></tr><tr><td>29492</td><td>Kansas City</td></tr><tr><td>29692</td><td>Saint John</td></tr><tr><td>29952</td><td>W. York</td></tr><tr><td>29713</td><td>W. York</td></tr><tr><td>29852</td><td>Outremont</td></tr><tr><td>30113</td><td>West Sussex</td></tr><tr><td>29990</td><td>Lancaster</td></tr><tr><td>29924</td><td>Greeley</td></tr><tr><td>29848</td><td>Mosinee</td></tr><tr><td>29861</td><td>Minneapolis</td></tr><tr><td>29834</td><td>El Segundo</td></tr><tr><td>29568</td><td>El Segundo</td></tr><tr><td>29702</td><td>Garland</td></tr><tr><td>30074</td><td>Sillery</td></tr><tr><td>29531</td><td>Las Vegas</td></tr><tr><td>29497</td><td>Casper</td></tr><tr><td>29618</td><td>Bracknell</td></tr><tr><td>29778</td><td>Reading</td></tr><tr><td>29560</td><td>Escondido</td></tr><tr><td>29686</td><td>Barstow</td></tr><tr><td>30032</td><td>Branson</td></tr><tr><td>29739</td><td>Mesa</td></tr><tr><td>29733</td><td>Tucson</td></tr><tr><td>29508</td><td>Sugar Land</td></tr><tr><td>29522</td><td>Culver City</td></tr><tr><td>30004</td><td>Cheyenne</td></tr><tr><td>29796</td><td>Liverpool</td></tr><tr><td>29941</td><td>Milton Keynes</td></tr><tr><td>29922</td><td>Milton Keynes</td></tr><tr><td>29800</td><td>Portland</td></tr><tr><td>29925</td><td>North Bend</td></tr><tr><td>29788</td><td>Hanford</td></tr><tr><td>29588</td><td>Great Falls</td></tr><tr><td>30003</td><td>Woodbury</td></tr><tr><td>29533</td><td>Holland</td></tr><tr><td>29765</td><td>Monroe</td></tr><tr><td>29703</td><td>Ontario</td></tr><tr><td>30102</td><td>Cambridge</td></tr><tr><td>30008</td><td>Johnson Creek</td></tr><tr><td>29827</td><td>Odessa</td></tr><tr><td>30109</td><td>Howell</td></tr><tr><td>29612</td><td>High Wycombe</td></tr><tr><td>29853</td><td>Lake Elsinore</td></tr><tr><td>29758</td><td>Cedar Park</td></tr><tr><td>29623</td><td>Lakewood</td></tr><tr><td>30045</td><td>Salem</td></tr><tr><td>29742</td><td>Chehalis</td></tr><tr><td>29490</td><td>Lewiston</td></tr><tr><td>30106</td><td>Arlington</td></tr><tr><td>30035</td><td>La Marque</td></tr><tr><td>30100</td><td>Orange</td></tr><tr><td>29859</td><td>San Antonio</td></tr><tr><td>29737</td><td>Medford</td></tr><tr><td>29819</td><td>Medford</td></tr><tr><td>29696</td><td>Upland</td></tr><tr><td>30094</td><td>Sacramento</td></tr><tr><td>30025</td><td>Abingdon</td></tr><tr><td>30007</td><td>Quebec</td></tr><tr><td>29910</td><td>Edmonton</td></tr><tr><td>29494</td><td>Toronto</td></tr><tr><td>29843</td><td>Bellingham</td></tr><tr><td>29593</td><td>Chicago</td></tr><tr><td>29643</td><td>Spokane</td></tr><tr><td>29850</td><td>Houston</td></tr><tr><td>30090</td><td>Round Rock</td></tr><tr><td>30116</td><td>Ontario</td></tr><tr><td>30089</td><td>Oxnard</td></tr><tr><td>29620</td><td>Winnipeg</td></tr><tr><td>29948</td><td>Dallas</td></tr><tr><td>29901</td><td>Gilroy</td></tr><tr><td>30050</td><td>London</td></tr><tr><td>29985</td><td>London</td></tr><tr><td>30022</td><td>El Cajon</td></tr><tr><td>29682</td><td>Redlands</td></tr><tr><td>29932</td><td>Gloucestershire</td></tr><tr><td>29975</td><td>Santa Ana</td></tr><tr><td>29553</td><td>Dallas</td></tr><tr><td>29954</td><td>Dallas</td></tr><tr><td>29666</td><td>Vancouver</td></tr><tr><td>29973</td><td>Port Huron</td></tr><tr><td>29897</td><td>Phoenix</td></tr><tr><td>29929</td><td>Fullerton</td></tr><tr><td>29566</td><td>Redford</td></tr><tr><td>29743</td><td>Norridge</td></tr><tr><td>29660</td><td>Sherman Oaks</td></tr><tr><td>29511</td><td>Loveland</td></tr><tr><td>29617</td><td>Lacey</td></tr><tr><td>30056</td><td>San Ysidro</td></tr><tr><td>29708</td><td>Round Rock</td></tr><tr><td>29776</td><td>Warrington</td></tr><tr><td>29865</td><td>Simi Valley</td></tr><tr><td>29532</td><td>Missoula</td></tr><tr><td>29690</td><td>Park City</td></tr><tr><td>30039</td><td>Tuscola</td></tr><tr><td>29974</td><td>Saint Louis</td></tr><tr><td>29807</td><td>Chalk Riber</td></tr><tr><td>30110</td><td>San Jose</td></tr><tr><td>30115</td><td>Waterloo</td></tr><tr><td>29680</td><td>Surrey</td></tr><tr><td>30021</td><td>Mississauga</td></tr><tr><td>29530</td><td>Ottawa</td></tr><tr><td>29515</td><td>Calgary</td></tr><tr><td>29486</td><td>Branch</td></tr><tr><td>29525</td><td>City Of Commerce</td></tr><tr><td>29650</td><td>Whittier</td></tr><tr><td>30051</td><td>Kelso</td></tr><tr><td>29871</td><td>Canoga Park</td></tr><tr><td>30046</td><td>Mesquite</td></tr><tr><td>29851</td><td>Birmingham</td></tr><tr><td>29781</td><td>Alhambra</td></tr><tr><td>29874</td><td>Basingstoke Hants</td></tr><tr><td>29635</td><td>Kansas City</td></tr><tr><td>29736</td><td>Woolston</td></tr><tr><td>29585</td><td>Portland</td></tr><tr><td>29768</td><td>Irvine</td></tr><tr><td>29904</td><td>Berkshire</td></tr><tr><td>29502</td><td>Rock Springs</td></tr><tr><td>30019</td><td>Milton Keynes</td></tr></table>"
                    }
                }
            ],
            "execution_count": 3
        },
        {
            "cell_type": "code",
            "source": [
                "-- Display SalesRevenue by StateProvince and City\n",
                "SELECT ca.StateProvince, ca.City, ISNULL(SUM(soh.TotalDue), 0.0) AS SalesRevenue\n",
                "FROM SalesLT.vCustomerAddress as ca \n",
                "LEFT JOIN SalesLT.SalesOrderHeader as soh \n",
                "ON ca.CustomerID = soh.CustomerID\n",
                "GROUP BY ca.StateProvince, ca.City\n",
                "ORDER BY ca.StateProvince, ca.City"
            ],
            "metadata": {
                "azdata_cell_guid": "5934e08d-83de-4b8d-bc6d-f1542f99a5cf",
                "tags": []
            },
            "outputs": [
                {
                    "output_type": "display_data",
                    "data": {
                        "text/html": "Warning: Null value is eliminated by an aggregate or other SET operation."
                    },
                    "metadata": {}
                },
                {
                    "output_type": "display_data",
                    "data": {
                        "text/html": "(258 rows affected)"
                    },
                    "metadata": {}
                },
                {
                    "output_type": "display_data",
                    "data": {
                        "text/html": "Total execution time: 00:00:00.025"
                    },
                    "metadata": {}
                },
                {
                    "output_type": "execute_result",
                    "metadata": {},
                    "execution_count": 4,
                    "data": {
                        "application/vnd.dataresource+json": {
                            "schema": {
                                "fields": [
                                    {
                                        "name": "StateProvince"
                                    },
                                    {
                                        "name": "City"
                                    },
                                    {
                                        "name": "SalesRevenue"
                                    }
                                ]
                            },
                            "data": [
                                {
                                    "0": "Alberta",
                                    "1": "Calgary",
                                    "2": "0.0000"
                                },
                                {
                                    "0": "Alberta",
                                    "1": "Edmonton",
                                    "2": "0.0000"
                                },
                                {
                                    "0": "Arizona",
                                    "1": "Chandler",
                                    "2": "0.0000"
                                },
                                {
                                    "0": "Arizona",
                                    "1": "Gilbert",
                                    "2": "0.0000"
                                },
                                {
                                    "0": "Arizona",
                                    "1": "Mesa",
                                    "2": "0.0000"
                                },
                                {
                                    "0": "Arizona",
                                    "1": "Phoenix",
                                    "2": "0.0000"
                                },
                                {
                                    "0": "Arizona",
                                    "1": "Scottsdale",
                                    "2": "0.0000"
                                },
                                {
                                    "0": "Arizona",
                                    "1": "Surprise",
                                    "2": "0.0000"
                                },
                                {
                                    "0": "Arizona",
                                    "1": "Tucson",
                                    "2": "0.0000"
                                },
                                {
                                    "0": "British Columbia",
                                    "1": "Burnaby",
                                    "2": "0.0000"
                                },
                                {
                                    "0": "British Columbia",
                                    "1": "Richmond",
                                    "2": "0.0000"
                                },
                                {
                                    "0": "British Columbia",
                                    "1": "Surrey",
                                    "2": "0.0000"
                                },
                                {
                                    "0": "British Columbia",
                                    "1": "Vancouver",
                                    "2": "0.0000"
                                },
                                {
                                    "0": "British Columbia",
                                    "1": "Victoria",
                                    "2": "0.0000"
                                },
                                {
                                    "0": "Brunswick",
                                    "1": "Saint John",
                                    "2": "0.0000"
                                },
                                {
                                    "0": "California",
                                    "1": "Alhambra",
                                    "2": "117.7276"
                                },
                                {
                                    "0": "California",
                                    "1": "Auburn",
                                    "2": "972.7850"
                                },
                                {
                                    "0": "California",
                                    "1": "Baldwin Park",
                                    "2": "0.0000"
                                },
                                {
                                    "0": "California",
                                    "1": "Barstow",
                                    "2": "0.0000"
                                },
                                {
                                    "0": "California",
                                    "1": "Bell Gardens",
                                    "2": "0.0000"
                                },
                                {
                                    "0": "California",
                                    "1": "Camarillo",
                                    "2": "2361.6403"
                                },
                                {
                                    "0": "California",
                                    "1": "Canoga Park",
                                    "2": "0.0000"
                                },
                                {
                                    "0": "California",
                                    "1": "Carson",
                                    "2": "0.0000"
                                },
                                {
                                    "0": "California",
                                    "1": "Cerritos",
                                    "2": "45992.3665"
                                },
                                {
                                    "0": "California",
                                    "1": "Citrus Heights",
                                    "2": "0.0000"
                                },
                                {
                                    "0": "California",
                                    "1": "City Of Commerce",
                                    "2": "0.0000"
                                },
                                {
                                    "0": "California",
                                    "1": "Culver City",
                                    "2": "272.6468"
                                },
                                {
                                    "0": "California",
                                    "1": "Daly City",
                                    "2": "3293.7761"
                                },
                                {
                                    "0": "California",
                                    "1": "El Cajon",
                                    "2": "0.0000"
                                },
                                {
                                    "0": "California",
                                    "1": "El Segundo",
                                    "2": "2669.3183"
                                },
                                {
                                    "0": "California",
                                    "1": "Elk Grove",
                                    "2": "0.0000"
                                },
                                {
                                    "0": "California",
                                    "1": "Escondido",
                                    "2": "0.0000"
                                },
                                {
                                    "0": "California",
                                    "1": "Eureka",
                                    "2": "0.0000"
                                },
                                {
                                    "0": "California",
                                    "1": "Fontana",
                                    "2": "0.0000"
                                },
                                {
                                    "0": "California",
                                    "1": "Fremont",
                                    "2": "0.0000"
                                },
                                {
                                    "0": "California",
                                    "1": "Fullerton",
                                    "2": "81834.9826"
                                },
                                {
                                    "0": "California",
                                    "1": "Gilroy",
                                    "2": "0.0000"
                                },
                                {
                                    "0": "California",
                                    "1": "Hanford",
                                    "2": "0.0000"
                                },
                                {
                                    "0": "California",
                                    "1": "Irvine",
                                    "2": "0.0000"
                                },
                                {
                                    "0": "California",
                                    "1": "La Mesa",
                                    "2": "0.0000"
                                },
                                {
                                    "0": "California",
                                    "1": "Lake Elsinore",
                                    "2": "0.0000"
                                },
                                {
                                    "0": "California",
                                    "1": "Lakewood",
                                    "2": "0.0000"
                                },
                                {
                                    "0": "California",
                                    "1": "Milpitas",
                                    "2": "0.0000"
                                },
                                {
                                    "0": "California",
                                    "1": "Modesto",
                                    "2": "0.0000"
                                },
                                {
                                    "0": "California",
                                    "1": "Monrovia",
                                    "2": "0.0000"
                                },
                                {
                                    "0": "California",
                                    "1": "Newark",
                                    "2": "0.0000"
                                },
                                {
                                    "0": "California",
                                    "1": "Ontario",
                                    "2": "0.0000"
                                },
                                {
                                    "0": "California",
                                    "1": "Orange",
                                    "2": "0.0000"
                                },
                                {
                                    "0": "California",
                                    "1": "Oxnard",
                                    "2": "5016.4173"
                                },
                                {
                                    "0": "California",
                                    "1": "Pleasanton",
                                    "2": "0.0000"
                                },
                                {
                                    "0": "California",
                                    "1": "Redlands",
                                    "2": "0.0000"
                                },
                                {
                                    "0": "California",
                                    "1": "Sacramento",
                                    "2": "0.0000"
                                },
                                {
                                    "0": "California",
                                    "1": "San Bruno",
                                    "2": "0.0000"
                                },
                                {
                                    "0": "California",
                                    "1": "San Diego",
                                    "2": "0.0000"
                                },
                                {
                                    "0": "California",
                                    "1": "San Francisco",
                                    "2": "0.0000"
                                },
                                {
                                    "0": "California",
                                    "1": "San Jose",
                                    "2": "0.0000"
                                },
                                {
                                    "0": "California",
                                    "1": "San Mateo",
                                    "2": "0.0000"
                                },
                                {
                                    "0": "California",
                                    "1": "San Ramon",
                                    "2": "0.0000"
                                },
                                {
                                    "0": "California",
                                    "1": "San Ysidro",
                                    "2": "0.0000"
                                },
                                {
                                    "0": "California",
                                    "1": "Sand City",
                                    "2": "0.0000"
                                },
                                {
                                    "0": "California",
                                    "1": "Santa Ana",
                                    "2": "3673.3249"
                                },
                                {
                                    "0": "California",
                                    "1": "Santa Monica",
                                    "2": "0.0000"
                                },
                                {
                                    "0": "California",
                                    "1": "Sherman Oaks",
                                    "2": "63686.2708"
                                },
                                {
                                    "0": "California",
                                    "1": "Simi Valley",
                                    "2": "0.0000"
                                },
                                {
                                    "0": "California",
                                    "1": "Stockton",
                                    "2": "0.0000"
                                },
                                {
                                    "0": "California",
                                    "1": "Trabuco Canyon",
                                    "2": "0.0000"
                                },
                                {
                                    "0": "California",
                                    "1": "Union City",
                                    "2": "92663.5609"
                                },
                                {
                                    "0": "California",
                                    "1": "Upland",
                                    "2": "0.0000"
                                },
                                {
                                    "0": "California",
                                    "1": "Van Nuys",
                                    "2": "43962.7901"
                                },
                                {
                                    "0": "California",
                                    "1": "Visalia",
                                    "2": "0.0000"
                                },
                                {
                                    "0": "California",
                                    "1": "Whittier",
                                    "2": "0.0000"
                                },
                                {
                                    "0": "Colorado",
                                    "1": "Denver",
                                    "2": "0.0000"
                                },
                                {
                                    "0": "Colorado",
                                    "1": "Englewood",
                                    "2": "14017.9083"
                                },
                                {
                                    "0": "Colorado",
                                    "1": "Greeley",
                                    "2": "0.0000"
                                },
                                {
                                    "0": "Colorado",
                                    "1": "Longmont",
                                    "2": "0.0000"
                                },
                                {
                                    "0": "Colorado",
                                    "1": "Loveland",
                                    "2": "0.0000"
                                },
                                {
                                    "0": "Colorado",
                                    "1": "Parker",
                                    "2": "0.0000"
                                },
                                {
                                    "0": "Colorado",
                                    "1": "Westminster",
                                    "2": "0.0000"
                                },
                                {
                                    "0": "England",
                                    "1": "Abingdon",
                                    "2": "45.1995"
                                },
                                {
                                    "0": "England",
                                    "1": "Basingstoke Hants",
                                    "2": "0.0000"
                                },
                                {
                                    "0": "England",
                                    "1": "Berks",
                                    "2": "0.0000"
                                },
                                {
                                    "0": "England",
                                    "1": "Berkshire",
                                    "2": "0.0000"
                                },
                                {
                                    "0": "England",
                                    "1": "Birmingham",
                                    "2": "0.0000"
                                },
                                {
                                    "0": "England",
                                    "1": "Bracknell",
                                    "2": "0.0000"
                                },
                                {
                                    "0": "England",
                                    "1": "Cambridge",
                                    "2": "2711.4098"
                                },
                                {
                                    "0": "England",
                                    "1": "Gloucestershire",
                                    "2": "70698.9922"
                                },
                                {
                                    "0": "England",
                                    "1": "High Wycombe",
                                    "2": "608.1766"
                                },
                                {
                                    "0": "England",
                                    "1": "Lancaster",
                                    "2": "0.0000"
                                },
                                {
                                    "0": "England",
                                    "1": "Liverpool",
                                    "2": "86222.8072"
                                },
                                {
                                    "0": "England",
                                    "1": "London",
                                    "2": "206736.1667"
                                },
                                {
                                    "0": "England",
                                    "1": "Maidenhead",
                                    "2": "43.0437"
                                },
                                {
                                    "0": "England",
                                    "1": "Milton Keynes",
                                    "2": "41759.6651"
                                },
                                {
                                    "0": "England",
                                    "1": "Oxford",
                                    "2": "0.0000"
                                },
                                {
                                    "0": "England",
                                    "1": "Oxon",
                                    "2": "1170.5376"
                                },
                                {
                                    "0": "England",
                                    "1": "Reading",
                                    "2": "0.0000"
                                },
                                {
                                    "0": "England",
                                    "1": "W. York",
                                    "2": "0.0000"
                                },
                                {
                                    "0": "England",
                                    "1": "Warrington",
                                    "2": "0.0000"
                                },
                                {
                                    "0": "England",
                                    "1": "West Sussex",
                                    "2": "42452.6519"
                                },
                                {
                                    "0": "England",
                                    "1": "Wokingham",
                                    "2": "87.0851"
                                },
                                {
                                    "0": "England",
                                    "1": "Woolston",
                                    "2": "119960.8240"
                                },
                                {
                                    "0": "England",
                                    "1": "York",
                                    "2": "0.0000"
                                },
                                {
                                    "0": "Idaho",
                                    "1": "Idaho Falls",
                                    "2": "0.0000"
                                },
                                {
                                    "0": "Idaho",
                                    "1": "Lewiston",
                                    "2": "0.0000"
                                },
                                {
                                    "0": "Idaho",
                                    "1": "Sandpoint",
                                    "2": "0.0000"
                                },
                                {
                                    "0": "Illinois",
                                    "1": "Carol Stream",
                                    "2": "0.0000"
                                },
                                {
                                    "0": "Illinois",
                                    "1": "Chicago",
                                    "2": "0.0000"
                                },
                                {
                                    "0": "Illinois",
                                    "1": "Elgin",
                                    "2": "0.0000"
                                },
                                {
                                    "0": "Illinois",
                                    "1": "Joliet",
                                    "2": "0.0000"
                                },
                                {
                                    "0": "Illinois",
                                    "1": "Moline",
                                    "2": "0.0000"
                                },
                                {
                                    "0": "Illinois",
                                    "1": "Norridge",
                                    "2": "0.0000"
                                },
                                {
                                    "0": "Illinois",
                                    "1": "Peoria",
                                    "2": "0.0000"
                                },
                                {
                                    "0": "Illinois",
                                    "1": "Tuscola",
                                    "2": "0.0000"
                                },
                                {
                                    "0": "Illinois",
                                    "1": "West Chicago",
                                    "2": "0.0000"
                                },
                                {
                                    "0": "Illinois",
                                    "1": "Wood Dale",
                                    "2": "0.0000"
                                },
                                {
                                    "0": "Manitoba",
                                    "1": "Winnipeg",
                                    "2": "0.0000"
                                },
                                {
                                    "0": "Michigan",
                                    "1": "Detroit",
                                    "2": "0.0000"
                                },
                                {
                                    "0": "Michigan",
                                    "1": "Holland",
                                    "2": "0.0000"
                                },
                                {
                                    "0": "Michigan",
                                    "1": "Howell",
                                    "2": "0.0000"
                                },
                                {
                                    "0": "Michigan",
                                    "1": "Madison Heights",
                                    "2": "0.0000"
                                },
                                {
                                    "0": "Michigan",
                                    "1": "Midland",
                                    "2": "0.0000"
                                },
                                {
                                    "0": "Michigan",
                                    "1": "Monroe",
                                    "2": "0.0000"
                                },
                                {
                                    "0": "Michigan",
                                    "1": "Novi",
                                    "2": "0.0000"
                                },
                                {
                                    "0": "Michigan",
                                    "1": "Pontiac",
                                    "2": "0.0000"
                                },
                                {
                                    "0": "Michigan",
                                    "1": "Port Huron",
                                    "2": "0.0000"
                                },
                                {
                                    "0": "Michigan",
                                    "1": "Redford",
                                    "2": "0.0000"
                                },
                                {
                                    "0": "Michigan",
                                    "1": "Saginaw",
                                    "2": "0.0000"
                                },
                                {
                                    "0": "Michigan",
                                    "1": "Southfield",
                                    "2": "0.0000"
                                },
                                {
                                    "0": "Michigan",
                                    "1": "Southgate",
                                    "2": "0.0000"
                                },
                                {
                                    "0": "Michigan",
                                    "1": "Westland",
                                    "2": "0.0000"
                                },
                                {
                                    "0": "Michigan",
                                    "1": "Zeeland",
                                    "2": "0.0000"
                                },
                                {
                                    "0": "Minnesota",
                                    "1": "Branch",
                                    "2": "0.0000"
                                },
                                {
                                    "0": "Minnesota",
                                    "1": "Duluth",
                                    "2": "0.0000"
                                },
                                {
                                    "0": "Minnesota",
                                    "1": "Edina",
                                    "2": "0.0000"
                                },
                                {
                                    "0": "Minnesota",
                                    "1": "Medford",
                                    "2": "0.0000"
                                },
                                {
                                    "0": "Minnesota",
                                    "1": "Minneapolis",
                                    "2": "0.0000"
                                },
                                {
                                    "0": "Minnesota",
                                    "1": "Woodbury",
                                    "2": "0.0000"
                                },
                                {
                                    "0": "Missouri",
                                    "1": "Branson",
                                    "2": "0.0000"
                                },
                                {
                                    "0": "Missouri",
                                    "1": "Ferguson",
                                    "2": "0.0000"
                                },
                                {
                                    "0": "Missouri",
                                    "1": "Jefferson City",
                                    "2": "0.0000"
                                },
                                {
                                    "0": "Missouri",
                                    "1": "Kansas City",
                                    "2": "0.0000"
                                },
                                {
                                    "0": "Missouri",
                                    "1": "Odessa",
                                    "2": "0.0000"
                                },
                                {
                                    "0": "Missouri",
                                    "1": "Saint Ann",
                                    "2": "0.0000"
                                },
                                {
                                    "0": "Missouri",
                                    "1": "Saint Louis",
                                    "2": "0.0000"
                                },
                                {
                                    "0": "Montana",
                                    "1": "Billings",
                                    "2": "0.0000"
                                },
                                {
                                    "0": "Montana",
                                    "1": "Great Falls",
                                    "2": "0.0000"
                                },
                                {
                                    "0": "Montana",
                                    "1": "Missoula",
                                    "2": "0.0000"
                                },
                                {
                                    "0": "Nevada",
                                    "1": "Fernley",
                                    "2": "0.0000"
                                },
                                {
                                    "0": "Nevada",
                                    "1": "Las Vegas",
                                    "2": "7330.8972"
                                },
                                {
                                    "0": "Nevada",
                                    "1": "North Las Vegas",
                                    "2": "0.0000"
                                },
                                {
                                    "0": "Nevada",
                                    "1": "Reno",
                                    "2": "0.0000"
                                },
                                {
                                    "0": "Nevada",
                                    "1": "Sparks",
                                    "2": "0.0000"
                                },
                                {
                                    "0": "New Mexico",
                                    "1": "Las Cruces",
                                    "2": "0.0000"
                                },
                                {
                                    "0": "New Mexico",
                                    "1": "Rio Rancho",
                                    "2": "0.0000"
                                },
                                {
                                    "0": "New Mexico",
                                    "1": "Santa Fe",
                                    "2": "15275.1977"
                                },
                                {
                                    "0": "Ontario",
                                    "1": "Aurora",
                                    "2": "0.0000"
                                },
                                {
                                    "0": "Ontario",
                                    "1": "Barrie",
                                    "2": "0.0000"
                                },
                                {
                                    "0": "Ontario",
                                    "1": "Brampton",
                                    "2": "0.0000"
                                },
                                {
                                    "0": "Ontario",
                                    "1": "Chalk Riber",
                                    "2": "0.0000"
                                },
                                {
                                    "0": "Ontario",
                                    "1": "Etobicoke",
                                    "2": "0.0000"
                                },
                                {
                                    "0": "Ontario",
                                    "1": "Kanata",
                                    "2": "0.0000"
                                },
                                {
                                    "0": "Ontario",
                                    "1": "Kingston",
                                    "2": "0.0000"
                                },
                                {
                                    "0": "Ontario",
                                    "1": "Markham",
                                    "2": "0.0000"
                                },
                                {
                                    "0": "Ontario",
                                    "1": "Mississauga",
                                    "2": "0.0000"
                                },
                                {
                                    "0": "Ontario",
                                    "1": "Nepean",
                                    "2": "0.0000"
                                },
                                {
                                    "0": "Ontario",
                                    "1": "Ottawa",
                                    "2": "0.0000"
                                },
                                {
                                    "0": "Ontario",
                                    "1": "Richmond Hill",
                                    "2": "0.0000"
                                },
                                {
                                    "0": "Ontario",
                                    "1": "Toronto",
                                    "2": "0.0000"
                                },
                                {
                                    "0": "Ontario",
                                    "1": "Vancouver",
                                    "2": "0.0000"
                                },
                                {
                                    "0": "Ontario",
                                    "1": "Waterloo",
                                    "2": "0.0000"
                                },
                                {
                                    "0": "Ontario",
                                    "1": "Weston",
                                    "2": "0.0000"
                                },
                                {
                                    "0": "Oregon",
                                    "1": "Albany",
                                    "2": "0.0000"
                                },
                                {
                                    "0": "Oregon",
                                    "1": "Beaverton",
                                    "2": "0.0000"
                                },
                                {
                                    "0": "Oregon",
                                    "1": "Clackamas",
                                    "2": "0.0000"
                                },
                                {
                                    "0": "Oregon",
                                    "1": "Hillsboro",
                                    "2": "0.0000"
                                },
                                {
                                    "0": "Oregon",
                                    "1": "Klamath Falls",
                                    "2": "0.0000"
                                },
                                {
                                    "0": "Oregon",
                                    "1": "Medford",
                                    "2": "0.0000"
                                },
                                {
                                    "0": "Oregon",
                                    "1": "Milwaukie",
                                    "2": "0.0000"
                                },
                                {
                                    "0": "Oregon",
                                    "1": "Portland",
                                    "2": "0.0000"
                                },
                                {
                                    "0": "Oregon",
                                    "1": "Salem",
                                    "2": "0.0000"
                                },
                                {
                                    "0": "Oregon",
                                    "1": "Springfield",
                                    "2": "0.0000"
                                },
                                {
                                    "0": "Oregon",
                                    "1": "Tigard",
                                    "2": "0.0000"
                                },
                                {
                                    "0": "Oregon",
                                    "1": "Troutdale",
                                    "2": "0.0000"
                                },
                                {
                                    "0": "Quebec",
                                    "1": "Brossard",
                                    "2": "0.0000"
                                },
                                {
                                    "0": "Quebec",
                                    "1": "Dorval",
                                    "2": "0.0000"
                                },
                                {
                                    "0": "Quebec",
                                    "1": "Hull",
                                    "2": "0.0000"
                                },
                                {
                                    "0": "Quebec",
                                    "1": "Montreal",
                                    "2": "0.0000"
                                },
                                {
                                    "0": "Quebec",
                                    "1": "Outremont",
                                    "2": "0.0000"
                                },
                                {
                                    "0": "Quebec",
                                    "1": "Pnot-Rouge",
                                    "2": "0.0000"
                                },
                                {
                                    "0": "Quebec",
                                    "1": "Quebec",
                                    "2": "0.0000"
                                },
                                {
                                    "0": "Quebec",
                                    "1": "Sainte-Foy",
                                    "2": "0.0000"
                                },
                                {
                                    "0": "Quebec",
                                    "1": "Sillery",
                                    "2": "0.0000"
                                },
                                {
                                    "0": "Quebec",
                                    "1": "Ville De'anjou",
                                    "2": "0.0000"
                                },
                                {
                                    "0": "South Dakota",
                                    "1": "Denby",
                                    "2": "0.0000"
                                },
                                {
                                    "0": "South Dakota",
                                    "1": "North Sioux City",
                                    "2": "0.0000"
                                },
                                {
                                    "0": "Texas",
                                    "1": "Arlington",
                                    "2": "0.0000"
                                },
                                {
                                    "0": "Texas",
                                    "1": "Austin",
                                    "2": "0.0000"
                                },
                                {
                                    "0": "Texas",
                                    "1": "Baytown",
                                    "2": "0.0000"
                                },
                                {
                                    "0": "Texas",
                                    "1": "Carrollton",
                                    "2": "0.0000"
                                },
                                {
                                    "0": "Texas",
                                    "1": "Cedar Park",
                                    "2": "0.0000"
                                },
                                {
                                    "0": "Texas",
                                    "1": "College Station",
                                    "2": "0.0000"
                                },
                                {
                                    "0": "Texas",
                                    "1": "Corpus Christi",
                                    "2": "0.0000"
                                },
                                {
                                    "0": "Texas",
                                    "1": "Dallas",
                                    "2": "0.0000"
                                },
                                {
                                    "0": "Texas",
                                    "1": "Fort Worth",
                                    "2": "0.0000"
                                },
                                {
                                    "0": "Texas",
                                    "1": "Garland",
                                    "2": "0.0000"
                                },
                                {
                                    "0": "Texas",
                                    "1": "Houston",
                                    "2": "0.0000"
                                },
                                {
                                    "0": "Texas",
                                    "1": "Humble",
                                    "2": "0.0000"
                                },
                                {
                                    "0": "Texas",
                                    "1": "Irving",
                                    "2": "0.0000"
                                },
                                {
                                    "0": "Texas",
                                    "1": "Killeen",
                                    "2": "0.0000"
                                },
                                {
                                    "0": "Texas",
                                    "1": "La Marque",
                                    "2": "0.0000"
                                },
                                {
                                    "0": "Texas",
                                    "1": "Laredo",
                                    "2": "0.0000"
                                },
                                {
                                    "0": "Texas",
                                    "1": "Mesquite",
                                    "2": "0.0000"
                                },
                                {
                                    "0": "Texas",
                                    "1": "Plano",
                                    "2": "0.0000"
                                },
                                {
                                    "0": "Texas",
                                    "1": "Round Rock",
                                    "2": "0.0000"
                                },
                                {
                                    "0": "Texas",
                                    "1": "San Antonio",
                                    "2": "0.0000"
                                },
                                {
                                    "0": "Texas",
                                    "1": "Sugar Land",
                                    "2": "0.0000"
                                },
                                {
                                    "0": "Utah",
                                    "1": "Bountiful",
                                    "2": "0.0000"
                                },
                                {
                                    "0": "Utah",
                                    "1": "Cedar City",
                                    "2": "0.0000"
                                },
                                {
                                    "0": "Utah",
                                    "1": "Ogden",
                                    "2": "0.0000"
                                },
                                {
                                    "0": "Utah",
                                    "1": "Park City",
                                    "2": "0.0000"
                                },
                                {
                                    "0": "Utah",
                                    "1": "Riverton",
                                    "2": "0.0000"
                                },
                                {
                                    "0": "Utah",
                                    "1": "Salt Lake City",
                                    "2": "0.0000"
                                },
                                {
                                    "0": "Utah",
                                    "1": "Sandy",
                                    "2": "665.4251"
                                },
                                {
                                    "0": "Utah",
                                    "1": "Tooele",
                                    "2": "0.0000"
                                },
                                {
                                    "0": "Washington",
                                    "1": "Bellevue",
                                    "2": "0.0000"
                                },
                                {
                                    "0": "Washington",
                                    "1": "Bellingham",
                                    "2": "0.0000"
                                },
                                {
                                    "0": "Washington",
                                    "1": "Bothell",
                                    "2": "0.0000"
                                },
                                {
                                    "0": "Washington",
                                    "1": "Chehalis",
                                    "2": "0.0000"
                                },
                                {
                                    "0": "Washington",
                                    "1": "Ellensburg",
                                    "2": "0.0000"
                                },
                                {
                                    "0": "Washington",
                                    "1": "Everett",
                                    "2": "0.0000"
                                },
                                {
                                    "0": "Washington",
                                    "1": "Federal Way",
                                    "2": "0.0000"
                                },
                                {
                                    "0": "Washington",
                                    "1": "Issaquah",
                                    "2": "0.0000"
                                },
                                {
                                    "0": "Washington",
                                    "1": "Kelso",
                                    "2": "0.0000"
                                },
                                {
                                    "0": "Washington",
                                    "1": "Kennewick",
                                    "2": "0.0000"
                                },
                                {
                                    "0": "Washington",
                                    "1": "Kent",
                                    "2": "0.0000"
                                },
                                {
                                    "0": "Washington",
                                    "1": "Kirkland",
                                    "2": "0.0000"
                                },
                                {
                                    "0": "Washington",
                                    "1": "Lacey",
                                    "2": "0.0000"
                                },
                                {
                                    "0": "Washington",
                                    "1": "Longview",
                                    "2": "0.0000"
                                },
                                {
                                    "0": "Washington",
                                    "1": "Lynnwood",
                                    "2": "0.0000"
                                },
                                {
                                    "0": "Washington",
                                    "1": "North Bend",
                                    "2": "0.0000"
                                },
                                {
                                    "0": "Washington",
                                    "1": "Port Orchard",
                                    "2": "0.0000"
                                },
                                {
                                    "0": "Washington",
                                    "1": "Puyallup",
                                    "2": "0.0000"
                                },
                                {
                                    "0": "Washington",
                                    "1": "Redmond",
                                    "2": "0.0000"
                                },
                                {
                                    "0": "Washington",
                                    "1": "Renton",
                                    "2": "0.0000"
                                },
                                {
                                    "0": "Washington",
                                    "1": "Seattle",
                                    "2": "0.0000"
                                },
                                {
                                    "0": "Washington",
                                    "1": "Sequim",
                                    "2": "0.0000"
                                },
                                {
                                    "0": "Washington",
                                    "1": "Shelton",
                                    "2": "0.0000"
                                },
                                {
                                    "0": "Washington",
                                    "1": "Spokane",
                                    "2": "0.0000"
                                },
                                {
                                    "0": "Washington",
                                    "1": "Tacoma",
                                    "2": "0.0000"
                                },
                                {
                                    "0": "Washington",
                                    "1": "Washougal",
                                    "2": "0.0000"
                                },
                                {
                                    "0": "Washington",
                                    "1": "Wenatchee",
                                    "2": "0.0000"
                                },
                                {
                                    "0": "Washington",
                                    "1": "Woodinville",
                                    "2": "0.0000"
                                },
                                {
                                    "0": "Wisconsin",
                                    "1": "Johnson Creek",
                                    "2": "0.0000"
                                },
                                {
                                    "0": "Wisconsin",
                                    "1": "Milwaukee",
                                    "2": "0.0000"
                                },
                                {
                                    "0": "Wisconsin",
                                    "1": "Mosinee",
                                    "2": "0.0000"
                                },
                                {
                                    "0": "Wisconsin",
                                    "1": "Racine",
                                    "2": "0.0000"
                                },
                                {
                                    "0": "Wyoming",
                                    "1": "Casper",
                                    "2": "0.0000"
                                },
                                {
                                    "0": "Wyoming",
                                    "1": "Cheyenne",
                                    "2": "0.0000"
                                },
                                {
                                    "0": "Wyoming",
                                    "1": "Rock Springs",
                                    "2": "0.0000"
                                }
                            ]
                        },
                        "text/html": "<table><tr><th>StateProvince</th><th>City</th><th>SalesRevenue</th></tr><tr><td>Alberta</td><td>Calgary</td><td>0.0000</td></tr><tr><td>Alberta</td><td>Edmonton</td><td>0.0000</td></tr><tr><td>Arizona</td><td>Chandler</td><td>0.0000</td></tr><tr><td>Arizona</td><td>Gilbert</td><td>0.0000</td></tr><tr><td>Arizona</td><td>Mesa</td><td>0.0000</td></tr><tr><td>Arizona</td><td>Phoenix</td><td>0.0000</td></tr><tr><td>Arizona</td><td>Scottsdale</td><td>0.0000</td></tr><tr><td>Arizona</td><td>Surprise</td><td>0.0000</td></tr><tr><td>Arizona</td><td>Tucson</td><td>0.0000</td></tr><tr><td>British Columbia</td><td>Burnaby</td><td>0.0000</td></tr><tr><td>British Columbia</td><td>Richmond</td><td>0.0000</td></tr><tr><td>British Columbia</td><td>Surrey</td><td>0.0000</td></tr><tr><td>British Columbia</td><td>Vancouver</td><td>0.0000</td></tr><tr><td>British Columbia</td><td>Victoria</td><td>0.0000</td></tr><tr><td>Brunswick</td><td>Saint John</td><td>0.0000</td></tr><tr><td>California</td><td>Alhambra</td><td>117.7276</td></tr><tr><td>California</td><td>Auburn</td><td>972.7850</td></tr><tr><td>California</td><td>Baldwin Park</td><td>0.0000</td></tr><tr><td>California</td><td>Barstow</td><td>0.0000</td></tr><tr><td>California</td><td>Bell Gardens</td><td>0.0000</td></tr><tr><td>California</td><td>Camarillo</td><td>2361.6403</td></tr><tr><td>California</td><td>Canoga Park</td><td>0.0000</td></tr><tr><td>California</td><td>Carson</td><td>0.0000</td></tr><tr><td>California</td><td>Cerritos</td><td>45992.3665</td></tr><tr><td>California</td><td>Citrus Heights</td><td>0.0000</td></tr><tr><td>California</td><td>City Of Commerce</td><td>0.0000</td></tr><tr><td>California</td><td>Culver City</td><td>272.6468</td></tr><tr><td>California</td><td>Daly City</td><td>3293.7761</td></tr><tr><td>California</td><td>El Cajon</td><td>0.0000</td></tr><tr><td>California</td><td>El Segundo</td><td>2669.3183</td></tr><tr><td>California</td><td>Elk Grove</td><td>0.0000</td></tr><tr><td>California</td><td>Escondido</td><td>0.0000</td></tr><tr><td>California</td><td>Eureka</td><td>0.0000</td></tr><tr><td>California</td><td>Fontana</td><td>0.0000</td></tr><tr><td>California</td><td>Fremont</td><td>0.0000</td></tr><tr><td>California</td><td>Fullerton</td><td>81834.9826</td></tr><tr><td>California</td><td>Gilroy</td><td>0.0000</td></tr><tr><td>California</td><td>Hanford</td><td>0.0000</td></tr><tr><td>California</td><td>Irvine</td><td>0.0000</td></tr><tr><td>California</td><td>La Mesa</td><td>0.0000</td></tr><tr><td>California</td><td>Lake Elsinore</td><td>0.0000</td></tr><tr><td>California</td><td>Lakewood</td><td>0.0000</td></tr><tr><td>California</td><td>Milpitas</td><td>0.0000</td></tr><tr><td>California</td><td>Modesto</td><td>0.0000</td></tr><tr><td>California</td><td>Monrovia</td><td>0.0000</td></tr><tr><td>California</td><td>Newark</td><td>0.0000</td></tr><tr><td>California</td><td>Ontario</td><td>0.0000</td></tr><tr><td>California</td><td>Orange</td><td>0.0000</td></tr><tr><td>California</td><td>Oxnard</td><td>5016.4173</td></tr><tr><td>California</td><td>Pleasanton</td><td>0.0000</td></tr><tr><td>California</td><td>Redlands</td><td>0.0000</td></tr><tr><td>California</td><td>Sacramento</td><td>0.0000</td></tr><tr><td>California</td><td>San Bruno</td><td>0.0000</td></tr><tr><td>California</td><td>San Diego</td><td>0.0000</td></tr><tr><td>California</td><td>San Francisco</td><td>0.0000</td></tr><tr><td>California</td><td>San Jose</td><td>0.0000</td></tr><tr><td>California</td><td>San Mateo</td><td>0.0000</td></tr><tr><td>California</td><td>San Ramon</td><td>0.0000</td></tr><tr><td>California</td><td>San Ysidro</td><td>0.0000</td></tr><tr><td>California</td><td>Sand City</td><td>0.0000</td></tr><tr><td>California</td><td>Santa Ana</td><td>3673.3249</td></tr><tr><td>California</td><td>Santa Monica</td><td>0.0000</td></tr><tr><td>California</td><td>Sherman Oaks</td><td>63686.2708</td></tr><tr><td>California</td><td>Simi Valley</td><td>0.0000</td></tr><tr><td>California</td><td>Stockton</td><td>0.0000</td></tr><tr><td>California</td><td>Trabuco Canyon</td><td>0.0000</td></tr><tr><td>California</td><td>Union City</td><td>92663.5609</td></tr><tr><td>California</td><td>Upland</td><td>0.0000</td></tr><tr><td>California</td><td>Van Nuys</td><td>43962.7901</td></tr><tr><td>California</td><td>Visalia</td><td>0.0000</td></tr><tr><td>California</td><td>Whittier</td><td>0.0000</td></tr><tr><td>Colorado</td><td>Denver</td><td>0.0000</td></tr><tr><td>Colorado</td><td>Englewood</td><td>14017.9083</td></tr><tr><td>Colorado</td><td>Greeley</td><td>0.0000</td></tr><tr><td>Colorado</td><td>Longmont</td><td>0.0000</td></tr><tr><td>Colorado</td><td>Loveland</td><td>0.0000</td></tr><tr><td>Colorado</td><td>Parker</td><td>0.0000</td></tr><tr><td>Colorado</td><td>Westminster</td><td>0.0000</td></tr><tr><td>England</td><td>Abingdon</td><td>45.1995</td></tr><tr><td>England</td><td>Basingstoke Hants</td><td>0.0000</td></tr><tr><td>England</td><td>Berks</td><td>0.0000</td></tr><tr><td>England</td><td>Berkshire</td><td>0.0000</td></tr><tr><td>England</td><td>Birmingham</td><td>0.0000</td></tr><tr><td>England</td><td>Bracknell</td><td>0.0000</td></tr><tr><td>England</td><td>Cambridge</td><td>2711.4098</td></tr><tr><td>England</td><td>Gloucestershire</td><td>70698.9922</td></tr><tr><td>England</td><td>High Wycombe</td><td>608.1766</td></tr><tr><td>England</td><td>Lancaster</td><td>0.0000</td></tr><tr><td>England</td><td>Liverpool</td><td>86222.8072</td></tr><tr><td>England</td><td>London</td><td>206736.1667</td></tr><tr><td>England</td><td>Maidenhead</td><td>43.0437</td></tr><tr><td>England</td><td>Milton Keynes</td><td>41759.6651</td></tr><tr><td>England</td><td>Oxford</td><td>0.0000</td></tr><tr><td>England</td><td>Oxon</td><td>1170.5376</td></tr><tr><td>England</td><td>Reading</td><td>0.0000</td></tr><tr><td>England</td><td>W. York</td><td>0.0000</td></tr><tr><td>England</td><td>Warrington</td><td>0.0000</td></tr><tr><td>England</td><td>West Sussex</td><td>42452.6519</td></tr><tr><td>England</td><td>Wokingham</td><td>87.0851</td></tr><tr><td>England</td><td>Woolston</td><td>119960.8240</td></tr><tr><td>England</td><td>York</td><td>0.0000</td></tr><tr><td>Idaho</td><td>Idaho Falls</td><td>0.0000</td></tr><tr><td>Idaho</td><td>Lewiston</td><td>0.0000</td></tr><tr><td>Idaho</td><td>Sandpoint</td><td>0.0000</td></tr><tr><td>Illinois</td><td>Carol Stream</td><td>0.0000</td></tr><tr><td>Illinois</td><td>Chicago</td><td>0.0000</td></tr><tr><td>Illinois</td><td>Elgin</td><td>0.0000</td></tr><tr><td>Illinois</td><td>Joliet</td><td>0.0000</td></tr><tr><td>Illinois</td><td>Moline</td><td>0.0000</td></tr><tr><td>Illinois</td><td>Norridge</td><td>0.0000</td></tr><tr><td>Illinois</td><td>Peoria</td><td>0.0000</td></tr><tr><td>Illinois</td><td>Tuscola</td><td>0.0000</td></tr><tr><td>Illinois</td><td>West Chicago</td><td>0.0000</td></tr><tr><td>Illinois</td><td>Wood Dale</td><td>0.0000</td></tr><tr><td>Manitoba</td><td>Winnipeg</td><td>0.0000</td></tr><tr><td>Michigan</td><td>Detroit</td><td>0.0000</td></tr><tr><td>Michigan</td><td>Holland</td><td>0.0000</td></tr><tr><td>Michigan</td><td>Howell</td><td>0.0000</td></tr><tr><td>Michigan</td><td>Madison Heights</td><td>0.0000</td></tr><tr><td>Michigan</td><td>Midland</td><td>0.0000</td></tr><tr><td>Michigan</td><td>Monroe</td><td>0.0000</td></tr><tr><td>Michigan</td><td>Novi</td><td>0.0000</td></tr><tr><td>Michigan</td><td>Pontiac</td><td>0.0000</td></tr><tr><td>Michigan</td><td>Port Huron</td><td>0.0000</td></tr><tr><td>Michigan</td><td>Redford</td><td>0.0000</td></tr><tr><td>Michigan</td><td>Saginaw</td><td>0.0000</td></tr><tr><td>Michigan</td><td>Southfield</td><td>0.0000</td></tr><tr><td>Michigan</td><td>Southgate</td><td>0.0000</td></tr><tr><td>Michigan</td><td>Westland</td><td>0.0000</td></tr><tr><td>Michigan</td><td>Zeeland</td><td>0.0000</td></tr><tr><td>Minnesota</td><td>Branch</td><td>0.0000</td></tr><tr><td>Minnesota</td><td>Duluth</td><td>0.0000</td></tr><tr><td>Minnesota</td><td>Edina</td><td>0.0000</td></tr><tr><td>Minnesota</td><td>Medford</td><td>0.0000</td></tr><tr><td>Minnesota</td><td>Minneapolis</td><td>0.0000</td></tr><tr><td>Minnesota</td><td>Woodbury</td><td>0.0000</td></tr><tr><td>Missouri</td><td>Branson</td><td>0.0000</td></tr><tr><td>Missouri</td><td>Ferguson</td><td>0.0000</td></tr><tr><td>Missouri</td><td>Jefferson City</td><td>0.0000</td></tr><tr><td>Missouri</td><td>Kansas City</td><td>0.0000</td></tr><tr><td>Missouri</td><td>Odessa</td><td>0.0000</td></tr><tr><td>Missouri</td><td>Saint Ann</td><td>0.0000</td></tr><tr><td>Missouri</td><td>Saint Louis</td><td>0.0000</td></tr><tr><td>Montana</td><td>Billings</td><td>0.0000</td></tr><tr><td>Montana</td><td>Great Falls</td><td>0.0000</td></tr><tr><td>Montana</td><td>Missoula</td><td>0.0000</td></tr><tr><td>Nevada</td><td>Fernley</td><td>0.0000</td></tr><tr><td>Nevada</td><td>Las Vegas</td><td>7330.8972</td></tr><tr><td>Nevada</td><td>North Las Vegas</td><td>0.0000</td></tr><tr><td>Nevada</td><td>Reno</td><td>0.0000</td></tr><tr><td>Nevada</td><td>Sparks</td><td>0.0000</td></tr><tr><td>New Mexico</td><td>Las Cruces</td><td>0.0000</td></tr><tr><td>New Mexico</td><td>Rio Rancho</td><td>0.0000</td></tr><tr><td>New Mexico</td><td>Santa Fe</td><td>15275.1977</td></tr><tr><td>Ontario</td><td>Aurora</td><td>0.0000</td></tr><tr><td>Ontario</td><td>Barrie</td><td>0.0000</td></tr><tr><td>Ontario</td><td>Brampton</td><td>0.0000</td></tr><tr><td>Ontario</td><td>Chalk Riber</td><td>0.0000</td></tr><tr><td>Ontario</td><td>Etobicoke</td><td>0.0000</td></tr><tr><td>Ontario</td><td>Kanata</td><td>0.0000</td></tr><tr><td>Ontario</td><td>Kingston</td><td>0.0000</td></tr><tr><td>Ontario</td><td>Markham</td><td>0.0000</td></tr><tr><td>Ontario</td><td>Mississauga</td><td>0.0000</td></tr><tr><td>Ontario</td><td>Nepean</td><td>0.0000</td></tr><tr><td>Ontario</td><td>Ottawa</td><td>0.0000</td></tr><tr><td>Ontario</td><td>Richmond Hill</td><td>0.0000</td></tr><tr><td>Ontario</td><td>Toronto</td><td>0.0000</td></tr><tr><td>Ontario</td><td>Vancouver</td><td>0.0000</td></tr><tr><td>Ontario</td><td>Waterloo</td><td>0.0000</td></tr><tr><td>Ontario</td><td>Weston</td><td>0.0000</td></tr><tr><td>Oregon</td><td>Albany</td><td>0.0000</td></tr><tr><td>Oregon</td><td>Beaverton</td><td>0.0000</td></tr><tr><td>Oregon</td><td>Clackamas</td><td>0.0000</td></tr><tr><td>Oregon</td><td>Hillsboro</td><td>0.0000</td></tr><tr><td>Oregon</td><td>Klamath Falls</td><td>0.0000</td></tr><tr><td>Oregon</td><td>Medford</td><td>0.0000</td></tr><tr><td>Oregon</td><td>Milwaukie</td><td>0.0000</td></tr><tr><td>Oregon</td><td>Portland</td><td>0.0000</td></tr><tr><td>Oregon</td><td>Salem</td><td>0.0000</td></tr><tr><td>Oregon</td><td>Springfield</td><td>0.0000</td></tr><tr><td>Oregon</td><td>Tigard</td><td>0.0000</td></tr><tr><td>Oregon</td><td>Troutdale</td><td>0.0000</td></tr><tr><td>Quebec</td><td>Brossard</td><td>0.0000</td></tr><tr><td>Quebec</td><td>Dorval</td><td>0.0000</td></tr><tr><td>Quebec</td><td>Hull</td><td>0.0000</td></tr><tr><td>Quebec</td><td>Montreal</td><td>0.0000</td></tr><tr><td>Quebec</td><td>Outremont</td><td>0.0000</td></tr><tr><td>Quebec</td><td>Pnot-Rouge</td><td>0.0000</td></tr><tr><td>Quebec</td><td>Quebec</td><td>0.0000</td></tr><tr><td>Quebec</td><td>Sainte-Foy</td><td>0.0000</td></tr><tr><td>Quebec</td><td>Sillery</td><td>0.0000</td></tr><tr><td>Quebec</td><td>Ville De'anjou</td><td>0.0000</td></tr><tr><td>South Dakota</td><td>Denby</td><td>0.0000</td></tr><tr><td>South Dakota</td><td>North Sioux City</td><td>0.0000</td></tr><tr><td>Texas</td><td>Arlington</td><td>0.0000</td></tr><tr><td>Texas</td><td>Austin</td><td>0.0000</td></tr><tr><td>Texas</td><td>Baytown</td><td>0.0000</td></tr><tr><td>Texas</td><td>Carrollton</td><td>0.0000</td></tr><tr><td>Texas</td><td>Cedar Park</td><td>0.0000</td></tr><tr><td>Texas</td><td>College Station</td><td>0.0000</td></tr><tr><td>Texas</td><td>Corpus Christi</td><td>0.0000</td></tr><tr><td>Texas</td><td>Dallas</td><td>0.0000</td></tr><tr><td>Texas</td><td>Fort Worth</td><td>0.0000</td></tr><tr><td>Texas</td><td>Garland</td><td>0.0000</td></tr><tr><td>Texas</td><td>Houston</td><td>0.0000</td></tr><tr><td>Texas</td><td>Humble</td><td>0.0000</td></tr><tr><td>Texas</td><td>Irving</td><td>0.0000</td></tr><tr><td>Texas</td><td>Killeen</td><td>0.0000</td></tr><tr><td>Texas</td><td>La Marque</td><td>0.0000</td></tr><tr><td>Texas</td><td>Laredo</td><td>0.0000</td></tr><tr><td>Texas</td><td>Mesquite</td><td>0.0000</td></tr><tr><td>Texas</td><td>Plano</td><td>0.0000</td></tr><tr><td>Texas</td><td>Round Rock</td><td>0.0000</td></tr><tr><td>Texas</td><td>San Antonio</td><td>0.0000</td></tr><tr><td>Texas</td><td>Sugar Land</td><td>0.0000</td></tr><tr><td>Utah</td><td>Bountiful</td><td>0.0000</td></tr><tr><td>Utah</td><td>Cedar City</td><td>0.0000</td></tr><tr><td>Utah</td><td>Ogden</td><td>0.0000</td></tr><tr><td>Utah</td><td>Park City</td><td>0.0000</td></tr><tr><td>Utah</td><td>Riverton</td><td>0.0000</td></tr><tr><td>Utah</td><td>Salt Lake City</td><td>0.0000</td></tr><tr><td>Utah</td><td>Sandy</td><td>665.4251</td></tr><tr><td>Utah</td><td>Tooele</td><td>0.0000</td></tr><tr><td>Washington</td><td>Bellevue</td><td>0.0000</td></tr><tr><td>Washington</td><td>Bellingham</td><td>0.0000</td></tr><tr><td>Washington</td><td>Bothell</td><td>0.0000</td></tr><tr><td>Washington</td><td>Chehalis</td><td>0.0000</td></tr><tr><td>Washington</td><td>Ellensburg</td><td>0.0000</td></tr><tr><td>Washington</td><td>Everett</td><td>0.0000</td></tr><tr><td>Washington</td><td>Federal Way</td><td>0.0000</td></tr><tr><td>Washington</td><td>Issaquah</td><td>0.0000</td></tr><tr><td>Washington</td><td>Kelso</td><td>0.0000</td></tr><tr><td>Washington</td><td>Kennewick</td><td>0.0000</td></tr><tr><td>Washington</td><td>Kent</td><td>0.0000</td></tr><tr><td>Washington</td><td>Kirkland</td><td>0.0000</td></tr><tr><td>Washington</td><td>Lacey</td><td>0.0000</td></tr><tr><td>Washington</td><td>Longview</td><td>0.0000</td></tr><tr><td>Washington</td><td>Lynnwood</td><td>0.0000</td></tr><tr><td>Washington</td><td>North Bend</td><td>0.0000</td></tr><tr><td>Washington</td><td>Port Orchard</td><td>0.0000</td></tr><tr><td>Washington</td><td>Puyallup</td><td>0.0000</td></tr><tr><td>Washington</td><td>Redmond</td><td>0.0000</td></tr><tr><td>Washington</td><td>Renton</td><td>0.0000</td></tr><tr><td>Washington</td><td>Seattle</td><td>0.0000</td></tr><tr><td>Washington</td><td>Sequim</td><td>0.0000</td></tr><tr><td>Washington</td><td>Shelton</td><td>0.0000</td></tr><tr><td>Washington</td><td>Spokane</td><td>0.0000</td></tr><tr><td>Washington</td><td>Tacoma</td><td>0.0000</td></tr><tr><td>Washington</td><td>Washougal</td><td>0.0000</td></tr><tr><td>Washington</td><td>Wenatchee</td><td>0.0000</td></tr><tr><td>Washington</td><td>Woodinville</td><td>0.0000</td></tr><tr><td>Wisconsin</td><td>Johnson Creek</td><td>0.0000</td></tr><tr><td>Wisconsin</td><td>Milwaukee</td><td>0.0000</td></tr><tr><td>Wisconsin</td><td>Mosinee</td><td>0.0000</td></tr><tr><td>Wisconsin</td><td>Racine</td><td>0.0000</td></tr><tr><td>Wyoming</td><td>Casper</td><td>0.0000</td></tr><tr><td>Wyoming</td><td>Cheyenne</td><td>0.0000</td></tr><tr><td>Wyoming</td><td>Rock Springs</td><td>0.0000</td></tr></table>"
                    }
                }
            ],
            "execution_count": 4
        },
        {
            "cell_type": "markdown",
            "source": [
                "# Using Temporary tables and Table variables"
            ],
            "metadata": {
                "azdata_cell_guid": "1e81fe2e-1cc6-4290-bac3-9a7152be9a40"
            }
        },
        {
            "cell_type": "code",
            "source": [
                "-- Create temporary table (stored in tempdb as tied to user session)\n",
                "CREATE TABLE #Colors\n",
                "(Color varchar(20));\n",
                "\n",
                "INSERT INTO #Colors\n",
                "SELECT DISTINCT Color FROM SalesLT.Product;\n",
                "\n",
                "SELECT * FROM #Colors;"
            ],
            "metadata": {
                "azdata_cell_guid": "4758fce3-b701-42fb-b11b-c362aaa295b6"
            },
            "outputs": [
                {
                    "output_type": "display_data",
                    "data": {
                        "text/html": "(10 rows affected)"
                    },
                    "metadata": {}
                },
                {
                    "output_type": "display_data",
                    "data": {
                        "text/html": "(10 rows affected)"
                    },
                    "metadata": {}
                },
                {
                    "output_type": "display_data",
                    "data": {
                        "text/html": "Total execution time: 00:00:00.004"
                    },
                    "metadata": {}
                },
                {
                    "output_type": "execute_result",
                    "metadata": {},
                    "execution_count": 9,
                    "data": {
                        "application/vnd.dataresource+json": {
                            "schema": {
                                "fields": [
                                    {
                                        "name": "Color"
                                    }
                                ]
                            },
                            "data": [
                                {
                                    "0": "NULL"
                                },
                                {
                                    "0": "Black"
                                },
                                {
                                    "0": "Blue"
                                },
                                {
                                    "0": "Grey"
                                },
                                {
                                    "0": "Multi"
                                },
                                {
                                    "0": "Red"
                                },
                                {
                                    "0": "Silver"
                                },
                                {
                                    "0": "Silver/Black"
                                },
                                {
                                    "0": "White"
                                },
                                {
                                    "0": "Yellow"
                                }
                            ]
                        },
                        "text/html": "<table><tr><th>Color</th></tr><tr><td>NULL</td></tr><tr><td>Black</td></tr><tr><td>Blue</td></tr><tr><td>Grey</td></tr><tr><td>Multi</td></tr><tr><td>Red</td></tr><tr><td>Silver</td></tr><tr><td>Silver/Black</td></tr><tr><td>White</td></tr><tr><td>Yellow</td></tr></table>"
                    }
                }
            ],
            "execution_count": 9
        },
        {
            "cell_type": "code",
            "source": [
                "-- Create Table variable (scoped to the batch of statements ran)\n",
                "DECLARE @Colors AS TABLE\n",
                "(Color varchar(20));\n",
                "\n",
                "INSERT INTO @Colors\n",
                "SELECT DISTINCT Color FROM SalesLT.Product;\n",
                "\n",
                "SELECT * FROM @Colors;"
            ],
            "metadata": {
                "azdata_cell_guid": "0d8b3d8e-a9be-49f3-b35d-6235b9ccd64b"
            },
            "outputs": [
                {
                    "output_type": "display_data",
                    "data": {
                        "text/html": "(10 rows affected)"
                    },
                    "metadata": {}
                },
                {
                    "output_type": "display_data",
                    "data": {
                        "text/html": "(10 rows affected)"
                    },
                    "metadata": {}
                },
                {
                    "output_type": "display_data",
                    "data": {
                        "text/html": "Total execution time: 00:00:00.008"
                    },
                    "metadata": {}
                },
                {
                    "output_type": "execute_result",
                    "metadata": {},
                    "execution_count": 10,
                    "data": {
                        "application/vnd.dataresource+json": {
                            "schema": {
                                "fields": [
                                    {
                                        "name": "Color"
                                    }
                                ]
                            },
                            "data": [
                                {
                                    "0": "NULL"
                                },
                                {
                                    "0": "Black"
                                },
                                {
                                    "0": "Blue"
                                },
                                {
                                    "0": "Grey"
                                },
                                {
                                    "0": "Multi"
                                },
                                {
                                    "0": "Red"
                                },
                                {
                                    "0": "Silver"
                                },
                                {
                                    "0": "Silver/Black"
                                },
                                {
                                    "0": "White"
                                },
                                {
                                    "0": "Yellow"
                                }
                            ]
                        },
                        "text/html": "<table><tr><th>Color</th></tr><tr><td>NULL</td></tr><tr><td>Black</td></tr><tr><td>Blue</td></tr><tr><td>Grey</td></tr><tr><td>Multi</td></tr><tr><td>Red</td></tr><tr><td>Silver</td></tr><tr><td>Silver/Black</td></tr><tr><td>White</td></tr><tr><td>Yellow</td></tr></table>"
                    }
                }
            ],
            "execution_count": 10
        },
        {
            "cell_type": "code",
            "source": [
                "-- New batch\n",
                "SELECT * FROM #Colors;  -- Scoped to user session\n",
                "\n",
                "SELECT * FROM Colors;   -- Scoped to the batch"
            ],
            "metadata": {
                "azdata_cell_guid": "27bf10c7-1528-4c4d-b4d1-75439954837e"
            },
            "outputs": [
                {
                    "output_type": "display_data",
                    "data": {
                        "text/html": "(10 rows affected)"
                    },
                    "metadata": {}
                },
                {
                    "output_type": "error",
                    "evalue": "Msg 208, Level 16, State 1, Line 4\nInvalid object name 'Colors'.",
                    "ename": "",
                    "traceback": []
                },
                {
                    "output_type": "display_data",
                    "data": {
                        "text/html": "Total execution time: 00:00:00.004"
                    },
                    "metadata": {}
                },
                {
                    "output_type": "execute_result",
                    "metadata": {},
                    "execution_count": 11,
                    "data": {
                        "application/vnd.dataresource+json": {
                            "schema": {
                                "fields": [
                                    {
                                        "name": "Color"
                                    }
                                ]
                            },
                            "data": [
                                {
                                    "0": "NULL"
                                },
                                {
                                    "0": "Black"
                                },
                                {
                                    "0": "Blue"
                                },
                                {
                                    "0": "Grey"
                                },
                                {
                                    "0": "Multi"
                                },
                                {
                                    "0": "Red"
                                },
                                {
                                    "0": "Silver"
                                },
                                {
                                    "0": "Silver/Black"
                                },
                                {
                                    "0": "White"
                                },
                                {
                                    "0": "Yellow"
                                }
                            ]
                        },
                        "text/html": "<table><tr><th>Color</th></tr><tr><td>NULL</td></tr><tr><td>Black</td></tr><tr><td>Blue</td></tr><tr><td>Grey</td></tr><tr><td>Multi</td></tr><tr><td>Red</td></tr><tr><td>Silver</td></tr><tr><td>Silver/Black</td></tr><tr><td>White</td></tr><tr><td>Yellow</td></tr></table>"
                    }
                }
            ],
            "execution_count": 11
        },
        {
            "cell_type": "markdown",
            "source": [
                "# Querying Table-Valued Functions"
            ],
            "metadata": {
                "azdata_cell_guid": "2d37adbc-3c47-496a-897b-1e3bae14c3d8"
            }
        },
        {
            "cell_type": "code",
            "source": [
                "-- Create a function that takes as input a City and returns Customers\n",
                "CREATE FUNCTION SalesLT.udfCustomersByCity(@City AS varchar(20))\n",
                "RETURNS TABLE\n",
                "AS\n",
                "RETURN\n",
                "(\n",
                "    SELECT c.CustomerID, c.FirstName, c.LastName, a.AddressLine1, a.City, a.StateProvince\n",
                "    FROM SalesLT.Customer AS c LEFT JOIN SalesLT.CustomerAddress AS ca ON c.CustomerID = ca.CustomerID\n",
                "    LEFT JOIN SalesLT.Address AS a ON ca.AddressID = a.AddressID\n",
                "    WHERE City = @City\n",
                ")"
            ],
            "metadata": {
                "azdata_cell_guid": "03db3e69-4dc4-4e32-8b3b-e50d8d6afe59"
            },
            "outputs": [
                {
                    "output_type": "display_data",
                    "data": {
                        "text/html": "Commands completed successfully."
                    },
                    "metadata": {}
                },
                {
                    "output_type": "display_data",
                    "data": {
                        "text/html": "Total execution time: 00:00:00.006"
                    },
                    "metadata": {}
                }
            ],
            "execution_count": 14
        },
        {
            "cell_type": "code",
            "source": [
                "-- Querying table-valued function\n",
                "SELECT * FROM SalesLT.udfCustomersByCity('Bellevue')"
            ],
            "metadata": {
                "azdata_cell_guid": "0140f54d-1521-4396-9463-1252a2d9350b"
            },
            "outputs": [
                {
                    "output_type": "display_data",
                    "data": {
                        "text/html": "(2 rows affected)"
                    },
                    "metadata": {}
                },
                {
                    "output_type": "display_data",
                    "data": {
                        "text/html": "Total execution time: 00:00:00.008"
                    },
                    "metadata": {}
                },
                {
                    "output_type": "execute_result",
                    "metadata": {},
                    "execution_count": 16,
                    "data": {
                        "application/vnd.dataresource+json": {
                            "schema": {
                                "fields": [
                                    {
                                        "name": "CustomerID"
                                    },
                                    {
                                        "name": "FirstName"
                                    },
                                    {
                                        "name": "LastName"
                                    },
                                    {
                                        "name": "AddressLine1"
                                    },
                                    {
                                        "name": "City"
                                    },
                                    {
                                        "name": "StateProvince"
                                    }
                                ]
                            },
                            "data": [
                                {
                                    "0": "29559",
                                    "1": "Robert",
                                    "2": "Bernacchi",
                                    "3": "2681 Eagle Peak",
                                    "4": "Bellevue",
                                    "5": "Washington"
                                },
                                {
                                    "0": "29559",
                                    "1": "Robert",
                                    "2": "Bernacchi",
                                    "3": "25915 140th Ave Ne",
                                    "4": "Bellevue",
                                    "5": "Washington"
                                }
                            ]
                        },
                        "text/html": "<table><tr><th>CustomerID</th><th>FirstName</th><th>LastName</th><th>AddressLine1</th><th>City</th><th>StateProvince</th></tr><tr><td>29559</td><td>Robert</td><td>Bernacchi</td><td>2681 Eagle Peak</td><td>Bellevue</td><td>Washington</td></tr><tr><td>29559</td><td>Robert</td><td>Bernacchi</td><td>25915 140th Ave Ne</td><td>Bellevue</td><td>Washington</td></tr></table>"
                    }
                }
            ],
            "execution_count": 16
        },
        {
            "cell_type": "markdown",
            "source": [
                "# Using Derived Tables"
            ],
            "metadata": {
                "azdata_cell_guid": "5df55b12-42fd-426c-a59d-7bb8cf550f27"
            }
        },
        {
            "cell_type": "code",
            "source": [
                "-- Find number of products for each product category\n",
                "SELECT ProdCats.CategoryName, COUNT(ProdCats.ProductID) AS ProductCount\n",
                "FROM (SELECT p.ProductID, p.Name AS ProductName, pc.Name AS CategoryName\n",
                "      FROM SalesLT.Product AS p JOIN SalesLT.ProductCategory AS pc ON p.ProductCategoryID = pc.ProductCategoryID) AS ProdCats\n",
                "GROUP BY CategoryName\n",
                "ORDER BY CategoryName"
            ],
            "metadata": {
                "azdata_cell_guid": "563a3800-52f2-4b54-af4f-aceba8eee507"
            },
            "outputs": [
                {
                    "output_type": "display_data",
                    "data": {
                        "text/html": "(37 rows affected)"
                    },
                    "metadata": {}
                },
                {
                    "output_type": "display_data",
                    "data": {
                        "text/html": "Total execution time: 00:00:00.009"
                    },
                    "metadata": {}
                },
                {
                    "output_type": "execute_result",
                    "metadata": {},
                    "execution_count": 26,
                    "data": {
                        "application/vnd.dataresource+json": {
                            "schema": {
                                "fields": [
                                    {
                                        "name": "CategoryName"
                                    },
                                    {
                                        "name": "ProductCount"
                                    }
                                ]
                            },
                            "data": [
                                {
                                    "0": "Bib-Shorts",
                                    "1": "3"
                                },
                                {
                                    "0": "Bike Racks",
                                    "1": "1"
                                },
                                {
                                    "0": "Bike Stands",
                                    "1": "1"
                                },
                                {
                                    "0": "Bottles and Cages",
                                    "1": "3"
                                },
                                {
                                    "0": "Bottom Brackets",
                                    "1": "3"
                                },
                                {
                                    "0": "Brakes",
                                    "1": "2"
                                },
                                {
                                    "0": "Caps",
                                    "1": "1"
                                },
                                {
                                    "0": "Chains",
                                    "1": "1"
                                },
                                {
                                    "0": "Cleaners",
                                    "1": "1"
                                },
                                {
                                    "0": "Cranksets",
                                    "1": "3"
                                },
                                {
                                    "0": "Derailleurs",
                                    "1": "2"
                                },
                                {
                                    "0": "Fenders",
                                    "1": "1"
                                },
                                {
                                    "0": "Forks",
                                    "1": "3"
                                },
                                {
                                    "0": "Gloves",
                                    "1": "6"
                                },
                                {
                                    "0": "Handlebars",
                                    "1": "8"
                                },
                                {
                                    "0": "Headsets",
                                    "1": "3"
                                },
                                {
                                    "0": "Helmets",
                                    "1": "3"
                                },
                                {
                                    "0": "Hydration Packs",
                                    "1": "1"
                                },
                                {
                                    "0": "Jerseys",
                                    "1": "8"
                                },
                                {
                                    "0": "Lights",
                                    "1": "3"
                                },
                                {
                                    "0": "Locks",
                                    "1": "1"
                                },
                                {
                                    "0": "Mountain Bikes",
                                    "1": "32"
                                },
                                {
                                    "0": "Mountain Frames",
                                    "1": "28"
                                },
                                {
                                    "0": "Panniers",
                                    "1": "1"
                                },
                                {
                                    "0": "Pedals",
                                    "1": "7"
                                },
                                {
                                    "0": "Pumps",
                                    "1": "2"
                                },
                                {
                                    "0": "Road Bikes",
                                    "1": "43"
                                },
                                {
                                    "0": "Road Frames",
                                    "1": "33"
                                },
                                {
                                    "0": "Saddles",
                                    "1": "9"
                                },
                                {
                                    "0": "Shorts",
                                    "1": "7"
                                },
                                {
                                    "0": "Socks",
                                    "1": "4"
                                },
                                {
                                    "0": "Tights",
                                    "1": "3"
                                },
                                {
                                    "0": "Tires and Tubes",
                                    "1": "11"
                                },
                                {
                                    "0": "Touring Bikes",
                                    "1": "22"
                                },
                                {
                                    "0": "Touring Frames",
                                    "1": "18"
                                },
                                {
                                    "0": "Vests",
                                    "1": "3"
                                },
                                {
                                    "0": "Wheels",
                                    "1": "14"
                                }
                            ]
                        },
                        "text/html": "<table><tr><th>CategoryName</th><th>ProductCount</th></tr><tr><td>Bib-Shorts</td><td>3</td></tr><tr><td>Bike Racks</td><td>1</td></tr><tr><td>Bike Stands</td><td>1</td></tr><tr><td>Bottles and Cages</td><td>3</td></tr><tr><td>Bottom Brackets</td><td>3</td></tr><tr><td>Brakes</td><td>2</td></tr><tr><td>Caps</td><td>1</td></tr><tr><td>Chains</td><td>1</td></tr><tr><td>Cleaners</td><td>1</td></tr><tr><td>Cranksets</td><td>3</td></tr><tr><td>Derailleurs</td><td>2</td></tr><tr><td>Fenders</td><td>1</td></tr><tr><td>Forks</td><td>3</td></tr><tr><td>Gloves</td><td>6</td></tr><tr><td>Handlebars</td><td>8</td></tr><tr><td>Headsets</td><td>3</td></tr><tr><td>Helmets</td><td>3</td></tr><tr><td>Hydration Packs</td><td>1</td></tr><tr><td>Jerseys</td><td>8</td></tr><tr><td>Lights</td><td>3</td></tr><tr><td>Locks</td><td>1</td></tr><tr><td>Mountain Bikes</td><td>32</td></tr><tr><td>Mountain Frames</td><td>28</td></tr><tr><td>Panniers</td><td>1</td></tr><tr><td>Pedals</td><td>7</td></tr><tr><td>Pumps</td><td>2</td></tr><tr><td>Road Bikes</td><td>43</td></tr><tr><td>Road Frames</td><td>33</td></tr><tr><td>Saddles</td><td>9</td></tr><tr><td>Shorts</td><td>7</td></tr><tr><td>Socks</td><td>4</td></tr><tr><td>Tights</td><td>3</td></tr><tr><td>Tires and Tubes</td><td>11</td></tr><tr><td>Touring Bikes</td><td>22</td></tr><tr><td>Touring Frames</td><td>18</td></tr><tr><td>Vests</td><td>3</td></tr><tr><td>Wheels</td><td>14</td></tr></table>"
                    }
                }
            ],
            "execution_count": 26
        },
        {
            "cell_type": "markdown",
            "source": [
                "# Using Common Table Expressions (CTEs)"
            ],
            "metadata": {
                "azdata_cell_guid": "f7bf49b6-b01d-4f36-ba23-20668b7dab52"
            }
        },
        {
            "cell_type": "code",
            "source": [
                "-- Find number of products for each product category\n",
                "WITH ProductsByCategory(ProductID, ProductName, CategoryName)\n",
                "AS (\n",
                "    SELECT p.ProductID, p.Name, pc.Name\n",
                "    FROM SalesLT.Product AS p JOIN SalesLT.ProductCategory AS pc \n",
                "    ON p.ProductCategoryID = pc.ProductCategoryID\n",
                ")\n",
                "\n",
                "SELECT CategoryName, COUNT(ProductID) AS ProductCount\n",
                "FROM ProductsByCategory\n",
                "GROUP BY CategoryName\n",
                "ORDER BY CategoryName"
            ],
            "metadata": {
                "azdata_cell_guid": "93798d40-c67c-4b5f-82a0-ab7996059c12"
            },
            "outputs": [
                {
                    "output_type": "display_data",
                    "data": {
                        "text/html": "(37 rows affected)"
                    },
                    "metadata": {}
                },
                {
                    "output_type": "display_data",
                    "data": {
                        "text/html": "Total execution time: 00:00:00.008"
                    },
                    "metadata": {}
                },
                {
                    "output_type": "execute_result",
                    "metadata": {},
                    "execution_count": 39,
                    "data": {
                        "application/vnd.dataresource+json": {
                            "schema": {
                                "fields": [
                                    {
                                        "name": "CategoryName"
                                    },
                                    {
                                        "name": "ProductCount"
                                    }
                                ]
                            },
                            "data": [
                                {
                                    "0": "Bib-Shorts",
                                    "1": "3"
                                },
                                {
                                    "0": "Bike Racks",
                                    "1": "1"
                                },
                                {
                                    "0": "Bike Stands",
                                    "1": "1"
                                },
                                {
                                    "0": "Bottles and Cages",
                                    "1": "3"
                                },
                                {
                                    "0": "Bottom Brackets",
                                    "1": "3"
                                },
                                {
                                    "0": "Brakes",
                                    "1": "2"
                                },
                                {
                                    "0": "Caps",
                                    "1": "1"
                                },
                                {
                                    "0": "Chains",
                                    "1": "1"
                                },
                                {
                                    "0": "Cleaners",
                                    "1": "1"
                                },
                                {
                                    "0": "Cranksets",
                                    "1": "3"
                                },
                                {
                                    "0": "Derailleurs",
                                    "1": "2"
                                },
                                {
                                    "0": "Fenders",
                                    "1": "1"
                                },
                                {
                                    "0": "Forks",
                                    "1": "3"
                                },
                                {
                                    "0": "Gloves",
                                    "1": "6"
                                },
                                {
                                    "0": "Handlebars",
                                    "1": "8"
                                },
                                {
                                    "0": "Headsets",
                                    "1": "3"
                                },
                                {
                                    "0": "Helmets",
                                    "1": "3"
                                },
                                {
                                    "0": "Hydration Packs",
                                    "1": "1"
                                },
                                {
                                    "0": "Jerseys",
                                    "1": "8"
                                },
                                {
                                    "0": "Lights",
                                    "1": "3"
                                },
                                {
                                    "0": "Locks",
                                    "1": "1"
                                },
                                {
                                    "0": "Mountain Bikes",
                                    "1": "32"
                                },
                                {
                                    "0": "Mountain Frames",
                                    "1": "28"
                                },
                                {
                                    "0": "Panniers",
                                    "1": "1"
                                },
                                {
                                    "0": "Pedals",
                                    "1": "7"
                                },
                                {
                                    "0": "Pumps",
                                    "1": "2"
                                },
                                {
                                    "0": "Road Bikes",
                                    "1": "43"
                                },
                                {
                                    "0": "Road Frames",
                                    "1": "33"
                                },
                                {
                                    "0": "Saddles",
                                    "1": "9"
                                },
                                {
                                    "0": "Shorts",
                                    "1": "7"
                                },
                                {
                                    "0": "Socks",
                                    "1": "4"
                                },
                                {
                                    "0": "Tights",
                                    "1": "3"
                                },
                                {
                                    "0": "Tires and Tubes",
                                    "1": "11"
                                },
                                {
                                    "0": "Touring Bikes",
                                    "1": "22"
                                },
                                {
                                    "0": "Touring Frames",
                                    "1": "18"
                                },
                                {
                                    "0": "Vests",
                                    "1": "3"
                                },
                                {
                                    "0": "Wheels",
                                    "1": "14"
                                }
                            ]
                        },
                        "text/html": "<table><tr><th>CategoryName</th><th>ProductCount</th></tr><tr><td>Bib-Shorts</td><td>3</td></tr><tr><td>Bike Racks</td><td>1</td></tr><tr><td>Bike Stands</td><td>1</td></tr><tr><td>Bottles and Cages</td><td>3</td></tr><tr><td>Bottom Brackets</td><td>3</td></tr><tr><td>Brakes</td><td>2</td></tr><tr><td>Caps</td><td>1</td></tr><tr><td>Chains</td><td>1</td></tr><tr><td>Cleaners</td><td>1</td></tr><tr><td>Cranksets</td><td>3</td></tr><tr><td>Derailleurs</td><td>2</td></tr><tr><td>Fenders</td><td>1</td></tr><tr><td>Forks</td><td>3</td></tr><tr><td>Gloves</td><td>6</td></tr><tr><td>Handlebars</td><td>8</td></tr><tr><td>Headsets</td><td>3</td></tr><tr><td>Helmets</td><td>3</td></tr><tr><td>Hydration Packs</td><td>1</td></tr><tr><td>Jerseys</td><td>8</td></tr><tr><td>Lights</td><td>3</td></tr><tr><td>Locks</td><td>1</td></tr><tr><td>Mountain Bikes</td><td>32</td></tr><tr><td>Mountain Frames</td><td>28</td></tr><tr><td>Panniers</td><td>1</td></tr><tr><td>Pedals</td><td>7</td></tr><tr><td>Pumps</td><td>2</td></tr><tr><td>Road Bikes</td><td>43</td></tr><tr><td>Road Frames</td><td>33</td></tr><tr><td>Saddles</td><td>9</td></tr><tr><td>Shorts</td><td>7</td></tr><tr><td>Socks</td><td>4</td></tr><tr><td>Tights</td><td>3</td></tr><tr><td>Tires and Tubes</td><td>11</td></tr><tr><td>Touring Bikes</td><td>22</td></tr><tr><td>Touring Frames</td><td>18</td></tr><tr><td>Vests</td><td>3</td></tr><tr><td>Wheels</td><td>14</td></tr></table>"
                    }
                }
            ],
            "execution_count": 39
        },
        {
            "cell_type": "code",
            "source": [
                "-- Using CTEs to perform recursion \n",
                "-- Using Employee table display ManagerID, EmployeeID, EmployeeName, Level (order in management hierarchy)\n",
                "WITH OrgReport(ManagerID, EmployeeID, EmployeeName, Level)\n",
                "AS (\n",
                "    -- Anchor query\n",
                "    SELECT e.ManagerID, e.EmployeeID, e.EmployeeName, 0\n",
                "    FROM SalesLT.Employee AS e\n",
                "    WHERE ManagerID IS NULL\n",
                "\n",
                "    UNION ALL\n",
                "\n",
                "    -- Recursice query\n",
                "    SELECT e.ManagerID, e.EmployeeID, e.EmployeeName, Level + 1\n",
                "    FROM SalesLT.Employee AS e\n",
                "    JOIN OrgReport AS o\n",
                "    ON e.ManagerID = o.EmployeeID\n",
                ")\n",
                "\n",
                "SELECT * FROM OrgReport\n",
                "OPTION(MAXRECURSION 3)\n",
                "-- Note: We know there's only 3 levels in total in management hierarchy"
            ],
            "metadata": {
                "azdata_cell_guid": "1187637e-c53f-4d92-8341-f2f5b7ed074e",
                "tags": []
            },
            "outputs": [
                {
                    "output_type": "display_data",
                    "data": {
                        "text/html": "(9 rows affected)"
                    },
                    "metadata": {}
                },
                {
                    "output_type": "display_data",
                    "data": {
                        "text/html": "Total execution time: 00:00:00.006"
                    },
                    "metadata": {}
                },
                {
                    "output_type": "execute_result",
                    "metadata": {},
                    "execution_count": 41,
                    "data": {
                        "application/vnd.dataresource+json": {
                            "schema": {
                                "fields": [
                                    {
                                        "name": "ManagerID"
                                    },
                                    {
                                        "name": "EmployeeID"
                                    },
                                    {
                                        "name": "EmployeeName"
                                    },
                                    {
                                        "name": "Level"
                                    }
                                ]
                            },
                            "data": [
                                {
                                    "0": "NULL",
                                    "1": "3",
                                    "2": "adventure-works\\jae0",
                                    "3": "0"
                                },
                                {
                                    "0": "3",
                                    "1": "4",
                                    "2": "adventure-works\\jillian0",
                                    "3": "1"
                                },
                                {
                                    "0": "3",
                                    "1": "6",
                                    "2": "adventure-works\\linda3",
                                    "3": "1"
                                },
                                {
                                    "0": "3",
                                    "1": "8",
                                    "2": "adventure-works\\pamela0",
                                    "3": "1"
                                },
                                {
                                    "0": "3",
                                    "1": "9",
                                    "2": "adventure-works\\shu0",
                                    "3": "1"
                                },
                                {
                                    "0": "9",
                                    "1": "7",
                                    "2": "adventure-works\\michael9",
                                    "3": "2"
                                },
                                {
                                    "0": "8",
                                    "1": "1",
                                    "2": "adventure-works\\david8",
                                    "3": "2"
                                },
                                {
                                    "0": "1",
                                    "1": "2",
                                    "2": "adventure-works\\garrett1",
                                    "3": "3"
                                },
                                {
                                    "0": "1",
                                    "1": "5",
                                    "2": "adventure-works\\josé1",
                                    "3": "3"
                                }
                            ]
                        },
                        "text/html": "<table><tr><th>ManagerID</th><th>EmployeeID</th><th>EmployeeName</th><th>Level</th></tr><tr><td>NULL</td><td>3</td><td>adventure-works\\jae0</td><td>0</td></tr><tr><td>3</td><td>4</td><td>adventure-works\\jillian0</td><td>1</td></tr><tr><td>3</td><td>6</td><td>adventure-works\\linda3</td><td>1</td></tr><tr><td>3</td><td>8</td><td>adventure-works\\pamela0</td><td>1</td></tr><tr><td>3</td><td>9</td><td>adventure-works\\shu0</td><td>1</td></tr><tr><td>9</td><td>7</td><td>adventure-works\\michael9</td><td>2</td></tr><tr><td>8</td><td>1</td><td>adventure-works\\david8</td><td>2</td></tr><tr><td>1</td><td>2</td><td>adventure-works\\garrett1</td><td>3</td></tr><tr><td>1</td><td>5</td><td>adventure-works\\josé1</td><td>3</td></tr></table>"
                    }
                }
            ],
            "execution_count": 41
        }
    ]
}