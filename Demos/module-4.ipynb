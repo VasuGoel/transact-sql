{
    "metadata": {
        "kernelspec": {
            "name": "SQL",
            "display_name": "SQL",
            "language": "sql"
        },
        "language_info": {
            "name": "sql",
            "version": ""
        }
    },
    "nbformat_minor": 2,
    "nbformat": 4,
    "cells": [
        {
            "cell_type": "markdown",
            "source": [
                "# Creating UNION Queries"
            ],
            "metadata": {
                "azdata_cell_guid": "3fb704ba-29dd-450d-bcbf-2ec3d6775434"
            }
        },
        {
            "cell_type": "code",
            "source": [
                "SELECT DISTINCT c.SalesPerson AS Folks\n",
                "FROM SalesLT.Customer as c\n",
                "UNION\n",
                "SELECT e.EmployeeName\n",
                "FROM SalesLT.Employee as e\n",
                "\n",
                "\n",
                "SELECT DISTINCT c.SalesPerson AS 'Folks', 'SalesPerson' as Type\n",
                "FROM SalesLT.Customer as c\n",
                "UNION\n",
                "SELECT e.EmployeeName, 'Employee'\n",
                "FROM SalesLT.Employee as e\n",
                "-- Note: UNION ALL allows duplicates from results of all queries i.e, it doesn't require the overhead to check for duplicates"
            ],
            "metadata": {
                "azdata_cell_guid": "3e0a58c3-53f1-4bd0-a12d-a9aff12755fb"
            },
            "outputs": [
                {
                    "output_type": "display_data",
                    "data": {
                        "text/html": "(9 rows affected)"
                    },
                    "metadata": {}
                },
                {
                    "output_type": "display_data",
                    "data": {
                        "text/html": "(18 rows affected)"
                    },
                    "metadata": {}
                },
                {
                    "output_type": "display_data",
                    "data": {
                        "text/html": "Total execution time: 00:00:00.016"
                    },
                    "metadata": {}
                },
                {
                    "output_type": "execute_result",
                    "metadata": {},
                    "execution_count": 11,
                    "data": {
                        "application/vnd.dataresource+json": {
                            "schema": {
                                "fields": [
                                    {
                                        "name": "Folks"
                                    }
                                ]
                            },
                            "data": [
                                {
                                    "0": "adventure-works\\david8"
                                },
                                {
                                    "0": "adventure-works\\garrett1"
                                },
                                {
                                    "0": "adventure-works\\jae0"
                                },
                                {
                                    "0": "adventure-works\\jillian0"
                                },
                                {
                                    "0": "adventure-works\\josé1"
                                },
                                {
                                    "0": "adventure-works\\linda3"
                                },
                                {
                                    "0": "adventure-works\\michael9"
                                },
                                {
                                    "0": "adventure-works\\pamela0"
                                },
                                {
                                    "0": "adventure-works\\shu0"
                                }
                            ]
                        },
                        "text/html": "<table><tr><th>Folks</th></tr><tr><td>adventure-works\\david8</td></tr><tr><td>adventure-works\\garrett1</td></tr><tr><td>adventure-works\\jae0</td></tr><tr><td>adventure-works\\jillian0</td></tr><tr><td>adventure-works\\josé1</td></tr><tr><td>adventure-works\\linda3</td></tr><tr><td>adventure-works\\michael9</td></tr><tr><td>adventure-works\\pamela0</td></tr><tr><td>adventure-works\\shu0</td></tr></table>"
                    }
                },
                {
                    "output_type": "execute_result",
                    "metadata": {},
                    "execution_count": 11,
                    "data": {
                        "application/vnd.dataresource+json": {
                            "schema": {
                                "fields": [
                                    {
                                        "name": "Folks"
                                    },
                                    {
                                        "name": "Type"
                                    }
                                ]
                            },
                            "data": [
                                {
                                    "0": "adventure-works\\david8",
                                    "1": "SalesPerson"
                                },
                                {
                                    "0": "adventure-works\\garrett1",
                                    "1": "SalesPerson"
                                },
                                {
                                    "0": "adventure-works\\jae0",
                                    "1": "SalesPerson"
                                },
                                {
                                    "0": "adventure-works\\jillian0",
                                    "1": "SalesPerson"
                                },
                                {
                                    "0": "adventure-works\\josé1",
                                    "1": "SalesPerson"
                                },
                                {
                                    "0": "adventure-works\\linda3",
                                    "1": "SalesPerson"
                                },
                                {
                                    "0": "adventure-works\\michael9",
                                    "1": "SalesPerson"
                                },
                                {
                                    "0": "adventure-works\\pamela0",
                                    "1": "SalesPerson"
                                },
                                {
                                    "0": "adventure-works\\shu0",
                                    "1": "SalesPerson"
                                },
                                {
                                    "0": "adventure-works\\david8",
                                    "1": "Employee"
                                },
                                {
                                    "0": "adventure-works\\garrett1",
                                    "1": "Employee"
                                },
                                {
                                    "0": "adventure-works\\jae0",
                                    "1": "Employee"
                                },
                                {
                                    "0": "adventure-works\\jillian0",
                                    "1": "Employee"
                                },
                                {
                                    "0": "adventure-works\\josé1",
                                    "1": "Employee"
                                },
                                {
                                    "0": "adventure-works\\linda3",
                                    "1": "Employee"
                                },
                                {
                                    "0": "adventure-works\\michael9",
                                    "1": "Employee"
                                },
                                {
                                    "0": "adventure-works\\pamela0",
                                    "1": "Employee"
                                },
                                {
                                    "0": "adventure-works\\shu0",
                                    "1": "Employee"
                                }
                            ]
                        },
                        "text/html": "<table><tr><th>Folks</th><th>Type</th></tr><tr><td>adventure-works\\david8</td><td>SalesPerson</td></tr><tr><td>adventure-works\\garrett1</td><td>SalesPerson</td></tr><tr><td>adventure-works\\jae0</td><td>SalesPerson</td></tr><tr><td>adventure-works\\jillian0</td><td>SalesPerson</td></tr><tr><td>adventure-works\\josé1</td><td>SalesPerson</td></tr><tr><td>adventure-works\\linda3</td><td>SalesPerson</td></tr><tr><td>adventure-works\\michael9</td><td>SalesPerson</td></tr><tr><td>adventure-works\\pamela0</td><td>SalesPerson</td></tr><tr><td>adventure-works\\shu0</td><td>SalesPerson</td></tr><tr><td>adventure-works\\david8</td><td>Employee</td></tr><tr><td>adventure-works\\garrett1</td><td>Employee</td></tr><tr><td>adventure-works\\jae0</td><td>Employee</td></tr><tr><td>adventure-works\\jillian0</td><td>Employee</td></tr><tr><td>adventure-works\\josé1</td><td>Employee</td></tr><tr><td>adventure-works\\linda3</td><td>Employee</td></tr><tr><td>adventure-works\\michael9</td><td>Employee</td></tr><tr><td>adventure-works\\pamela0</td><td>Employee</td></tr><tr><td>adventure-works\\shu0</td><td>Employee</td></tr></table>"
                    }
                }
            ],
            "execution_count": 11
        },
        {
            "cell_type": "markdown",
            "source": [
                "# Creating INTERSECT and EXCEPT Queries"
            ],
            "metadata": {
                "azdata_cell_guid": "65e419d4-3b30-4390-b304-1565634c4e89"
            }
        },
        {
            "cell_type": "code",
            "source": [
                "SELECT c.SalesPerson as 'Folks'\n",
                "FROM SalesLT.Customer as c\n",
                "INTERSECT\n",
                "SELECT e.EmployeeName\n",
                "FROM SalesLT.Employee as e\n",
                "\n",
                "\n",
                "SELECT c.SalesPerson as 'Folks', 'SalesPerson' as Type\n",
                "FROM SalesLT.Customer as c\n",
                "INTERSECT\n",
                "SELECT e.EmployeeName, 'Employee'\n",
                "FROM SalesLT.Employee as e"
            ],
            "metadata": {
                "azdata_cell_guid": "60b592b9-25bb-4c94-b787-b30e9fcb0215"
            },
            "outputs": [
                {
                    "output_type": "display_data",
                    "data": {
                        "text/html": "(9 rows affected)"
                    },
                    "metadata": {}
                },
                {
                    "output_type": "display_data",
                    "data": {
                        "text/html": "(0 rows affected)"
                    },
                    "metadata": {}
                },
                {
                    "output_type": "display_data",
                    "data": {
                        "text/html": "Total execution time: 00:00:00.015"
                    },
                    "metadata": {}
                },
                {
                    "output_type": "execute_result",
                    "metadata": {},
                    "execution_count": 13,
                    "data": {
                        "application/vnd.dataresource+json": {
                            "schema": {
                                "fields": [
                                    {
                                        "name": "Folks"
                                    }
                                ]
                            },
                            "data": [
                                {
                                    "0": "adventure-works\\david8"
                                },
                                {
                                    "0": "adventure-works\\garrett1"
                                },
                                {
                                    "0": "adventure-works\\jae0"
                                },
                                {
                                    "0": "adventure-works\\jillian0"
                                },
                                {
                                    "0": "adventure-works\\josé1"
                                },
                                {
                                    "0": "adventure-works\\linda3"
                                },
                                {
                                    "0": "adventure-works\\michael9"
                                },
                                {
                                    "0": "adventure-works\\pamela0"
                                },
                                {
                                    "0": "adventure-works\\shu0"
                                }
                            ]
                        },
                        "text/html": "<table><tr><th>Folks</th></tr><tr><td>adventure-works\\david8</td></tr><tr><td>adventure-works\\garrett1</td></tr><tr><td>adventure-works\\jae0</td></tr><tr><td>adventure-works\\jillian0</td></tr><tr><td>adventure-works\\josé1</td></tr><tr><td>adventure-works\\linda3</td></tr><tr><td>adventure-works\\michael9</td></tr><tr><td>adventure-works\\pamela0</td></tr><tr><td>adventure-works\\shu0</td></tr></table>"
                    }
                },
                {
                    "output_type": "execute_result",
                    "metadata": {},
                    "execution_count": 13,
                    "data": {
                        "application/vnd.dataresource+json": {
                            "schema": {
                                "fields": [
                                    {
                                        "name": "Folks"
                                    },
                                    {
                                        "name": "Type"
                                    }
                                ]
                            },
                            "data": []
                        },
                        "text/html": "<table><tr><th>Folks</th><th>Type</th></tr></table>"
                    }
                }
            ],
            "execution_count": 13
        },
        {
            "cell_type": "code",
            "source": [
                "SELECT c.SalesPerson as 'Folks', 'SalesPerson' as Type\n",
                "FROM SalesLT.Customer as c\n",
                "EXCEPT\n",
                "SELECT e.EmployeeName, 'Employee'\n",
                "FROM SalesLT.Employee as e\n",
                "\n",
                "\n",
                "SELECT c.SalesPerson as 'Folks'\n",
                "FROM SalesLT.Customer as c\n",
                "EXCEPT\n",
                "SELECT e.EmployeeName\n",
                "FROM SalesLT.Employee as e"
            ],
            "metadata": {
                "azdata_cell_guid": "caa45fb4-9a61-4484-aafe-1da6b6a2fb2c"
            },
            "outputs": [
                {
                    "output_type": "display_data",
                    "data": {
                        "text/html": "(9 rows affected)"
                    },
                    "metadata": {}
                },
                {
                    "output_type": "display_data",
                    "data": {
                        "text/html": "(0 rows affected)"
                    },
                    "metadata": {}
                },
                {
                    "output_type": "display_data",
                    "data": {
                        "text/html": "Total execution time: 00:00:00.019"
                    },
                    "metadata": {}
                },
                {
                    "output_type": "execute_result",
                    "metadata": {},
                    "execution_count": 19,
                    "data": {
                        "application/vnd.dataresource+json": {
                            "schema": {
                                "fields": [
                                    {
                                        "name": "Folks"
                                    },
                                    {
                                        "name": "Type"
                                    }
                                ]
                            },
                            "data": [
                                {
                                    "0": "adventure-works\\david8",
                                    "1": "SalesPerson"
                                },
                                {
                                    "0": "adventure-works\\garrett1",
                                    "1": "SalesPerson"
                                },
                                {
                                    "0": "adventure-works\\jae0",
                                    "1": "SalesPerson"
                                },
                                {
                                    "0": "adventure-works\\jillian0",
                                    "1": "SalesPerson"
                                },
                                {
                                    "0": "adventure-works\\josé1",
                                    "1": "SalesPerson"
                                },
                                {
                                    "0": "adventure-works\\linda3",
                                    "1": "SalesPerson"
                                },
                                {
                                    "0": "adventure-works\\michael9",
                                    "1": "SalesPerson"
                                },
                                {
                                    "0": "adventure-works\\pamela0",
                                    "1": "SalesPerson"
                                },
                                {
                                    "0": "adventure-works\\shu0",
                                    "1": "SalesPerson"
                                }
                            ]
                        },
                        "text/html": "<table><tr><th>Folks</th><th>Type</th></tr><tr><td>adventure-works\\david8</td><td>SalesPerson</td></tr><tr><td>adventure-works\\garrett1</td><td>SalesPerson</td></tr><tr><td>adventure-works\\jae0</td><td>SalesPerson</td></tr><tr><td>adventure-works\\jillian0</td><td>SalesPerson</td></tr><tr><td>adventure-works\\josé1</td><td>SalesPerson</td></tr><tr><td>adventure-works\\linda3</td><td>SalesPerson</td></tr><tr><td>adventure-works\\michael9</td><td>SalesPerson</td></tr><tr><td>adventure-works\\pamela0</td><td>SalesPerson</td></tr><tr><td>adventure-works\\shu0</td><td>SalesPerson</td></tr></table>"
                    }
                },
                {
                    "output_type": "execute_result",
                    "metadata": {},
                    "execution_count": 19,
                    "data": {
                        "application/vnd.dataresource+json": {
                            "schema": {
                                "fields": [
                                    {
                                        "name": "Folks"
                                    }
                                ]
                            },
                            "data": []
                        },
                        "text/html": "<table><tr><th>Folks</th></tr></table>"
                    }
                }
            ],
            "execution_count": 19
        }
    ]
}