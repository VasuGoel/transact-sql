{
    "metadata": {
        "kernelspec": {
            "name": "SQL",
            "display_name": "SQL",
            "language": "sql"
        },
        "language_info": {
            "name": "sql",
            "version": ""
        }
    },
    "nbformat_minor": 2,
    "nbformat": 4,
    "cells": [
        {
            "cell_type": "markdown",
            "source": [
                "# Raising Errors"
            ],
            "metadata": {
                "azdata_cell_guid": "363a95fa-7a2c-4b17-9471-8c3173ad1d5a"
            }
        },
        {
            "cell_type": "code",
            "source": [
                "-- View a system message\n",
                "INSERT INTO SalesLT.SalesOrderDetail (SalesOrderID, OrderQty, ProductID, UnitPrice, UnitPriceDiscount)\n",
                "VALUES (7617852, 1, 680, 1431.50, 0.00);"
            ],
            "metadata": {
                "azdata_cell_guid": "4ce2b459-e932-456e-a5a9-4d2acfb8d789"
            },
            "outputs": [
                {
                    "output_type": "error",
                    "ename": "",
                    "evalue": "Msg 547, Level 16, State 0, Line 2\nThe INSERT statement conflicted with the FOREIGN KEY constraint \"FK_SalesOrderDetail_SalesOrderHeader_SalesOrderID\". The conflict occurred in database \"AdventureWorksLT\", table \"SalesLT.SalesOrderHeader\", column 'SalesOrderID'.",
                    "traceback": []
                },
                {
                    "output_type": "display_data",
                    "data": {
                        "text/html": "The statement has been terminated."
                    },
                    "metadata": {}
                },
                {
                    "output_type": "display_data",
                    "data": {
                        "text/html": "Total execution time: 00:00:00.083"
                    },
                    "metadata": {}
                }
            ],
            "execution_count": 1
        },
        {
            "cell_type": "code",
            "source": [
                "-- Raise error with RAISERROR\n",
                "UPDATE SalesLT.Product\n",
                "SET DiscontinuedDate = GETDATE()\n",
                "WHERE ProductID = 8261372388;\n",
                "\n",
                "IF @@ROWCOUNT < 1\n",
                "    RAISERROR('No product with that ProductID was found. No products updated.', 16, 0);"
            ],
            "metadata": {
                "azdata_cell_guid": "c61fed03-ccd7-498f-88b9-2e47178a0974",
                "tags": []
            },
            "outputs": [
                {
                    "output_type": "display_data",
                    "data": {
                        "text/html": "(0 rows affected)"
                    },
                    "metadata": {}
                },
                {
                    "output_type": "error",
                    "ename": "",
                    "evalue": "Msg 50000, Level 16, State 0, Line 7\nNo product with that ProductID was found. No products updated.",
                    "traceback": []
                },
                {
                    "output_type": "display_data",
                    "data": {
                        "text/html": "Total execution time: 00:00:00.004"
                    },
                    "metadata": {}
                }
            ],
            "execution_count": 4
        },
        {
            "cell_type": "code",
            "source": [
                "-- Raise error with THROW\n",
                "UPDATE SalesLT.Product\n",
                "SET DiscontinuedDate = GETDATE()\n",
                "WHERE ProductID = 8261372388;\n",
                "\n",
                "IF @@ROWCOUNT < 1\n",
                "    THROW 50001, 'No product with that ProductID was found. No products updated.', 0;"
            ],
            "metadata": {
                "azdata_cell_guid": "5e9a0041-6c26-4764-83da-a7ab1e6235a8"
            },
            "outputs": [
                {
                    "output_type": "display_data",
                    "data": {
                        "text/html": "(0 rows affected)"
                    },
                    "metadata": {}
                },
                {
                    "output_type": "error",
                    "ename": "",
                    "evalue": "Msg 50001, Level 16, State 0, Line 7\nNo product with that ProductID was found. No products updated.",
                    "traceback": []
                },
                {
                    "output_type": "display_data",
                    "data": {
                        "text/html": "Total execution time: 00:00:00.004"
                    },
                    "metadata": {}
                }
            ],
            "execution_count": 6
        },
        {
            "cell_type": "markdown",
            "source": [
                "# Catching and Handling Errors"
            ],
            "metadata": {
                "azdata_cell_guid": "2b2a3320-3e4f-4fda-9ce1-6f0a55369d2e"
            }
        },
        {
            "cell_type": "code",
            "source": [
                "-- Catch and error\n",
                "BEGIN TRY\n",
                "    UPDATE SalesLT.Product\n",
                "    SET ProductNumber = ProductID / ISNULL(Weight, 0);\n",
                "END TRY\n",
                "BEGIN CATCH\n",
                "    PRINT 'The following error occured: ' + ERROR_MESSAGE();\n",
                "END CATCH"
            ],
            "metadata": {
                "azdata_cell_guid": "8683f61b-fe2d-46b8-90d5-7a44aac6b8ef",
                "tags": []
            },
            "outputs": [
                {
                    "output_type": "display_data",
                    "data": {
                        "text/html": "(0 rows affected)"
                    },
                    "metadata": {}
                },
                {
                    "output_type": "display_data",
                    "data": {
                        "text/html": "The following error occured: Divide by zero error encountered."
                    },
                    "metadata": {}
                },
                {
                    "output_type": "display_data",
                    "data": {
                        "text/html": "Total execution time: 00:00:00.010"
                    },
                    "metadata": {}
                }
            ],
            "execution_count": 13
        },
        {
            "cell_type": "code",
            "source": [
                "-- Catch and rethrow\n",
                "BEGIN TRY\n",
                "    UPDATE SalesLT.Product\n",
                "    SET ProductNumber = ProductID / ISNULL(Weight, 0);\n",
                "END TRY\n",
                "BEGIN CATCH\n",
                "    PRINT ERROR_MESSAGE();\n",
                "    THROW;  -- THROW (without parameters) throws last error message\n",
                "END CATCH"
            ],
            "metadata": {
                "azdata_cell_guid": "88188177-a059-4259-b9be-c41799860e17"
            },
            "outputs": [
                {
                    "output_type": "display_data",
                    "data": {
                        "text/html": "(0 rows affected)"
                    },
                    "metadata": {}
                },
                {
                    "output_type": "display_data",
                    "data": {
                        "text/html": "Divide by zero error encountered."
                    },
                    "metadata": {}
                },
                {
                    "output_type": "error",
                    "ename": "",
                    "evalue": "Msg 8134, Level 16, State 1, Line 3\nDivide by zero error encountered.",
                    "traceback": []
                },
                {
                    "output_type": "display_data",
                    "data": {
                        "text/html": "Total execution time: 00:00:00.008"
                    },
                    "metadata": {}
                }
            ],
            "execution_count": 15
        },
        {
            "cell_type": "code",
            "source": [
                "-- Catch, Log, and Throw a custom error\n",
                "BEGIN TRY\n",
                "    UPDATE SalesLT.Product\n",
                "    SET ProductNumber = ProductID / ISNULL(Weight, 0);\n",
                "END TRY\n",
                "BEGIN CATCH\n",
                "    DECLARE @ErrorLogID AS INT, @ErrorMessage AS VARCHAR(250);\n",
                "    EXECUTE dbo.uspLogError @ErrorLogID OUTPUT;\n",
                "    SET @ErrorMessage = 'The update failed because of an error. View error #' + CAST(@ErrorLogID AS varchar)\n",
                "        + ' in dbo.ErrorLog for details.';\n",
                "    THROW 500001, @ErrorMessage, 0;\n",
                "END CATCH\n",
                "\n",
                "GO \n",
                "\n",
                "-- View the error log\n",
                "SELECT * FROM dbo.ErrorLog;"
            ],
            "metadata": {
                "azdata_cell_guid": "4e978809-b3c9-47a1-b5d0-fc3f9b15481a"
            },
            "outputs": [
                {
                    "output_type": "display_data",
                    "data": {
                        "text/html": "(0 rows affected)"
                    },
                    "metadata": {}
                },
                {
                    "output_type": "error",
                    "ename": "",
                    "evalue": "Msg 500001, Level 16, State 0, Line 11\nThe update failed because of an error. View error #3 in dbo.ErrorLog for details.",
                    "traceback": []
                },
                {
                    "output_type": "display_data",
                    "data": {
                        "text/html": "(1 row affected)"
                    },
                    "metadata": {}
                },
                {
                    "output_type": "display_data",
                    "data": {
                        "text/html": "Total execution time: 00:00:00.011"
                    },
                    "metadata": {}
                },
                {
                    "output_type": "execute_result",
                    "execution_count": 19,
                    "data": {
                        "application/vnd.dataresource+json": {
                            "schema": {
                                "fields": [
                                    {
                                        "name": "ErrorLogID"
                                    },
                                    {
                                        "name": "ErrorTime"
                                    },
                                    {
                                        "name": "UserName"
                                    },
                                    {
                                        "name": "ErrorNumber"
                                    },
                                    {
                                        "name": "ErrorSeverity"
                                    },
                                    {
                                        "name": "ErrorState"
                                    },
                                    {
                                        "name": "ErrorProcedure"
                                    },
                                    {
                                        "name": "ErrorLine"
                                    },
                                    {
                                        "name": "ErrorMessage"
                                    }
                                ]
                            },
                            "data": [
                                {
                                    "0": "3",
                                    "1": "2020-04-25 18:40:57.577",
                                    "2": "dbo",
                                    "3": "8134",
                                    "4": "16",
                                    "5": "1",
                                    "6": "NULL",
                                    "7": "3",
                                    "8": "Divide by zero error encountered."
                                }
                            ]
                        },
                        "text/html": "<table><tr><th>ErrorLogID</th><th>ErrorTime</th><th>UserName</th><th>ErrorNumber</th><th>ErrorSeverity</th><th>ErrorState</th><th>ErrorProcedure</th><th>ErrorLine</th><th>ErrorMessage</th></tr><tr><td>3</td><td>2020-04-25 18:40:57.577</td><td>dbo</td><td>8134</td><td>16</td><td>1</td><td>NULL</td><td>3</td><td>Divide by zero error encountered.</td></tr></table>"
                    },
                    "metadata": {}
                }
            ],
            "execution_count": 19
        },
        {
            "cell_type": "markdown",
            "source": [
                "# Transactions"
            ],
            "metadata": {
                "azdata_cell_guid": "c32e055b-8485-432c-91f3-cb8d478f8c6b"
            }
        },
        {
            "cell_type": "code",
            "source": [
                "-- No transaction\n",
                "BEGIN TRY\n",
                "    INSERT INTO SalesLT.SalesOrderHeader (DueDate, CustomerID, ShipMethod)\n",
                "    VALUES (DATEADD(dd, 7, GETDATE()), 1, 'STD DELIVERY');\n",
                "\n",
                "    DECLARE @SalesOrderID INT = SCOPE_IDENTITY();\n",
                "\n",
                "    INSERT INTO SalesLT.SalesOrderDetail (SalesOrderID, OrderQty, ProductID, UnitPrice, UnitPriceDiscount)\n",
                "    VALUES (@SalesOrderID, 1, 999999, 1431.50, 0.00);   -- No product with that ProductID in Product table\n",
                "END TRY\n",
                "BEGIN CATCH\n",
                "    PRINT ERROR_MESSAGE();\n",
                "END CATCH"
            ],
            "metadata": {
                "azdata_cell_guid": "76171012-e3e0-40c7-9484-341922dbfda4"
            },
            "outputs": [
                {
                    "output_type": "display_data",
                    "data": {
                        "text/html": "(1 row affected)"
                    },
                    "metadata": {}
                },
                {
                    "output_type": "display_data",
                    "data": {
                        "text/html": "(0 rows affected)"
                    },
                    "metadata": {}
                },
                {
                    "output_type": "display_data",
                    "data": {
                        "text/html": "The INSERT statement conflicted with the FOREIGN KEY constraint \"FK_SalesOrderDetail_Product_ProductID\". The conflict occurred in database \"AdventureWorksLT\", table \"SalesLT.Product\", column 'ProductID'."
                    },
                    "metadata": {}
                },
                {
                    "output_type": "display_data",
                    "data": {
                        "text/html": "Total execution time: 00:00:00.005"
                    },
                    "metadata": {}
                }
            ],
            "execution_count": 25
        },
        {
            "cell_type": "code",
            "source": [
                "-- View orphaned order in SalesOrderHeader with no record in SalesOrderDetail\n",
                "SELECT soh.SalesOrderID, soh.DueDate, soh.CustomerID, soh.ShipMethod, sod.SalesOrderDetailID\n",
                "FROM SalesLT.SalesOrderHeader AS soh\n",
                "LEFT JOIN SalesLT.SalesOrderDetail AS sod\n",
                "ON soh.SalesOrderID = sod.SalesOrderID\n",
                "WHERE sod.SalesOrderDetailID IS NULL;\n",
                "\n",
                "GO \n",
                "\n",
                "-- Manually delete that orphaned order in SalesOrderHeader\n",
                "DELETE FROM SalesLT.SalesOrderHeader\n",
                "WHERE SalesOrderID = SCOPE_IDENTITY();  -- Gets the last identity (i.e, SalesOrderID) from last query performed (i.e, INSERT INTO SalesLT.SalesOrderHeader)\n",
                "IF @@ROWCOUNT > 0\n",
                "    PRINT 'Orphaned order deleted.';"
            ],
            "metadata": {
                "azdata_cell_guid": "1c385f43-8566-4195-bcfc-75127882f682"
            },
            "outputs": [
                {
                    "output_type": "execute_result",
                    "metadata": {},
                    "execution_count": 26,
                    "data": {
                        "application/vnd.dataresource+json": {
                            "schema": {
                                "fields": [
                                    {
                                        "name": "SalesOrderID"
                                    },
                                    {
                                        "name": "DueDate"
                                    },
                                    {
                                        "name": "CustomerID"
                                    },
                                    {
                                        "name": "ShipMethod"
                                    },
                                    {
                                        "name": "SalesOrderDetailID"
                                    }
                                ]
                            },
                            "data": [
                                {
                                    "0": "71954",
                                    "1": "2020-05-03 09:05:57.920",
                                    "2": "1",
                                    "3": "STD DELIVERY",
                                    "4": "NULL"
                                }
                            ]
                        },
                        "text/html": "<table><tr><th>SalesOrderID</th><th>DueDate</th><th>CustomerID</th><th>ShipMethod</th><th>SalesOrderDetailID</th></tr><tr><td>71954</td><td>2020-05-03 09:05:57.920</td><td>1</td><td>STD DELIVERY</td><td>NULL</td></tr></table>"
                    }
                },
                {
                    "output_type": "display_data",
                    "data": {
                        "text/html": "(1 row affected)"
                    },
                    "metadata": {}
                },
                {
                    "output_type": "display_data",
                    "data": {
                        "text/html": "(1 row affected)"
                    },
                    "metadata": {}
                },
                {
                    "output_type": "display_data",
                    "data": {
                        "text/html": "Orphaned order deleted."
                    },
                    "metadata": {}
                },
                {
                    "output_type": "display_data",
                    "data": {
                        "text/html": "Total execution time: 00:00:00.008"
                    },
                    "metadata": {}
                }
            ],
            "execution_count": 26
        },
        {
            "cell_type": "code",
            "source": [
                " -- Using transaction\n",
                "BEGIN TRY\n",
                "    BEGIN TRANSACTION\n",
                "        INSERT INTO SalesLT.SalesOrderHeader (DueDate, CustomerID, ShipMethod)\n",
                "        VALUES (DATEADD(dd, 7, GETDATE()), 1, 'STD DELIVERY');\n",
                "\n",
                "        DECLARE @SalesOrderID INT = SCOPE_IDENTITY();\n",
                "\n",
                "        INSERT INTO SalesLT.SalesOrderDetail (SalesOrderID, OrderQty, ProductID, UnitPrice, UnitPriceDiscount)\n",
                "        VALUES (@SalesOrderID, 1, 999999, 1431.50, 0.00);   -- No product with that ProductID in Product table\n",
                "    COMMIT TRANSACTION\n",
                " END TRY\n",
                " BEGIN CATCH \n",
                "    IF @@TRANCOUNT > 0\n",
                "        BEGIN\n",
                "            PRINT XACT_STATE();\n",
                "            ROLLBACK TRANSACTION;\n",
                "        END\n",
                "    PRINT ERROR_MESSAGE();\n",
                "    THROW 50001, 'An insert failed. The transaction was cancelled.', 0;\n",
                "END CATCH"
            ],
            "metadata": {
                "azdata_cell_guid": "e002327b-47ce-4294-9008-fd7e012753c5"
            },
            "outputs": [
                {
                    "output_type": "display_data",
                    "data": {
                        "text/html": "(1 row affected)"
                    },
                    "metadata": {}
                },
                {
                    "output_type": "display_data",
                    "data": {
                        "text/html": "(0 rows affected)"
                    },
                    "metadata": {}
                },
                {
                    "output_type": "display_data",
                    "data": {
                        "text/html": "1"
                    },
                    "metadata": {}
                },
                {
                    "output_type": "display_data",
                    "data": {
                        "text/html": "The INSERT statement conflicted with the FOREIGN KEY constraint \"FK_SalesOrderDetail_Product_ProductID\". The conflict occurred in database \"AdventureWorksLT\", table \"SalesLT.Product\", column 'ProductID'."
                    },
                    "metadata": {}
                },
                {
                    "output_type": "error",
                    "evalue": "Msg 50001, Level 16, State 0, Line 20\nAn insert failed. The transaction was cancelled.",
                    "ename": "",
                    "traceback": []
                },
                {
                    "output_type": "display_data",
                    "data": {
                        "text/html": "Total execution time: 00:00:00.011"
                    },
                    "metadata": {}
                }
            ],
            "execution_count": 28
        },
        {
            "cell_type": "code",
            "source": [
                "-- View orphaned order in SalesOrderHeader with no record in SalesOrderDetail\n",
                "SELECT soh.SalesOrderID, soh.DueDate, soh.CustomerID, soh.ShipMethod, sod.SalesOrderDetailID\n",
                "FROM SalesLT.SalesOrderHeader AS soh\n",
                "LEFT JOIN SalesLT.SalesOrderDetail AS sod\n",
                "ON soh.SalesOrderID = sod.SalesOrderID\n",
                "WHERE sod.SalesOrderDetailID IS NULL;"
            ],
            "metadata": {
                "azdata_cell_guid": "de6ce6e2-1a24-4eeb-9e25-1621830e500a"
            },
            "outputs": [
                {
                    "output_type": "display_data",
                    "data": {
                        "text/html": "(0 rows affected)"
                    },
                    "metadata": {}
                },
                {
                    "output_type": "execute_result",
                    "metadata": {},
                    "execution_count": 29,
                    "data": {
                        "application/vnd.dataresource+json": {
                            "schema": {
                                "fields": [
                                    {
                                        "name": "SalesOrderID"
                                    },
                                    {
                                        "name": "DueDate"
                                    },
                                    {
                                        "name": "CustomerID"
                                    },
                                    {
                                        "name": "ShipMethod"
                                    },
                                    {
                                        "name": "SalesOrderDetailID"
                                    }
                                ]
                            },
                            "data": []
                        },
                        "text/html": "<table><tr><th>SalesOrderID</th><th>DueDate</th><th>CustomerID</th><th>ShipMethod</th><th>SalesOrderDetailID</th></tr></table>"
                    }
                },
                {
                    "output_type": "display_data",
                    "data": {
                        "text/html": "Total execution time: 00:00:00.004"
                    },
                    "metadata": {}
                }
            ],
            "execution_count": 29
        },
        {
            "cell_type": "code",
            "source": [
                "-- Use XACT_ABORT\n",
                "SET XACT_ABORT ON;\n",
                "\n",
                "BEGIN TRY\n",
                "    BEGIN TRANSACTION\n",
                "        INSERT INTO SalesLT.SalesOrderHeader (DueDate, CustomerID, ShipMethod)\n",
                "        VALUES (DATEADD(dd, 7, GETDATE()), 1, 'STD DELIVERY');\n",
                "\n",
                "        DECLARE @SalesOrderID INT = SCOPE_IDENTITY();\n",
                "\n",
                "        INSERT INTO SalesLT.SalesOrderDetail (SalesOrderID, OrderQty, ProductID, UnitPrice, UnitPriceDiscount)\n",
                "        VALUES (@SalesOrderID, 1, 999999, 1431.50, 0.00);   -- No product with that ProductID in Product table\n",
                "    COMMIT TRANSACTION\n",
                " END TRY\n",
                " BEGIN CATCH \n",
                "    PRINT ERROR_MESSAGE();\n",
                "    THROW 50001, 'An insert failed. The transaction was automatically rolled back.', 0;\n",
                "END CATCH\n",
                "\n",
                "SET XACT_ABORT OFF;"
            ],
            "metadata": {
                "azdata_cell_guid": "6a5d9604-c1ae-42ab-a7fa-7fc74a7d02b1"
            },
            "outputs": [
                {
                    "output_type": "display_data",
                    "data": {
                        "text/html": "(1 row affected)"
                    },
                    "metadata": {}
                },
                {
                    "output_type": "display_data",
                    "data": {
                        "text/html": "(0 rows affected)"
                    },
                    "metadata": {}
                },
                {
                    "output_type": "display_data",
                    "data": {
                        "text/html": "The INSERT statement conflicted with the FOREIGN KEY constraint \"FK_SalesOrderDetail_Product_ProductID\". The conflict occurred in database \"AdventureWorksLT\", table \"SalesLT.Product\", column 'ProductID'."
                    },
                    "metadata": {}
                },
                {
                    "output_type": "error",
                    "evalue": "Msg 50001, Level 16, State 0, Line 17\nAn insert failed. The transaction was automatically rolled back.",
                    "ename": "",
                    "traceback": []
                },
                {
                    "output_type": "display_data",
                    "data": {
                        "text/html": "Total execution time: 00:00:00.011"
                    },
                    "metadata": {}
                }
            ],
            "execution_count": 30
        },
        {
            "cell_type": "code",
            "source": [
                "-- View orphaned order in SalesOrderHeader with no record in SalesOrderDetail\n",
                "SELECT soh.SalesOrderID, soh.DueDate, soh.CustomerID, soh.ShipMethod, sod.SalesOrderDetailID\n",
                "FROM SalesLT.SalesOrderHeader AS soh\n",
                "LEFT JOIN SalesLT.SalesOrderDetail AS sod\n",
                "ON soh.SalesOrderID = sod.SalesOrderID\n",
                "WHERE sod.SalesOrderDetailID IS NULL;"
            ],
            "metadata": {
                "azdata_cell_guid": "3ecaa5ec-9c96-462f-b512-41d6063e9bb7"
            },
            "outputs": [
                {
                    "output_type": "display_data",
                    "data": {
                        "text/html": "(0 rows affected)"
                    },
                    "metadata": {}
                },
                {
                    "output_type": "execute_result",
                    "metadata": {},
                    "execution_count": 31,
                    "data": {
                        "application/vnd.dataresource+json": {
                            "schema": {
                                "fields": [
                                    {
                                        "name": "SalesOrderID"
                                    },
                                    {
                                        "name": "DueDate"
                                    },
                                    {
                                        "name": "CustomerID"
                                    },
                                    {
                                        "name": "ShipMethod"
                                    },
                                    {
                                        "name": "SalesOrderDetailID"
                                    }
                                ]
                            },
                            "data": []
                        },
                        "text/html": "<table><tr><th>SalesOrderID</th><th>DueDate</th><th>CustomerID</th><th>ShipMethod</th><th>SalesOrderDetailID</th></tr></table>"
                    }
                },
                {
                    "output_type": "display_data",
                    "data": {
                        "text/html": "Total execution time: 00:00:00.003"
                    },
                    "metadata": {}
                }
            ],
            "execution_count": 31
        }
    ]
}