{
    "metadata": {
        "kernelspec": {
            "name": "SQL",
            "display_name": "SQL",
            "language": "sql"
        },
        "language_info": {
            "name": "sql",
            "version": ""
        }
    },
    "nbformat_minor": 2,
    "nbformat": 4,
    "cells": [
        {
            "cell_type": "markdown",
            "source": [
                "# Eliminating Duplicates and Sorting Results"
            ],
            "metadata": {
                "azdata_cell_guid": "2342571b-6c9a-4ce5-9b6b-5d09f1c35ae3"
            }
        },
        {
            "cell_type": "code",
            "source": [
                "-- Display unique product colors\n",
                "SELECT DISTINCT ISNULL(Color, 'None') AS ColorsList\n",
                "FROM SalesLT.Product;\n",
                "\n",
                "-- Display unique product color and size combinations\n",
                "SELECT DISTINCT ISNULL(Color, 'None') AS Color, ISNULL(Size, 'n/a') AS Size\n",
                "FROM SalesLT.Product;"
            ],
            "metadata": {
                "azdata_cell_guid": "515d45e8-49d7-4d7c-8aad-85ada4d373a1"
            },
            "outputs": [
                {
                    "output_type": "display_data",
                    "data": {
                        "text/html": "(10 rows affected)"
                    },
                    "metadata": {}
                },
                {
                    "output_type": "display_data",
                    "data": {
                        "text/html": "(68 rows affected)"
                    },
                    "metadata": {}
                },
                {
                    "output_type": "display_data",
                    "data": {
                        "text/html": "Total execution time: 00:00:00.011"
                    },
                    "metadata": {}
                },
                {
                    "output_type": "execute_result",
                    "metadata": {},
                    "execution_count": 43,
                    "data": {
                        "application/vnd.dataresource+json": {
                            "schema": {
                                "fields": [
                                    {
                                        "name": "ColorsList"
                                    }
                                ]
                            },
                            "data": [
                                {
                                    "0": "Black"
                                },
                                {
                                    "0": "Blue"
                                },
                                {
                                    "0": "Grey"
                                },
                                {
                                    "0": "Multi"
                                },
                                {
                                    "0": "None"
                                },
                                {
                                    "0": "Red"
                                },
                                {
                                    "0": "Silver"
                                },
                                {
                                    "0": "Silver/Black"
                                },
                                {
                                    "0": "White"
                                },
                                {
                                    "0": "Yellow"
                                }
                            ]
                        },
                        "text/html": "<table><tr><th>ColorsList</th></tr><tr><td>Black</td></tr><tr><td>Blue</td></tr><tr><td>Grey</td></tr><tr><td>Multi</td></tr><tr><td>None</td></tr><tr><td>Red</td></tr><tr><td>Silver</td></tr><tr><td>Silver/Black</td></tr><tr><td>White</td></tr><tr><td>Yellow</td></tr></table>"
                    }
                },
                {
                    "output_type": "execute_result",
                    "metadata": {},
                    "execution_count": 43,
                    "data": {
                        "application/vnd.dataresource+json": {
                            "schema": {
                                "fields": [
                                    {
                                        "name": "Color"
                                    },
                                    {
                                        "name": "Size"
                                    }
                                ]
                            },
                            "data": [
                                {
                                    "0": "Black",
                                    "1": "38"
                                },
                                {
                                    "0": "Black",
                                    "1": "40"
                                },
                                {
                                    "0": "Black",
                                    "1": "42"
                                },
                                {
                                    "0": "Black",
                                    "1": "44"
                                },
                                {
                                    "0": "Black",
                                    "1": "46"
                                },
                                {
                                    "0": "Black",
                                    "1": "48"
                                },
                                {
                                    "0": "Black",
                                    "1": "52"
                                },
                                {
                                    "0": "Black",
                                    "1": "58"
                                },
                                {
                                    "0": "Black",
                                    "1": "60"
                                },
                                {
                                    "0": "Black",
                                    "1": "62"
                                },
                                {
                                    "0": "Black",
                                    "1": "L"
                                },
                                {
                                    "0": "Black",
                                    "1": "M"
                                },
                                {
                                    "0": "Black",
                                    "1": "n/a"
                                },
                                {
                                    "0": "Black",
                                    "1": "S"
                                },
                                {
                                    "0": "Black",
                                    "1": "XL"
                                },
                                {
                                    "0": "Blue",
                                    "1": "44"
                                },
                                {
                                    "0": "Blue",
                                    "1": "46"
                                },
                                {
                                    "0": "Blue",
                                    "1": "50"
                                },
                                {
                                    "0": "Blue",
                                    "1": "54"
                                },
                                {
                                    "0": "Blue",
                                    "1": "58"
                                },
                                {
                                    "0": "Blue",
                                    "1": "60"
                                },
                                {
                                    "0": "Blue",
                                    "1": "62"
                                },
                                {
                                    "0": "Blue",
                                    "1": "L"
                                },
                                {
                                    "0": "Blue",
                                    "1": "M"
                                },
                                {
                                    "0": "Blue",
                                    "1": "n/a"
                                },
                                {
                                    "0": "Blue",
                                    "1": "S"
                                },
                                {
                                    "0": "Grey",
                                    "1": "n/a"
                                },
                                {
                                    "0": "Multi",
                                    "1": "L"
                                },
                                {
                                    "0": "Multi",
                                    "1": "M"
                                },
                                {
                                    "0": "Multi",
                                    "1": "n/a"
                                },
                                {
                                    "0": "Multi",
                                    "1": "S"
                                },
                                {
                                    "0": "Multi",
                                    "1": "XL"
                                },
                                {
                                    "0": "None",
                                    "1": "n/a"
                                },
                                {
                                    "0": "Red",
                                    "1": "44"
                                },
                                {
                                    "0": "Red",
                                    "1": "48"
                                },
                                {
                                    "0": "Red",
                                    "1": "52"
                                },
                                {
                                    "0": "Red",
                                    "1": "56"
                                },
                                {
                                    "0": "Red",
                                    "1": "58"
                                },
                                {
                                    "0": "Red",
                                    "1": "60"
                                },
                                {
                                    "0": "Red",
                                    "1": "62"
                                },
                                {
                                    "0": "Red",
                                    "1": "n/a"
                                },
                                {
                                    "0": "Silver",
                                    "1": "38"
                                },
                                {
                                    "0": "Silver",
                                    "1": "40"
                                },
                                {
                                    "0": "Silver",
                                    "1": "42"
                                },
                                {
                                    "0": "Silver",
                                    "1": "44"
                                },
                                {
                                    "0": "Silver",
                                    "1": "46"
                                },
                                {
                                    "0": "Silver",
                                    "1": "48"
                                },
                                {
                                    "0": "Silver",
                                    "1": "52"
                                },
                                {
                                    "0": "Silver",
                                    "1": "70"
                                },
                                {
                                    "0": "Silver",
                                    "1": "n/a"
                                },
                                {
                                    "0": "Silver/Black",
                                    "1": "n/a"
                                },
                                {
                                    "0": "White",
                                    "1": "L"
                                },
                                {
                                    "0": "White",
                                    "1": "M"
                                },
                                {
                                    "0": "Yellow",
                                    "1": "38"
                                },
                                {
                                    "0": "Yellow",
                                    "1": "40"
                                },
                                {
                                    "0": "Yellow",
                                    "1": "42"
                                },
                                {
                                    "0": "Yellow",
                                    "1": "44"
                                },
                                {
                                    "0": "Yellow",
                                    "1": "46"
                                },
                                {
                                    "0": "Yellow",
                                    "1": "48"
                                },
                                {
                                    "0": "Yellow",
                                    "1": "50"
                                },
                                {
                                    "0": "Yellow",
                                    "1": "54"
                                },
                                {
                                    "0": "Yellow",
                                    "1": "58"
                                },
                                {
                                    "0": "Yellow",
                                    "1": "60"
                                },
                                {
                                    "0": "Yellow",
                                    "1": "62"
                                },
                                {
                                    "0": "Yellow",
                                    "1": "L"
                                },
                                {
                                    "0": "Yellow",
                                    "1": "M"
                                },
                                {
                                    "0": "Yellow",
                                    "1": "S"
                                },
                                {
                                    "0": "Yellow",
                                    "1": "XL"
                                }
                            ]
                        },
                        "text/html": "<table><tr><th>Color</th><th>Size</th></tr><tr><td>Black</td><td>38</td></tr><tr><td>Black</td><td>40</td></tr><tr><td>Black</td><td>42</td></tr><tr><td>Black</td><td>44</td></tr><tr><td>Black</td><td>46</td></tr><tr><td>Black</td><td>48</td></tr><tr><td>Black</td><td>52</td></tr><tr><td>Black</td><td>58</td></tr><tr><td>Black</td><td>60</td></tr><tr><td>Black</td><td>62</td></tr><tr><td>Black</td><td>L</td></tr><tr><td>Black</td><td>M</td></tr><tr><td>Black</td><td>n/a</td></tr><tr><td>Black</td><td>S</td></tr><tr><td>Black</td><td>XL</td></tr><tr><td>Blue</td><td>44</td></tr><tr><td>Blue</td><td>46</td></tr><tr><td>Blue</td><td>50</td></tr><tr><td>Blue</td><td>54</td></tr><tr><td>Blue</td><td>58</td></tr><tr><td>Blue</td><td>60</td></tr><tr><td>Blue</td><td>62</td></tr><tr><td>Blue</td><td>L</td></tr><tr><td>Blue</td><td>M</td></tr><tr><td>Blue</td><td>n/a</td></tr><tr><td>Blue</td><td>S</td></tr><tr><td>Grey</td><td>n/a</td></tr><tr><td>Multi</td><td>L</td></tr><tr><td>Multi</td><td>M</td></tr><tr><td>Multi</td><td>n/a</td></tr><tr><td>Multi</td><td>S</td></tr><tr><td>Multi</td><td>XL</td></tr><tr><td>None</td><td>n/a</td></tr><tr><td>Red</td><td>44</td></tr><tr><td>Red</td><td>48</td></tr><tr><td>Red</td><td>52</td></tr><tr><td>Red</td><td>56</td></tr><tr><td>Red</td><td>58</td></tr><tr><td>Red</td><td>60</td></tr><tr><td>Red</td><td>62</td></tr><tr><td>Red</td><td>n/a</td></tr><tr><td>Silver</td><td>38</td></tr><tr><td>Silver</td><td>40</td></tr><tr><td>Silver</td><td>42</td></tr><tr><td>Silver</td><td>44</td></tr><tr><td>Silver</td><td>46</td></tr><tr><td>Silver</td><td>48</td></tr><tr><td>Silver</td><td>52</td></tr><tr><td>Silver</td><td>70</td></tr><tr><td>Silver</td><td>n/a</td></tr><tr><td>Silver/Black</td><td>n/a</td></tr><tr><td>White</td><td>L</td></tr><tr><td>White</td><td>M</td></tr><tr><td>Yellow</td><td>38</td></tr><tr><td>Yellow</td><td>40</td></tr><tr><td>Yellow</td><td>42</td></tr><tr><td>Yellow</td><td>44</td></tr><tr><td>Yellow</td><td>46</td></tr><tr><td>Yellow</td><td>48</td></tr><tr><td>Yellow</td><td>50</td></tr><tr><td>Yellow</td><td>54</td></tr><tr><td>Yellow</td><td>58</td></tr><tr><td>Yellow</td><td>60</td></tr><tr><td>Yellow</td><td>62</td></tr><tr><td>Yellow</td><td>L</td></tr><tr><td>Yellow</td><td>M</td></tr><tr><td>Yellow</td><td>S</td></tr><tr><td>Yellow</td><td>XL</td></tr></table>"
                    }
                }
            ],
            "execution_count": 43
        },
        {
            "cell_type": "code",
            "source": [
                "-- Display unique product color and size combinations ordered by 'Color' in ASC and by 'Size' in DESC\n",
                "SELECT DISTINCT ISNULL(Color, 'None') AS Color, ISNULL(Size, 'n/a') AS Size\n",
                "FROM SalesLT.Product\n",
                "ORDER BY Color, SIZE DESC;"
            ],
            "metadata": {
                "azdata_cell_guid": "a1883dd8-019e-44c2-8c68-da24791b58db"
            },
            "outputs": [
                {
                    "output_type": "display_data",
                    "data": {
                        "text/html": "(68 rows affected)"
                    },
                    "metadata": {}
                },
                {
                    "output_type": "display_data",
                    "data": {
                        "text/html": "Total execution time: 00:00:00.051"
                    },
                    "metadata": {}
                },
                {
                    "output_type": "execute_result",
                    "metadata": {},
                    "execution_count": 44,
                    "data": {
                        "application/vnd.dataresource+json": {
                            "schema": {
                                "fields": [
                                    {
                                        "name": "Color"
                                    },
                                    {
                                        "name": "Size"
                                    }
                                ]
                            },
                            "data": [
                                {
                                    "0": "Black",
                                    "1": "XL"
                                },
                                {
                                    "0": "Black",
                                    "1": "S"
                                },
                                {
                                    "0": "Black",
                                    "1": "n/a"
                                },
                                {
                                    "0": "Black",
                                    "1": "M"
                                },
                                {
                                    "0": "Black",
                                    "1": "L"
                                },
                                {
                                    "0": "Black",
                                    "1": "62"
                                },
                                {
                                    "0": "Black",
                                    "1": "60"
                                },
                                {
                                    "0": "Black",
                                    "1": "58"
                                },
                                {
                                    "0": "Black",
                                    "1": "52"
                                },
                                {
                                    "0": "Black",
                                    "1": "48"
                                },
                                {
                                    "0": "Black",
                                    "1": "46"
                                },
                                {
                                    "0": "Black",
                                    "1": "44"
                                },
                                {
                                    "0": "Black",
                                    "1": "42"
                                },
                                {
                                    "0": "Black",
                                    "1": "40"
                                },
                                {
                                    "0": "Black",
                                    "1": "38"
                                },
                                {
                                    "0": "Blue",
                                    "1": "S"
                                },
                                {
                                    "0": "Blue",
                                    "1": "n/a"
                                },
                                {
                                    "0": "Blue",
                                    "1": "M"
                                },
                                {
                                    "0": "Blue",
                                    "1": "L"
                                },
                                {
                                    "0": "Blue",
                                    "1": "62"
                                },
                                {
                                    "0": "Blue",
                                    "1": "60"
                                },
                                {
                                    "0": "Blue",
                                    "1": "58"
                                },
                                {
                                    "0": "Blue",
                                    "1": "54"
                                },
                                {
                                    "0": "Blue",
                                    "1": "50"
                                },
                                {
                                    "0": "Blue",
                                    "1": "46"
                                },
                                {
                                    "0": "Blue",
                                    "1": "44"
                                },
                                {
                                    "0": "Grey",
                                    "1": "n/a"
                                },
                                {
                                    "0": "Multi",
                                    "1": "XL"
                                },
                                {
                                    "0": "Multi",
                                    "1": "S"
                                },
                                {
                                    "0": "Multi",
                                    "1": "n/a"
                                },
                                {
                                    "0": "Multi",
                                    "1": "M"
                                },
                                {
                                    "0": "Multi",
                                    "1": "L"
                                },
                                {
                                    "0": "None",
                                    "1": "n/a"
                                },
                                {
                                    "0": "Red",
                                    "1": "n/a"
                                },
                                {
                                    "0": "Red",
                                    "1": "62"
                                },
                                {
                                    "0": "Red",
                                    "1": "60"
                                },
                                {
                                    "0": "Red",
                                    "1": "58"
                                },
                                {
                                    "0": "Red",
                                    "1": "56"
                                },
                                {
                                    "0": "Red",
                                    "1": "52"
                                },
                                {
                                    "0": "Red",
                                    "1": "48"
                                },
                                {
                                    "0": "Red",
                                    "1": "44"
                                },
                                {
                                    "0": "Silver",
                                    "1": "n/a"
                                },
                                {
                                    "0": "Silver",
                                    "1": "70"
                                },
                                {
                                    "0": "Silver",
                                    "1": "52"
                                },
                                {
                                    "0": "Silver",
                                    "1": "48"
                                },
                                {
                                    "0": "Silver",
                                    "1": "46"
                                },
                                {
                                    "0": "Silver",
                                    "1": "44"
                                },
                                {
                                    "0": "Silver",
                                    "1": "42"
                                },
                                {
                                    "0": "Silver",
                                    "1": "40"
                                },
                                {
                                    "0": "Silver",
                                    "1": "38"
                                },
                                {
                                    "0": "Silver/Black",
                                    "1": "n/a"
                                },
                                {
                                    "0": "White",
                                    "1": "M"
                                },
                                {
                                    "0": "White",
                                    "1": "L"
                                },
                                {
                                    "0": "Yellow",
                                    "1": "XL"
                                },
                                {
                                    "0": "Yellow",
                                    "1": "S"
                                },
                                {
                                    "0": "Yellow",
                                    "1": "M"
                                },
                                {
                                    "0": "Yellow",
                                    "1": "L"
                                },
                                {
                                    "0": "Yellow",
                                    "1": "62"
                                },
                                {
                                    "0": "Yellow",
                                    "1": "60"
                                },
                                {
                                    "0": "Yellow",
                                    "1": "58"
                                },
                                {
                                    "0": "Yellow",
                                    "1": "54"
                                },
                                {
                                    "0": "Yellow",
                                    "1": "50"
                                },
                                {
                                    "0": "Yellow",
                                    "1": "48"
                                },
                                {
                                    "0": "Yellow",
                                    "1": "46"
                                },
                                {
                                    "0": "Yellow",
                                    "1": "44"
                                },
                                {
                                    "0": "Yellow",
                                    "1": "42"
                                },
                                {
                                    "0": "Yellow",
                                    "1": "40"
                                },
                                {
                                    "0": "Yellow",
                                    "1": "38"
                                }
                            ]
                        },
                        "text/html": "<table><tr><th>Color</th><th>Size</th></tr><tr><td>Black</td><td>XL</td></tr><tr><td>Black</td><td>S</td></tr><tr><td>Black</td><td>n/a</td></tr><tr><td>Black</td><td>M</td></tr><tr><td>Black</td><td>L</td></tr><tr><td>Black</td><td>62</td></tr><tr><td>Black</td><td>60</td></tr><tr><td>Black</td><td>58</td></tr><tr><td>Black</td><td>52</td></tr><tr><td>Black</td><td>48</td></tr><tr><td>Black</td><td>46</td></tr><tr><td>Black</td><td>44</td></tr><tr><td>Black</td><td>42</td></tr><tr><td>Black</td><td>40</td></tr><tr><td>Black</td><td>38</td></tr><tr><td>Blue</td><td>S</td></tr><tr><td>Blue</td><td>n/a</td></tr><tr><td>Blue</td><td>M</td></tr><tr><td>Blue</td><td>L</td></tr><tr><td>Blue</td><td>62</td></tr><tr><td>Blue</td><td>60</td></tr><tr><td>Blue</td><td>58</td></tr><tr><td>Blue</td><td>54</td></tr><tr><td>Blue</td><td>50</td></tr><tr><td>Blue</td><td>46</td></tr><tr><td>Blue</td><td>44</td></tr><tr><td>Grey</td><td>n/a</td></tr><tr><td>Multi</td><td>XL</td></tr><tr><td>Multi</td><td>S</td></tr><tr><td>Multi</td><td>n/a</td></tr><tr><td>Multi</td><td>M</td></tr><tr><td>Multi</td><td>L</td></tr><tr><td>None</td><td>n/a</td></tr><tr><td>Red</td><td>n/a</td></tr><tr><td>Red</td><td>62</td></tr><tr><td>Red</td><td>60</td></tr><tr><td>Red</td><td>58</td></tr><tr><td>Red</td><td>56</td></tr><tr><td>Red</td><td>52</td></tr><tr><td>Red</td><td>48</td></tr><tr><td>Red</td><td>44</td></tr><tr><td>Silver</td><td>n/a</td></tr><tr><td>Silver</td><td>70</td></tr><tr><td>Silver</td><td>52</td></tr><tr><td>Silver</td><td>48</td></tr><tr><td>Silver</td><td>46</td></tr><tr><td>Silver</td><td>44</td></tr><tr><td>Silver</td><td>42</td></tr><tr><td>Silver</td><td>40</td></tr><tr><td>Silver</td><td>38</td></tr><tr><td>Silver/Black</td><td>n/a</td></tr><tr><td>White</td><td>M</td></tr><tr><td>White</td><td>L</td></tr><tr><td>Yellow</td><td>XL</td></tr><tr><td>Yellow</td><td>S</td></tr><tr><td>Yellow</td><td>M</td></tr><tr><td>Yellow</td><td>L</td></tr><tr><td>Yellow</td><td>62</td></tr><tr><td>Yellow</td><td>60</td></tr><tr><td>Yellow</td><td>58</td></tr><tr><td>Yellow</td><td>54</td></tr><tr><td>Yellow</td><td>50</td></tr><tr><td>Yellow</td><td>48</td></tr><tr><td>Yellow</td><td>46</td></tr><tr><td>Yellow</td><td>44</td></tr><tr><td>Yellow</td><td>42</td></tr><tr><td>Yellow</td><td>40</td></tr><tr><td>Yellow</td><td>38</td></tr></table>"
                    }
                }
            ],
            "execution_count": 44
        },
        {
            "cell_type": "code",
            "source": [
                "-- Display top 10 products by ListPrice\n",
                "SELECT TOP(10) Name, ListPrice\n",
                "FROM SalesLT.Product\n",
                "ORDER BY ListPrice DESC;"
            ],
            "metadata": {
                "azdata_cell_guid": "2beaf80c-5f71-44ae-b2ae-7cb2858bf1ac"
            },
            "outputs": [
                {
                    "output_type": "display_data",
                    "data": {
                        "text/html": "(10 rows affected)"
                    },
                    "metadata": {}
                },
                {
                    "output_type": "display_data",
                    "data": {
                        "text/html": "Total execution time: 00:00:00.007"
                    },
                    "metadata": {}
                },
                {
                    "output_type": "execute_result",
                    "metadata": {},
                    "execution_count": 45,
                    "data": {
                        "application/vnd.dataresource+json": {
                            "schema": {
                                "fields": [
                                    {
                                        "name": "Name"
                                    },
                                    {
                                        "name": "ListPrice"
                                    }
                                ]
                            },
                            "data": [
                                {
                                    "0": "Road-150 Red, 62",
                                    "1": "3578.2700"
                                },
                                {
                                    "0": "Road-150 Red, 44",
                                    "1": "3578.2700"
                                },
                                {
                                    "0": "Road-150 Red, 48",
                                    "1": "3578.2700"
                                },
                                {
                                    "0": "Road-150 Red, 52",
                                    "1": "3578.2700"
                                },
                                {
                                    "0": "Road-150 Red, 56",
                                    "1": "3578.2700"
                                },
                                {
                                    "0": "Mountain-100 Silver, 38",
                                    "1": "3399.9900"
                                },
                                {
                                    "0": "Mountain-100 Silver, 42",
                                    "1": "3399.9900"
                                },
                                {
                                    "0": "Mountain-100 Silver, 44",
                                    "1": "3399.9900"
                                },
                                {
                                    "0": "Mountain-100 Silver, 48",
                                    "1": "3399.9900"
                                },
                                {
                                    "0": "Mountain-100 Black, 38",
                                    "1": "3374.9900"
                                }
                            ]
                        },
                        "text/html": "<table><tr><th>Name</th><th>ListPrice</th></tr><tr><td>Road-150 Red, 62</td><td>3578.2700</td></tr><tr><td>Road-150 Red, 44</td><td>3578.2700</td></tr><tr><td>Road-150 Red, 48</td><td>3578.2700</td></tr><tr><td>Road-150 Red, 52</td><td>3578.2700</td></tr><tr><td>Road-150 Red, 56</td><td>3578.2700</td></tr><tr><td>Mountain-100 Silver, 38</td><td>3399.9900</td></tr><tr><td>Mountain-100 Silver, 42</td><td>3399.9900</td></tr><tr><td>Mountain-100 Silver, 44</td><td>3399.9900</td></tr><tr><td>Mountain-100 Silver, 48</td><td>3399.9900</td></tr><tr><td>Mountain-100 Black, 38</td><td>3374.9900</td></tr></table>"
                    }
                }
            ],
            "execution_count": 45
        },
        {
            "cell_type": "code",
            "source": [
                "-- Get first 10 products by product number\n",
                "SELECT Name, ProductNumber, ListPrice\n",
                "FROM SalesLT.Product\n",
                "ORDER BY ProductNumber\n",
                "OFFSET 0 ROW\n",
                "FETCH FIRST 10 ROWS ONLY\n",
                "\n",
                "-- Get next 10 product by product number\n",
                "SELECT Name, ProductNumber, ListPrice\n",
                "FROM SalesLT.Product\n",
                "ORDER BY ProductNumber\n",
                "OFFSET 10 ROWS\n",
                "FETCH NEXT 10 ROWS ONLY\n",
                "\n",
                "-- NOTE: Use of FIRST and NEXT are inter-changeable"
            ],
            "metadata": {
                "azdata_cell_guid": "1e6c99ff-efc1-45ce-8c0b-949b792fec71"
            },
            "outputs": [
                {
                    "output_type": "display_data",
                    "data": {
                        "text/html": "(10 rows affected)"
                    },
                    "metadata": {}
                },
                {
                    "output_type": "display_data",
                    "data": {
                        "text/html": "(10 rows affected)"
                    },
                    "metadata": {}
                },
                {
                    "output_type": "display_data",
                    "data": {
                        "text/html": "Total execution time: 00:00:00.008"
                    },
                    "metadata": {}
                },
                {
                    "output_type": "execute_result",
                    "metadata": {},
                    "execution_count": 46,
                    "data": {
                        "application/vnd.dataresource+json": {
                            "schema": {
                                "fields": [
                                    {
                                        "name": "Name"
                                    },
                                    {
                                        "name": "ProductNumber"
                                    },
                                    {
                                        "name": "ListPrice"
                                    }
                                ]
                            },
                            "data": [
                                {
                                    "0": "LL Bottom Bracket",
                                    "1": "BB-7421",
                                    "2": "53.9900"
                                },
                                {
                                    "0": "ML Bottom Bracket",
                                    "1": "BB-8107",
                                    "2": "101.2400"
                                },
                                {
                                    "0": "HL Bottom Bracket",
                                    "1": "BB-9108",
                                    "2": "121.4900"
                                },
                                {
                                    "0": "Mountain Bottle Cage",
                                    "1": "BC-M005",
                                    "2": "9.9900"
                                },
                                {
                                    "0": "Road Bottle Cage",
                                    "1": "BC-R205",
                                    "2": "8.9900"
                                },
                                {
                                    "0": "Mountain-500 Black, 40",
                                    "1": "BK-M18B-40",
                                    "2": "539.9900"
                                },
                                {
                                    "0": "Mountain-500 Black, 42",
                                    "1": "BK-M18B-42",
                                    "2": "539.9900"
                                },
                                {
                                    "0": "Mountain-500 Black, 44",
                                    "1": "BK-M18B-44",
                                    "2": "539.9900"
                                },
                                {
                                    "0": "Mountain-500 Black, 48",
                                    "1": "BK-M18B-48",
                                    "2": "539.9900"
                                },
                                {
                                    "0": "Mountain-500 Black, 52",
                                    "1": "BK-M18B-52",
                                    "2": "539.9900"
                                }
                            ]
                        },
                        "text/html": "<table><tr><th>Name</th><th>ProductNumber</th><th>ListPrice</th></tr><tr><td>LL Bottom Bracket</td><td>BB-7421</td><td>53.9900</td></tr><tr><td>ML Bottom Bracket</td><td>BB-8107</td><td>101.2400</td></tr><tr><td>HL Bottom Bracket</td><td>BB-9108</td><td>121.4900</td></tr><tr><td>Mountain Bottle Cage</td><td>BC-M005</td><td>9.9900</td></tr><tr><td>Road Bottle Cage</td><td>BC-R205</td><td>8.9900</td></tr><tr><td>Mountain-500 Black, 40</td><td>BK-M18B-40</td><td>539.9900</td></tr><tr><td>Mountain-500 Black, 42</td><td>BK-M18B-42</td><td>539.9900</td></tr><tr><td>Mountain-500 Black, 44</td><td>BK-M18B-44</td><td>539.9900</td></tr><tr><td>Mountain-500 Black, 48</td><td>BK-M18B-48</td><td>539.9900</td></tr><tr><td>Mountain-500 Black, 52</td><td>BK-M18B-52</td><td>539.9900</td></tr></table>"
                    }
                },
                {
                    "output_type": "execute_result",
                    "metadata": {},
                    "execution_count": 46,
                    "data": {
                        "application/vnd.dataresource+json": {
                            "schema": {
                                "fields": [
                                    {
                                        "name": "Name"
                                    },
                                    {
                                        "name": "ProductNumber"
                                    },
                                    {
                                        "name": "ListPrice"
                                    }
                                ]
                            },
                            "data": [
                                {
                                    "0": "Mountain-500 Silver, 40",
                                    "1": "BK-M18S-40",
                                    "2": "564.9900"
                                },
                                {
                                    "0": "Mountain-500 Silver, 42",
                                    "1": "BK-M18S-42",
                                    "2": "564.9900"
                                },
                                {
                                    "0": "Mountain-500 Silver, 44",
                                    "1": "BK-M18S-44",
                                    "2": "564.9900"
                                },
                                {
                                    "0": "Mountain-500 Silver, 48",
                                    "1": "BK-M18S-48",
                                    "2": "564.9900"
                                },
                                {
                                    "0": "Mountain-500 Silver, 52",
                                    "1": "BK-M18S-52",
                                    "2": "564.9900"
                                },
                                {
                                    "0": "Mountain-400-W Silver, 38",
                                    "1": "BK-M38S-38",
                                    "2": "769.4900"
                                },
                                {
                                    "0": "Mountain-400-W Silver, 40",
                                    "1": "BK-M38S-40",
                                    "2": "769.4900"
                                },
                                {
                                    "0": "Mountain-400-W Silver, 42",
                                    "1": "BK-M38S-42",
                                    "2": "769.4900"
                                },
                                {
                                    "0": "Mountain-400-W Silver, 46",
                                    "1": "BK-M38S-46",
                                    "2": "769.4900"
                                },
                                {
                                    "0": "Mountain-300 Black, 38",
                                    "1": "BK-M47B-38",
                                    "2": "1079.9900"
                                }
                            ]
                        },
                        "text/html": "<table><tr><th>Name</th><th>ProductNumber</th><th>ListPrice</th></tr><tr><td>Mountain-500 Silver, 40</td><td>BK-M18S-40</td><td>564.9900</td></tr><tr><td>Mountain-500 Silver, 42</td><td>BK-M18S-42</td><td>564.9900</td></tr><tr><td>Mountain-500 Silver, 44</td><td>BK-M18S-44</td><td>564.9900</td></tr><tr><td>Mountain-500 Silver, 48</td><td>BK-M18S-48</td><td>564.9900</td></tr><tr><td>Mountain-500 Silver, 52</td><td>BK-M18S-52</td><td>564.9900</td></tr><tr><td>Mountain-400-W Silver, 38</td><td>BK-M38S-38</td><td>769.4900</td></tr><tr><td>Mountain-400-W Silver, 40</td><td>BK-M38S-40</td><td>769.4900</td></tr><tr><td>Mountain-400-W Silver, 42</td><td>BK-M38S-42</td><td>769.4900</td></tr><tr><td>Mountain-400-W Silver, 46</td><td>BK-M38S-46</td><td>769.4900</td></tr><tr><td>Mountain-300 Black, 38</td><td>BK-M47B-38</td><td>1079.9900</td></tr></table>"
                    }
                }
            ],
            "execution_count": 46
        },
        {
            "cell_type": "markdown",
            "source": [
                "# Filtering and using Predicates"
            ],
            "metadata": {
                "azdata_cell_guid": "dd31d6c8-479a-4d11-ba3e-34b3359937a9"
            }
        },
        {
            "cell_type": "code",
            "source": [
                "-- List information about products with ProductModelID 6\n",
                "SELECT Name, Color, Size, ProductModelID\n",
                "From SalesLT.Product\n",
                "WHERE ProductModelID = 6;\n",
                "\n",
                "-- List information about products where ProductModelID is not 6\n",
                "SELECT Name, Color, Size, ProductModelID\n",
                "From SalesLT.Product\n",
                "WHERE ProductModelID <> 6;\n",
                "-- Note: Use <> or != for 'not equal to' relation, >= for 'greater than or equal to', <= for 'less than or equal to'"
            ],
            "metadata": {
                "azdata_cell_guid": "d482bd72-3687-4fa4-901f-42c40af27949"
            },
            "outputs": [
                {
                    "output_type": "display_data",
                    "data": {
                        "text/html": "(11 rows affected)"
                    },
                    "metadata": {}
                },
                {
                    "output_type": "display_data",
                    "data": {
                        "text/html": "(284 rows affected)"
                    },
                    "metadata": {}
                },
                {
                    "output_type": "display_data",
                    "data": {
                        "text/html": "Total execution time: 00:00:00.032"
                    },
                    "metadata": {}
                },
                {
                    "output_type": "execute_result",
                    "metadata": {},
                    "execution_count": 47,
                    "data": {
                        "application/vnd.dataresource+json": {
                            "schema": {
                                "fields": [
                                    {
                                        "name": "Name"
                                    },
                                    {
                                        "name": "Color"
                                    },
                                    {
                                        "name": "Size"
                                    },
                                    {
                                        "name": "ProductModelID"
                                    }
                                ]
                            },
                            "data": [
                                {
                                    "0": "HL Road Frame - Black, 58",
                                    "1": "Black",
                                    "2": "58",
                                    "3": "6"
                                },
                                {
                                    "0": "HL Road Frame - Red, 58",
                                    "1": "Red",
                                    "2": "58",
                                    "3": "6"
                                },
                                {
                                    "0": "HL Road Frame - Red, 62",
                                    "1": "Red",
                                    "2": "62",
                                    "3": "6"
                                },
                                {
                                    "0": "HL Road Frame - Red, 44",
                                    "1": "Red",
                                    "2": "44",
                                    "3": "6"
                                },
                                {
                                    "0": "HL Road Frame - Red, 48",
                                    "1": "Red",
                                    "2": "48",
                                    "3": "6"
                                },
                                {
                                    "0": "HL Road Frame - Red, 52",
                                    "1": "Red",
                                    "2": "52",
                                    "3": "6"
                                },
                                {
                                    "0": "HL Road Frame - Red, 56",
                                    "1": "Red",
                                    "2": "56",
                                    "3": "6"
                                },
                                {
                                    "0": "HL Road Frame - Black, 62",
                                    "1": "Black",
                                    "2": "62",
                                    "3": "6"
                                },
                                {
                                    "0": "HL Road Frame - Black, 44",
                                    "1": "Black",
                                    "2": "44",
                                    "3": "6"
                                },
                                {
                                    "0": "HL Road Frame - Black, 48",
                                    "1": "Black",
                                    "2": "48",
                                    "3": "6"
                                },
                                {
                                    "0": "HL Road Frame - Black, 52",
                                    "1": "Black",
                                    "2": "52",
                                    "3": "6"
                                }
                            ]
                        },
                        "text/html": "<table><tr><th>Name</th><th>Color</th><th>Size</th><th>ProductModelID</th></tr><tr><td>HL Road Frame - Black, 58</td><td>Black</td><td>58</td><td>6</td></tr><tr><td>HL Road Frame - Red, 58</td><td>Red</td><td>58</td><td>6</td></tr><tr><td>HL Road Frame - Red, 62</td><td>Red</td><td>62</td><td>6</td></tr><tr><td>HL Road Frame - Red, 44</td><td>Red</td><td>44</td><td>6</td></tr><tr><td>HL Road Frame - Red, 48</td><td>Red</td><td>48</td><td>6</td></tr><tr><td>HL Road Frame - Red, 52</td><td>Red</td><td>52</td><td>6</td></tr><tr><td>HL Road Frame - Red, 56</td><td>Red</td><td>56</td><td>6</td></tr><tr><td>HL Road Frame - Black, 62</td><td>Black</td><td>62</td><td>6</td></tr><tr><td>HL Road Frame - Black, 44</td><td>Black</td><td>44</td><td>6</td></tr><tr><td>HL Road Frame - Black, 48</td><td>Black</td><td>48</td><td>6</td></tr><tr><td>HL Road Frame - Black, 52</td><td>Black</td><td>52</td><td>6</td></tr></table>"
                    }
                },
                {
                    "output_type": "execute_result",
                    "metadata": {},
                    "execution_count": 47,
                    "data": {
                        "application/vnd.dataresource+json": {
                            "schema": {
                                "fields": [
                                    {
                                        "name": "Name"
                                    },
                                    {
                                        "name": "Color"
                                    },
                                    {
                                        "name": "Size"
                                    },
                                    {
                                        "name": "ProductModelID"
                                    }
                                ]
                            },
                            "data": [
                                {
                                    "0": "Sport-100 Helmet, Red",
                                    "1": "Red",
                                    "2": "NULL",
                                    "3": "33"
                                },
                                {
                                    "0": "Sport-100 Helmet, Black",
                                    "1": "Black",
                                    "2": "NULL",
                                    "3": "33"
                                },
                                {
                                    "0": "Mountain Bike Socks, M",
                                    "1": "White",
                                    "2": "M",
                                    "3": "18"
                                },
                                {
                                    "0": "Mountain Bike Socks, L",
                                    "1": "White",
                                    "2": "L",
                                    "3": "18"
                                },
                                {
                                    "0": "Sport-100 Helmet, Blue",
                                    "1": "Blue",
                                    "2": "NULL",
                                    "3": "33"
                                },
                                {
                                    "0": "AWC Logo Cap",
                                    "1": "Multi",
                                    "2": "NULL",
                                    "3": "2"
                                },
                                {
                                    "0": "Long-Sleeve Logo Jersey, S",
                                    "1": "Multi",
                                    "2": "S",
                                    "3": "11"
                                },
                                {
                                    "0": "Long-Sleeve Logo Jersey, M",
                                    "1": "Multi",
                                    "2": "M",
                                    "3": "11"
                                },
                                {
                                    "0": "Long-Sleeve Logo Jersey, L",
                                    "1": "Multi",
                                    "2": "L",
                                    "3": "11"
                                },
                                {
                                    "0": "Long-Sleeve Logo Jersey, XL",
                                    "1": "Multi",
                                    "2": "XL",
                                    "3": "11"
                                },
                                {
                                    "0": "LL Road Frame - Black, 58",
                                    "1": "Black",
                                    "2": "58",
                                    "3": "9"
                                },
                                {
                                    "0": "LL Road Frame - Black, 60",
                                    "1": "Black",
                                    "2": "60",
                                    "3": "9"
                                },
                                {
                                    "0": "LL Road Frame - Black, 62",
                                    "1": "Black",
                                    "2": "62",
                                    "3": "9"
                                },
                                {
                                    "0": "LL Road Frame - Red, 44",
                                    "1": "Red",
                                    "2": "44",
                                    "3": "9"
                                },
                                {
                                    "0": "LL Road Frame - Red, 48",
                                    "1": "Red",
                                    "2": "48",
                                    "3": "9"
                                },
                                {
                                    "0": "LL Road Frame - Red, 52",
                                    "1": "Red",
                                    "2": "52",
                                    "3": "9"
                                },
                                {
                                    "0": "LL Road Frame - Red, 58",
                                    "1": "Red",
                                    "2": "58",
                                    "3": "9"
                                },
                                {
                                    "0": "LL Road Frame - Red, 60",
                                    "1": "Red",
                                    "2": "60",
                                    "3": "9"
                                },
                                {
                                    "0": "LL Road Frame - Red, 62",
                                    "1": "Red",
                                    "2": "62",
                                    "3": "9"
                                },
                                {
                                    "0": "ML Road Frame - Red, 44",
                                    "1": "Red",
                                    "2": "44",
                                    "3": "16"
                                },
                                {
                                    "0": "ML Road Frame - Red, 48",
                                    "1": "Red",
                                    "2": "48",
                                    "3": "16"
                                },
                                {
                                    "0": "ML Road Frame - Red, 52",
                                    "1": "Red",
                                    "2": "52",
                                    "3": "16"
                                },
                                {
                                    "0": "ML Road Frame - Red, 58",
                                    "1": "Red",
                                    "2": "58",
                                    "3": "16"
                                },
                                {
                                    "0": "ML Road Frame - Red, 60",
                                    "1": "Red",
                                    "2": "60",
                                    "3": "16"
                                },
                                {
                                    "0": "LL Road Frame - Black, 44",
                                    "1": "Black",
                                    "2": "44",
                                    "3": "9"
                                },
                                {
                                    "0": "LL Road Frame - Black, 48",
                                    "1": "Black",
                                    "2": "48",
                                    "3": "9"
                                },
                                {
                                    "0": "LL Road Frame - Black, 52",
                                    "1": "Black",
                                    "2": "52",
                                    "3": "9"
                                },
                                {
                                    "0": "HL Mountain Frame - Silver, 42",
                                    "1": "Silver",
                                    "2": "42",
                                    "3": "5"
                                },
                                {
                                    "0": "HL Mountain Frame - Silver, 44",
                                    "1": "Silver",
                                    "2": "44",
                                    "3": "5"
                                },
                                {
                                    "0": "HL Mountain Frame - Silver, 48",
                                    "1": "Silver",
                                    "2": "48",
                                    "3": "5"
                                },
                                {
                                    "0": "HL Mountain Frame - Silver, 46",
                                    "1": "Silver",
                                    "2": "46",
                                    "3": "5"
                                },
                                {
                                    "0": "HL Mountain Frame - Black, 42",
                                    "1": "Black",
                                    "2": "42",
                                    "3": "5"
                                },
                                {
                                    "0": "HL Mountain Frame - Black, 44",
                                    "1": "Black",
                                    "2": "44",
                                    "3": "5"
                                },
                                {
                                    "0": "HL Mountain Frame - Black, 48",
                                    "1": "Black",
                                    "2": "48",
                                    "3": "5"
                                },
                                {
                                    "0": "HL Mountain Frame - Black, 46",
                                    "1": "Black",
                                    "2": "46",
                                    "3": "5"
                                },
                                {
                                    "0": "HL Mountain Frame - Black, 38",
                                    "1": "Black",
                                    "2": "38",
                                    "3": "5"
                                },
                                {
                                    "0": "HL Mountain Frame - Silver, 38",
                                    "1": "Silver",
                                    "2": "38",
                                    "3": "5"
                                },
                                {
                                    "0": "Road-150 Red, 62",
                                    "1": "Red",
                                    "2": "62",
                                    "3": "25"
                                },
                                {
                                    "0": "Road-150 Red, 44",
                                    "1": "Red",
                                    "2": "44",
                                    "3": "25"
                                },
                                {
                                    "0": "Road-150 Red, 48",
                                    "1": "Red",
                                    "2": "48",
                                    "3": "25"
                                },
                                {
                                    "0": "Road-150 Red, 52",
                                    "1": "Red",
                                    "2": "52",
                                    "3": "25"
                                },
                                {
                                    "0": "Road-150 Red, 56",
                                    "1": "Red",
                                    "2": "56",
                                    "3": "25"
                                },
                                {
                                    "0": "Road-450 Red, 58",
                                    "1": "Red",
                                    "2": "58",
                                    "3": "28"
                                },
                                {
                                    "0": "Road-450 Red, 60",
                                    "1": "Red",
                                    "2": "60",
                                    "3": "28"
                                },
                                {
                                    "0": "Road-450 Red, 44",
                                    "1": "Red",
                                    "2": "44",
                                    "3": "28"
                                },
                                {
                                    "0": "Road-450 Red, 48",
                                    "1": "Red",
                                    "2": "48",
                                    "3": "28"
                                },
                                {
                                    "0": "Road-450 Red, 52",
                                    "1": "Red",
                                    "2": "52",
                                    "3": "28"
                                },
                                {
                                    "0": "Road-650 Red, 58",
                                    "1": "Red",
                                    "2": "58",
                                    "3": "30"
                                },
                                {
                                    "0": "Road-650 Red, 60",
                                    "1": "Red",
                                    "2": "60",
                                    "3": "30"
                                },
                                {
                                    "0": "Road-650 Red, 62",
                                    "1": "Red",
                                    "2": "62",
                                    "3": "30"
                                },
                                {
                                    "0": "Road-650 Red, 44",
                                    "1": "Red",
                                    "2": "44",
                                    "3": "30"
                                },
                                {
                                    "0": "Road-650 Red, 48",
                                    "1": "Red",
                                    "2": "48",
                                    "3": "30"
                                },
                                {
                                    "0": "Road-650 Red, 52",
                                    "1": "Red",
                                    "2": "52",
                                    "3": "30"
                                },
                                {
                                    "0": "Road-650 Black, 58",
                                    "1": "Black",
                                    "2": "58",
                                    "3": "30"
                                },
                                {
                                    "0": "Road-650 Black, 60",
                                    "1": "Black",
                                    "2": "60",
                                    "3": "30"
                                },
                                {
                                    "0": "Road-650 Black, 62",
                                    "1": "Black",
                                    "2": "62",
                                    "3": "30"
                                },
                                {
                                    "0": "Road-650 Black, 44",
                                    "1": "Black",
                                    "2": "44",
                                    "3": "30"
                                },
                                {
                                    "0": "Road-650 Black, 48",
                                    "1": "Black",
                                    "2": "48",
                                    "3": "30"
                                },
                                {
                                    "0": "Road-650 Black, 52",
                                    "1": "Black",
                                    "2": "52",
                                    "3": "30"
                                },
                                {
                                    "0": "Mountain-100 Silver, 38",
                                    "1": "Silver",
                                    "2": "38",
                                    "3": "19"
                                },
                                {
                                    "0": "Mountain-100 Silver, 42",
                                    "1": "Silver",
                                    "2": "42",
                                    "3": "19"
                                },
                                {
                                    "0": "Mountain-100 Silver, 44",
                                    "1": "Silver",
                                    "2": "44",
                                    "3": "19"
                                },
                                {
                                    "0": "Mountain-100 Silver, 48",
                                    "1": "Silver",
                                    "2": "48",
                                    "3": "19"
                                },
                                {
                                    "0": "Mountain-100 Black, 38",
                                    "1": "Black",
                                    "2": "38",
                                    "3": "19"
                                },
                                {
                                    "0": "Mountain-100 Black, 42",
                                    "1": "Black",
                                    "2": "42",
                                    "3": "19"
                                },
                                {
                                    "0": "Mountain-100 Black, 44",
                                    "1": "Black",
                                    "2": "44",
                                    "3": "19"
                                },
                                {
                                    "0": "Mountain-100 Black, 48",
                                    "1": "Black",
                                    "2": "48",
                                    "3": "19"
                                },
                                {
                                    "0": "Mountain-200 Silver, 38",
                                    "1": "Silver",
                                    "2": "38",
                                    "3": "20"
                                },
                                {
                                    "0": "Mountain-200 Silver, 42",
                                    "1": "Silver",
                                    "2": "42",
                                    "3": "20"
                                },
                                {
                                    "0": "Mountain-200 Silver, 46",
                                    "1": "Silver",
                                    "2": "46",
                                    "3": "20"
                                },
                                {
                                    "0": "Mountain-200 Black, 38",
                                    "1": "Black",
                                    "2": "38",
                                    "3": "20"
                                },
                                {
                                    "0": "Mountain-200 Black, 42",
                                    "1": "Black",
                                    "2": "42",
                                    "3": "20"
                                },
                                {
                                    "0": "Mountain-200 Black, 46",
                                    "1": "Black",
                                    "2": "46",
                                    "3": "20"
                                },
                                {
                                    "0": "Mountain-300 Black, 38",
                                    "1": "Black",
                                    "2": "38",
                                    "3": "21"
                                },
                                {
                                    "0": "Mountain-300 Black, 40",
                                    "1": "Black",
                                    "2": "40",
                                    "3": "21"
                                },
                                {
                                    "0": "Mountain-300 Black, 44",
                                    "1": "Black",
                                    "2": "44",
                                    "3": "21"
                                },
                                {
                                    "0": "Mountain-300 Black, 48",
                                    "1": "Black",
                                    "2": "48",
                                    "3": "21"
                                },
                                {
                                    "0": "Road-250 Red, 44",
                                    "1": "Red",
                                    "2": "44",
                                    "3": "26"
                                },
                                {
                                    "0": "Road-250 Red, 48",
                                    "1": "Red",
                                    "2": "48",
                                    "3": "26"
                                },
                                {
                                    "0": "Road-250 Red, 52",
                                    "1": "Red",
                                    "2": "52",
                                    "3": "26"
                                },
                                {
                                    "0": "Road-250 Red, 58",
                                    "1": "Red",
                                    "2": "58",
                                    "3": "26"
                                },
                                {
                                    "0": "Road-250 Black, 44",
                                    "1": "Black",
                                    "2": "44",
                                    "3": "26"
                                },
                                {
                                    "0": "Road-250 Black, 48",
                                    "1": "Black",
                                    "2": "48",
                                    "3": "26"
                                },
                                {
                                    "0": "Road-250 Black, 52",
                                    "1": "Black",
                                    "2": "52",
                                    "3": "26"
                                },
                                {
                                    "0": "Road-250 Black, 58",
                                    "1": "Black",
                                    "2": "58",
                                    "3": "26"
                                },
                                {
                                    "0": "Road-550-W Yellow, 38",
                                    "1": "Yellow",
                                    "2": "38",
                                    "3": "29"
                                },
                                {
                                    "0": "Road-550-W Yellow, 40",
                                    "1": "Yellow",
                                    "2": "40",
                                    "3": "29"
                                },
                                {
                                    "0": "Road-550-W Yellow, 42",
                                    "1": "Yellow",
                                    "2": "42",
                                    "3": "29"
                                },
                                {
                                    "0": "Road-550-W Yellow, 44",
                                    "1": "Yellow",
                                    "2": "44",
                                    "3": "29"
                                },
                                {
                                    "0": "Road-550-W Yellow, 48",
                                    "1": "Yellow",
                                    "2": "48",
                                    "3": "29"
                                },
                                {
                                    "0": "LL Fork",
                                    "1": "NULL",
                                    "2": "NULL",
                                    "3": "104"
                                },
                                {
                                    "0": "ML Fork",
                                    "1": "NULL",
                                    "2": "NULL",
                                    "3": "105"
                                },
                                {
                                    "0": "HL Fork",
                                    "1": "NULL",
                                    "2": "NULL",
                                    "3": "106"
                                },
                                {
                                    "0": "LL Headset",
                                    "1": "NULL",
                                    "2": "NULL",
                                    "3": "59"
                                },
                                {
                                    "0": "ML Headset",
                                    "1": "NULL",
                                    "2": "NULL",
                                    "3": "60"
                                },
                                {
                                    "0": "HL Headset",
                                    "1": "NULL",
                                    "2": "NULL",
                                    "3": "61"
                                },
                                {
                                    "0": "LL Mountain Handlebars",
                                    "1": "NULL",
                                    "2": "NULL",
                                    "3": "52"
                                },
                                {
                                    "0": "ML Mountain Handlebars",
                                    "1": "NULL",
                                    "2": "NULL",
                                    "3": "54"
                                },
                                {
                                    "0": "HL Mountain Handlebars",
                                    "1": "NULL",
                                    "2": "NULL",
                                    "3": "55"
                                },
                                {
                                    "0": "LL Road Handlebars",
                                    "1": "NULL",
                                    "2": "NULL",
                                    "3": "56"
                                },
                                {
                                    "0": "ML Road Handlebars",
                                    "1": "NULL",
                                    "2": "NULL",
                                    "3": "57"
                                },
                                {
                                    "0": "HL Road Handlebars",
                                    "1": "NULL",
                                    "2": "NULL",
                                    "3": "58"
                                },
                                {
                                    "0": "ML Mountain Frame - Black, 38",
                                    "1": "Black",
                                    "2": "38",
                                    "3": "15"
                                },
                                {
                                    "0": "LL Mountain Front Wheel",
                                    "1": "Black",
                                    "2": "NULL",
                                    "3": "42"
                                },
                                {
                                    "0": "ML Mountain Front Wheel",
                                    "1": "Black",
                                    "2": "NULL",
                                    "3": "45"
                                },
                                {
                                    "0": "HL Mountain Front Wheel",
                                    "1": "Black",
                                    "2": "NULL",
                                    "3": "46"
                                },
                                {
                                    "0": "LL Road Front Wheel",
                                    "1": "Black",
                                    "2": "NULL",
                                    "3": "49"
                                },
                                {
                                    "0": "ML Road Front Wheel",
                                    "1": "Black",
                                    "2": "NULL",
                                    "3": "50"
                                },
                                {
                                    "0": "HL Road Front Wheel",
                                    "1": "Black",
                                    "2": "NULL",
                                    "3": "51"
                                },
                                {
                                    "0": "Touring Front Wheel",
                                    "1": "Black",
                                    "2": "NULL",
                                    "3": "44"
                                },
                                {
                                    "0": "ML Road Frame-W - Yellow, 38",
                                    "1": "Yellow",
                                    "2": "38",
                                    "3": "17"
                                },
                                {
                                    "0": "LL Mountain Rear Wheel",
                                    "1": "Black",
                                    "2": "NULL",
                                    "3": "123"
                                },
                                {
                                    "0": "ML Mountain Rear Wheel",
                                    "1": "Black",
                                    "2": "NULL",
                                    "3": "124"
                                },
                                {
                                    "0": "HL Mountain Rear Wheel",
                                    "1": "Black",
                                    "2": "NULL",
                                    "3": "125"
                                },
                                {
                                    "0": "LL Road Rear Wheel",
                                    "1": "Black",
                                    "2": "NULL",
                                    "3": "126"
                                },
                                {
                                    "0": "ML Road Rear Wheel",
                                    "1": "Black",
                                    "2": "NULL",
                                    "3": "77"
                                },
                                {
                                    "0": "HL Road Rear Wheel",
                                    "1": "Black",
                                    "2": "NULL",
                                    "3": "78"
                                },
                                {
                                    "0": "Touring Rear Wheel",
                                    "1": "Black",
                                    "2": "NULL",
                                    "3": "43"
                                },
                                {
                                    "0": "ML Mountain Frame - Black, 40",
                                    "1": "Black",
                                    "2": "40",
                                    "3": "14"
                                },
                                {
                                    "0": "ML Mountain Frame - Black, 44",
                                    "1": "Black",
                                    "2": "44",
                                    "3": "14"
                                },
                                {
                                    "0": "ML Mountain Frame - Black, 48",
                                    "1": "Black",
                                    "2": "48",
                                    "3": "14"
                                },
                                {
                                    "0": "ML Road Frame-W - Yellow, 40",
                                    "1": "Yellow",
                                    "2": "40",
                                    "3": "17"
                                },
                                {
                                    "0": "ML Road Frame-W - Yellow, 42",
                                    "1": "Yellow",
                                    "2": "42",
                                    "3": "17"
                                },
                                {
                                    "0": "ML Road Frame-W - Yellow, 44",
                                    "1": "Yellow",
                                    "2": "44",
                                    "3": "17"
                                },
                                {
                                    "0": "ML Road Frame-W - Yellow, 48",
                                    "1": "Yellow",
                                    "2": "48",
                                    "3": "17"
                                },
                                {
                                    "0": "Men's Sports Shorts, S",
                                    "1": "Black",
                                    "2": "S",
                                    "3": "13"
                                },
                                {
                                    "0": "Touring-Panniers, Large",
                                    "1": "Grey",
                                    "2": "NULL",
                                    "3": "120"
                                },
                                {
                                    "0": "Cable Lock",
                                    "1": "NULL",
                                    "2": "NULL",
                                    "3": "115"
                                },
                                {
                                    "0": "Minipump",
                                    "1": "NULL",
                                    "2": "NULL",
                                    "3": "116"
                                },
                                {
                                    "0": "Mountain Pump",
                                    "1": "NULL",
                                    "2": "NULL",
                                    "3": "117"
                                },
                                {
                                    "0": "Taillights - Battery-Powered",
                                    "1": "NULL",
                                    "2": "NULL",
                                    "3": "108"
                                },
                                {
                                    "0": "Headlights - Dual-Beam",
                                    "1": "NULL",
                                    "2": "NULL",
                                    "3": "109"
                                },
                                {
                                    "0": "Headlights - Weatherproof",
                                    "1": "NULL",
                                    "2": "NULL",
                                    "3": "110"
                                },
                                {
                                    "0": "Men's Sports Shorts, M",
                                    "1": "Black",
                                    "2": "M",
                                    "3": "13"
                                },
                                {
                                    "0": "Men's Sports Shorts, L",
                                    "1": "Black",
                                    "2": "L",
                                    "3": "13"
                                },
                                {
                                    "0": "Men's Sports Shorts, XL",
                                    "1": "Black",
                                    "2": "XL",
                                    "3": "13"
                                },
                                {
                                    "0": "Women's Tights, S",
                                    "1": "Black",
                                    "2": "S",
                                    "3": "38"
                                },
                                {
                                    "0": "Women's Tights, M",
                                    "1": "Black",
                                    "2": "M",
                                    "3": "38"
                                },
                                {
                                    "0": "Women's Tights, L",
                                    "1": "Black",
                                    "2": "L",
                                    "3": "38"
                                },
                                {
                                    "0": "Men's Bib-Shorts, S",
                                    "1": "Multi",
                                    "2": "S",
                                    "3": "12"
                                },
                                {
                                    "0": "Men's Bib-Shorts, M",
                                    "1": "Multi",
                                    "2": "M",
                                    "3": "12"
                                },
                                {
                                    "0": "Men's Bib-Shorts, L",
                                    "1": "Multi",
                                    "2": "L",
                                    "3": "12"
                                },
                                {
                                    "0": "Half-Finger Gloves, S",
                                    "1": "Black",
                                    "2": "S",
                                    "3": "4"
                                },
                                {
                                    "0": "Half-Finger Gloves, M",
                                    "1": "Black",
                                    "2": "M",
                                    "3": "4"
                                },
                                {
                                    "0": "Half-Finger Gloves, L",
                                    "1": "Black",
                                    "2": "L",
                                    "3": "4"
                                },
                                {
                                    "0": "Full-Finger Gloves, S",
                                    "1": "Black",
                                    "2": "S",
                                    "3": "3"
                                },
                                {
                                    "0": "Full-Finger Gloves, M",
                                    "1": "Black",
                                    "2": "M",
                                    "3": "3"
                                },
                                {
                                    "0": "Full-Finger Gloves, L",
                                    "1": "Black",
                                    "2": "L",
                                    "3": "3"
                                },
                                {
                                    "0": "Classic Vest, S",
                                    "1": "Blue",
                                    "2": "S",
                                    "3": "1"
                                },
                                {
                                    "0": "Classic Vest, M",
                                    "1": "Blue",
                                    "2": "M",
                                    "3": "1"
                                },
                                {
                                    "0": "Classic Vest, L",
                                    "1": "Blue",
                                    "2": "L",
                                    "3": "1"
                                },
                                {
                                    "0": "Women's Mountain Shorts, S",
                                    "1": "Black",
                                    "2": "S",
                                    "3": "37"
                                },
                                {
                                    "0": "Women's Mountain Shorts, M",
                                    "1": "Black",
                                    "2": "M",
                                    "3": "37"
                                },
                                {
                                    "0": "Women's Mountain Shorts, L",
                                    "1": "Black",
                                    "2": "L",
                                    "3": "37"
                                },
                                {
                                    "0": "Water Bottle - 30 oz.",
                                    "1": "NULL",
                                    "2": "NULL",
                                    "3": "111"
                                },
                                {
                                    "0": "Mountain Bottle Cage",
                                    "1": "NULL",
                                    "2": "NULL",
                                    "3": "112"
                                },
                                {
                                    "0": "Road Bottle Cage",
                                    "1": "NULL",
                                    "2": "NULL",
                                    "3": "113"
                                },
                                {
                                    "0": "Patch Kit/8 Patches",
                                    "1": "NULL",
                                    "2": "NULL",
                                    "3": "114"
                                },
                                {
                                    "0": "Racing Socks, M",
                                    "1": "White",
                                    "2": "M",
                                    "3": "24"
                                },
                                {
                                    "0": "Racing Socks, L",
                                    "1": "White",
                                    "2": "L",
                                    "3": "24"
                                },
                                {
                                    "0": "Hitch Rack - 4-Bike",
                                    "1": "NULL",
                                    "2": "NULL",
                                    "3": "118"
                                },
                                {
                                    "0": "Bike Wash - Dissolver",
                                    "1": "NULL",
                                    "2": "NULL",
                                    "3": "119"
                                },
                                {
                                    "0": "Fender Set - Mountain",
                                    "1": "NULL",
                                    "2": "NULL",
                                    "3": "121"
                                },
                                {
                                    "0": "All-Purpose Bike Stand",
                                    "1": "NULL",
                                    "2": "NULL",
                                    "3": "122"
                                },
                                {
                                    "0": "Hydration Pack - 70 oz.",
                                    "1": "Silver",
                                    "2": "70",
                                    "3": "107"
                                },
                                {
                                    "0": "Short-Sleeve Classic Jersey, S",
                                    "1": "Yellow",
                                    "2": "S",
                                    "3": "32"
                                },
                                {
                                    "0": "Short-Sleeve Classic Jersey, M",
                                    "1": "Yellow",
                                    "2": "M",
                                    "3": "32"
                                },
                                {
                                    "0": "Short-Sleeve Classic Jersey, L",
                                    "1": "Yellow",
                                    "2": "L",
                                    "3": "32"
                                },
                                {
                                    "0": "Short-Sleeve Classic Jersey, XL",
                                    "1": "Yellow",
                                    "2": "XL",
                                    "3": "32"
                                },
                                {
                                    "0": "HL Touring Frame - Yellow, 60",
                                    "1": "Yellow",
                                    "2": "60",
                                    "3": "7"
                                },
                                {
                                    "0": "LL Touring Frame - Yellow, 62",
                                    "1": "Yellow",
                                    "2": "62",
                                    "3": "10"
                                },
                                {
                                    "0": "HL Touring Frame - Yellow, 46",
                                    "1": "Yellow",
                                    "2": "46",
                                    "3": "7"
                                },
                                {
                                    "0": "HL Touring Frame - Yellow, 50",
                                    "1": "Yellow",
                                    "2": "50",
                                    "3": "7"
                                },
                                {
                                    "0": "HL Touring Frame - Yellow, 54",
                                    "1": "Yellow",
                                    "2": "54",
                                    "3": "7"
                                },
                                {
                                    "0": "HL Touring Frame - Blue, 46",
                                    "1": "Blue",
                                    "2": "46",
                                    "3": "7"
                                },
                                {
                                    "0": "HL Touring Frame - Blue, 50",
                                    "1": "Blue",
                                    "2": "50",
                                    "3": "7"
                                },
                                {
                                    "0": "HL Touring Frame - Blue, 54",
                                    "1": "Blue",
                                    "2": "54",
                                    "3": "7"
                                },
                                {
                                    "0": "HL Touring Frame - Blue, 60",
                                    "1": "Blue",
                                    "2": "60",
                                    "3": "7"
                                },
                                {
                                    "0": "Rear Derailleur",
                                    "1": "Silver",
                                    "2": "NULL",
                                    "3": "127"
                                },
                                {
                                    "0": "LL Touring Frame - Blue, 50",
                                    "1": "Blue",
                                    "2": "50",
                                    "3": "10"
                                },
                                {
                                    "0": "LL Touring Frame - Blue, 54",
                                    "1": "Blue",
                                    "2": "54",
                                    "3": "10"
                                },
                                {
                                    "0": "LL Touring Frame - Blue, 58",
                                    "1": "Blue",
                                    "2": "58",
                                    "3": "10"
                                },
                                {
                                    "0": "LL Touring Frame - Blue, 62",
                                    "1": "Blue",
                                    "2": "62",
                                    "3": "10"
                                },
                                {
                                    "0": "LL Touring Frame - Yellow, 44",
                                    "1": "Yellow",
                                    "2": "44",
                                    "3": "10"
                                },
                                {
                                    "0": "LL Touring Frame - Yellow, 50",
                                    "1": "Yellow",
                                    "2": "50",
                                    "3": "10"
                                },
                                {
                                    "0": "LL Touring Frame - Yellow, 54",
                                    "1": "Yellow",
                                    "2": "54",
                                    "3": "10"
                                },
                                {
                                    "0": "LL Touring Frame - Yellow, 58",
                                    "1": "Yellow",
                                    "2": "58",
                                    "3": "10"
                                },
                                {
                                    "0": "LL Touring Frame - Blue, 44",
                                    "1": "Blue",
                                    "2": "44",
                                    "3": "10"
                                },
                                {
                                    "0": "ML Mountain Frame-W - Silver, 40",
                                    "1": "Silver",
                                    "2": "40",
                                    "3": "15"
                                },
                                {
                                    "0": "ML Mountain Frame-W - Silver, 42",
                                    "1": "Silver",
                                    "2": "42",
                                    "3": "15"
                                },
                                {
                                    "0": "ML Mountain Frame-W - Silver, 46",
                                    "1": "Silver",
                                    "2": "46",
                                    "3": "15"
                                },
                                {
                                    "0": "Rear Brakes",
                                    "1": "Silver",
                                    "2": "NULL",
                                    "3": "128"
                                },
                                {
                                    "0": "LL Mountain Seat/Saddle",
                                    "1": "NULL",
                                    "2": "NULL",
                                    "3": "79"
                                },
                                {
                                    "0": "ML Mountain Seat/Saddle",
                                    "1": "NULL",
                                    "2": "NULL",
                                    "3": "80"
                                },
                                {
                                    "0": "HL Mountain Seat/Saddle",
                                    "1": "NULL",
                                    "2": "NULL",
                                    "3": "81"
                                },
                                {
                                    "0": "LL Road Seat/Saddle",
                                    "1": "NULL",
                                    "2": "NULL",
                                    "3": "82"
                                },
                                {
                                    "0": "ML Road Seat/Saddle",
                                    "1": "NULL",
                                    "2": "NULL",
                                    "3": "83"
                                },
                                {
                                    "0": "HL Road Seat/Saddle",
                                    "1": "NULL",
                                    "2": "NULL",
                                    "3": "84"
                                },
                                {
                                    "0": "LL Touring Seat/Saddle",
                                    "1": "NULL",
                                    "2": "NULL",
                                    "3": "66"
                                },
                                {
                                    "0": "ML Touring Seat/Saddle",
                                    "1": "NULL",
                                    "2": "NULL",
                                    "3": "65"
                                },
                                {
                                    "0": "HL Touring Seat/Saddle",
                                    "1": "NULL",
                                    "2": "NULL",
                                    "3": "67"
                                },
                                {
                                    "0": "LL Mountain Frame - Silver, 42",
                                    "1": "Silver",
                                    "2": "42",
                                    "3": "8"
                                },
                                {
                                    "0": "LL Mountain Frame - Silver, 44",
                                    "1": "Silver",
                                    "2": "44",
                                    "3": "8"
                                },
                                {
                                    "0": "LL Mountain Frame - Silver, 48",
                                    "1": "Silver",
                                    "2": "48",
                                    "3": "8"
                                },
                                {
                                    "0": "LL Mountain Frame - Silver, 52",
                                    "1": "Silver",
                                    "2": "52",
                                    "3": "8"
                                },
                                {
                                    "0": "Mountain Tire Tube",
                                    "1": "NULL",
                                    "2": "NULL",
                                    "3": "92"
                                },
                                {
                                    "0": "Road Tire Tube",
                                    "1": "NULL",
                                    "2": "NULL",
                                    "3": "93"
                                },
                                {
                                    "0": "Touring Tire Tube",
                                    "1": "NULL",
                                    "2": "NULL",
                                    "3": "94"
                                },
                                {
                                    "0": "LL Mountain Frame - Black, 42",
                                    "1": "Black",
                                    "2": "42",
                                    "3": "8"
                                },
                                {
                                    "0": "LL Mountain Frame - Black, 44",
                                    "1": "Black",
                                    "2": "44",
                                    "3": "8"
                                },
                                {
                                    "0": "LL Mountain Frame - Black, 48",
                                    "1": "Black",
                                    "2": "48",
                                    "3": "8"
                                },
                                {
                                    "0": "LL Mountain Frame - Black, 52",
                                    "1": "Black",
                                    "2": "52",
                                    "3": "8"
                                },
                                {
                                    "0": "LL Mountain Tire",
                                    "1": "NULL",
                                    "2": "NULL",
                                    "3": "85"
                                },
                                {
                                    "0": "ML Mountain Tire",
                                    "1": "NULL",
                                    "2": "NULL",
                                    "3": "86"
                                },
                                {
                                    "0": "HL Mountain Tire",
                                    "1": "NULL",
                                    "2": "NULL",
                                    "3": "87"
                                },
                                {
                                    "0": "LL Road Tire",
                                    "1": "NULL",
                                    "2": "NULL",
                                    "3": "88"
                                },
                                {
                                    "0": "ML Road Tire",
                                    "1": "NULL",
                                    "2": "NULL",
                                    "3": "89"
                                },
                                {
                                    "0": "HL Road Tire",
                                    "1": "NULL",
                                    "2": "NULL",
                                    "3": "90"
                                },
                                {
                                    "0": "Touring Tire",
                                    "1": "NULL",
                                    "2": "NULL",
                                    "3": "91"
                                },
                                {
                                    "0": "LL Mountain Pedal",
                                    "1": "Silver/Black",
                                    "2": "NULL",
                                    "3": "62"
                                },
                                {
                                    "0": "ML Mountain Pedal",
                                    "1": "Silver/Black",
                                    "2": "NULL",
                                    "3": "63"
                                },
                                {
                                    "0": "HL Mountain Pedal",
                                    "1": "Silver/Black",
                                    "2": "NULL",
                                    "3": "64"
                                },
                                {
                                    "0": "LL Road Pedal",
                                    "1": "Silver/Black",
                                    "2": "NULL",
                                    "3": "68"
                                },
                                {
                                    "0": "ML Road Pedal",
                                    "1": "Silver/Black",
                                    "2": "NULL",
                                    "3": "69"
                                },
                                {
                                    "0": "HL Road Pedal",
                                    "1": "Silver/Black",
                                    "2": "NULL",
                                    "3": "70"
                                },
                                {
                                    "0": "Touring Pedal",
                                    "1": "Silver/Black",
                                    "2": "NULL",
                                    "3": "53"
                                },
                                {
                                    "0": "ML Mountain Frame-W - Silver, 38",
                                    "1": "Silver",
                                    "2": "38",
                                    "3": "15"
                                },
                                {
                                    "0": "LL Mountain Frame - Black, 40",
                                    "1": "Black",
                                    "2": "40",
                                    "3": "8"
                                },
                                {
                                    "0": "LL Mountain Frame - Silver, 40",
                                    "1": "Silver",
                                    "2": "40",
                                    "3": "8"
                                },
                                {
                                    "0": "Front Derailleur",
                                    "1": "Silver",
                                    "2": "NULL",
                                    "3": "103"
                                },
                                {
                                    "0": "LL Touring Handlebars",
                                    "1": "NULL",
                                    "2": "NULL",
                                    "3": "47"
                                },
                                {
                                    "0": "HL Touring Handlebars",
                                    "1": "NULL",
                                    "2": "NULL",
                                    "3": "48"
                                },
                                {
                                    "0": "Front Brakes",
                                    "1": "Silver",
                                    "2": "NULL",
                                    "3": "102"
                                },
                                {
                                    "0": "LL Crankset",
                                    "1": "Black",
                                    "2": "NULL",
                                    "3": "99"
                                },
                                {
                                    "0": "ML Crankset",
                                    "1": "Black",
                                    "2": "NULL",
                                    "3": "100"
                                },
                                {
                                    "0": "HL Crankset",
                                    "1": "Black",
                                    "2": "NULL",
                                    "3": "101"
                                },
                                {
                                    "0": "Chain",
                                    "1": "Silver",
                                    "2": "NULL",
                                    "3": "98"
                                },
                                {
                                    "0": "Touring-2000 Blue, 60",
                                    "1": "Blue",
                                    "2": "60",
                                    "3": "35"
                                },
                                {
                                    "0": "Touring-1000 Yellow, 46",
                                    "1": "Yellow",
                                    "2": "46",
                                    "3": "34"
                                },
                                {
                                    "0": "Touring-1000 Yellow, 50",
                                    "1": "Yellow",
                                    "2": "50",
                                    "3": "34"
                                },
                                {
                                    "0": "Touring-1000 Yellow, 54",
                                    "1": "Yellow",
                                    "2": "54",
                                    "3": "34"
                                },
                                {
                                    "0": "Touring-1000 Yellow, 60",
                                    "1": "Yellow",
                                    "2": "60",
                                    "3": "34"
                                },
                                {
                                    "0": "Touring-3000 Blue, 54",
                                    "1": "Blue",
                                    "2": "54",
                                    "3": "36"
                                },
                                {
                                    "0": "Touring-3000 Blue, 58",
                                    "1": "Blue",
                                    "2": "58",
                                    "3": "36"
                                },
                                {
                                    "0": "Touring-3000 Blue, 62",
                                    "1": "Blue",
                                    "2": "62",
                                    "3": "36"
                                },
                                {
                                    "0": "Touring-3000 Yellow, 44",
                                    "1": "Yellow",
                                    "2": "44",
                                    "3": "36"
                                },
                                {
                                    "0": "Touring-3000 Yellow, 50",
                                    "1": "Yellow",
                                    "2": "50",
                                    "3": "36"
                                },
                                {
                                    "0": "Touring-3000 Yellow, 54",
                                    "1": "Yellow",
                                    "2": "54",
                                    "3": "36"
                                },
                                {
                                    "0": "Touring-3000 Yellow, 58",
                                    "1": "Yellow",
                                    "2": "58",
                                    "3": "36"
                                },
                                {
                                    "0": "Touring-3000 Yellow, 62",
                                    "1": "Yellow",
                                    "2": "62",
                                    "3": "36"
                                },
                                {
                                    "0": "Touring-1000 Blue, 46",
                                    "1": "Blue",
                                    "2": "46",
                                    "3": "34"
                                },
                                {
                                    "0": "Touring-1000 Blue, 50",
                                    "1": "Blue",
                                    "2": "50",
                                    "3": "34"
                                },
                                {
                                    "0": "Touring-1000 Blue, 54",
                                    "1": "Blue",
                                    "2": "54",
                                    "3": "34"
                                },
                                {
                                    "0": "Touring-1000 Blue, 60",
                                    "1": "Blue",
                                    "2": "60",
                                    "3": "34"
                                },
                                {
                                    "0": "Touring-2000 Blue, 46",
                                    "1": "Blue",
                                    "2": "46",
                                    "3": "35"
                                },
                                {
                                    "0": "Touring-2000 Blue, 50",
                                    "1": "Blue",
                                    "2": "50",
                                    "3": "35"
                                },
                                {
                                    "0": "Touring-2000 Blue, 54",
                                    "1": "Blue",
                                    "2": "54",
                                    "3": "35"
                                },
                                {
                                    "0": "Road-350-W Yellow, 40",
                                    "1": "Yellow",
                                    "2": "40",
                                    "3": "27"
                                },
                                {
                                    "0": "Road-350-W Yellow, 42",
                                    "1": "Yellow",
                                    "2": "42",
                                    "3": "27"
                                },
                                {
                                    "0": "Road-350-W Yellow, 44",
                                    "1": "Yellow",
                                    "2": "44",
                                    "3": "27"
                                },
                                {
                                    "0": "Road-350-W Yellow, 48",
                                    "1": "Yellow",
                                    "2": "48",
                                    "3": "27"
                                },
                                {
                                    "0": "Road-750 Black, 58",
                                    "1": "Black",
                                    "2": "58",
                                    "3": "31"
                                },
                                {
                                    "0": "Touring-3000 Blue, 44",
                                    "1": "Blue",
                                    "2": "44",
                                    "3": "36"
                                },
                                {
                                    "0": "Touring-3000 Blue, 50",
                                    "1": "Blue",
                                    "2": "50",
                                    "3": "36"
                                },
                                {
                                    "0": "Mountain-400-W Silver, 38",
                                    "1": "Silver",
                                    "2": "38",
                                    "3": "22"
                                },
                                {
                                    "0": "Mountain-400-W Silver, 40",
                                    "1": "Silver",
                                    "2": "40",
                                    "3": "22"
                                },
                                {
                                    "0": "Mountain-400-W Silver, 42",
                                    "1": "Silver",
                                    "2": "42",
                                    "3": "22"
                                },
                                {
                                    "0": "Mountain-400-W Silver, 46",
                                    "1": "Silver",
                                    "2": "46",
                                    "3": "22"
                                },
                                {
                                    "0": "Mountain-500 Silver, 40",
                                    "1": "Silver",
                                    "2": "40",
                                    "3": "23"
                                },
                                {
                                    "0": "Mountain-500 Silver, 42",
                                    "1": "Silver",
                                    "2": "42",
                                    "3": "23"
                                },
                                {
                                    "0": "Mountain-500 Silver, 44",
                                    "1": "Silver",
                                    "2": "44",
                                    "3": "23"
                                },
                                {
                                    "0": "Mountain-500 Silver, 48",
                                    "1": "Silver",
                                    "2": "48",
                                    "3": "23"
                                },
                                {
                                    "0": "Mountain-500 Silver, 52",
                                    "1": "Silver",
                                    "2": "52",
                                    "3": "23"
                                },
                                {
                                    "0": "Mountain-500 Black, 40",
                                    "1": "Black",
                                    "2": "40",
                                    "3": "23"
                                },
                                {
                                    "0": "Mountain-500 Black, 42",
                                    "1": "Black",
                                    "2": "42",
                                    "3": "23"
                                },
                                {
                                    "0": "Mountain-500 Black, 44",
                                    "1": "Black",
                                    "2": "44",
                                    "3": "23"
                                },
                                {
                                    "0": "Mountain-500 Black, 48",
                                    "1": "Black",
                                    "2": "48",
                                    "3": "23"
                                },
                                {
                                    "0": "Mountain-500 Black, 52",
                                    "1": "Black",
                                    "2": "52",
                                    "3": "23"
                                },
                                {
                                    "0": "LL Bottom Bracket",
                                    "1": "NULL",
                                    "2": "NULL",
                                    "3": "95"
                                },
                                {
                                    "0": "ML Bottom Bracket",
                                    "1": "NULL",
                                    "2": "NULL",
                                    "3": "96"
                                },
                                {
                                    "0": "HL Bottom Bracket",
                                    "1": "NULL",
                                    "2": "NULL",
                                    "3": "97"
                                },
                                {
                                    "0": "Road-750 Black, 44",
                                    "1": "Black",
                                    "2": "44",
                                    "3": "31"
                                },
                                {
                                    "0": "Road-750 Black, 48",
                                    "1": "Black",
                                    "2": "48",
                                    "3": "31"
                                },
                                {
                                    "0": "Road-750 Black, 52",
                                    "1": "Black",
                                    "2": "52",
                                    "3": "31"
                                }
                            ]
                        },
                        "text/html": "<table><tr><th>Name</th><th>Color</th><th>Size</th><th>ProductModelID</th></tr><tr><td>Sport-100 Helmet, Red</td><td>Red</td><td>NULL</td><td>33</td></tr><tr><td>Sport-100 Helmet, Black</td><td>Black</td><td>NULL</td><td>33</td></tr><tr><td>Mountain Bike Socks, M</td><td>White</td><td>M</td><td>18</td></tr><tr><td>Mountain Bike Socks, L</td><td>White</td><td>L</td><td>18</td></tr><tr><td>Sport-100 Helmet, Blue</td><td>Blue</td><td>NULL</td><td>33</td></tr><tr><td>AWC Logo Cap</td><td>Multi</td><td>NULL</td><td>2</td></tr><tr><td>Long-Sleeve Logo Jersey, S</td><td>Multi</td><td>S</td><td>11</td></tr><tr><td>Long-Sleeve Logo Jersey, M</td><td>Multi</td><td>M</td><td>11</td></tr><tr><td>Long-Sleeve Logo Jersey, L</td><td>Multi</td><td>L</td><td>11</td></tr><tr><td>Long-Sleeve Logo Jersey, XL</td><td>Multi</td><td>XL</td><td>11</td></tr><tr><td>LL Road Frame - Black, 58</td><td>Black</td><td>58</td><td>9</td></tr><tr><td>LL Road Frame - Black, 60</td><td>Black</td><td>60</td><td>9</td></tr><tr><td>LL Road Frame - Black, 62</td><td>Black</td><td>62</td><td>9</td></tr><tr><td>LL Road Frame - Red, 44</td><td>Red</td><td>44</td><td>9</td></tr><tr><td>LL Road Frame - Red, 48</td><td>Red</td><td>48</td><td>9</td></tr><tr><td>LL Road Frame - Red, 52</td><td>Red</td><td>52</td><td>9</td></tr><tr><td>LL Road Frame - Red, 58</td><td>Red</td><td>58</td><td>9</td></tr><tr><td>LL Road Frame - Red, 60</td><td>Red</td><td>60</td><td>9</td></tr><tr><td>LL Road Frame - Red, 62</td><td>Red</td><td>62</td><td>9</td></tr><tr><td>ML Road Frame - Red, 44</td><td>Red</td><td>44</td><td>16</td></tr><tr><td>ML Road Frame - Red, 48</td><td>Red</td><td>48</td><td>16</td></tr><tr><td>ML Road Frame - Red, 52</td><td>Red</td><td>52</td><td>16</td></tr><tr><td>ML Road Frame - Red, 58</td><td>Red</td><td>58</td><td>16</td></tr><tr><td>ML Road Frame - Red, 60</td><td>Red</td><td>60</td><td>16</td></tr><tr><td>LL Road Frame - Black, 44</td><td>Black</td><td>44</td><td>9</td></tr><tr><td>LL Road Frame - Black, 48</td><td>Black</td><td>48</td><td>9</td></tr><tr><td>LL Road Frame - Black, 52</td><td>Black</td><td>52</td><td>9</td></tr><tr><td>HL Mountain Frame - Silver, 42</td><td>Silver</td><td>42</td><td>5</td></tr><tr><td>HL Mountain Frame - Silver, 44</td><td>Silver</td><td>44</td><td>5</td></tr><tr><td>HL Mountain Frame - Silver, 48</td><td>Silver</td><td>48</td><td>5</td></tr><tr><td>HL Mountain Frame - Silver, 46</td><td>Silver</td><td>46</td><td>5</td></tr><tr><td>HL Mountain Frame - Black, 42</td><td>Black</td><td>42</td><td>5</td></tr><tr><td>HL Mountain Frame - Black, 44</td><td>Black</td><td>44</td><td>5</td></tr><tr><td>HL Mountain Frame - Black, 48</td><td>Black</td><td>48</td><td>5</td></tr><tr><td>HL Mountain Frame - Black, 46</td><td>Black</td><td>46</td><td>5</td></tr><tr><td>HL Mountain Frame - Black, 38</td><td>Black</td><td>38</td><td>5</td></tr><tr><td>HL Mountain Frame - Silver, 38</td><td>Silver</td><td>38</td><td>5</td></tr><tr><td>Road-150 Red, 62</td><td>Red</td><td>62</td><td>25</td></tr><tr><td>Road-150 Red, 44</td><td>Red</td><td>44</td><td>25</td></tr><tr><td>Road-150 Red, 48</td><td>Red</td><td>48</td><td>25</td></tr><tr><td>Road-150 Red, 52</td><td>Red</td><td>52</td><td>25</td></tr><tr><td>Road-150 Red, 56</td><td>Red</td><td>56</td><td>25</td></tr><tr><td>Road-450 Red, 58</td><td>Red</td><td>58</td><td>28</td></tr><tr><td>Road-450 Red, 60</td><td>Red</td><td>60</td><td>28</td></tr><tr><td>Road-450 Red, 44</td><td>Red</td><td>44</td><td>28</td></tr><tr><td>Road-450 Red, 48</td><td>Red</td><td>48</td><td>28</td></tr><tr><td>Road-450 Red, 52</td><td>Red</td><td>52</td><td>28</td></tr><tr><td>Road-650 Red, 58</td><td>Red</td><td>58</td><td>30</td></tr><tr><td>Road-650 Red, 60</td><td>Red</td><td>60</td><td>30</td></tr><tr><td>Road-650 Red, 62</td><td>Red</td><td>62</td><td>30</td></tr><tr><td>Road-650 Red, 44</td><td>Red</td><td>44</td><td>30</td></tr><tr><td>Road-650 Red, 48</td><td>Red</td><td>48</td><td>30</td></tr><tr><td>Road-650 Red, 52</td><td>Red</td><td>52</td><td>30</td></tr><tr><td>Road-650 Black, 58</td><td>Black</td><td>58</td><td>30</td></tr><tr><td>Road-650 Black, 60</td><td>Black</td><td>60</td><td>30</td></tr><tr><td>Road-650 Black, 62</td><td>Black</td><td>62</td><td>30</td></tr><tr><td>Road-650 Black, 44</td><td>Black</td><td>44</td><td>30</td></tr><tr><td>Road-650 Black, 48</td><td>Black</td><td>48</td><td>30</td></tr><tr><td>Road-650 Black, 52</td><td>Black</td><td>52</td><td>30</td></tr><tr><td>Mountain-100 Silver, 38</td><td>Silver</td><td>38</td><td>19</td></tr><tr><td>Mountain-100 Silver, 42</td><td>Silver</td><td>42</td><td>19</td></tr><tr><td>Mountain-100 Silver, 44</td><td>Silver</td><td>44</td><td>19</td></tr><tr><td>Mountain-100 Silver, 48</td><td>Silver</td><td>48</td><td>19</td></tr><tr><td>Mountain-100 Black, 38</td><td>Black</td><td>38</td><td>19</td></tr><tr><td>Mountain-100 Black, 42</td><td>Black</td><td>42</td><td>19</td></tr><tr><td>Mountain-100 Black, 44</td><td>Black</td><td>44</td><td>19</td></tr><tr><td>Mountain-100 Black, 48</td><td>Black</td><td>48</td><td>19</td></tr><tr><td>Mountain-200 Silver, 38</td><td>Silver</td><td>38</td><td>20</td></tr><tr><td>Mountain-200 Silver, 42</td><td>Silver</td><td>42</td><td>20</td></tr><tr><td>Mountain-200 Silver, 46</td><td>Silver</td><td>46</td><td>20</td></tr><tr><td>Mountain-200 Black, 38</td><td>Black</td><td>38</td><td>20</td></tr><tr><td>Mountain-200 Black, 42</td><td>Black</td><td>42</td><td>20</td></tr><tr><td>Mountain-200 Black, 46</td><td>Black</td><td>46</td><td>20</td></tr><tr><td>Mountain-300 Black, 38</td><td>Black</td><td>38</td><td>21</td></tr><tr><td>Mountain-300 Black, 40</td><td>Black</td><td>40</td><td>21</td></tr><tr><td>Mountain-300 Black, 44</td><td>Black</td><td>44</td><td>21</td></tr><tr><td>Mountain-300 Black, 48</td><td>Black</td><td>48</td><td>21</td></tr><tr><td>Road-250 Red, 44</td><td>Red</td><td>44</td><td>26</td></tr><tr><td>Road-250 Red, 48</td><td>Red</td><td>48</td><td>26</td></tr><tr><td>Road-250 Red, 52</td><td>Red</td><td>52</td><td>26</td></tr><tr><td>Road-250 Red, 58</td><td>Red</td><td>58</td><td>26</td></tr><tr><td>Road-250 Black, 44</td><td>Black</td><td>44</td><td>26</td></tr><tr><td>Road-250 Black, 48</td><td>Black</td><td>48</td><td>26</td></tr><tr><td>Road-250 Black, 52</td><td>Black</td><td>52</td><td>26</td></tr><tr><td>Road-250 Black, 58</td><td>Black</td><td>58</td><td>26</td></tr><tr><td>Road-550-W Yellow, 38</td><td>Yellow</td><td>38</td><td>29</td></tr><tr><td>Road-550-W Yellow, 40</td><td>Yellow</td><td>40</td><td>29</td></tr><tr><td>Road-550-W Yellow, 42</td><td>Yellow</td><td>42</td><td>29</td></tr><tr><td>Road-550-W Yellow, 44</td><td>Yellow</td><td>44</td><td>29</td></tr><tr><td>Road-550-W Yellow, 48</td><td>Yellow</td><td>48</td><td>29</td></tr><tr><td>LL Fork</td><td>NULL</td><td>NULL</td><td>104</td></tr><tr><td>ML Fork</td><td>NULL</td><td>NULL</td><td>105</td></tr><tr><td>HL Fork</td><td>NULL</td><td>NULL</td><td>106</td></tr><tr><td>LL Headset</td><td>NULL</td><td>NULL</td><td>59</td></tr><tr><td>ML Headset</td><td>NULL</td><td>NULL</td><td>60</td></tr><tr><td>HL Headset</td><td>NULL</td><td>NULL</td><td>61</td></tr><tr><td>LL Mountain Handlebars</td><td>NULL</td><td>NULL</td><td>52</td></tr><tr><td>ML Mountain Handlebars</td><td>NULL</td><td>NULL</td><td>54</td></tr><tr><td>HL Mountain Handlebars</td><td>NULL</td><td>NULL</td><td>55</td></tr><tr><td>LL Road Handlebars</td><td>NULL</td><td>NULL</td><td>56</td></tr><tr><td>ML Road Handlebars</td><td>NULL</td><td>NULL</td><td>57</td></tr><tr><td>HL Road Handlebars</td><td>NULL</td><td>NULL</td><td>58</td></tr><tr><td>ML Mountain Frame - Black, 38</td><td>Black</td><td>38</td><td>15</td></tr><tr><td>LL Mountain Front Wheel</td><td>Black</td><td>NULL</td><td>42</td></tr><tr><td>ML Mountain Front Wheel</td><td>Black</td><td>NULL</td><td>45</td></tr><tr><td>HL Mountain Front Wheel</td><td>Black</td><td>NULL</td><td>46</td></tr><tr><td>LL Road Front Wheel</td><td>Black</td><td>NULL</td><td>49</td></tr><tr><td>ML Road Front Wheel</td><td>Black</td><td>NULL</td><td>50</td></tr><tr><td>HL Road Front Wheel</td><td>Black</td><td>NULL</td><td>51</td></tr><tr><td>Touring Front Wheel</td><td>Black</td><td>NULL</td><td>44</td></tr><tr><td>ML Road Frame-W - Yellow, 38</td><td>Yellow</td><td>38</td><td>17</td></tr><tr><td>LL Mountain Rear Wheel</td><td>Black</td><td>NULL</td><td>123</td></tr><tr><td>ML Mountain Rear Wheel</td><td>Black</td><td>NULL</td><td>124</td></tr><tr><td>HL Mountain Rear Wheel</td><td>Black</td><td>NULL</td><td>125</td></tr><tr><td>LL Road Rear Wheel</td><td>Black</td><td>NULL</td><td>126</td></tr><tr><td>ML Road Rear Wheel</td><td>Black</td><td>NULL</td><td>77</td></tr><tr><td>HL Road Rear Wheel</td><td>Black</td><td>NULL</td><td>78</td></tr><tr><td>Touring Rear Wheel</td><td>Black</td><td>NULL</td><td>43</td></tr><tr><td>ML Mountain Frame - Black, 40</td><td>Black</td><td>40</td><td>14</td></tr><tr><td>ML Mountain Frame - Black, 44</td><td>Black</td><td>44</td><td>14</td></tr><tr><td>ML Mountain Frame - Black, 48</td><td>Black</td><td>48</td><td>14</td></tr><tr><td>ML Road Frame-W - Yellow, 40</td><td>Yellow</td><td>40</td><td>17</td></tr><tr><td>ML Road Frame-W - Yellow, 42</td><td>Yellow</td><td>42</td><td>17</td></tr><tr><td>ML Road Frame-W - Yellow, 44</td><td>Yellow</td><td>44</td><td>17</td></tr><tr><td>ML Road Frame-W - Yellow, 48</td><td>Yellow</td><td>48</td><td>17</td></tr><tr><td>Men's Sports Shorts, S</td><td>Black</td><td>S</td><td>13</td></tr><tr><td>Touring-Panniers, Large</td><td>Grey</td><td>NULL</td><td>120</td></tr><tr><td>Cable Lock</td><td>NULL</td><td>NULL</td><td>115</td></tr><tr><td>Minipump</td><td>NULL</td><td>NULL</td><td>116</td></tr><tr><td>Mountain Pump</td><td>NULL</td><td>NULL</td><td>117</td></tr><tr><td>Taillights - Battery-Powered</td><td>NULL</td><td>NULL</td><td>108</td></tr><tr><td>Headlights - Dual-Beam</td><td>NULL</td><td>NULL</td><td>109</td></tr><tr><td>Headlights - Weatherproof</td><td>NULL</td><td>NULL</td><td>110</td></tr><tr><td>Men's Sports Shorts, M</td><td>Black</td><td>M</td><td>13</td></tr><tr><td>Men's Sports Shorts, L</td><td>Black</td><td>L</td><td>13</td></tr><tr><td>Men's Sports Shorts, XL</td><td>Black</td><td>XL</td><td>13</td></tr><tr><td>Women's Tights, S</td><td>Black</td><td>S</td><td>38</td></tr><tr><td>Women's Tights, M</td><td>Black</td><td>M</td><td>38</td></tr><tr><td>Women's Tights, L</td><td>Black</td><td>L</td><td>38</td></tr><tr><td>Men's Bib-Shorts, S</td><td>Multi</td><td>S</td><td>12</td></tr><tr><td>Men's Bib-Shorts, M</td><td>Multi</td><td>M</td><td>12</td></tr><tr><td>Men's Bib-Shorts, L</td><td>Multi</td><td>L</td><td>12</td></tr><tr><td>Half-Finger Gloves, S</td><td>Black</td><td>S</td><td>4</td></tr><tr><td>Half-Finger Gloves, M</td><td>Black</td><td>M</td><td>4</td></tr><tr><td>Half-Finger Gloves, L</td><td>Black</td><td>L</td><td>4</td></tr><tr><td>Full-Finger Gloves, S</td><td>Black</td><td>S</td><td>3</td></tr><tr><td>Full-Finger Gloves, M</td><td>Black</td><td>M</td><td>3</td></tr><tr><td>Full-Finger Gloves, L</td><td>Black</td><td>L</td><td>3</td></tr><tr><td>Classic Vest, S</td><td>Blue</td><td>S</td><td>1</td></tr><tr><td>Classic Vest, M</td><td>Blue</td><td>M</td><td>1</td></tr><tr><td>Classic Vest, L</td><td>Blue</td><td>L</td><td>1</td></tr><tr><td>Women's Mountain Shorts, S</td><td>Black</td><td>S</td><td>37</td></tr><tr><td>Women's Mountain Shorts, M</td><td>Black</td><td>M</td><td>37</td></tr><tr><td>Women's Mountain Shorts, L</td><td>Black</td><td>L</td><td>37</td></tr><tr><td>Water Bottle - 30 oz.</td><td>NULL</td><td>NULL</td><td>111</td></tr><tr><td>Mountain Bottle Cage</td><td>NULL</td><td>NULL</td><td>112</td></tr><tr><td>Road Bottle Cage</td><td>NULL</td><td>NULL</td><td>113</td></tr><tr><td>Patch Kit/8 Patches</td><td>NULL</td><td>NULL</td><td>114</td></tr><tr><td>Racing Socks, M</td><td>White</td><td>M</td><td>24</td></tr><tr><td>Racing Socks, L</td><td>White</td><td>L</td><td>24</td></tr><tr><td>Hitch Rack - 4-Bike</td><td>NULL</td><td>NULL</td><td>118</td></tr><tr><td>Bike Wash - Dissolver</td><td>NULL</td><td>NULL</td><td>119</td></tr><tr><td>Fender Set - Mountain</td><td>NULL</td><td>NULL</td><td>121</td></tr><tr><td>All-Purpose Bike Stand</td><td>NULL</td><td>NULL</td><td>122</td></tr><tr><td>Hydration Pack - 70 oz.</td><td>Silver</td><td>70</td><td>107</td></tr><tr><td>Short-Sleeve Classic Jersey, S</td><td>Yellow</td><td>S</td><td>32</td></tr><tr><td>Short-Sleeve Classic Jersey, M</td><td>Yellow</td><td>M</td><td>32</td></tr><tr><td>Short-Sleeve Classic Jersey, L</td><td>Yellow</td><td>L</td><td>32</td></tr><tr><td>Short-Sleeve Classic Jersey, XL</td><td>Yellow</td><td>XL</td><td>32</td></tr><tr><td>HL Touring Frame - Yellow, 60</td><td>Yellow</td><td>60</td><td>7</td></tr><tr><td>LL Touring Frame - Yellow, 62</td><td>Yellow</td><td>62</td><td>10</td></tr><tr><td>HL Touring Frame - Yellow, 46</td><td>Yellow</td><td>46</td><td>7</td></tr><tr><td>HL Touring Frame - Yellow, 50</td><td>Yellow</td><td>50</td><td>7</td></tr><tr><td>HL Touring Frame - Yellow, 54</td><td>Yellow</td><td>54</td><td>7</td></tr><tr><td>HL Touring Frame - Blue, 46</td><td>Blue</td><td>46</td><td>7</td></tr><tr><td>HL Touring Frame - Blue, 50</td><td>Blue</td><td>50</td><td>7</td></tr><tr><td>HL Touring Frame - Blue, 54</td><td>Blue</td><td>54</td><td>7</td></tr><tr><td>HL Touring Frame - Blue, 60</td><td>Blue</td><td>60</td><td>7</td></tr><tr><td>Rear Derailleur</td><td>Silver</td><td>NULL</td><td>127</td></tr><tr><td>LL Touring Frame - Blue, 50</td><td>Blue</td><td>50</td><td>10</td></tr><tr><td>LL Touring Frame - Blue, 54</td><td>Blue</td><td>54</td><td>10</td></tr><tr><td>LL Touring Frame - Blue, 58</td><td>Blue</td><td>58</td><td>10</td></tr><tr><td>LL Touring Frame - Blue, 62</td><td>Blue</td><td>62</td><td>10</td></tr><tr><td>LL Touring Frame - Yellow, 44</td><td>Yellow</td><td>44</td><td>10</td></tr><tr><td>LL Touring Frame - Yellow, 50</td><td>Yellow</td><td>50</td><td>10</td></tr><tr><td>LL Touring Frame - Yellow, 54</td><td>Yellow</td><td>54</td><td>10</td></tr><tr><td>LL Touring Frame - Yellow, 58</td><td>Yellow</td><td>58</td><td>10</td></tr><tr><td>LL Touring Frame - Blue, 44</td><td>Blue</td><td>44</td><td>10</td></tr><tr><td>ML Mountain Frame-W - Silver, 40</td><td>Silver</td><td>40</td><td>15</td></tr><tr><td>ML Mountain Frame-W - Silver, 42</td><td>Silver</td><td>42</td><td>15</td></tr><tr><td>ML Mountain Frame-W - Silver, 46</td><td>Silver</td><td>46</td><td>15</td></tr><tr><td>Rear Brakes</td><td>Silver</td><td>NULL</td><td>128</td></tr><tr><td>LL Mountain Seat/Saddle</td><td>NULL</td><td>NULL</td><td>79</td></tr><tr><td>ML Mountain Seat/Saddle</td><td>NULL</td><td>NULL</td><td>80</td></tr><tr><td>HL Mountain Seat/Saddle</td><td>NULL</td><td>NULL</td><td>81</td></tr><tr><td>LL Road Seat/Saddle</td><td>NULL</td><td>NULL</td><td>82</td></tr><tr><td>ML Road Seat/Saddle</td><td>NULL</td><td>NULL</td><td>83</td></tr><tr><td>HL Road Seat/Saddle</td><td>NULL</td><td>NULL</td><td>84</td></tr><tr><td>LL Touring Seat/Saddle</td><td>NULL</td><td>NULL</td><td>66</td></tr><tr><td>ML Touring Seat/Saddle</td><td>NULL</td><td>NULL</td><td>65</td></tr><tr><td>HL Touring Seat/Saddle</td><td>NULL</td><td>NULL</td><td>67</td></tr><tr><td>LL Mountain Frame - Silver, 42</td><td>Silver</td><td>42</td><td>8</td></tr><tr><td>LL Mountain Frame - Silver, 44</td><td>Silver</td><td>44</td><td>8</td></tr><tr><td>LL Mountain Frame - Silver, 48</td><td>Silver</td><td>48</td><td>8</td></tr><tr><td>LL Mountain Frame - Silver, 52</td><td>Silver</td><td>52</td><td>8</td></tr><tr><td>Mountain Tire Tube</td><td>NULL</td><td>NULL</td><td>92</td></tr><tr><td>Road Tire Tube</td><td>NULL</td><td>NULL</td><td>93</td></tr><tr><td>Touring Tire Tube</td><td>NULL</td><td>NULL</td><td>94</td></tr><tr><td>LL Mountain Frame - Black, 42</td><td>Black</td><td>42</td><td>8</td></tr><tr><td>LL Mountain Frame - Black, 44</td><td>Black</td><td>44</td><td>8</td></tr><tr><td>LL Mountain Frame - Black, 48</td><td>Black</td><td>48</td><td>8</td></tr><tr><td>LL Mountain Frame - Black, 52</td><td>Black</td><td>52</td><td>8</td></tr><tr><td>LL Mountain Tire</td><td>NULL</td><td>NULL</td><td>85</td></tr><tr><td>ML Mountain Tire</td><td>NULL</td><td>NULL</td><td>86</td></tr><tr><td>HL Mountain Tire</td><td>NULL</td><td>NULL</td><td>87</td></tr><tr><td>LL Road Tire</td><td>NULL</td><td>NULL</td><td>88</td></tr><tr><td>ML Road Tire</td><td>NULL</td><td>NULL</td><td>89</td></tr><tr><td>HL Road Tire</td><td>NULL</td><td>NULL</td><td>90</td></tr><tr><td>Touring Tire</td><td>NULL</td><td>NULL</td><td>91</td></tr><tr><td>LL Mountain Pedal</td><td>Silver/Black</td><td>NULL</td><td>62</td></tr><tr><td>ML Mountain Pedal</td><td>Silver/Black</td><td>NULL</td><td>63</td></tr><tr><td>HL Mountain Pedal</td><td>Silver/Black</td><td>NULL</td><td>64</td></tr><tr><td>LL Road Pedal</td><td>Silver/Black</td><td>NULL</td><td>68</td></tr><tr><td>ML Road Pedal</td><td>Silver/Black</td><td>NULL</td><td>69</td></tr><tr><td>HL Road Pedal</td><td>Silver/Black</td><td>NULL</td><td>70</td></tr><tr><td>Touring Pedal</td><td>Silver/Black</td><td>NULL</td><td>53</td></tr><tr><td>ML Mountain Frame-W - Silver, 38</td><td>Silver</td><td>38</td><td>15</td></tr><tr><td>LL Mountain Frame - Black, 40</td><td>Black</td><td>40</td><td>8</td></tr><tr><td>LL Mountain Frame - Silver, 40</td><td>Silver</td><td>40</td><td>8</td></tr><tr><td>Front Derailleur</td><td>Silver</td><td>NULL</td><td>103</td></tr><tr><td>LL Touring Handlebars</td><td>NULL</td><td>NULL</td><td>47</td></tr><tr><td>HL Touring Handlebars</td><td>NULL</td><td>NULL</td><td>48</td></tr><tr><td>Front Brakes</td><td>Silver</td><td>NULL</td><td>102</td></tr><tr><td>LL Crankset</td><td>Black</td><td>NULL</td><td>99</td></tr><tr><td>ML Crankset</td><td>Black</td><td>NULL</td><td>100</td></tr><tr><td>HL Crankset</td><td>Black</td><td>NULL</td><td>101</td></tr><tr><td>Chain</td><td>Silver</td><td>NULL</td><td>98</td></tr><tr><td>Touring-2000 Blue, 60</td><td>Blue</td><td>60</td><td>35</td></tr><tr><td>Touring-1000 Yellow, 46</td><td>Yellow</td><td>46</td><td>34</td></tr><tr><td>Touring-1000 Yellow, 50</td><td>Yellow</td><td>50</td><td>34</td></tr><tr><td>Touring-1000 Yellow, 54</td><td>Yellow</td><td>54</td><td>34</td></tr><tr><td>Touring-1000 Yellow, 60</td><td>Yellow</td><td>60</td><td>34</td></tr><tr><td>Touring-3000 Blue, 54</td><td>Blue</td><td>54</td><td>36</td></tr><tr><td>Touring-3000 Blue, 58</td><td>Blue</td><td>58</td><td>36</td></tr><tr><td>Touring-3000 Blue, 62</td><td>Blue</td><td>62</td><td>36</td></tr><tr><td>Touring-3000 Yellow, 44</td><td>Yellow</td><td>44</td><td>36</td></tr><tr><td>Touring-3000 Yellow, 50</td><td>Yellow</td><td>50</td><td>36</td></tr><tr><td>Touring-3000 Yellow, 54</td><td>Yellow</td><td>54</td><td>36</td></tr><tr><td>Touring-3000 Yellow, 58</td><td>Yellow</td><td>58</td><td>36</td></tr><tr><td>Touring-3000 Yellow, 62</td><td>Yellow</td><td>62</td><td>36</td></tr><tr><td>Touring-1000 Blue, 46</td><td>Blue</td><td>46</td><td>34</td></tr><tr><td>Touring-1000 Blue, 50</td><td>Blue</td><td>50</td><td>34</td></tr><tr><td>Touring-1000 Blue, 54</td><td>Blue</td><td>54</td><td>34</td></tr><tr><td>Touring-1000 Blue, 60</td><td>Blue</td><td>60</td><td>34</td></tr><tr><td>Touring-2000 Blue, 46</td><td>Blue</td><td>46</td><td>35</td></tr><tr><td>Touring-2000 Blue, 50</td><td>Blue</td><td>50</td><td>35</td></tr><tr><td>Touring-2000 Blue, 54</td><td>Blue</td><td>54</td><td>35</td></tr><tr><td>Road-350-W Yellow, 40</td><td>Yellow</td><td>40</td><td>27</td></tr><tr><td>Road-350-W Yellow, 42</td><td>Yellow</td><td>42</td><td>27</td></tr><tr><td>Road-350-W Yellow, 44</td><td>Yellow</td><td>44</td><td>27</td></tr><tr><td>Road-350-W Yellow, 48</td><td>Yellow</td><td>48</td><td>27</td></tr><tr><td>Road-750 Black, 58</td><td>Black</td><td>58</td><td>31</td></tr><tr><td>Touring-3000 Blue, 44</td><td>Blue</td><td>44</td><td>36</td></tr><tr><td>Touring-3000 Blue, 50</td><td>Blue</td><td>50</td><td>36</td></tr><tr><td>Mountain-400-W Silver, 38</td><td>Silver</td><td>38</td><td>22</td></tr><tr><td>Mountain-400-W Silver, 40</td><td>Silver</td><td>40</td><td>22</td></tr><tr><td>Mountain-400-W Silver, 42</td><td>Silver</td><td>42</td><td>22</td></tr><tr><td>Mountain-400-W Silver, 46</td><td>Silver</td><td>46</td><td>22</td></tr><tr><td>Mountain-500 Silver, 40</td><td>Silver</td><td>40</td><td>23</td></tr><tr><td>Mountain-500 Silver, 42</td><td>Silver</td><td>42</td><td>23</td></tr><tr><td>Mountain-500 Silver, 44</td><td>Silver</td><td>44</td><td>23</td></tr><tr><td>Mountain-500 Silver, 48</td><td>Silver</td><td>48</td><td>23</td></tr><tr><td>Mountain-500 Silver, 52</td><td>Silver</td><td>52</td><td>23</td></tr><tr><td>Mountain-500 Black, 40</td><td>Black</td><td>40</td><td>23</td></tr><tr><td>Mountain-500 Black, 42</td><td>Black</td><td>42</td><td>23</td></tr><tr><td>Mountain-500 Black, 44</td><td>Black</td><td>44</td><td>23</td></tr><tr><td>Mountain-500 Black, 48</td><td>Black</td><td>48</td><td>23</td></tr><tr><td>Mountain-500 Black, 52</td><td>Black</td><td>52</td><td>23</td></tr><tr><td>LL Bottom Bracket</td><td>NULL</td><td>NULL</td><td>95</td></tr><tr><td>ML Bottom Bracket</td><td>NULL</td><td>NULL</td><td>96</td></tr><tr><td>HL Bottom Bracket</td><td>NULL</td><td>NULL</td><td>97</td></tr><tr><td>Road-750 Black, 44</td><td>Black</td><td>44</td><td>31</td></tr><tr><td>Road-750 Black, 48</td><td>Black</td><td>48</td><td>31</td></tr><tr><td>Road-750 Black, 52</td><td>Black</td><td>52</td><td>31</td></tr></table>"
                    }
                }
            ],
            "execution_count": 47
        },
        {
            "cell_type": "code",
            "source": [
                "-- Display products with ProductNumber beginning in 'FR'\n",
                "SELECT Name, Color, Size, ProductNumber\n",
                "FROM SalesLT.Product\n",
                "WHERE ProductNumber LIKE 'FR%';\n",
                "\n",
                "-- Filter previous query to ensure ProductNumber matches given pattern\n",
                "SELECT Name, Color, Size, ProductNumber\n",
                "FROM SalesLT.Product\n",
                "WHERE ProductNumber LIKE 'FR-R[0-9][0-9]_-[0-9][0-9]';\n",
                "-- Note: _ means 'any character at that place' and % means 'any number of characters'"
            ],
            "metadata": {
                "azdata_cell_guid": "4313dca5-e9a0-498c-a65e-d30f6efae376",
                "tags": []
            },
            "outputs": [
                {
                    "output_type": "display_data",
                    "data": {
                        "text/html": "(79 rows affected)"
                    },
                    "metadata": {}
                },
                {
                    "output_type": "display_data",
                    "data": {
                        "text/html": "(33 rows affected)"
                    },
                    "metadata": {}
                },
                {
                    "output_type": "display_data",
                    "data": {
                        "text/html": "Total execution time: 00:00:00.016"
                    },
                    "metadata": {}
                },
                {
                    "output_type": "execute_result",
                    "metadata": {},
                    "execution_count": 48,
                    "data": {
                        "application/vnd.dataresource+json": {
                            "schema": {
                                "fields": [
                                    {
                                        "name": "Name"
                                    },
                                    {
                                        "name": "Color"
                                    },
                                    {
                                        "name": "Size"
                                    },
                                    {
                                        "name": "ProductNumber"
                                    }
                                ]
                            },
                            "data": [
                                {
                                    "0": "HL Road Frame - Black, 58",
                                    "1": "Black",
                                    "2": "58",
                                    "3": "FR-R92B-58"
                                },
                                {
                                    "0": "HL Road Frame - Red, 58",
                                    "1": "Red",
                                    "2": "58",
                                    "3": "FR-R92R-58"
                                },
                                {
                                    "0": "HL Road Frame - Red, 62",
                                    "1": "Red",
                                    "2": "62",
                                    "3": "FR-R92R-62"
                                },
                                {
                                    "0": "HL Road Frame - Red, 44",
                                    "1": "Red",
                                    "2": "44",
                                    "3": "FR-R92R-44"
                                },
                                {
                                    "0": "HL Road Frame - Red, 48",
                                    "1": "Red",
                                    "2": "48",
                                    "3": "FR-R92R-48"
                                },
                                {
                                    "0": "HL Road Frame - Red, 52",
                                    "1": "Red",
                                    "2": "52",
                                    "3": "FR-R92R-52"
                                },
                                {
                                    "0": "HL Road Frame - Red, 56",
                                    "1": "Red",
                                    "2": "56",
                                    "3": "FR-R92R-56"
                                },
                                {
                                    "0": "LL Road Frame - Black, 58",
                                    "1": "Black",
                                    "2": "58",
                                    "3": "FR-R38B-58"
                                },
                                {
                                    "0": "LL Road Frame - Black, 60",
                                    "1": "Black",
                                    "2": "60",
                                    "3": "FR-R38B-60"
                                },
                                {
                                    "0": "LL Road Frame - Black, 62",
                                    "1": "Black",
                                    "2": "62",
                                    "3": "FR-R38B-62"
                                },
                                {
                                    "0": "LL Road Frame - Red, 44",
                                    "1": "Red",
                                    "2": "44",
                                    "3": "FR-R38R-44"
                                },
                                {
                                    "0": "LL Road Frame - Red, 48",
                                    "1": "Red",
                                    "2": "48",
                                    "3": "FR-R38R-48"
                                },
                                {
                                    "0": "LL Road Frame - Red, 52",
                                    "1": "Red",
                                    "2": "52",
                                    "3": "FR-R38R-52"
                                },
                                {
                                    "0": "LL Road Frame - Red, 58",
                                    "1": "Red",
                                    "2": "58",
                                    "3": "FR-R38R-58"
                                },
                                {
                                    "0": "LL Road Frame - Red, 60",
                                    "1": "Red",
                                    "2": "60",
                                    "3": "FR-R38R-60"
                                },
                                {
                                    "0": "LL Road Frame - Red, 62",
                                    "1": "Red",
                                    "2": "62",
                                    "3": "FR-R38R-62"
                                },
                                {
                                    "0": "ML Road Frame - Red, 44",
                                    "1": "Red",
                                    "2": "44",
                                    "3": "FR-R72R-44"
                                },
                                {
                                    "0": "ML Road Frame - Red, 48",
                                    "1": "Red",
                                    "2": "48",
                                    "3": "FR-R72R-48"
                                },
                                {
                                    "0": "ML Road Frame - Red, 52",
                                    "1": "Red",
                                    "2": "52",
                                    "3": "FR-R72R-52"
                                },
                                {
                                    "0": "ML Road Frame - Red, 58",
                                    "1": "Red",
                                    "2": "58",
                                    "3": "FR-R72R-58"
                                },
                                {
                                    "0": "ML Road Frame - Red, 60",
                                    "1": "Red",
                                    "2": "60",
                                    "3": "FR-R72R-60"
                                },
                                {
                                    "0": "LL Road Frame - Black, 44",
                                    "1": "Black",
                                    "2": "44",
                                    "3": "FR-R38B-44"
                                },
                                {
                                    "0": "LL Road Frame - Black, 48",
                                    "1": "Black",
                                    "2": "48",
                                    "3": "FR-R38B-48"
                                },
                                {
                                    "0": "LL Road Frame - Black, 52",
                                    "1": "Black",
                                    "2": "52",
                                    "3": "FR-R38B-52"
                                },
                                {
                                    "0": "HL Mountain Frame - Silver, 42",
                                    "1": "Silver",
                                    "2": "42",
                                    "3": "FR-M94S-42"
                                },
                                {
                                    "0": "HL Mountain Frame - Silver, 44",
                                    "1": "Silver",
                                    "2": "44",
                                    "3": "FR-M94S-44"
                                },
                                {
                                    "0": "HL Mountain Frame - Silver, 48",
                                    "1": "Silver",
                                    "2": "48",
                                    "3": "FR-M94S-52"
                                },
                                {
                                    "0": "HL Mountain Frame - Silver, 46",
                                    "1": "Silver",
                                    "2": "46",
                                    "3": "FR-M94S-46"
                                },
                                {
                                    "0": "HL Mountain Frame - Black, 42",
                                    "1": "Black",
                                    "2": "42",
                                    "3": "FR-M94B-42"
                                },
                                {
                                    "0": "HL Mountain Frame - Black, 44",
                                    "1": "Black",
                                    "2": "44",
                                    "3": "FR-M94B-44"
                                },
                                {
                                    "0": "HL Mountain Frame - Black, 48",
                                    "1": "Black",
                                    "2": "48",
                                    "3": "FR-M94B-48"
                                },
                                {
                                    "0": "HL Mountain Frame - Black, 46",
                                    "1": "Black",
                                    "2": "46",
                                    "3": "FR-M94B-46"
                                },
                                {
                                    "0": "HL Mountain Frame - Black, 38",
                                    "1": "Black",
                                    "2": "38",
                                    "3": "FR-M94B-38"
                                },
                                {
                                    "0": "HL Mountain Frame - Silver, 38",
                                    "1": "Silver",
                                    "2": "38",
                                    "3": "FR-M94S-38"
                                },
                                {
                                    "0": "ML Mountain Frame - Black, 38",
                                    "1": "Black",
                                    "2": "38",
                                    "3": "FR-M63B-38"
                                },
                                {
                                    "0": "ML Road Frame-W - Yellow, 38",
                                    "1": "Yellow",
                                    "2": "38",
                                    "3": "FR-R72Y-38"
                                },
                                {
                                    "0": "ML Mountain Frame - Black, 40",
                                    "1": "Black",
                                    "2": "40",
                                    "3": "FR-M63B-40"
                                },
                                {
                                    "0": "ML Mountain Frame - Black, 44",
                                    "1": "Black",
                                    "2": "44",
                                    "3": "FR-M63B-44"
                                },
                                {
                                    "0": "ML Mountain Frame - Black, 48",
                                    "1": "Black",
                                    "2": "48",
                                    "3": "FR-M63B-48"
                                },
                                {
                                    "0": "ML Road Frame-W - Yellow, 40",
                                    "1": "Yellow",
                                    "2": "40",
                                    "3": "FR-R72Y-40"
                                },
                                {
                                    "0": "ML Road Frame-W - Yellow, 42",
                                    "1": "Yellow",
                                    "2": "42",
                                    "3": "FR-R72Y-42"
                                },
                                {
                                    "0": "ML Road Frame-W - Yellow, 44",
                                    "1": "Yellow",
                                    "2": "44",
                                    "3": "FR-R72Y-44"
                                },
                                {
                                    "0": "ML Road Frame-W - Yellow, 48",
                                    "1": "Yellow",
                                    "2": "48",
                                    "3": "FR-R72Y-48"
                                },
                                {
                                    "0": "HL Road Frame - Black, 62",
                                    "1": "Black",
                                    "2": "62",
                                    "3": "FR-R92B-62"
                                },
                                {
                                    "0": "HL Road Frame - Black, 44",
                                    "1": "Black",
                                    "2": "44",
                                    "3": "FR-R92B-44"
                                },
                                {
                                    "0": "HL Road Frame - Black, 48",
                                    "1": "Black",
                                    "2": "48",
                                    "3": "FR-R92B-48"
                                },
                                {
                                    "0": "HL Road Frame - Black, 52",
                                    "1": "Black",
                                    "2": "52",
                                    "3": "FR-R92B-52"
                                },
                                {
                                    "0": "HL Touring Frame - Yellow, 60",
                                    "1": "Yellow",
                                    "2": "60",
                                    "3": "FR-T98Y-60"
                                },
                                {
                                    "0": "LL Touring Frame - Yellow, 62",
                                    "1": "Yellow",
                                    "2": "62",
                                    "3": "FR-T67Y-62"
                                },
                                {
                                    "0": "HL Touring Frame - Yellow, 46",
                                    "1": "Yellow",
                                    "2": "46",
                                    "3": "FR-T98Y-46"
                                },
                                {
                                    "0": "HL Touring Frame - Yellow, 50",
                                    "1": "Yellow",
                                    "2": "50",
                                    "3": "FR-T98Y-50"
                                },
                                {
                                    "0": "HL Touring Frame - Yellow, 54",
                                    "1": "Yellow",
                                    "2": "54",
                                    "3": "FR-T98Y-54"
                                },
                                {
                                    "0": "HL Touring Frame - Blue, 46",
                                    "1": "Blue",
                                    "2": "46",
                                    "3": "FR-T98U-46"
                                },
                                {
                                    "0": "HL Touring Frame - Blue, 50",
                                    "1": "Blue",
                                    "2": "50",
                                    "3": "FR-T98U-50"
                                },
                                {
                                    "0": "HL Touring Frame - Blue, 54",
                                    "1": "Blue",
                                    "2": "54",
                                    "3": "FR-T98U-54"
                                },
                                {
                                    "0": "HL Touring Frame - Blue, 60",
                                    "1": "Blue",
                                    "2": "60",
                                    "3": "FR-T98U-60"
                                },
                                {
                                    "0": "LL Touring Frame - Blue, 50",
                                    "1": "Blue",
                                    "2": "50",
                                    "3": "FR-T67U-50"
                                },
                                {
                                    "0": "LL Touring Frame - Blue, 54",
                                    "1": "Blue",
                                    "2": "54",
                                    "3": "FR-T67U-54"
                                },
                                {
                                    "0": "LL Touring Frame - Blue, 58",
                                    "1": "Blue",
                                    "2": "58",
                                    "3": "FR-T67U-58"
                                },
                                {
                                    "0": "LL Touring Frame - Blue, 62",
                                    "1": "Blue",
                                    "2": "62",
                                    "3": "FR-T67U-62"
                                },
                                {
                                    "0": "LL Touring Frame - Yellow, 44",
                                    "1": "Yellow",
                                    "2": "44",
                                    "3": "FR-T67Y-44"
                                },
                                {
                                    "0": "LL Touring Frame - Yellow, 50",
                                    "1": "Yellow",
                                    "2": "50",
                                    "3": "FR-T67Y-50"
                                },
                                {
                                    "0": "LL Touring Frame - Yellow, 54",
                                    "1": "Yellow",
                                    "2": "54",
                                    "3": "FR-T67Y-54"
                                },
                                {
                                    "0": "LL Touring Frame - Yellow, 58",
                                    "1": "Yellow",
                                    "2": "58",
                                    "3": "FR-T67Y-58"
                                },
                                {
                                    "0": "LL Touring Frame - Blue, 44",
                                    "1": "Blue",
                                    "2": "44",
                                    "3": "FR-T67U-44"
                                },
                                {
                                    "0": "ML Mountain Frame-W - Silver, 40",
                                    "1": "Silver",
                                    "2": "40",
                                    "3": "FR-M63S-40"
                                },
                                {
                                    "0": "ML Mountain Frame-W - Silver, 42",
                                    "1": "Silver",
                                    "2": "42",
                                    "3": "FR-M63S-42"
                                },
                                {
                                    "0": "ML Mountain Frame-W - Silver, 46",
                                    "1": "Silver",
                                    "2": "46",
                                    "3": "FR-M63S-46"
                                },
                                {
                                    "0": "LL Mountain Frame - Silver, 42",
                                    "1": "Silver",
                                    "2": "42",
                                    "3": "FR-M21S-42"
                                },
                                {
                                    "0": "LL Mountain Frame - Silver, 44",
                                    "1": "Silver",
                                    "2": "44",
                                    "3": "FR-M21S-44"
                                },
                                {
                                    "0": "LL Mountain Frame - Silver, 48",
                                    "1": "Silver",
                                    "2": "48",
                                    "3": "FR-M21S-48"
                                },
                                {
                                    "0": "LL Mountain Frame - Silver, 52",
                                    "1": "Silver",
                                    "2": "52",
                                    "3": "FR-M21S-52"
                                },
                                {
                                    "0": "LL Mountain Frame - Black, 42",
                                    "1": "Black",
                                    "2": "42",
                                    "3": "FR-M21B-42"
                                },
                                {
                                    "0": "LL Mountain Frame - Black, 44",
                                    "1": "Black",
                                    "2": "44",
                                    "3": "FR-M21B-44"
                                },
                                {
                                    "0": "LL Mountain Frame - Black, 48",
                                    "1": "Black",
                                    "2": "48",
                                    "3": "FR-M21B-48"
                                },
                                {
                                    "0": "LL Mountain Frame - Black, 52",
                                    "1": "Black",
                                    "2": "52",
                                    "3": "FR-M21B-52"
                                },
                                {
                                    "0": "ML Mountain Frame-W - Silver, 38",
                                    "1": "Silver",
                                    "2": "38",
                                    "3": "FR-M63S-38"
                                },
                                {
                                    "0": "LL Mountain Frame - Black, 40",
                                    "1": "Black",
                                    "2": "40",
                                    "3": "FR-M21B-40"
                                },
                                {
                                    "0": "LL Mountain Frame - Silver, 40",
                                    "1": "Silver",
                                    "2": "40",
                                    "3": "FR-M21S-40"
                                }
                            ]
                        },
                        "text/html": "<table><tr><th>Name</th><th>Color</th><th>Size</th><th>ProductNumber</th></tr><tr><td>HL Road Frame - Black, 58</td><td>Black</td><td>58</td><td>FR-R92B-58</td></tr><tr><td>HL Road Frame - Red, 58</td><td>Red</td><td>58</td><td>FR-R92R-58</td></tr><tr><td>HL Road Frame - Red, 62</td><td>Red</td><td>62</td><td>FR-R92R-62</td></tr><tr><td>HL Road Frame - Red, 44</td><td>Red</td><td>44</td><td>FR-R92R-44</td></tr><tr><td>HL Road Frame - Red, 48</td><td>Red</td><td>48</td><td>FR-R92R-48</td></tr><tr><td>HL Road Frame - Red, 52</td><td>Red</td><td>52</td><td>FR-R92R-52</td></tr><tr><td>HL Road Frame - Red, 56</td><td>Red</td><td>56</td><td>FR-R92R-56</td></tr><tr><td>LL Road Frame - Black, 58</td><td>Black</td><td>58</td><td>FR-R38B-58</td></tr><tr><td>LL Road Frame - Black, 60</td><td>Black</td><td>60</td><td>FR-R38B-60</td></tr><tr><td>LL Road Frame - Black, 62</td><td>Black</td><td>62</td><td>FR-R38B-62</td></tr><tr><td>LL Road Frame - Red, 44</td><td>Red</td><td>44</td><td>FR-R38R-44</td></tr><tr><td>LL Road Frame - Red, 48</td><td>Red</td><td>48</td><td>FR-R38R-48</td></tr><tr><td>LL Road Frame - Red, 52</td><td>Red</td><td>52</td><td>FR-R38R-52</td></tr><tr><td>LL Road Frame - Red, 58</td><td>Red</td><td>58</td><td>FR-R38R-58</td></tr><tr><td>LL Road Frame - Red, 60</td><td>Red</td><td>60</td><td>FR-R38R-60</td></tr><tr><td>LL Road Frame - Red, 62</td><td>Red</td><td>62</td><td>FR-R38R-62</td></tr><tr><td>ML Road Frame - Red, 44</td><td>Red</td><td>44</td><td>FR-R72R-44</td></tr><tr><td>ML Road Frame - Red, 48</td><td>Red</td><td>48</td><td>FR-R72R-48</td></tr><tr><td>ML Road Frame - Red, 52</td><td>Red</td><td>52</td><td>FR-R72R-52</td></tr><tr><td>ML Road Frame - Red, 58</td><td>Red</td><td>58</td><td>FR-R72R-58</td></tr><tr><td>ML Road Frame - Red, 60</td><td>Red</td><td>60</td><td>FR-R72R-60</td></tr><tr><td>LL Road Frame - Black, 44</td><td>Black</td><td>44</td><td>FR-R38B-44</td></tr><tr><td>LL Road Frame - Black, 48</td><td>Black</td><td>48</td><td>FR-R38B-48</td></tr><tr><td>LL Road Frame - Black, 52</td><td>Black</td><td>52</td><td>FR-R38B-52</td></tr><tr><td>HL Mountain Frame - Silver, 42</td><td>Silver</td><td>42</td><td>FR-M94S-42</td></tr><tr><td>HL Mountain Frame - Silver, 44</td><td>Silver</td><td>44</td><td>FR-M94S-44</td></tr><tr><td>HL Mountain Frame - Silver, 48</td><td>Silver</td><td>48</td><td>FR-M94S-52</td></tr><tr><td>HL Mountain Frame - Silver, 46</td><td>Silver</td><td>46</td><td>FR-M94S-46</td></tr><tr><td>HL Mountain Frame - Black, 42</td><td>Black</td><td>42</td><td>FR-M94B-42</td></tr><tr><td>HL Mountain Frame - Black, 44</td><td>Black</td><td>44</td><td>FR-M94B-44</td></tr><tr><td>HL Mountain Frame - Black, 48</td><td>Black</td><td>48</td><td>FR-M94B-48</td></tr><tr><td>HL Mountain Frame - Black, 46</td><td>Black</td><td>46</td><td>FR-M94B-46</td></tr><tr><td>HL Mountain Frame - Black, 38</td><td>Black</td><td>38</td><td>FR-M94B-38</td></tr><tr><td>HL Mountain Frame - Silver, 38</td><td>Silver</td><td>38</td><td>FR-M94S-38</td></tr><tr><td>ML Mountain Frame - Black, 38</td><td>Black</td><td>38</td><td>FR-M63B-38</td></tr><tr><td>ML Road Frame-W - Yellow, 38</td><td>Yellow</td><td>38</td><td>FR-R72Y-38</td></tr><tr><td>ML Mountain Frame - Black, 40</td><td>Black</td><td>40</td><td>FR-M63B-40</td></tr><tr><td>ML Mountain Frame - Black, 44</td><td>Black</td><td>44</td><td>FR-M63B-44</td></tr><tr><td>ML Mountain Frame - Black, 48</td><td>Black</td><td>48</td><td>FR-M63B-48</td></tr><tr><td>ML Road Frame-W - Yellow, 40</td><td>Yellow</td><td>40</td><td>FR-R72Y-40</td></tr><tr><td>ML Road Frame-W - Yellow, 42</td><td>Yellow</td><td>42</td><td>FR-R72Y-42</td></tr><tr><td>ML Road Frame-W - Yellow, 44</td><td>Yellow</td><td>44</td><td>FR-R72Y-44</td></tr><tr><td>ML Road Frame-W - Yellow, 48</td><td>Yellow</td><td>48</td><td>FR-R72Y-48</td></tr><tr><td>HL Road Frame - Black, 62</td><td>Black</td><td>62</td><td>FR-R92B-62</td></tr><tr><td>HL Road Frame - Black, 44</td><td>Black</td><td>44</td><td>FR-R92B-44</td></tr><tr><td>HL Road Frame - Black, 48</td><td>Black</td><td>48</td><td>FR-R92B-48</td></tr><tr><td>HL Road Frame - Black, 52</td><td>Black</td><td>52</td><td>FR-R92B-52</td></tr><tr><td>HL Touring Frame - Yellow, 60</td><td>Yellow</td><td>60</td><td>FR-T98Y-60</td></tr><tr><td>LL Touring Frame - Yellow, 62</td><td>Yellow</td><td>62</td><td>FR-T67Y-62</td></tr><tr><td>HL Touring Frame - Yellow, 46</td><td>Yellow</td><td>46</td><td>FR-T98Y-46</td></tr><tr><td>HL Touring Frame - Yellow, 50</td><td>Yellow</td><td>50</td><td>FR-T98Y-50</td></tr><tr><td>HL Touring Frame - Yellow, 54</td><td>Yellow</td><td>54</td><td>FR-T98Y-54</td></tr><tr><td>HL Touring Frame - Blue, 46</td><td>Blue</td><td>46</td><td>FR-T98U-46</td></tr><tr><td>HL Touring Frame - Blue, 50</td><td>Blue</td><td>50</td><td>FR-T98U-50</td></tr><tr><td>HL Touring Frame - Blue, 54</td><td>Blue</td><td>54</td><td>FR-T98U-54</td></tr><tr><td>HL Touring Frame - Blue, 60</td><td>Blue</td><td>60</td><td>FR-T98U-60</td></tr><tr><td>LL Touring Frame - Blue, 50</td><td>Blue</td><td>50</td><td>FR-T67U-50</td></tr><tr><td>LL Touring Frame - Blue, 54</td><td>Blue</td><td>54</td><td>FR-T67U-54</td></tr><tr><td>LL Touring Frame - Blue, 58</td><td>Blue</td><td>58</td><td>FR-T67U-58</td></tr><tr><td>LL Touring Frame - Blue, 62</td><td>Blue</td><td>62</td><td>FR-T67U-62</td></tr><tr><td>LL Touring Frame - Yellow, 44</td><td>Yellow</td><td>44</td><td>FR-T67Y-44</td></tr><tr><td>LL Touring Frame - Yellow, 50</td><td>Yellow</td><td>50</td><td>FR-T67Y-50</td></tr><tr><td>LL Touring Frame - Yellow, 54</td><td>Yellow</td><td>54</td><td>FR-T67Y-54</td></tr><tr><td>LL Touring Frame - Yellow, 58</td><td>Yellow</td><td>58</td><td>FR-T67Y-58</td></tr><tr><td>LL Touring Frame - Blue, 44</td><td>Blue</td><td>44</td><td>FR-T67U-44</td></tr><tr><td>ML Mountain Frame-W - Silver, 40</td><td>Silver</td><td>40</td><td>FR-M63S-40</td></tr><tr><td>ML Mountain Frame-W - Silver, 42</td><td>Silver</td><td>42</td><td>FR-M63S-42</td></tr><tr><td>ML Mountain Frame-W - Silver, 46</td><td>Silver</td><td>46</td><td>FR-M63S-46</td></tr><tr><td>LL Mountain Frame - Silver, 42</td><td>Silver</td><td>42</td><td>FR-M21S-42</td></tr><tr><td>LL Mountain Frame - Silver, 44</td><td>Silver</td><td>44</td><td>FR-M21S-44</td></tr><tr><td>LL Mountain Frame - Silver, 48</td><td>Silver</td><td>48</td><td>FR-M21S-48</td></tr><tr><td>LL Mountain Frame - Silver, 52</td><td>Silver</td><td>52</td><td>FR-M21S-52</td></tr><tr><td>LL Mountain Frame - Black, 42</td><td>Black</td><td>42</td><td>FR-M21B-42</td></tr><tr><td>LL Mountain Frame - Black, 44</td><td>Black</td><td>44</td><td>FR-M21B-44</td></tr><tr><td>LL Mountain Frame - Black, 48</td><td>Black</td><td>48</td><td>FR-M21B-48</td></tr><tr><td>LL Mountain Frame - Black, 52</td><td>Black</td><td>52</td><td>FR-M21B-52</td></tr><tr><td>ML Mountain Frame-W - Silver, 38</td><td>Silver</td><td>38</td><td>FR-M63S-38</td></tr><tr><td>LL Mountain Frame - Black, 40</td><td>Black</td><td>40</td><td>FR-M21B-40</td></tr><tr><td>LL Mountain Frame - Silver, 40</td><td>Silver</td><td>40</td><td>FR-M21S-40</td></tr></table>"
                    }
                },
                {
                    "output_type": "execute_result",
                    "metadata": {},
                    "execution_count": 48,
                    "data": {
                        "application/vnd.dataresource+json": {
                            "schema": {
                                "fields": [
                                    {
                                        "name": "Name"
                                    },
                                    {
                                        "name": "Color"
                                    },
                                    {
                                        "name": "Size"
                                    },
                                    {
                                        "name": "ProductNumber"
                                    }
                                ]
                            },
                            "data": [
                                {
                                    "0": "HL Road Frame - Black, 58",
                                    "1": "Black",
                                    "2": "58",
                                    "3": "FR-R92B-58"
                                },
                                {
                                    "0": "HL Road Frame - Red, 58",
                                    "1": "Red",
                                    "2": "58",
                                    "3": "FR-R92R-58"
                                },
                                {
                                    "0": "HL Road Frame - Red, 62",
                                    "1": "Red",
                                    "2": "62",
                                    "3": "FR-R92R-62"
                                },
                                {
                                    "0": "HL Road Frame - Red, 44",
                                    "1": "Red",
                                    "2": "44",
                                    "3": "FR-R92R-44"
                                },
                                {
                                    "0": "HL Road Frame - Red, 48",
                                    "1": "Red",
                                    "2": "48",
                                    "3": "FR-R92R-48"
                                },
                                {
                                    "0": "HL Road Frame - Red, 52",
                                    "1": "Red",
                                    "2": "52",
                                    "3": "FR-R92R-52"
                                },
                                {
                                    "0": "HL Road Frame - Red, 56",
                                    "1": "Red",
                                    "2": "56",
                                    "3": "FR-R92R-56"
                                },
                                {
                                    "0": "LL Road Frame - Black, 58",
                                    "1": "Black",
                                    "2": "58",
                                    "3": "FR-R38B-58"
                                },
                                {
                                    "0": "LL Road Frame - Black, 60",
                                    "1": "Black",
                                    "2": "60",
                                    "3": "FR-R38B-60"
                                },
                                {
                                    "0": "LL Road Frame - Black, 62",
                                    "1": "Black",
                                    "2": "62",
                                    "3": "FR-R38B-62"
                                },
                                {
                                    "0": "LL Road Frame - Red, 44",
                                    "1": "Red",
                                    "2": "44",
                                    "3": "FR-R38R-44"
                                },
                                {
                                    "0": "LL Road Frame - Red, 48",
                                    "1": "Red",
                                    "2": "48",
                                    "3": "FR-R38R-48"
                                },
                                {
                                    "0": "LL Road Frame - Red, 52",
                                    "1": "Red",
                                    "2": "52",
                                    "3": "FR-R38R-52"
                                },
                                {
                                    "0": "LL Road Frame - Red, 58",
                                    "1": "Red",
                                    "2": "58",
                                    "3": "FR-R38R-58"
                                },
                                {
                                    "0": "LL Road Frame - Red, 60",
                                    "1": "Red",
                                    "2": "60",
                                    "3": "FR-R38R-60"
                                },
                                {
                                    "0": "LL Road Frame - Red, 62",
                                    "1": "Red",
                                    "2": "62",
                                    "3": "FR-R38R-62"
                                },
                                {
                                    "0": "ML Road Frame - Red, 44",
                                    "1": "Red",
                                    "2": "44",
                                    "3": "FR-R72R-44"
                                },
                                {
                                    "0": "ML Road Frame - Red, 48",
                                    "1": "Red",
                                    "2": "48",
                                    "3": "FR-R72R-48"
                                },
                                {
                                    "0": "ML Road Frame - Red, 52",
                                    "1": "Red",
                                    "2": "52",
                                    "3": "FR-R72R-52"
                                },
                                {
                                    "0": "ML Road Frame - Red, 58",
                                    "1": "Red",
                                    "2": "58",
                                    "3": "FR-R72R-58"
                                },
                                {
                                    "0": "ML Road Frame - Red, 60",
                                    "1": "Red",
                                    "2": "60",
                                    "3": "FR-R72R-60"
                                },
                                {
                                    "0": "LL Road Frame - Black, 44",
                                    "1": "Black",
                                    "2": "44",
                                    "3": "FR-R38B-44"
                                },
                                {
                                    "0": "LL Road Frame - Black, 48",
                                    "1": "Black",
                                    "2": "48",
                                    "3": "FR-R38B-48"
                                },
                                {
                                    "0": "LL Road Frame - Black, 52",
                                    "1": "Black",
                                    "2": "52",
                                    "3": "FR-R38B-52"
                                },
                                {
                                    "0": "ML Road Frame-W - Yellow, 38",
                                    "1": "Yellow",
                                    "2": "38",
                                    "3": "FR-R72Y-38"
                                },
                                {
                                    "0": "ML Road Frame-W - Yellow, 40",
                                    "1": "Yellow",
                                    "2": "40",
                                    "3": "FR-R72Y-40"
                                },
                                {
                                    "0": "ML Road Frame-W - Yellow, 42",
                                    "1": "Yellow",
                                    "2": "42",
                                    "3": "FR-R72Y-42"
                                },
                                {
                                    "0": "ML Road Frame-W - Yellow, 44",
                                    "1": "Yellow",
                                    "2": "44",
                                    "3": "FR-R72Y-44"
                                },
                                {
                                    "0": "ML Road Frame-W - Yellow, 48",
                                    "1": "Yellow",
                                    "2": "48",
                                    "3": "FR-R72Y-48"
                                },
                                {
                                    "0": "HL Road Frame - Black, 62",
                                    "1": "Black",
                                    "2": "62",
                                    "3": "FR-R92B-62"
                                },
                                {
                                    "0": "HL Road Frame - Black, 44",
                                    "1": "Black",
                                    "2": "44",
                                    "3": "FR-R92B-44"
                                },
                                {
                                    "0": "HL Road Frame - Black, 48",
                                    "1": "Black",
                                    "2": "48",
                                    "3": "FR-R92B-48"
                                },
                                {
                                    "0": "HL Road Frame - Black, 52",
                                    "1": "Black",
                                    "2": "52",
                                    "3": "FR-R92B-52"
                                }
                            ]
                        },
                        "text/html": "<table><tr><th>Name</th><th>Color</th><th>Size</th><th>ProductNumber</th></tr><tr><td>HL Road Frame - Black, 58</td><td>Black</td><td>58</td><td>FR-R92B-58</td></tr><tr><td>HL Road Frame - Red, 58</td><td>Red</td><td>58</td><td>FR-R92R-58</td></tr><tr><td>HL Road Frame - Red, 62</td><td>Red</td><td>62</td><td>FR-R92R-62</td></tr><tr><td>HL Road Frame - Red, 44</td><td>Red</td><td>44</td><td>FR-R92R-44</td></tr><tr><td>HL Road Frame - Red, 48</td><td>Red</td><td>48</td><td>FR-R92R-48</td></tr><tr><td>HL Road Frame - Red, 52</td><td>Red</td><td>52</td><td>FR-R92R-52</td></tr><tr><td>HL Road Frame - Red, 56</td><td>Red</td><td>56</td><td>FR-R92R-56</td></tr><tr><td>LL Road Frame - Black, 58</td><td>Black</td><td>58</td><td>FR-R38B-58</td></tr><tr><td>LL Road Frame - Black, 60</td><td>Black</td><td>60</td><td>FR-R38B-60</td></tr><tr><td>LL Road Frame - Black, 62</td><td>Black</td><td>62</td><td>FR-R38B-62</td></tr><tr><td>LL Road Frame - Red, 44</td><td>Red</td><td>44</td><td>FR-R38R-44</td></tr><tr><td>LL Road Frame - Red, 48</td><td>Red</td><td>48</td><td>FR-R38R-48</td></tr><tr><td>LL Road Frame - Red, 52</td><td>Red</td><td>52</td><td>FR-R38R-52</td></tr><tr><td>LL Road Frame - Red, 58</td><td>Red</td><td>58</td><td>FR-R38R-58</td></tr><tr><td>LL Road Frame - Red, 60</td><td>Red</td><td>60</td><td>FR-R38R-60</td></tr><tr><td>LL Road Frame - Red, 62</td><td>Red</td><td>62</td><td>FR-R38R-62</td></tr><tr><td>ML Road Frame - Red, 44</td><td>Red</td><td>44</td><td>FR-R72R-44</td></tr><tr><td>ML Road Frame - Red, 48</td><td>Red</td><td>48</td><td>FR-R72R-48</td></tr><tr><td>ML Road Frame - Red, 52</td><td>Red</td><td>52</td><td>FR-R72R-52</td></tr><tr><td>ML Road Frame - Red, 58</td><td>Red</td><td>58</td><td>FR-R72R-58</td></tr><tr><td>ML Road Frame - Red, 60</td><td>Red</td><td>60</td><td>FR-R72R-60</td></tr><tr><td>LL Road Frame - Black, 44</td><td>Black</td><td>44</td><td>FR-R38B-44</td></tr><tr><td>LL Road Frame - Black, 48</td><td>Black</td><td>48</td><td>FR-R38B-48</td></tr><tr><td>LL Road Frame - Black, 52</td><td>Black</td><td>52</td><td>FR-R38B-52</td></tr><tr><td>ML Road Frame-W - Yellow, 38</td><td>Yellow</td><td>38</td><td>FR-R72Y-38</td></tr><tr><td>ML Road Frame-W - Yellow, 40</td><td>Yellow</td><td>40</td><td>FR-R72Y-40</td></tr><tr><td>ML Road Frame-W - Yellow, 42</td><td>Yellow</td><td>42</td><td>FR-R72Y-42</td></tr><tr><td>ML Road Frame-W - Yellow, 44</td><td>Yellow</td><td>44</td><td>FR-R72Y-44</td></tr><tr><td>ML Road Frame-W - Yellow, 48</td><td>Yellow</td><td>48</td><td>FR-R72Y-48</td></tr><tr><td>HL Road Frame - Black, 62</td><td>Black</td><td>62</td><td>FR-R92B-62</td></tr><tr><td>HL Road Frame - Black, 44</td><td>Black</td><td>44</td><td>FR-R92B-44</td></tr><tr><td>HL Road Frame - Black, 48</td><td>Black</td><td>48</td><td>FR-R92B-48</td></tr><tr><td>HL Road Frame - Black, 52</td><td>Black</td><td>52</td><td>FR-R92B-52</td></tr></table>"
                    }
                }
            ],
            "execution_count": 48
        },
        {
            "cell_type": "code",
            "source": [
                "-- Find products that have no SellEndDate\n",
                "SELECT Name, SellEndDate\n",
                "FROM SalesLT.Product\n",
                "WHERE SellEndDate IS NOT NULL;"
            ],
            "metadata": {
                "azdata_cell_guid": "c0d34185-92bc-40a6-98a4-85a36ab91c55"
            },
            "outputs": [
                {
                    "output_type": "display_data",
                    "data": {
                        "text/html": "(98 rows affected)"
                    },
                    "metadata": {}
                },
                {
                    "output_type": "display_data",
                    "data": {
                        "text/html": "Total execution time: 00:00:00.007"
                    },
                    "metadata": {}
                },
                {
                    "output_type": "execute_result",
                    "metadata": {},
                    "execution_count": 49,
                    "data": {
                        "application/vnd.dataresource+json": {
                            "schema": {
                                "fields": [
                                    {
                                        "name": "Name"
                                    },
                                    {
                                        "name": "SellEndDate"
                                    }
                                ]
                            },
                            "data": [
                                {
                                    "0": "Mountain Bike Socks, M",
                                    "1": "2002-06-30 00:00:00.000"
                                },
                                {
                                    "0": "Mountain Bike Socks, L",
                                    "1": "2002-06-30 00:00:00.000"
                                },
                                {
                                    "0": "LL Road Frame - Red, 44",
                                    "1": "2003-06-30 00:00:00.000"
                                },
                                {
                                    "0": "LL Road Frame - Red, 48",
                                    "1": "2003-06-30 00:00:00.000"
                                },
                                {
                                    "0": "LL Road Frame - Red, 52",
                                    "1": "2003-06-30 00:00:00.000"
                                },
                                {
                                    "0": "LL Road Frame - Red, 58",
                                    "1": "2003-06-30 00:00:00.000"
                                },
                                {
                                    "0": "LL Road Frame - Red, 60",
                                    "1": "2003-06-30 00:00:00.000"
                                },
                                {
                                    "0": "LL Road Frame - Red, 62",
                                    "1": "2003-06-30 00:00:00.000"
                                },
                                {
                                    "0": "ML Road Frame - Red, 44",
                                    "1": "2002-06-30 00:00:00.000"
                                },
                                {
                                    "0": "ML Road Frame - Red, 48",
                                    "1": "2002-06-30 00:00:00.000"
                                },
                                {
                                    "0": "ML Road Frame - Red, 52",
                                    "1": "2002-06-30 00:00:00.000"
                                },
                                {
                                    "0": "ML Road Frame - Red, 58",
                                    "1": "2002-06-30 00:00:00.000"
                                },
                                {
                                    "0": "ML Road Frame - Red, 60",
                                    "1": "2002-06-30 00:00:00.000"
                                },
                                {
                                    "0": "HL Mountain Frame - Silver, 44",
                                    "1": "2002-06-30 00:00:00.000"
                                },
                                {
                                    "0": "HL Mountain Frame - Silver, 48",
                                    "1": "2002-06-30 00:00:00.000"
                                },
                                {
                                    "0": "HL Mountain Frame - Black, 44",
                                    "1": "2002-06-30 00:00:00.000"
                                },
                                {
                                    "0": "HL Mountain Frame - Black, 48",
                                    "1": "2002-06-30 00:00:00.000"
                                },
                                {
                                    "0": "Road-150 Red, 62",
                                    "1": "2002-06-30 00:00:00.000"
                                },
                                {
                                    "0": "Road-150 Red, 44",
                                    "1": "2002-06-30 00:00:00.000"
                                },
                                {
                                    "0": "Road-150 Red, 48",
                                    "1": "2002-06-30 00:00:00.000"
                                },
                                {
                                    "0": "Road-150 Red, 52",
                                    "1": "2002-06-30 00:00:00.000"
                                },
                                {
                                    "0": "Road-150 Red, 56",
                                    "1": "2002-06-30 00:00:00.000"
                                },
                                {
                                    "0": "Road-450 Red, 58",
                                    "1": "2002-06-30 00:00:00.000"
                                },
                                {
                                    "0": "Road-450 Red, 60",
                                    "1": "2002-06-30 00:00:00.000"
                                },
                                {
                                    "0": "Road-450 Red, 44",
                                    "1": "2002-06-30 00:00:00.000"
                                },
                                {
                                    "0": "Road-450 Red, 48",
                                    "1": "2002-06-30 00:00:00.000"
                                },
                                {
                                    "0": "Road-450 Red, 52",
                                    "1": "2002-06-30 00:00:00.000"
                                },
                                {
                                    "0": "Road-650 Red, 58",
                                    "1": "2003-06-30 00:00:00.000"
                                },
                                {
                                    "0": "Road-650 Red, 60",
                                    "1": "2003-06-30 00:00:00.000"
                                },
                                {
                                    "0": "Road-650 Red, 62",
                                    "1": "2003-06-30 00:00:00.000"
                                },
                                {
                                    "0": "Road-650 Red, 44",
                                    "1": "2003-06-30 00:00:00.000"
                                },
                                {
                                    "0": "Road-650 Red, 48",
                                    "1": "2003-06-30 00:00:00.000"
                                },
                                {
                                    "0": "Road-650 Red, 52",
                                    "1": "2003-06-30 00:00:00.000"
                                },
                                {
                                    "0": "Road-650 Black, 58",
                                    "1": "2003-06-30 00:00:00.000"
                                },
                                {
                                    "0": "Road-650 Black, 60",
                                    "1": "2003-06-30 00:00:00.000"
                                },
                                {
                                    "0": "Road-650 Black, 62",
                                    "1": "2003-06-30 00:00:00.000"
                                },
                                {
                                    "0": "Road-650 Black, 44",
                                    "1": "2003-06-30 00:00:00.000"
                                },
                                {
                                    "0": "Road-650 Black, 48",
                                    "1": "2003-06-30 00:00:00.000"
                                },
                                {
                                    "0": "Road-650 Black, 52",
                                    "1": "2003-06-30 00:00:00.000"
                                },
                                {
                                    "0": "Mountain-100 Silver, 38",
                                    "1": "2002-06-30 00:00:00.000"
                                },
                                {
                                    "0": "Mountain-100 Silver, 42",
                                    "1": "2002-06-30 00:00:00.000"
                                },
                                {
                                    "0": "Mountain-100 Silver, 44",
                                    "1": "2002-06-30 00:00:00.000"
                                },
                                {
                                    "0": "Mountain-100 Silver, 48",
                                    "1": "2002-06-30 00:00:00.000"
                                },
                                {
                                    "0": "Mountain-100 Black, 38",
                                    "1": "2002-06-30 00:00:00.000"
                                },
                                {
                                    "0": "Mountain-100 Black, 42",
                                    "1": "2002-06-30 00:00:00.000"
                                },
                                {
                                    "0": "Mountain-100 Black, 44",
                                    "1": "2002-06-30 00:00:00.000"
                                },
                                {
                                    "0": "Mountain-100 Black, 48",
                                    "1": "2002-06-30 00:00:00.000"
                                },
                                {
                                    "0": "Mountain-300 Black, 38",
                                    "1": "2003-06-30 00:00:00.000"
                                },
                                {
                                    "0": "Mountain-300 Black, 40",
                                    "1": "2003-06-30 00:00:00.000"
                                },
                                {
                                    "0": "Mountain-300 Black, 44",
                                    "1": "2003-06-30 00:00:00.000"
                                },
                                {
                                    "0": "Mountain-300 Black, 48",
                                    "1": "2003-06-30 00:00:00.000"
                                },
                                {
                                    "0": "Road-250 Red, 44",
                                    "1": "2003-06-30 00:00:00.000"
                                },
                                {
                                    "0": "Road-250 Red, 48",
                                    "1": "2003-06-30 00:00:00.000"
                                },
                                {
                                    "0": "Road-250 Red, 52",
                                    "1": "2003-06-30 00:00:00.000"
                                },
                                {
                                    "0": "LL Fork",
                                    "1": "2003-06-30 00:00:00.000"
                                },
                                {
                                    "0": "ML Fork",
                                    "1": "2003-06-30 00:00:00.000"
                                },
                                {
                                    "0": "HL Fork",
                                    "1": "2003-06-30 00:00:00.000"
                                },
                                {
                                    "0": "LL Headset",
                                    "1": "2003-06-30 00:00:00.000"
                                },
                                {
                                    "0": "ML Headset",
                                    "1": "2003-06-30 00:00:00.000"
                                },
                                {
                                    "0": "HL Headset",
                                    "1": "2003-06-30 00:00:00.000"
                                },
                                {
                                    "0": "ML Mountain Frame - Black, 38",
                                    "1": "2003-06-30 00:00:00.000"
                                },
                                {
                                    "0": "LL Mountain Front Wheel",
                                    "1": "2003-06-30 00:00:00.000"
                                },
                                {
                                    "0": "ML Mountain Front Wheel",
                                    "1": "2003-06-30 00:00:00.000"
                                },
                                {
                                    "0": "HL Mountain Front Wheel",
                                    "1": "2003-06-30 00:00:00.000"
                                },
                                {
                                    "0": "LL Road Front Wheel",
                                    "1": "2003-06-30 00:00:00.000"
                                },
                                {
                                    "0": "ML Road Front Wheel",
                                    "1": "2003-06-30 00:00:00.000"
                                },
                                {
                                    "0": "HL Road Front Wheel",
                                    "1": "2003-06-30 00:00:00.000"
                                },
                                {
                                    "0": "Touring Front Wheel",
                                    "1": "2003-06-30 00:00:00.000"
                                },
                                {
                                    "0": "LL Mountain Rear Wheel",
                                    "1": "2003-06-30 00:00:00.000"
                                },
                                {
                                    "0": "ML Mountain Rear Wheel",
                                    "1": "2003-06-30 00:00:00.000"
                                },
                                {
                                    "0": "HL Mountain Rear Wheel",
                                    "1": "2003-06-30 00:00:00.000"
                                },
                                {
                                    "0": "LL Road Rear Wheel",
                                    "1": "2003-06-30 00:00:00.000"
                                },
                                {
                                    "0": "ML Road Rear Wheel",
                                    "1": "2003-06-30 00:00:00.000"
                                },
                                {
                                    "0": "HL Road Rear Wheel",
                                    "1": "2003-06-30 00:00:00.000"
                                },
                                {
                                    "0": "Touring Rear Wheel",
                                    "1": "2003-06-30 00:00:00.000"
                                },
                                {
                                    "0": "ML Mountain Frame - Black, 40",
                                    "1": "2003-06-30 00:00:00.000"
                                },
                                {
                                    "0": "ML Mountain Frame - Black, 44",
                                    "1": "2003-06-30 00:00:00.000"
                                },
                                {
                                    "0": "ML Mountain Frame - Black, 48",
                                    "1": "2003-06-30 00:00:00.000"
                                },
                                {
                                    "0": "Men's Sports Shorts, S",
                                    "1": "2003-06-30 00:00:00.000"
                                },
                                {
                                    "0": "Touring-Panniers, Large",
                                    "1": "2003-06-30 00:00:00.000"
                                },
                                {
                                    "0": "Cable Lock",
                                    "1": "2003-06-30 00:00:00.000"
                                },
                                {
                                    "0": "Minipump",
                                    "1": "2003-06-30 00:00:00.000"
                                },
                                {
                                    "0": "Mountain Pump",
                                    "1": "2003-06-30 00:00:00.000"
                                },
                                {
                                    "0": "Taillights - Battery-Powered",
                                    "1": "2003-06-30 00:00:00.000"
                                },
                                {
                                    "0": "Headlights - Dual-Beam",
                                    "1": "2003-06-30 00:00:00.000"
                                },
                                {
                                    "0": "Headlights - Weatherproof",
                                    "1": "2003-06-30 00:00:00.000"
                                },
                                {
                                    "0": "Men's Sports Shorts, M",
                                    "1": "2003-06-30 00:00:00.000"
                                },
                                {
                                    "0": "Men's Sports Shorts, L",
                                    "1": "2003-06-30 00:00:00.000"
                                },
                                {
                                    "0": "Men's Sports Shorts, XL",
                                    "1": "2003-06-30 00:00:00.000"
                                },
                                {
                                    "0": "Women's Tights, S",
                                    "1": "2003-06-30 00:00:00.000"
                                },
                                {
                                    "0": "Women's Tights, M",
                                    "1": "2003-06-30 00:00:00.000"
                                },
                                {
                                    "0": "Women's Tights, L",
                                    "1": "2003-06-30 00:00:00.000"
                                },
                                {
                                    "0": "Men's Bib-Shorts, S",
                                    "1": "2003-06-30 00:00:00.000"
                                },
                                {
                                    "0": "Men's Bib-Shorts, M",
                                    "1": "2003-06-30 00:00:00.000"
                                },
                                {
                                    "0": "Men's Bib-Shorts, L",
                                    "1": "2003-06-30 00:00:00.000"
                                },
                                {
                                    "0": "Full-Finger Gloves, S",
                                    "1": "2003-06-30 00:00:00.000"
                                },
                                {
                                    "0": "Full-Finger Gloves, M",
                                    "1": "2003-06-30 00:00:00.000"
                                },
                                {
                                    "0": "Full-Finger Gloves, L",
                                    "1": "2003-06-30 00:00:00.000"
                                }
                            ]
                        },
                        "text/html": "<table><tr><th>Name</th><th>SellEndDate</th></tr><tr><td>Mountain Bike Socks, M</td><td>2002-06-30 00:00:00.000</td></tr><tr><td>Mountain Bike Socks, L</td><td>2002-06-30 00:00:00.000</td></tr><tr><td>LL Road Frame - Red, 44</td><td>2003-06-30 00:00:00.000</td></tr><tr><td>LL Road Frame - Red, 48</td><td>2003-06-30 00:00:00.000</td></tr><tr><td>LL Road Frame - Red, 52</td><td>2003-06-30 00:00:00.000</td></tr><tr><td>LL Road Frame - Red, 58</td><td>2003-06-30 00:00:00.000</td></tr><tr><td>LL Road Frame - Red, 60</td><td>2003-06-30 00:00:00.000</td></tr><tr><td>LL Road Frame - Red, 62</td><td>2003-06-30 00:00:00.000</td></tr><tr><td>ML Road Frame - Red, 44</td><td>2002-06-30 00:00:00.000</td></tr><tr><td>ML Road Frame - Red, 48</td><td>2002-06-30 00:00:00.000</td></tr><tr><td>ML Road Frame - Red, 52</td><td>2002-06-30 00:00:00.000</td></tr><tr><td>ML Road Frame - Red, 58</td><td>2002-06-30 00:00:00.000</td></tr><tr><td>ML Road Frame - Red, 60</td><td>2002-06-30 00:00:00.000</td></tr><tr><td>HL Mountain Frame - Silver, 44</td><td>2002-06-30 00:00:00.000</td></tr><tr><td>HL Mountain Frame - Silver, 48</td><td>2002-06-30 00:00:00.000</td></tr><tr><td>HL Mountain Frame - Black, 44</td><td>2002-06-30 00:00:00.000</td></tr><tr><td>HL Mountain Frame - Black, 48</td><td>2002-06-30 00:00:00.000</td></tr><tr><td>Road-150 Red, 62</td><td>2002-06-30 00:00:00.000</td></tr><tr><td>Road-150 Red, 44</td><td>2002-06-30 00:00:00.000</td></tr><tr><td>Road-150 Red, 48</td><td>2002-06-30 00:00:00.000</td></tr><tr><td>Road-150 Red, 52</td><td>2002-06-30 00:00:00.000</td></tr><tr><td>Road-150 Red, 56</td><td>2002-06-30 00:00:00.000</td></tr><tr><td>Road-450 Red, 58</td><td>2002-06-30 00:00:00.000</td></tr><tr><td>Road-450 Red, 60</td><td>2002-06-30 00:00:00.000</td></tr><tr><td>Road-450 Red, 44</td><td>2002-06-30 00:00:00.000</td></tr><tr><td>Road-450 Red, 48</td><td>2002-06-30 00:00:00.000</td></tr><tr><td>Road-450 Red, 52</td><td>2002-06-30 00:00:00.000</td></tr><tr><td>Road-650 Red, 58</td><td>2003-06-30 00:00:00.000</td></tr><tr><td>Road-650 Red, 60</td><td>2003-06-30 00:00:00.000</td></tr><tr><td>Road-650 Red, 62</td><td>2003-06-30 00:00:00.000</td></tr><tr><td>Road-650 Red, 44</td><td>2003-06-30 00:00:00.000</td></tr><tr><td>Road-650 Red, 48</td><td>2003-06-30 00:00:00.000</td></tr><tr><td>Road-650 Red, 52</td><td>2003-06-30 00:00:00.000</td></tr><tr><td>Road-650 Black, 58</td><td>2003-06-30 00:00:00.000</td></tr><tr><td>Road-650 Black, 60</td><td>2003-06-30 00:00:00.000</td></tr><tr><td>Road-650 Black, 62</td><td>2003-06-30 00:00:00.000</td></tr><tr><td>Road-650 Black, 44</td><td>2003-06-30 00:00:00.000</td></tr><tr><td>Road-650 Black, 48</td><td>2003-06-30 00:00:00.000</td></tr><tr><td>Road-650 Black, 52</td><td>2003-06-30 00:00:00.000</td></tr><tr><td>Mountain-100 Silver, 38</td><td>2002-06-30 00:00:00.000</td></tr><tr><td>Mountain-100 Silver, 42</td><td>2002-06-30 00:00:00.000</td></tr><tr><td>Mountain-100 Silver, 44</td><td>2002-06-30 00:00:00.000</td></tr><tr><td>Mountain-100 Silver, 48</td><td>2002-06-30 00:00:00.000</td></tr><tr><td>Mountain-100 Black, 38</td><td>2002-06-30 00:00:00.000</td></tr><tr><td>Mountain-100 Black, 42</td><td>2002-06-30 00:00:00.000</td></tr><tr><td>Mountain-100 Black, 44</td><td>2002-06-30 00:00:00.000</td></tr><tr><td>Mountain-100 Black, 48</td><td>2002-06-30 00:00:00.000</td></tr><tr><td>Mountain-300 Black, 38</td><td>2003-06-30 00:00:00.000</td></tr><tr><td>Mountain-300 Black, 40</td><td>2003-06-30 00:00:00.000</td></tr><tr><td>Mountain-300 Black, 44</td><td>2003-06-30 00:00:00.000</td></tr><tr><td>Mountain-300 Black, 48</td><td>2003-06-30 00:00:00.000</td></tr><tr><td>Road-250 Red, 44</td><td>2003-06-30 00:00:00.000</td></tr><tr><td>Road-250 Red, 48</td><td>2003-06-30 00:00:00.000</td></tr><tr><td>Road-250 Red, 52</td><td>2003-06-30 00:00:00.000</td></tr><tr><td>LL Fork</td><td>2003-06-30 00:00:00.000</td></tr><tr><td>ML Fork</td><td>2003-06-30 00:00:00.000</td></tr><tr><td>HL Fork</td><td>2003-06-30 00:00:00.000</td></tr><tr><td>LL Headset</td><td>2003-06-30 00:00:00.000</td></tr><tr><td>ML Headset</td><td>2003-06-30 00:00:00.000</td></tr><tr><td>HL Headset</td><td>2003-06-30 00:00:00.000</td></tr><tr><td>ML Mountain Frame - Black, 38</td><td>2003-06-30 00:00:00.000</td></tr><tr><td>LL Mountain Front Wheel</td><td>2003-06-30 00:00:00.000</td></tr><tr><td>ML Mountain Front Wheel</td><td>2003-06-30 00:00:00.000</td></tr><tr><td>HL Mountain Front Wheel</td><td>2003-06-30 00:00:00.000</td></tr><tr><td>LL Road Front Wheel</td><td>2003-06-30 00:00:00.000</td></tr><tr><td>ML Road Front Wheel</td><td>2003-06-30 00:00:00.000</td></tr><tr><td>HL Road Front Wheel</td><td>2003-06-30 00:00:00.000</td></tr><tr><td>Touring Front Wheel</td><td>2003-06-30 00:00:00.000</td></tr><tr><td>LL Mountain Rear Wheel</td><td>2003-06-30 00:00:00.000</td></tr><tr><td>ML Mountain Rear Wheel</td><td>2003-06-30 00:00:00.000</td></tr><tr><td>HL Mountain Rear Wheel</td><td>2003-06-30 00:00:00.000</td></tr><tr><td>LL Road Rear Wheel</td><td>2003-06-30 00:00:00.000</td></tr><tr><td>ML Road Rear Wheel</td><td>2003-06-30 00:00:00.000</td></tr><tr><td>HL Road Rear Wheel</td><td>2003-06-30 00:00:00.000</td></tr><tr><td>Touring Rear Wheel</td><td>2003-06-30 00:00:00.000</td></tr><tr><td>ML Mountain Frame - Black, 40</td><td>2003-06-30 00:00:00.000</td></tr><tr><td>ML Mountain Frame - Black, 44</td><td>2003-06-30 00:00:00.000</td></tr><tr><td>ML Mountain Frame - Black, 48</td><td>2003-06-30 00:00:00.000</td></tr><tr><td>Men's Sports Shorts, S</td><td>2003-06-30 00:00:00.000</td></tr><tr><td>Touring-Panniers, Large</td><td>2003-06-30 00:00:00.000</td></tr><tr><td>Cable Lock</td><td>2003-06-30 00:00:00.000</td></tr><tr><td>Minipump</td><td>2003-06-30 00:00:00.000</td></tr><tr><td>Mountain Pump</td><td>2003-06-30 00:00:00.000</td></tr><tr><td>Taillights - Battery-Powered</td><td>2003-06-30 00:00:00.000</td></tr><tr><td>Headlights - Dual-Beam</td><td>2003-06-30 00:00:00.000</td></tr><tr><td>Headlights - Weatherproof</td><td>2003-06-30 00:00:00.000</td></tr><tr><td>Men's Sports Shorts, M</td><td>2003-06-30 00:00:00.000</td></tr><tr><td>Men's Sports Shorts, L</td><td>2003-06-30 00:00:00.000</td></tr><tr><td>Men's Sports Shorts, XL</td><td>2003-06-30 00:00:00.000</td></tr><tr><td>Women's Tights, S</td><td>2003-06-30 00:00:00.000</td></tr><tr><td>Women's Tights, M</td><td>2003-06-30 00:00:00.000</td></tr><tr><td>Women's Tights, L</td><td>2003-06-30 00:00:00.000</td></tr><tr><td>Men's Bib-Shorts, S</td><td>2003-06-30 00:00:00.000</td></tr><tr><td>Men's Bib-Shorts, M</td><td>2003-06-30 00:00:00.000</td></tr><tr><td>Men's Bib-Shorts, L</td><td>2003-06-30 00:00:00.000</td></tr><tr><td>Full-Finger Gloves, S</td><td>2003-06-30 00:00:00.000</td></tr><tr><td>Full-Finger Gloves, M</td><td>2003-06-30 00:00:00.000</td></tr><tr><td>Full-Finger Gloves, L</td><td>2003-06-30 00:00:00.000</td></tr></table>"
                    }
                }
            ],
            "execution_count": 49
        },
        {
            "cell_type": "code",
            "source": [
                "-- Display unique SellEndDate\n",
                "SELECT DISTINCT SellEndDate\n",
                "FROM SalesLT.Product;\n",
                "\n",
                "-- Find products with SellEndDate in 2003\n",
                "SELECT Name, CONVERT(nvarchar(20), SellEndDate, 111) as SellEndDate\n",
                "FROM SalesLT.Product\n",
                "WHERE SellEndDate BETWEEN '2003/01/01' AND '2003/12/31';"
            ],
            "metadata": {
                "azdata_cell_guid": "99cb417f-8557-418b-a064-812795fadd3f"
            },
            "outputs": [
                {
                    "output_type": "display_data",
                    "data": {
                        "text/html": "(3 rows affected)"
                    },
                    "metadata": {}
                },
                {
                    "output_type": "display_data",
                    "data": {
                        "text/html": "(69 rows affected)"
                    },
                    "metadata": {}
                },
                {
                    "output_type": "display_data",
                    "data": {
                        "text/html": "Total execution time: 00:00:00.009"
                    },
                    "metadata": {}
                },
                {
                    "output_type": "execute_result",
                    "metadata": {},
                    "execution_count": 50,
                    "data": {
                        "application/vnd.dataresource+json": {
                            "schema": {
                                "fields": [
                                    {
                                        "name": "SellEndDate"
                                    }
                                ]
                            },
                            "data": [
                                {
                                    "0": "NULL"
                                },
                                {
                                    "0": "2002-06-30 00:00:00.000"
                                },
                                {
                                    "0": "2003-06-30 00:00:00.000"
                                }
                            ]
                        },
                        "text/html": "<table><tr><th>SellEndDate</th></tr><tr><td>NULL</td></tr><tr><td>2002-06-30 00:00:00.000</td></tr><tr><td>2003-06-30 00:00:00.000</td></tr></table>"
                    }
                },
                {
                    "output_type": "execute_result",
                    "metadata": {},
                    "execution_count": 50,
                    "data": {
                        "application/vnd.dataresource+json": {
                            "schema": {
                                "fields": [
                                    {
                                        "name": "Name"
                                    },
                                    {
                                        "name": "SellEndDate"
                                    }
                                ]
                            },
                            "data": [
                                {
                                    "0": "LL Road Frame - Red, 44",
                                    "1": "2003/06/30"
                                },
                                {
                                    "0": "LL Road Frame - Red, 48",
                                    "1": "2003/06/30"
                                },
                                {
                                    "0": "LL Road Frame - Red, 52",
                                    "1": "2003/06/30"
                                },
                                {
                                    "0": "LL Road Frame - Red, 58",
                                    "1": "2003/06/30"
                                },
                                {
                                    "0": "LL Road Frame - Red, 60",
                                    "1": "2003/06/30"
                                },
                                {
                                    "0": "LL Road Frame - Red, 62",
                                    "1": "2003/06/30"
                                },
                                {
                                    "0": "Road-650 Red, 58",
                                    "1": "2003/06/30"
                                },
                                {
                                    "0": "Road-650 Red, 60",
                                    "1": "2003/06/30"
                                },
                                {
                                    "0": "Road-650 Red, 62",
                                    "1": "2003/06/30"
                                },
                                {
                                    "0": "Road-650 Red, 44",
                                    "1": "2003/06/30"
                                },
                                {
                                    "0": "Road-650 Red, 48",
                                    "1": "2003/06/30"
                                },
                                {
                                    "0": "Road-650 Red, 52",
                                    "1": "2003/06/30"
                                },
                                {
                                    "0": "Road-650 Black, 58",
                                    "1": "2003/06/30"
                                },
                                {
                                    "0": "Road-650 Black, 60",
                                    "1": "2003/06/30"
                                },
                                {
                                    "0": "Road-650 Black, 62",
                                    "1": "2003/06/30"
                                },
                                {
                                    "0": "Road-650 Black, 44",
                                    "1": "2003/06/30"
                                },
                                {
                                    "0": "Road-650 Black, 48",
                                    "1": "2003/06/30"
                                },
                                {
                                    "0": "Road-650 Black, 52",
                                    "1": "2003/06/30"
                                },
                                {
                                    "0": "Mountain-300 Black, 38",
                                    "1": "2003/06/30"
                                },
                                {
                                    "0": "Mountain-300 Black, 40",
                                    "1": "2003/06/30"
                                },
                                {
                                    "0": "Mountain-300 Black, 44",
                                    "1": "2003/06/30"
                                },
                                {
                                    "0": "Mountain-300 Black, 48",
                                    "1": "2003/06/30"
                                },
                                {
                                    "0": "Road-250 Red, 44",
                                    "1": "2003/06/30"
                                },
                                {
                                    "0": "Road-250 Red, 48",
                                    "1": "2003/06/30"
                                },
                                {
                                    "0": "Road-250 Red, 52",
                                    "1": "2003/06/30"
                                },
                                {
                                    "0": "LL Fork",
                                    "1": "2003/06/30"
                                },
                                {
                                    "0": "ML Fork",
                                    "1": "2003/06/30"
                                },
                                {
                                    "0": "HL Fork",
                                    "1": "2003/06/30"
                                },
                                {
                                    "0": "LL Headset",
                                    "1": "2003/06/30"
                                },
                                {
                                    "0": "ML Headset",
                                    "1": "2003/06/30"
                                },
                                {
                                    "0": "HL Headset",
                                    "1": "2003/06/30"
                                },
                                {
                                    "0": "ML Mountain Frame - Black, 38",
                                    "1": "2003/06/30"
                                },
                                {
                                    "0": "LL Mountain Front Wheel",
                                    "1": "2003/06/30"
                                },
                                {
                                    "0": "ML Mountain Front Wheel",
                                    "1": "2003/06/30"
                                },
                                {
                                    "0": "HL Mountain Front Wheel",
                                    "1": "2003/06/30"
                                },
                                {
                                    "0": "LL Road Front Wheel",
                                    "1": "2003/06/30"
                                },
                                {
                                    "0": "ML Road Front Wheel",
                                    "1": "2003/06/30"
                                },
                                {
                                    "0": "HL Road Front Wheel",
                                    "1": "2003/06/30"
                                },
                                {
                                    "0": "Touring Front Wheel",
                                    "1": "2003/06/30"
                                },
                                {
                                    "0": "LL Mountain Rear Wheel",
                                    "1": "2003/06/30"
                                },
                                {
                                    "0": "ML Mountain Rear Wheel",
                                    "1": "2003/06/30"
                                },
                                {
                                    "0": "HL Mountain Rear Wheel",
                                    "1": "2003/06/30"
                                },
                                {
                                    "0": "LL Road Rear Wheel",
                                    "1": "2003/06/30"
                                },
                                {
                                    "0": "ML Road Rear Wheel",
                                    "1": "2003/06/30"
                                },
                                {
                                    "0": "HL Road Rear Wheel",
                                    "1": "2003/06/30"
                                },
                                {
                                    "0": "Touring Rear Wheel",
                                    "1": "2003/06/30"
                                },
                                {
                                    "0": "ML Mountain Frame - Black, 40",
                                    "1": "2003/06/30"
                                },
                                {
                                    "0": "ML Mountain Frame - Black, 44",
                                    "1": "2003/06/30"
                                },
                                {
                                    "0": "ML Mountain Frame - Black, 48",
                                    "1": "2003/06/30"
                                },
                                {
                                    "0": "Men's Sports Shorts, S",
                                    "1": "2003/06/30"
                                },
                                {
                                    "0": "Touring-Panniers, Large",
                                    "1": "2003/06/30"
                                },
                                {
                                    "0": "Cable Lock",
                                    "1": "2003/06/30"
                                },
                                {
                                    "0": "Minipump",
                                    "1": "2003/06/30"
                                },
                                {
                                    "0": "Mountain Pump",
                                    "1": "2003/06/30"
                                },
                                {
                                    "0": "Taillights - Battery-Powered",
                                    "1": "2003/06/30"
                                },
                                {
                                    "0": "Headlights - Dual-Beam",
                                    "1": "2003/06/30"
                                },
                                {
                                    "0": "Headlights - Weatherproof",
                                    "1": "2003/06/30"
                                },
                                {
                                    "0": "Men's Sports Shorts, M",
                                    "1": "2003/06/30"
                                },
                                {
                                    "0": "Men's Sports Shorts, L",
                                    "1": "2003/06/30"
                                },
                                {
                                    "0": "Men's Sports Shorts, XL",
                                    "1": "2003/06/30"
                                },
                                {
                                    "0": "Women's Tights, S",
                                    "1": "2003/06/30"
                                },
                                {
                                    "0": "Women's Tights, M",
                                    "1": "2003/06/30"
                                },
                                {
                                    "0": "Women's Tights, L",
                                    "1": "2003/06/30"
                                },
                                {
                                    "0": "Men's Bib-Shorts, S",
                                    "1": "2003/06/30"
                                },
                                {
                                    "0": "Men's Bib-Shorts, M",
                                    "1": "2003/06/30"
                                },
                                {
                                    "0": "Men's Bib-Shorts, L",
                                    "1": "2003/06/30"
                                },
                                {
                                    "0": "Full-Finger Gloves, S",
                                    "1": "2003/06/30"
                                },
                                {
                                    "0": "Full-Finger Gloves, M",
                                    "1": "2003/06/30"
                                },
                                {
                                    "0": "Full-Finger Gloves, L",
                                    "1": "2003/06/30"
                                }
                            ]
                        },
                        "text/html": "<table><tr><th>Name</th><th>SellEndDate</th></tr><tr><td>LL Road Frame - Red, 44</td><td>2003/06/30</td></tr><tr><td>LL Road Frame - Red, 48</td><td>2003/06/30</td></tr><tr><td>LL Road Frame - Red, 52</td><td>2003/06/30</td></tr><tr><td>LL Road Frame - Red, 58</td><td>2003/06/30</td></tr><tr><td>LL Road Frame - Red, 60</td><td>2003/06/30</td></tr><tr><td>LL Road Frame - Red, 62</td><td>2003/06/30</td></tr><tr><td>Road-650 Red, 58</td><td>2003/06/30</td></tr><tr><td>Road-650 Red, 60</td><td>2003/06/30</td></tr><tr><td>Road-650 Red, 62</td><td>2003/06/30</td></tr><tr><td>Road-650 Red, 44</td><td>2003/06/30</td></tr><tr><td>Road-650 Red, 48</td><td>2003/06/30</td></tr><tr><td>Road-650 Red, 52</td><td>2003/06/30</td></tr><tr><td>Road-650 Black, 58</td><td>2003/06/30</td></tr><tr><td>Road-650 Black, 60</td><td>2003/06/30</td></tr><tr><td>Road-650 Black, 62</td><td>2003/06/30</td></tr><tr><td>Road-650 Black, 44</td><td>2003/06/30</td></tr><tr><td>Road-650 Black, 48</td><td>2003/06/30</td></tr><tr><td>Road-650 Black, 52</td><td>2003/06/30</td></tr><tr><td>Mountain-300 Black, 38</td><td>2003/06/30</td></tr><tr><td>Mountain-300 Black, 40</td><td>2003/06/30</td></tr><tr><td>Mountain-300 Black, 44</td><td>2003/06/30</td></tr><tr><td>Mountain-300 Black, 48</td><td>2003/06/30</td></tr><tr><td>Road-250 Red, 44</td><td>2003/06/30</td></tr><tr><td>Road-250 Red, 48</td><td>2003/06/30</td></tr><tr><td>Road-250 Red, 52</td><td>2003/06/30</td></tr><tr><td>LL Fork</td><td>2003/06/30</td></tr><tr><td>ML Fork</td><td>2003/06/30</td></tr><tr><td>HL Fork</td><td>2003/06/30</td></tr><tr><td>LL Headset</td><td>2003/06/30</td></tr><tr><td>ML Headset</td><td>2003/06/30</td></tr><tr><td>HL Headset</td><td>2003/06/30</td></tr><tr><td>ML Mountain Frame - Black, 38</td><td>2003/06/30</td></tr><tr><td>LL Mountain Front Wheel</td><td>2003/06/30</td></tr><tr><td>ML Mountain Front Wheel</td><td>2003/06/30</td></tr><tr><td>HL Mountain Front Wheel</td><td>2003/06/30</td></tr><tr><td>LL Road Front Wheel</td><td>2003/06/30</td></tr><tr><td>ML Road Front Wheel</td><td>2003/06/30</td></tr><tr><td>HL Road Front Wheel</td><td>2003/06/30</td></tr><tr><td>Touring Front Wheel</td><td>2003/06/30</td></tr><tr><td>LL Mountain Rear Wheel</td><td>2003/06/30</td></tr><tr><td>ML Mountain Rear Wheel</td><td>2003/06/30</td></tr><tr><td>HL Mountain Rear Wheel</td><td>2003/06/30</td></tr><tr><td>LL Road Rear Wheel</td><td>2003/06/30</td></tr><tr><td>ML Road Rear Wheel</td><td>2003/06/30</td></tr><tr><td>HL Road Rear Wheel</td><td>2003/06/30</td></tr><tr><td>Touring Rear Wheel</td><td>2003/06/30</td></tr><tr><td>ML Mountain Frame - Black, 40</td><td>2003/06/30</td></tr><tr><td>ML Mountain Frame - Black, 44</td><td>2003/06/30</td></tr><tr><td>ML Mountain Frame - Black, 48</td><td>2003/06/30</td></tr><tr><td>Men's Sports Shorts, S</td><td>2003/06/30</td></tr><tr><td>Touring-Panniers, Large</td><td>2003/06/30</td></tr><tr><td>Cable Lock</td><td>2003/06/30</td></tr><tr><td>Minipump</td><td>2003/06/30</td></tr><tr><td>Mountain Pump</td><td>2003/06/30</td></tr><tr><td>Taillights - Battery-Powered</td><td>2003/06/30</td></tr><tr><td>Headlights - Dual-Beam</td><td>2003/06/30</td></tr><tr><td>Headlights - Weatherproof</td><td>2003/06/30</td></tr><tr><td>Men's Sports Shorts, M</td><td>2003/06/30</td></tr><tr><td>Men's Sports Shorts, L</td><td>2003/06/30</td></tr><tr><td>Men's Sports Shorts, XL</td><td>2003/06/30</td></tr><tr><td>Women's Tights, S</td><td>2003/06/30</td></tr><tr><td>Women's Tights, M</td><td>2003/06/30</td></tr><tr><td>Women's Tights, L</td><td>2003/06/30</td></tr><tr><td>Men's Bib-Shorts, S</td><td>2003/06/30</td></tr><tr><td>Men's Bib-Shorts, M</td><td>2003/06/30</td></tr><tr><td>Men's Bib-Shorts, L</td><td>2003/06/30</td></tr><tr><td>Full-Finger Gloves, S</td><td>2003/06/30</td></tr><tr><td>Full-Finger Gloves, M</td><td>2003/06/30</td></tr><tr><td>Full-Finger Gloves, L</td><td>2003/06/30</td></tr></table>"
                    }
                }
            ],
            "execution_count": 50
        },
        {
            "cell_type": "code",
            "source": [
                "-- Display products with ProductCategoryID 5, 6, 7\n",
                "SELECT Name, ProductCategoryID, SellEndDate\n",
                "FROM SalesLT.Product\n",
                "WHERE ProductCategoryID in (5, 6, 7);\n",
                "\n",
                "-- Add to the previous query by also checking if SellEndDate is NULL\n",
                "SELECT Name, ProductCategoryID, SellEndDate\n",
                "FROM SalesLT.Product\n",
                "WHERE ProductCategoryID in (5, 6, 7) and SellEndDate IS NULL;\n",
                "\n",
                "-- Display product whose ProductNumber either start with 'FR' or have a ProductCategoryID 5, 6, 7\n",
                "SELECT Name, ProductNumber, ProductCategoryID\n",
                "FROM SalesLT.Product\n",
                "WHERE ProductNumber LIKE 'FR%' OR ProductCategoryID IN (5, 6, 7);"
            ],
            "metadata": {
                "azdata_cell_guid": "6e2ed691-59be-41ff-9951-f660a48fef9a"
            },
            "outputs": [
                {
                    "output_type": "display_data",
                    "data": {
                        "text/html": "(97 rows affected)"
                    },
                    "metadata": {}
                },
                {
                    "output_type": "display_data",
                    "data": {
                        "text/html": "(60 rows affected)"
                    },
                    "metadata": {}
                },
                {
                    "output_type": "display_data",
                    "data": {
                        "text/html": "(176 rows affected)"
                    },
                    "metadata": {}
                },
                {
                    "output_type": "display_data",
                    "data": {
                        "text/html": "Total execution time: 00:00:00.011"
                    },
                    "metadata": {}
                },
                {
                    "output_type": "execute_result",
                    "metadata": {},
                    "execution_count": 51,
                    "data": {
                        "application/vnd.dataresource+json": {
                            "schema": {
                                "fields": [
                                    {
                                        "name": "Name"
                                    },
                                    {
                                        "name": "ProductCategoryID"
                                    },
                                    {
                                        "name": "SellEndDate"
                                    }
                                ]
                            },
                            "data": [
                                {
                                    "0": "Road-150 Red, 62",
                                    "1": "6",
                                    "2": "2002-06-30 00:00:00.000"
                                },
                                {
                                    "0": "Road-150 Red, 44",
                                    "1": "6",
                                    "2": "2002-06-30 00:00:00.000"
                                },
                                {
                                    "0": "Road-150 Red, 48",
                                    "1": "6",
                                    "2": "2002-06-30 00:00:00.000"
                                },
                                {
                                    "0": "Road-150 Red, 52",
                                    "1": "6",
                                    "2": "2002-06-30 00:00:00.000"
                                },
                                {
                                    "0": "Road-150 Red, 56",
                                    "1": "6",
                                    "2": "2002-06-30 00:00:00.000"
                                },
                                {
                                    "0": "Road-450 Red, 58",
                                    "1": "6",
                                    "2": "2002-06-30 00:00:00.000"
                                },
                                {
                                    "0": "Road-450 Red, 60",
                                    "1": "6",
                                    "2": "2002-06-30 00:00:00.000"
                                },
                                {
                                    "0": "Road-450 Red, 44",
                                    "1": "6",
                                    "2": "2002-06-30 00:00:00.000"
                                },
                                {
                                    "0": "Road-450 Red, 48",
                                    "1": "6",
                                    "2": "2002-06-30 00:00:00.000"
                                },
                                {
                                    "0": "Road-450 Red, 52",
                                    "1": "6",
                                    "2": "2002-06-30 00:00:00.000"
                                },
                                {
                                    "0": "Road-650 Red, 58",
                                    "1": "6",
                                    "2": "2003-06-30 00:00:00.000"
                                },
                                {
                                    "0": "Road-650 Red, 60",
                                    "1": "6",
                                    "2": "2003-06-30 00:00:00.000"
                                },
                                {
                                    "0": "Road-650 Red, 62",
                                    "1": "6",
                                    "2": "2003-06-30 00:00:00.000"
                                },
                                {
                                    "0": "Road-650 Red, 44",
                                    "1": "6",
                                    "2": "2003-06-30 00:00:00.000"
                                },
                                {
                                    "0": "Road-650 Red, 48",
                                    "1": "6",
                                    "2": "2003-06-30 00:00:00.000"
                                },
                                {
                                    "0": "Road-650 Red, 52",
                                    "1": "6",
                                    "2": "2003-06-30 00:00:00.000"
                                },
                                {
                                    "0": "Road-650 Black, 58",
                                    "1": "6",
                                    "2": "2003-06-30 00:00:00.000"
                                },
                                {
                                    "0": "Road-650 Black, 60",
                                    "1": "6",
                                    "2": "2003-06-30 00:00:00.000"
                                },
                                {
                                    "0": "Road-650 Black, 62",
                                    "1": "6",
                                    "2": "2003-06-30 00:00:00.000"
                                },
                                {
                                    "0": "Road-650 Black, 44",
                                    "1": "6",
                                    "2": "2003-06-30 00:00:00.000"
                                },
                                {
                                    "0": "Road-650 Black, 48",
                                    "1": "6",
                                    "2": "2003-06-30 00:00:00.000"
                                },
                                {
                                    "0": "Road-650 Black, 52",
                                    "1": "6",
                                    "2": "2003-06-30 00:00:00.000"
                                },
                                {
                                    "0": "Mountain-100 Silver, 38",
                                    "1": "5",
                                    "2": "2002-06-30 00:00:00.000"
                                },
                                {
                                    "0": "Mountain-100 Silver, 42",
                                    "1": "5",
                                    "2": "2002-06-30 00:00:00.000"
                                },
                                {
                                    "0": "Mountain-100 Silver, 44",
                                    "1": "5",
                                    "2": "2002-06-30 00:00:00.000"
                                },
                                {
                                    "0": "Mountain-100 Silver, 48",
                                    "1": "5",
                                    "2": "2002-06-30 00:00:00.000"
                                },
                                {
                                    "0": "Mountain-100 Black, 38",
                                    "1": "5",
                                    "2": "2002-06-30 00:00:00.000"
                                },
                                {
                                    "0": "Mountain-100 Black, 42",
                                    "1": "5",
                                    "2": "2002-06-30 00:00:00.000"
                                },
                                {
                                    "0": "Mountain-100 Black, 44",
                                    "1": "5",
                                    "2": "2002-06-30 00:00:00.000"
                                },
                                {
                                    "0": "Mountain-100 Black, 48",
                                    "1": "5",
                                    "2": "2002-06-30 00:00:00.000"
                                },
                                {
                                    "0": "Mountain-200 Silver, 38",
                                    "1": "5",
                                    "2": "NULL"
                                },
                                {
                                    "0": "Mountain-200 Silver, 42",
                                    "1": "5",
                                    "2": "NULL"
                                },
                                {
                                    "0": "Mountain-200 Silver, 46",
                                    "1": "5",
                                    "2": "NULL"
                                },
                                {
                                    "0": "Mountain-200 Black, 38",
                                    "1": "5",
                                    "2": "NULL"
                                },
                                {
                                    "0": "Mountain-200 Black, 42",
                                    "1": "5",
                                    "2": "NULL"
                                },
                                {
                                    "0": "Mountain-200 Black, 46",
                                    "1": "5",
                                    "2": "NULL"
                                },
                                {
                                    "0": "Mountain-300 Black, 38",
                                    "1": "5",
                                    "2": "2003-06-30 00:00:00.000"
                                },
                                {
                                    "0": "Mountain-300 Black, 40",
                                    "1": "5",
                                    "2": "2003-06-30 00:00:00.000"
                                },
                                {
                                    "0": "Mountain-300 Black, 44",
                                    "1": "5",
                                    "2": "2003-06-30 00:00:00.000"
                                },
                                {
                                    "0": "Mountain-300 Black, 48",
                                    "1": "5",
                                    "2": "2003-06-30 00:00:00.000"
                                },
                                {
                                    "0": "Road-250 Red, 44",
                                    "1": "6",
                                    "2": "2003-06-30 00:00:00.000"
                                },
                                {
                                    "0": "Road-250 Red, 48",
                                    "1": "6",
                                    "2": "2003-06-30 00:00:00.000"
                                },
                                {
                                    "0": "Road-250 Red, 52",
                                    "1": "6",
                                    "2": "2003-06-30 00:00:00.000"
                                },
                                {
                                    "0": "Road-250 Red, 58",
                                    "1": "6",
                                    "2": "NULL"
                                },
                                {
                                    "0": "Road-250 Black, 44",
                                    "1": "6",
                                    "2": "NULL"
                                },
                                {
                                    "0": "Road-250 Black, 48",
                                    "1": "6",
                                    "2": "NULL"
                                },
                                {
                                    "0": "Road-250 Black, 52",
                                    "1": "6",
                                    "2": "NULL"
                                },
                                {
                                    "0": "Road-250 Black, 58",
                                    "1": "6",
                                    "2": "NULL"
                                },
                                {
                                    "0": "Road-550-W Yellow, 38",
                                    "1": "6",
                                    "2": "NULL"
                                },
                                {
                                    "0": "Road-550-W Yellow, 40",
                                    "1": "6",
                                    "2": "NULL"
                                },
                                {
                                    "0": "Road-550-W Yellow, 42",
                                    "1": "6",
                                    "2": "NULL"
                                },
                                {
                                    "0": "Road-550-W Yellow, 44",
                                    "1": "6",
                                    "2": "NULL"
                                },
                                {
                                    "0": "Road-550-W Yellow, 48",
                                    "1": "6",
                                    "2": "NULL"
                                },
                                {
                                    "0": "Touring-2000 Blue, 60",
                                    "1": "7",
                                    "2": "NULL"
                                },
                                {
                                    "0": "Touring-1000 Yellow, 46",
                                    "1": "7",
                                    "2": "NULL"
                                },
                                {
                                    "0": "Touring-1000 Yellow, 50",
                                    "1": "7",
                                    "2": "NULL"
                                },
                                {
                                    "0": "Touring-1000 Yellow, 54",
                                    "1": "7",
                                    "2": "NULL"
                                },
                                {
                                    "0": "Touring-1000 Yellow, 60",
                                    "1": "7",
                                    "2": "NULL"
                                },
                                {
                                    "0": "Touring-3000 Blue, 54",
                                    "1": "7",
                                    "2": "NULL"
                                },
                                {
                                    "0": "Touring-3000 Blue, 58",
                                    "1": "7",
                                    "2": "NULL"
                                },
                                {
                                    "0": "Touring-3000 Blue, 62",
                                    "1": "7",
                                    "2": "NULL"
                                },
                                {
                                    "0": "Touring-3000 Yellow, 44",
                                    "1": "7",
                                    "2": "NULL"
                                },
                                {
                                    "0": "Touring-3000 Yellow, 50",
                                    "1": "7",
                                    "2": "NULL"
                                },
                                {
                                    "0": "Touring-3000 Yellow, 54",
                                    "1": "7",
                                    "2": "NULL"
                                },
                                {
                                    "0": "Touring-3000 Yellow, 58",
                                    "1": "7",
                                    "2": "NULL"
                                },
                                {
                                    "0": "Touring-3000 Yellow, 62",
                                    "1": "7",
                                    "2": "NULL"
                                },
                                {
                                    "0": "Touring-1000 Blue, 46",
                                    "1": "7",
                                    "2": "NULL"
                                },
                                {
                                    "0": "Touring-1000 Blue, 50",
                                    "1": "7",
                                    "2": "NULL"
                                },
                                {
                                    "0": "Touring-1000 Blue, 54",
                                    "1": "7",
                                    "2": "NULL"
                                },
                                {
                                    "0": "Touring-1000 Blue, 60",
                                    "1": "7",
                                    "2": "NULL"
                                },
                                {
                                    "0": "Touring-2000 Blue, 46",
                                    "1": "7",
                                    "2": "NULL"
                                },
                                {
                                    "0": "Touring-2000 Blue, 50",
                                    "1": "7",
                                    "2": "NULL"
                                },
                                {
                                    "0": "Touring-2000 Blue, 54",
                                    "1": "7",
                                    "2": "NULL"
                                },
                                {
                                    "0": "Road-350-W Yellow, 40",
                                    "1": "6",
                                    "2": "NULL"
                                },
                                {
                                    "0": "Road-350-W Yellow, 42",
                                    "1": "6",
                                    "2": "NULL"
                                },
                                {
                                    "0": "Road-350-W Yellow, 44",
                                    "1": "6",
                                    "2": "NULL"
                                },
                                {
                                    "0": "Road-350-W Yellow, 48",
                                    "1": "6",
                                    "2": "NULL"
                                },
                                {
                                    "0": "Road-750 Black, 58",
                                    "1": "6",
                                    "2": "NULL"
                                },
                                {
                                    "0": "Touring-3000 Blue, 44",
                                    "1": "7",
                                    "2": "NULL"
                                },
                                {
                                    "0": "Touring-3000 Blue, 50",
                                    "1": "7",
                                    "2": "NULL"
                                },
                                {
                                    "0": "Mountain-400-W Silver, 38",
                                    "1": "5",
                                    "2": "NULL"
                                },
                                {
                                    "0": "Mountain-400-W Silver, 40",
                                    "1": "5",
                                    "2": "NULL"
                                },
                                {
                                    "0": "Mountain-400-W Silver, 42",
                                    "1": "5",
                                    "2": "NULL"
                                },
                                {
                                    "0": "Mountain-400-W Silver, 46",
                                    "1": "5",
                                    "2": "NULL"
                                },
                                {
                                    "0": "Mountain-500 Silver, 40",
                                    "1": "5",
                                    "2": "NULL"
                                },
                                {
                                    "0": "Mountain-500 Silver, 42",
                                    "1": "5",
                                    "2": "NULL"
                                },
                                {
                                    "0": "Mountain-500 Silver, 44",
                                    "1": "5",
                                    "2": "NULL"
                                },
                                {
                                    "0": "Mountain-500 Silver, 48",
                                    "1": "5",
                                    "2": "NULL"
                                },
                                {
                                    "0": "Mountain-500 Silver, 52",
                                    "1": "5",
                                    "2": "NULL"
                                },
                                {
                                    "0": "Mountain-500 Black, 40",
                                    "1": "5",
                                    "2": "NULL"
                                },
                                {
                                    "0": "Mountain-500 Black, 42",
                                    "1": "5",
                                    "2": "NULL"
                                },
                                {
                                    "0": "Mountain-500 Black, 44",
                                    "1": "5",
                                    "2": "NULL"
                                },
                                {
                                    "0": "Mountain-500 Black, 48",
                                    "1": "5",
                                    "2": "NULL"
                                },
                                {
                                    "0": "Mountain-500 Black, 52",
                                    "1": "5",
                                    "2": "NULL"
                                },
                                {
                                    "0": "Road-750 Black, 44",
                                    "1": "6",
                                    "2": "NULL"
                                },
                                {
                                    "0": "Road-750 Black, 48",
                                    "1": "6",
                                    "2": "NULL"
                                },
                                {
                                    "0": "Road-750 Black, 52",
                                    "1": "6",
                                    "2": "NULL"
                                }
                            ]
                        },
                        "text/html": "<table><tr><th>Name</th><th>ProductCategoryID</th><th>SellEndDate</th></tr><tr><td>Road-150 Red, 62</td><td>6</td><td>2002-06-30 00:00:00.000</td></tr><tr><td>Road-150 Red, 44</td><td>6</td><td>2002-06-30 00:00:00.000</td></tr><tr><td>Road-150 Red, 48</td><td>6</td><td>2002-06-30 00:00:00.000</td></tr><tr><td>Road-150 Red, 52</td><td>6</td><td>2002-06-30 00:00:00.000</td></tr><tr><td>Road-150 Red, 56</td><td>6</td><td>2002-06-30 00:00:00.000</td></tr><tr><td>Road-450 Red, 58</td><td>6</td><td>2002-06-30 00:00:00.000</td></tr><tr><td>Road-450 Red, 60</td><td>6</td><td>2002-06-30 00:00:00.000</td></tr><tr><td>Road-450 Red, 44</td><td>6</td><td>2002-06-30 00:00:00.000</td></tr><tr><td>Road-450 Red, 48</td><td>6</td><td>2002-06-30 00:00:00.000</td></tr><tr><td>Road-450 Red, 52</td><td>6</td><td>2002-06-30 00:00:00.000</td></tr><tr><td>Road-650 Red, 58</td><td>6</td><td>2003-06-30 00:00:00.000</td></tr><tr><td>Road-650 Red, 60</td><td>6</td><td>2003-06-30 00:00:00.000</td></tr><tr><td>Road-650 Red, 62</td><td>6</td><td>2003-06-30 00:00:00.000</td></tr><tr><td>Road-650 Red, 44</td><td>6</td><td>2003-06-30 00:00:00.000</td></tr><tr><td>Road-650 Red, 48</td><td>6</td><td>2003-06-30 00:00:00.000</td></tr><tr><td>Road-650 Red, 52</td><td>6</td><td>2003-06-30 00:00:00.000</td></tr><tr><td>Road-650 Black, 58</td><td>6</td><td>2003-06-30 00:00:00.000</td></tr><tr><td>Road-650 Black, 60</td><td>6</td><td>2003-06-30 00:00:00.000</td></tr><tr><td>Road-650 Black, 62</td><td>6</td><td>2003-06-30 00:00:00.000</td></tr><tr><td>Road-650 Black, 44</td><td>6</td><td>2003-06-30 00:00:00.000</td></tr><tr><td>Road-650 Black, 48</td><td>6</td><td>2003-06-30 00:00:00.000</td></tr><tr><td>Road-650 Black, 52</td><td>6</td><td>2003-06-30 00:00:00.000</td></tr><tr><td>Mountain-100 Silver, 38</td><td>5</td><td>2002-06-30 00:00:00.000</td></tr><tr><td>Mountain-100 Silver, 42</td><td>5</td><td>2002-06-30 00:00:00.000</td></tr><tr><td>Mountain-100 Silver, 44</td><td>5</td><td>2002-06-30 00:00:00.000</td></tr><tr><td>Mountain-100 Silver, 48</td><td>5</td><td>2002-06-30 00:00:00.000</td></tr><tr><td>Mountain-100 Black, 38</td><td>5</td><td>2002-06-30 00:00:00.000</td></tr><tr><td>Mountain-100 Black, 42</td><td>5</td><td>2002-06-30 00:00:00.000</td></tr><tr><td>Mountain-100 Black, 44</td><td>5</td><td>2002-06-30 00:00:00.000</td></tr><tr><td>Mountain-100 Black, 48</td><td>5</td><td>2002-06-30 00:00:00.000</td></tr><tr><td>Mountain-200 Silver, 38</td><td>5</td><td>NULL</td></tr><tr><td>Mountain-200 Silver, 42</td><td>5</td><td>NULL</td></tr><tr><td>Mountain-200 Silver, 46</td><td>5</td><td>NULL</td></tr><tr><td>Mountain-200 Black, 38</td><td>5</td><td>NULL</td></tr><tr><td>Mountain-200 Black, 42</td><td>5</td><td>NULL</td></tr><tr><td>Mountain-200 Black, 46</td><td>5</td><td>NULL</td></tr><tr><td>Mountain-300 Black, 38</td><td>5</td><td>2003-06-30 00:00:00.000</td></tr><tr><td>Mountain-300 Black, 40</td><td>5</td><td>2003-06-30 00:00:00.000</td></tr><tr><td>Mountain-300 Black, 44</td><td>5</td><td>2003-06-30 00:00:00.000</td></tr><tr><td>Mountain-300 Black, 48</td><td>5</td><td>2003-06-30 00:00:00.000</td></tr><tr><td>Road-250 Red, 44</td><td>6</td><td>2003-06-30 00:00:00.000</td></tr><tr><td>Road-250 Red, 48</td><td>6</td><td>2003-06-30 00:00:00.000</td></tr><tr><td>Road-250 Red, 52</td><td>6</td><td>2003-06-30 00:00:00.000</td></tr><tr><td>Road-250 Red, 58</td><td>6</td><td>NULL</td></tr><tr><td>Road-250 Black, 44</td><td>6</td><td>NULL</td></tr><tr><td>Road-250 Black, 48</td><td>6</td><td>NULL</td></tr><tr><td>Road-250 Black, 52</td><td>6</td><td>NULL</td></tr><tr><td>Road-250 Black, 58</td><td>6</td><td>NULL</td></tr><tr><td>Road-550-W Yellow, 38</td><td>6</td><td>NULL</td></tr><tr><td>Road-550-W Yellow, 40</td><td>6</td><td>NULL</td></tr><tr><td>Road-550-W Yellow, 42</td><td>6</td><td>NULL</td></tr><tr><td>Road-550-W Yellow, 44</td><td>6</td><td>NULL</td></tr><tr><td>Road-550-W Yellow, 48</td><td>6</td><td>NULL</td></tr><tr><td>Touring-2000 Blue, 60</td><td>7</td><td>NULL</td></tr><tr><td>Touring-1000 Yellow, 46</td><td>7</td><td>NULL</td></tr><tr><td>Touring-1000 Yellow, 50</td><td>7</td><td>NULL</td></tr><tr><td>Touring-1000 Yellow, 54</td><td>7</td><td>NULL</td></tr><tr><td>Touring-1000 Yellow, 60</td><td>7</td><td>NULL</td></tr><tr><td>Touring-3000 Blue, 54</td><td>7</td><td>NULL</td></tr><tr><td>Touring-3000 Blue, 58</td><td>7</td><td>NULL</td></tr><tr><td>Touring-3000 Blue, 62</td><td>7</td><td>NULL</td></tr><tr><td>Touring-3000 Yellow, 44</td><td>7</td><td>NULL</td></tr><tr><td>Touring-3000 Yellow, 50</td><td>7</td><td>NULL</td></tr><tr><td>Touring-3000 Yellow, 54</td><td>7</td><td>NULL</td></tr><tr><td>Touring-3000 Yellow, 58</td><td>7</td><td>NULL</td></tr><tr><td>Touring-3000 Yellow, 62</td><td>7</td><td>NULL</td></tr><tr><td>Touring-1000 Blue, 46</td><td>7</td><td>NULL</td></tr><tr><td>Touring-1000 Blue, 50</td><td>7</td><td>NULL</td></tr><tr><td>Touring-1000 Blue, 54</td><td>7</td><td>NULL</td></tr><tr><td>Touring-1000 Blue, 60</td><td>7</td><td>NULL</td></tr><tr><td>Touring-2000 Blue, 46</td><td>7</td><td>NULL</td></tr><tr><td>Touring-2000 Blue, 50</td><td>7</td><td>NULL</td></tr><tr><td>Touring-2000 Blue, 54</td><td>7</td><td>NULL</td></tr><tr><td>Road-350-W Yellow, 40</td><td>6</td><td>NULL</td></tr><tr><td>Road-350-W Yellow, 42</td><td>6</td><td>NULL</td></tr><tr><td>Road-350-W Yellow, 44</td><td>6</td><td>NULL</td></tr><tr><td>Road-350-W Yellow, 48</td><td>6</td><td>NULL</td></tr><tr><td>Road-750 Black, 58</td><td>6</td><td>NULL</td></tr><tr><td>Touring-3000 Blue, 44</td><td>7</td><td>NULL</td></tr><tr><td>Touring-3000 Blue, 50</td><td>7</td><td>NULL</td></tr><tr><td>Mountain-400-W Silver, 38</td><td>5</td><td>NULL</td></tr><tr><td>Mountain-400-W Silver, 40</td><td>5</td><td>NULL</td></tr><tr><td>Mountain-400-W Silver, 42</td><td>5</td><td>NULL</td></tr><tr><td>Mountain-400-W Silver, 46</td><td>5</td><td>NULL</td></tr><tr><td>Mountain-500 Silver, 40</td><td>5</td><td>NULL</td></tr><tr><td>Mountain-500 Silver, 42</td><td>5</td><td>NULL</td></tr><tr><td>Mountain-500 Silver, 44</td><td>5</td><td>NULL</td></tr><tr><td>Mountain-500 Silver, 48</td><td>5</td><td>NULL</td></tr><tr><td>Mountain-500 Silver, 52</td><td>5</td><td>NULL</td></tr><tr><td>Mountain-500 Black, 40</td><td>5</td><td>NULL</td></tr><tr><td>Mountain-500 Black, 42</td><td>5</td><td>NULL</td></tr><tr><td>Mountain-500 Black, 44</td><td>5</td><td>NULL</td></tr><tr><td>Mountain-500 Black, 48</td><td>5</td><td>NULL</td></tr><tr><td>Mountain-500 Black, 52</td><td>5</td><td>NULL</td></tr><tr><td>Road-750 Black, 44</td><td>6</td><td>NULL</td></tr><tr><td>Road-750 Black, 48</td><td>6</td><td>NULL</td></tr><tr><td>Road-750 Black, 52</td><td>6</td><td>NULL</td></tr></table>"
                    }
                },
                {
                    "output_type": "execute_result",
                    "metadata": {},
                    "execution_count": 51,
                    "data": {
                        "application/vnd.dataresource+json": {
                            "schema": {
                                "fields": [
                                    {
                                        "name": "Name"
                                    },
                                    {
                                        "name": "ProductCategoryID"
                                    },
                                    {
                                        "name": "SellEndDate"
                                    }
                                ]
                            },
                            "data": [
                                {
                                    "0": "Mountain-200 Silver, 38",
                                    "1": "5",
                                    "2": "NULL"
                                },
                                {
                                    "0": "Mountain-200 Silver, 42",
                                    "1": "5",
                                    "2": "NULL"
                                },
                                {
                                    "0": "Mountain-200 Silver, 46",
                                    "1": "5",
                                    "2": "NULL"
                                },
                                {
                                    "0": "Mountain-200 Black, 38",
                                    "1": "5",
                                    "2": "NULL"
                                },
                                {
                                    "0": "Mountain-200 Black, 42",
                                    "1": "5",
                                    "2": "NULL"
                                },
                                {
                                    "0": "Mountain-200 Black, 46",
                                    "1": "5",
                                    "2": "NULL"
                                },
                                {
                                    "0": "Road-250 Red, 58",
                                    "1": "6",
                                    "2": "NULL"
                                },
                                {
                                    "0": "Road-250 Black, 44",
                                    "1": "6",
                                    "2": "NULL"
                                },
                                {
                                    "0": "Road-250 Black, 48",
                                    "1": "6",
                                    "2": "NULL"
                                },
                                {
                                    "0": "Road-250 Black, 52",
                                    "1": "6",
                                    "2": "NULL"
                                },
                                {
                                    "0": "Road-250 Black, 58",
                                    "1": "6",
                                    "2": "NULL"
                                },
                                {
                                    "0": "Road-550-W Yellow, 38",
                                    "1": "6",
                                    "2": "NULL"
                                },
                                {
                                    "0": "Road-550-W Yellow, 40",
                                    "1": "6",
                                    "2": "NULL"
                                },
                                {
                                    "0": "Road-550-W Yellow, 42",
                                    "1": "6",
                                    "2": "NULL"
                                },
                                {
                                    "0": "Road-550-W Yellow, 44",
                                    "1": "6",
                                    "2": "NULL"
                                },
                                {
                                    "0": "Road-550-W Yellow, 48",
                                    "1": "6",
                                    "2": "NULL"
                                },
                                {
                                    "0": "Touring-2000 Blue, 60",
                                    "1": "7",
                                    "2": "NULL"
                                },
                                {
                                    "0": "Touring-1000 Yellow, 46",
                                    "1": "7",
                                    "2": "NULL"
                                },
                                {
                                    "0": "Touring-1000 Yellow, 50",
                                    "1": "7",
                                    "2": "NULL"
                                },
                                {
                                    "0": "Touring-1000 Yellow, 54",
                                    "1": "7",
                                    "2": "NULL"
                                },
                                {
                                    "0": "Touring-1000 Yellow, 60",
                                    "1": "7",
                                    "2": "NULL"
                                },
                                {
                                    "0": "Touring-3000 Blue, 54",
                                    "1": "7",
                                    "2": "NULL"
                                },
                                {
                                    "0": "Touring-3000 Blue, 58",
                                    "1": "7",
                                    "2": "NULL"
                                },
                                {
                                    "0": "Touring-3000 Blue, 62",
                                    "1": "7",
                                    "2": "NULL"
                                },
                                {
                                    "0": "Touring-3000 Yellow, 44",
                                    "1": "7",
                                    "2": "NULL"
                                },
                                {
                                    "0": "Touring-3000 Yellow, 50",
                                    "1": "7",
                                    "2": "NULL"
                                },
                                {
                                    "0": "Touring-3000 Yellow, 54",
                                    "1": "7",
                                    "2": "NULL"
                                },
                                {
                                    "0": "Touring-3000 Yellow, 58",
                                    "1": "7",
                                    "2": "NULL"
                                },
                                {
                                    "0": "Touring-3000 Yellow, 62",
                                    "1": "7",
                                    "2": "NULL"
                                },
                                {
                                    "0": "Touring-1000 Blue, 46",
                                    "1": "7",
                                    "2": "NULL"
                                },
                                {
                                    "0": "Touring-1000 Blue, 50",
                                    "1": "7",
                                    "2": "NULL"
                                },
                                {
                                    "0": "Touring-1000 Blue, 54",
                                    "1": "7",
                                    "2": "NULL"
                                },
                                {
                                    "0": "Touring-1000 Blue, 60",
                                    "1": "7",
                                    "2": "NULL"
                                },
                                {
                                    "0": "Touring-2000 Blue, 46",
                                    "1": "7",
                                    "2": "NULL"
                                },
                                {
                                    "0": "Touring-2000 Blue, 50",
                                    "1": "7",
                                    "2": "NULL"
                                },
                                {
                                    "0": "Touring-2000 Blue, 54",
                                    "1": "7",
                                    "2": "NULL"
                                },
                                {
                                    "0": "Road-350-W Yellow, 40",
                                    "1": "6",
                                    "2": "NULL"
                                },
                                {
                                    "0": "Road-350-W Yellow, 42",
                                    "1": "6",
                                    "2": "NULL"
                                },
                                {
                                    "0": "Road-350-W Yellow, 44",
                                    "1": "6",
                                    "2": "NULL"
                                },
                                {
                                    "0": "Road-350-W Yellow, 48",
                                    "1": "6",
                                    "2": "NULL"
                                },
                                {
                                    "0": "Road-750 Black, 58",
                                    "1": "6",
                                    "2": "NULL"
                                },
                                {
                                    "0": "Touring-3000 Blue, 44",
                                    "1": "7",
                                    "2": "NULL"
                                },
                                {
                                    "0": "Touring-3000 Blue, 50",
                                    "1": "7",
                                    "2": "NULL"
                                },
                                {
                                    "0": "Mountain-400-W Silver, 38",
                                    "1": "5",
                                    "2": "NULL"
                                },
                                {
                                    "0": "Mountain-400-W Silver, 40",
                                    "1": "5",
                                    "2": "NULL"
                                },
                                {
                                    "0": "Mountain-400-W Silver, 42",
                                    "1": "5",
                                    "2": "NULL"
                                },
                                {
                                    "0": "Mountain-400-W Silver, 46",
                                    "1": "5",
                                    "2": "NULL"
                                },
                                {
                                    "0": "Mountain-500 Silver, 40",
                                    "1": "5",
                                    "2": "NULL"
                                },
                                {
                                    "0": "Mountain-500 Silver, 42",
                                    "1": "5",
                                    "2": "NULL"
                                },
                                {
                                    "0": "Mountain-500 Silver, 44",
                                    "1": "5",
                                    "2": "NULL"
                                },
                                {
                                    "0": "Mountain-500 Silver, 48",
                                    "1": "5",
                                    "2": "NULL"
                                },
                                {
                                    "0": "Mountain-500 Silver, 52",
                                    "1": "5",
                                    "2": "NULL"
                                },
                                {
                                    "0": "Mountain-500 Black, 40",
                                    "1": "5",
                                    "2": "NULL"
                                },
                                {
                                    "0": "Mountain-500 Black, 42",
                                    "1": "5",
                                    "2": "NULL"
                                },
                                {
                                    "0": "Mountain-500 Black, 44",
                                    "1": "5",
                                    "2": "NULL"
                                },
                                {
                                    "0": "Mountain-500 Black, 48",
                                    "1": "5",
                                    "2": "NULL"
                                },
                                {
                                    "0": "Mountain-500 Black, 52",
                                    "1": "5",
                                    "2": "NULL"
                                },
                                {
                                    "0": "Road-750 Black, 44",
                                    "1": "6",
                                    "2": "NULL"
                                },
                                {
                                    "0": "Road-750 Black, 48",
                                    "1": "6",
                                    "2": "NULL"
                                },
                                {
                                    "0": "Road-750 Black, 52",
                                    "1": "6",
                                    "2": "NULL"
                                }
                            ]
                        },
                        "text/html": "<table><tr><th>Name</th><th>ProductCategoryID</th><th>SellEndDate</th></tr><tr><td>Mountain-200 Silver, 38</td><td>5</td><td>NULL</td></tr><tr><td>Mountain-200 Silver, 42</td><td>5</td><td>NULL</td></tr><tr><td>Mountain-200 Silver, 46</td><td>5</td><td>NULL</td></tr><tr><td>Mountain-200 Black, 38</td><td>5</td><td>NULL</td></tr><tr><td>Mountain-200 Black, 42</td><td>5</td><td>NULL</td></tr><tr><td>Mountain-200 Black, 46</td><td>5</td><td>NULL</td></tr><tr><td>Road-250 Red, 58</td><td>6</td><td>NULL</td></tr><tr><td>Road-250 Black, 44</td><td>6</td><td>NULL</td></tr><tr><td>Road-250 Black, 48</td><td>6</td><td>NULL</td></tr><tr><td>Road-250 Black, 52</td><td>6</td><td>NULL</td></tr><tr><td>Road-250 Black, 58</td><td>6</td><td>NULL</td></tr><tr><td>Road-550-W Yellow, 38</td><td>6</td><td>NULL</td></tr><tr><td>Road-550-W Yellow, 40</td><td>6</td><td>NULL</td></tr><tr><td>Road-550-W Yellow, 42</td><td>6</td><td>NULL</td></tr><tr><td>Road-550-W Yellow, 44</td><td>6</td><td>NULL</td></tr><tr><td>Road-550-W Yellow, 48</td><td>6</td><td>NULL</td></tr><tr><td>Touring-2000 Blue, 60</td><td>7</td><td>NULL</td></tr><tr><td>Touring-1000 Yellow, 46</td><td>7</td><td>NULL</td></tr><tr><td>Touring-1000 Yellow, 50</td><td>7</td><td>NULL</td></tr><tr><td>Touring-1000 Yellow, 54</td><td>7</td><td>NULL</td></tr><tr><td>Touring-1000 Yellow, 60</td><td>7</td><td>NULL</td></tr><tr><td>Touring-3000 Blue, 54</td><td>7</td><td>NULL</td></tr><tr><td>Touring-3000 Blue, 58</td><td>7</td><td>NULL</td></tr><tr><td>Touring-3000 Blue, 62</td><td>7</td><td>NULL</td></tr><tr><td>Touring-3000 Yellow, 44</td><td>7</td><td>NULL</td></tr><tr><td>Touring-3000 Yellow, 50</td><td>7</td><td>NULL</td></tr><tr><td>Touring-3000 Yellow, 54</td><td>7</td><td>NULL</td></tr><tr><td>Touring-3000 Yellow, 58</td><td>7</td><td>NULL</td></tr><tr><td>Touring-3000 Yellow, 62</td><td>7</td><td>NULL</td></tr><tr><td>Touring-1000 Blue, 46</td><td>7</td><td>NULL</td></tr><tr><td>Touring-1000 Blue, 50</td><td>7</td><td>NULL</td></tr><tr><td>Touring-1000 Blue, 54</td><td>7</td><td>NULL</td></tr><tr><td>Touring-1000 Blue, 60</td><td>7</td><td>NULL</td></tr><tr><td>Touring-2000 Blue, 46</td><td>7</td><td>NULL</td></tr><tr><td>Touring-2000 Blue, 50</td><td>7</td><td>NULL</td></tr><tr><td>Touring-2000 Blue, 54</td><td>7</td><td>NULL</td></tr><tr><td>Road-350-W Yellow, 40</td><td>6</td><td>NULL</td></tr><tr><td>Road-350-W Yellow, 42</td><td>6</td><td>NULL</td></tr><tr><td>Road-350-W Yellow, 44</td><td>6</td><td>NULL</td></tr><tr><td>Road-350-W Yellow, 48</td><td>6</td><td>NULL</td></tr><tr><td>Road-750 Black, 58</td><td>6</td><td>NULL</td></tr><tr><td>Touring-3000 Blue, 44</td><td>7</td><td>NULL</td></tr><tr><td>Touring-3000 Blue, 50</td><td>7</td><td>NULL</td></tr><tr><td>Mountain-400-W Silver, 38</td><td>5</td><td>NULL</td></tr><tr><td>Mountain-400-W Silver, 40</td><td>5</td><td>NULL</td></tr><tr><td>Mountain-400-W Silver, 42</td><td>5</td><td>NULL</td></tr><tr><td>Mountain-400-W Silver, 46</td><td>5</td><td>NULL</td></tr><tr><td>Mountain-500 Silver, 40</td><td>5</td><td>NULL</td></tr><tr><td>Mountain-500 Silver, 42</td><td>5</td><td>NULL</td></tr><tr><td>Mountain-500 Silver, 44</td><td>5</td><td>NULL</td></tr><tr><td>Mountain-500 Silver, 48</td><td>5</td><td>NULL</td></tr><tr><td>Mountain-500 Silver, 52</td><td>5</td><td>NULL</td></tr><tr><td>Mountain-500 Black, 40</td><td>5</td><td>NULL</td></tr><tr><td>Mountain-500 Black, 42</td><td>5</td><td>NULL</td></tr><tr><td>Mountain-500 Black, 44</td><td>5</td><td>NULL</td></tr><tr><td>Mountain-500 Black, 48</td><td>5</td><td>NULL</td></tr><tr><td>Mountain-500 Black, 52</td><td>5</td><td>NULL</td></tr><tr><td>Road-750 Black, 44</td><td>6</td><td>NULL</td></tr><tr><td>Road-750 Black, 48</td><td>6</td><td>NULL</td></tr><tr><td>Road-750 Black, 52</td><td>6</td><td>NULL</td></tr></table>"
                    }
                },
                {
                    "output_type": "execute_result",
                    "metadata": {},
                    "execution_count": 51,
                    "data": {
                        "application/vnd.dataresource+json": {
                            "schema": {
                                "fields": [
                                    {
                                        "name": "Name"
                                    },
                                    {
                                        "name": "ProductNumber"
                                    },
                                    {
                                        "name": "ProductCategoryID"
                                    }
                                ]
                            },
                            "data": [
                                {
                                    "0": "HL Road Frame - Black, 58",
                                    "1": "FR-R92B-58",
                                    "2": "18"
                                },
                                {
                                    "0": "HL Road Frame - Red, 58",
                                    "1": "FR-R92R-58",
                                    "2": "18"
                                },
                                {
                                    "0": "HL Road Frame - Red, 62",
                                    "1": "FR-R92R-62",
                                    "2": "18"
                                },
                                {
                                    "0": "HL Road Frame - Red, 44",
                                    "1": "FR-R92R-44",
                                    "2": "18"
                                },
                                {
                                    "0": "HL Road Frame - Red, 48",
                                    "1": "FR-R92R-48",
                                    "2": "18"
                                },
                                {
                                    "0": "HL Road Frame - Red, 52",
                                    "1": "FR-R92R-52",
                                    "2": "18"
                                },
                                {
                                    "0": "HL Road Frame - Red, 56",
                                    "1": "FR-R92R-56",
                                    "2": "18"
                                },
                                {
                                    "0": "LL Road Frame - Black, 58",
                                    "1": "FR-R38B-58",
                                    "2": "18"
                                },
                                {
                                    "0": "LL Road Frame - Black, 60",
                                    "1": "FR-R38B-60",
                                    "2": "18"
                                },
                                {
                                    "0": "LL Road Frame - Black, 62",
                                    "1": "FR-R38B-62",
                                    "2": "18"
                                },
                                {
                                    "0": "LL Road Frame - Red, 44",
                                    "1": "FR-R38R-44",
                                    "2": "18"
                                },
                                {
                                    "0": "LL Road Frame - Red, 48",
                                    "1": "FR-R38R-48",
                                    "2": "18"
                                },
                                {
                                    "0": "LL Road Frame - Red, 52",
                                    "1": "FR-R38R-52",
                                    "2": "18"
                                },
                                {
                                    "0": "LL Road Frame - Red, 58",
                                    "1": "FR-R38R-58",
                                    "2": "18"
                                },
                                {
                                    "0": "LL Road Frame - Red, 60",
                                    "1": "FR-R38R-60",
                                    "2": "18"
                                },
                                {
                                    "0": "LL Road Frame - Red, 62",
                                    "1": "FR-R38R-62",
                                    "2": "18"
                                },
                                {
                                    "0": "ML Road Frame - Red, 44",
                                    "1": "FR-R72R-44",
                                    "2": "18"
                                },
                                {
                                    "0": "ML Road Frame - Red, 48",
                                    "1": "FR-R72R-48",
                                    "2": "18"
                                },
                                {
                                    "0": "ML Road Frame - Red, 52",
                                    "1": "FR-R72R-52",
                                    "2": "18"
                                },
                                {
                                    "0": "ML Road Frame - Red, 58",
                                    "1": "FR-R72R-58",
                                    "2": "18"
                                },
                                {
                                    "0": "ML Road Frame - Red, 60",
                                    "1": "FR-R72R-60",
                                    "2": "18"
                                },
                                {
                                    "0": "LL Road Frame - Black, 44",
                                    "1": "FR-R38B-44",
                                    "2": "18"
                                },
                                {
                                    "0": "LL Road Frame - Black, 48",
                                    "1": "FR-R38B-48",
                                    "2": "18"
                                },
                                {
                                    "0": "LL Road Frame - Black, 52",
                                    "1": "FR-R38B-52",
                                    "2": "18"
                                },
                                {
                                    "0": "HL Mountain Frame - Silver, 42",
                                    "1": "FR-M94S-42",
                                    "2": "16"
                                },
                                {
                                    "0": "HL Mountain Frame - Silver, 44",
                                    "1": "FR-M94S-44",
                                    "2": "16"
                                },
                                {
                                    "0": "HL Mountain Frame - Silver, 48",
                                    "1": "FR-M94S-52",
                                    "2": "16"
                                },
                                {
                                    "0": "HL Mountain Frame - Silver, 46",
                                    "1": "FR-M94S-46",
                                    "2": "16"
                                },
                                {
                                    "0": "HL Mountain Frame - Black, 42",
                                    "1": "FR-M94B-42",
                                    "2": "16"
                                },
                                {
                                    "0": "HL Mountain Frame - Black, 44",
                                    "1": "FR-M94B-44",
                                    "2": "16"
                                },
                                {
                                    "0": "HL Mountain Frame - Black, 48",
                                    "1": "FR-M94B-48",
                                    "2": "16"
                                },
                                {
                                    "0": "HL Mountain Frame - Black, 46",
                                    "1": "FR-M94B-46",
                                    "2": "16"
                                },
                                {
                                    "0": "HL Mountain Frame - Black, 38",
                                    "1": "FR-M94B-38",
                                    "2": "16"
                                },
                                {
                                    "0": "HL Mountain Frame - Silver, 38",
                                    "1": "FR-M94S-38",
                                    "2": "16"
                                },
                                {
                                    "0": "Road-150 Red, 62",
                                    "1": "BK-R93R-62",
                                    "2": "6"
                                },
                                {
                                    "0": "Road-150 Red, 44",
                                    "1": "BK-R93R-44",
                                    "2": "6"
                                },
                                {
                                    "0": "Road-150 Red, 48",
                                    "1": "BK-R93R-48",
                                    "2": "6"
                                },
                                {
                                    "0": "Road-150 Red, 52",
                                    "1": "BK-R93R-52",
                                    "2": "6"
                                },
                                {
                                    "0": "Road-150 Red, 56",
                                    "1": "BK-R93R-56",
                                    "2": "6"
                                },
                                {
                                    "0": "Road-450 Red, 58",
                                    "1": "BK-R68R-58",
                                    "2": "6"
                                },
                                {
                                    "0": "Road-450 Red, 60",
                                    "1": "BK-R68R-60",
                                    "2": "6"
                                },
                                {
                                    "0": "Road-450 Red, 44",
                                    "1": "BK-R68R-44",
                                    "2": "6"
                                },
                                {
                                    "0": "Road-450 Red, 48",
                                    "1": "BK-R68R-48",
                                    "2": "6"
                                },
                                {
                                    "0": "Road-450 Red, 52",
                                    "1": "BK-R68R-52",
                                    "2": "6"
                                },
                                {
                                    "0": "Road-650 Red, 58",
                                    "1": "BK-R50R-58",
                                    "2": "6"
                                },
                                {
                                    "0": "Road-650 Red, 60",
                                    "1": "BK-R50R-60",
                                    "2": "6"
                                },
                                {
                                    "0": "Road-650 Red, 62",
                                    "1": "BK-R50R-62",
                                    "2": "6"
                                },
                                {
                                    "0": "Road-650 Red, 44",
                                    "1": "BK-R50R-44",
                                    "2": "6"
                                },
                                {
                                    "0": "Road-650 Red, 48",
                                    "1": "BK-R50R-48",
                                    "2": "6"
                                },
                                {
                                    "0": "Road-650 Red, 52",
                                    "1": "BK-R50R-52",
                                    "2": "6"
                                },
                                {
                                    "0": "Road-650 Black, 58",
                                    "1": "BK-R50B-58",
                                    "2": "6"
                                },
                                {
                                    "0": "Road-650 Black, 60",
                                    "1": "BK-R50B-60",
                                    "2": "6"
                                },
                                {
                                    "0": "Road-650 Black, 62",
                                    "1": "BK-R50B-62",
                                    "2": "6"
                                },
                                {
                                    "0": "Road-650 Black, 44",
                                    "1": "BK-R50B-44",
                                    "2": "6"
                                },
                                {
                                    "0": "Road-650 Black, 48",
                                    "1": "BK-R50B-48",
                                    "2": "6"
                                },
                                {
                                    "0": "Road-650 Black, 52",
                                    "1": "BK-R50B-52",
                                    "2": "6"
                                },
                                {
                                    "0": "Mountain-100 Silver, 38",
                                    "1": "BK-M82S-38",
                                    "2": "5"
                                },
                                {
                                    "0": "Mountain-100 Silver, 42",
                                    "1": "BK-M82S-42",
                                    "2": "5"
                                },
                                {
                                    "0": "Mountain-100 Silver, 44",
                                    "1": "BK-M82S-44",
                                    "2": "5"
                                },
                                {
                                    "0": "Mountain-100 Silver, 48",
                                    "1": "BK-M82S-48",
                                    "2": "5"
                                },
                                {
                                    "0": "Mountain-100 Black, 38",
                                    "1": "BK-M82B-38",
                                    "2": "5"
                                },
                                {
                                    "0": "Mountain-100 Black, 42",
                                    "1": "BK-M82B-42",
                                    "2": "5"
                                },
                                {
                                    "0": "Mountain-100 Black, 44",
                                    "1": "BK-M82B-44",
                                    "2": "5"
                                },
                                {
                                    "0": "Mountain-100 Black, 48",
                                    "1": "BK-M82B-48",
                                    "2": "5"
                                },
                                {
                                    "0": "Mountain-200 Silver, 38",
                                    "1": "BK-M68S-38",
                                    "2": "5"
                                },
                                {
                                    "0": "Mountain-200 Silver, 42",
                                    "1": "BK-M68S-42",
                                    "2": "5"
                                },
                                {
                                    "0": "Mountain-200 Silver, 46",
                                    "1": "BK-M68S-46",
                                    "2": "5"
                                },
                                {
                                    "0": "Mountain-200 Black, 38",
                                    "1": "BK-M68B-38",
                                    "2": "5"
                                },
                                {
                                    "0": "Mountain-200 Black, 42",
                                    "1": "BK-M68B-42",
                                    "2": "5"
                                },
                                {
                                    "0": "Mountain-200 Black, 46",
                                    "1": "BK-M68B-46",
                                    "2": "5"
                                },
                                {
                                    "0": "Mountain-300 Black, 38",
                                    "1": "BK-M47B-38",
                                    "2": "5"
                                },
                                {
                                    "0": "Mountain-300 Black, 40",
                                    "1": "BK-M47B-40",
                                    "2": "5"
                                },
                                {
                                    "0": "Mountain-300 Black, 44",
                                    "1": "BK-M47B-44",
                                    "2": "5"
                                },
                                {
                                    "0": "Mountain-300 Black, 48",
                                    "1": "BK-M47B-48",
                                    "2": "5"
                                },
                                {
                                    "0": "Road-250 Red, 44",
                                    "1": "BK-R89R-44",
                                    "2": "6"
                                },
                                {
                                    "0": "Road-250 Red, 48",
                                    "1": "BK-R89R-48",
                                    "2": "6"
                                },
                                {
                                    "0": "Road-250 Red, 52",
                                    "1": "BK-R89R-52",
                                    "2": "6"
                                },
                                {
                                    "0": "Road-250 Red, 58",
                                    "1": "BK-R89R-58",
                                    "2": "6"
                                },
                                {
                                    "0": "Road-250 Black, 44",
                                    "1": "BK-R89B-44",
                                    "2": "6"
                                },
                                {
                                    "0": "Road-250 Black, 48",
                                    "1": "BK-R89B-48",
                                    "2": "6"
                                },
                                {
                                    "0": "Road-250 Black, 52",
                                    "1": "BK-R89B-52",
                                    "2": "6"
                                },
                                {
                                    "0": "Road-250 Black, 58",
                                    "1": "BK-R89B-58",
                                    "2": "6"
                                },
                                {
                                    "0": "Road-550-W Yellow, 38",
                                    "1": "BK-R64Y-38",
                                    "2": "6"
                                },
                                {
                                    "0": "Road-550-W Yellow, 40",
                                    "1": "BK-R64Y-40",
                                    "2": "6"
                                },
                                {
                                    "0": "Road-550-W Yellow, 42",
                                    "1": "BK-R64Y-42",
                                    "2": "6"
                                },
                                {
                                    "0": "Road-550-W Yellow, 44",
                                    "1": "BK-R64Y-44",
                                    "2": "6"
                                },
                                {
                                    "0": "Road-550-W Yellow, 48",
                                    "1": "BK-R64Y-48",
                                    "2": "6"
                                },
                                {
                                    "0": "ML Mountain Frame - Black, 38",
                                    "1": "FR-M63B-38",
                                    "2": "16"
                                },
                                {
                                    "0": "ML Road Frame-W - Yellow, 38",
                                    "1": "FR-R72Y-38",
                                    "2": "18"
                                },
                                {
                                    "0": "ML Mountain Frame - Black, 40",
                                    "1": "FR-M63B-40",
                                    "2": "16"
                                },
                                {
                                    "0": "ML Mountain Frame - Black, 44",
                                    "1": "FR-M63B-44",
                                    "2": "16"
                                },
                                {
                                    "0": "ML Mountain Frame - Black, 48",
                                    "1": "FR-M63B-48",
                                    "2": "16"
                                },
                                {
                                    "0": "ML Road Frame-W - Yellow, 40",
                                    "1": "FR-R72Y-40",
                                    "2": "18"
                                },
                                {
                                    "0": "ML Road Frame-W - Yellow, 42",
                                    "1": "FR-R72Y-42",
                                    "2": "18"
                                },
                                {
                                    "0": "ML Road Frame-W - Yellow, 44",
                                    "1": "FR-R72Y-44",
                                    "2": "18"
                                },
                                {
                                    "0": "ML Road Frame-W - Yellow, 48",
                                    "1": "FR-R72Y-48",
                                    "2": "18"
                                },
                                {
                                    "0": "HL Road Frame - Black, 62",
                                    "1": "FR-R92B-62",
                                    "2": "18"
                                },
                                {
                                    "0": "HL Road Frame - Black, 44",
                                    "1": "FR-R92B-44",
                                    "2": "18"
                                },
                                {
                                    "0": "HL Road Frame - Black, 48",
                                    "1": "FR-R92B-48",
                                    "2": "18"
                                },
                                {
                                    "0": "HL Road Frame - Black, 52",
                                    "1": "FR-R92B-52",
                                    "2": "18"
                                },
                                {
                                    "0": "HL Touring Frame - Yellow, 60",
                                    "1": "FR-T98Y-60",
                                    "2": "20"
                                },
                                {
                                    "0": "LL Touring Frame - Yellow, 62",
                                    "1": "FR-T67Y-62",
                                    "2": "20"
                                },
                                {
                                    "0": "HL Touring Frame - Yellow, 46",
                                    "1": "FR-T98Y-46",
                                    "2": "20"
                                },
                                {
                                    "0": "HL Touring Frame - Yellow, 50",
                                    "1": "FR-T98Y-50",
                                    "2": "20"
                                },
                                {
                                    "0": "HL Touring Frame - Yellow, 54",
                                    "1": "FR-T98Y-54",
                                    "2": "20"
                                },
                                {
                                    "0": "HL Touring Frame - Blue, 46",
                                    "1": "FR-T98U-46",
                                    "2": "20"
                                },
                                {
                                    "0": "HL Touring Frame - Blue, 50",
                                    "1": "FR-T98U-50",
                                    "2": "20"
                                },
                                {
                                    "0": "HL Touring Frame - Blue, 54",
                                    "1": "FR-T98U-54",
                                    "2": "20"
                                },
                                {
                                    "0": "HL Touring Frame - Blue, 60",
                                    "1": "FR-T98U-60",
                                    "2": "20"
                                },
                                {
                                    "0": "LL Touring Frame - Blue, 50",
                                    "1": "FR-T67U-50",
                                    "2": "20"
                                },
                                {
                                    "0": "LL Touring Frame - Blue, 54",
                                    "1": "FR-T67U-54",
                                    "2": "20"
                                },
                                {
                                    "0": "LL Touring Frame - Blue, 58",
                                    "1": "FR-T67U-58",
                                    "2": "20"
                                },
                                {
                                    "0": "LL Touring Frame - Blue, 62",
                                    "1": "FR-T67U-62",
                                    "2": "20"
                                },
                                {
                                    "0": "LL Touring Frame - Yellow, 44",
                                    "1": "FR-T67Y-44",
                                    "2": "20"
                                },
                                {
                                    "0": "LL Touring Frame - Yellow, 50",
                                    "1": "FR-T67Y-50",
                                    "2": "20"
                                },
                                {
                                    "0": "LL Touring Frame - Yellow, 54",
                                    "1": "FR-T67Y-54",
                                    "2": "20"
                                },
                                {
                                    "0": "LL Touring Frame - Yellow, 58",
                                    "1": "FR-T67Y-58",
                                    "2": "20"
                                },
                                {
                                    "0": "LL Touring Frame - Blue, 44",
                                    "1": "FR-T67U-44",
                                    "2": "20"
                                },
                                {
                                    "0": "ML Mountain Frame-W - Silver, 40",
                                    "1": "FR-M63S-40",
                                    "2": "16"
                                },
                                {
                                    "0": "ML Mountain Frame-W - Silver, 42",
                                    "1": "FR-M63S-42",
                                    "2": "16"
                                },
                                {
                                    "0": "ML Mountain Frame-W - Silver, 46",
                                    "1": "FR-M63S-46",
                                    "2": "16"
                                },
                                {
                                    "0": "LL Mountain Frame - Silver, 42",
                                    "1": "FR-M21S-42",
                                    "2": "16"
                                },
                                {
                                    "0": "LL Mountain Frame - Silver, 44",
                                    "1": "FR-M21S-44",
                                    "2": "16"
                                },
                                {
                                    "0": "LL Mountain Frame - Silver, 48",
                                    "1": "FR-M21S-48",
                                    "2": "16"
                                },
                                {
                                    "0": "LL Mountain Frame - Silver, 52",
                                    "1": "FR-M21S-52",
                                    "2": "16"
                                },
                                {
                                    "0": "LL Mountain Frame - Black, 42",
                                    "1": "FR-M21B-42",
                                    "2": "16"
                                },
                                {
                                    "0": "LL Mountain Frame - Black, 44",
                                    "1": "FR-M21B-44",
                                    "2": "16"
                                },
                                {
                                    "0": "LL Mountain Frame - Black, 48",
                                    "1": "FR-M21B-48",
                                    "2": "16"
                                },
                                {
                                    "0": "LL Mountain Frame - Black, 52",
                                    "1": "FR-M21B-52",
                                    "2": "16"
                                },
                                {
                                    "0": "ML Mountain Frame-W - Silver, 38",
                                    "1": "FR-M63S-38",
                                    "2": "16"
                                },
                                {
                                    "0": "LL Mountain Frame - Black, 40",
                                    "1": "FR-M21B-40",
                                    "2": "16"
                                },
                                {
                                    "0": "LL Mountain Frame - Silver, 40",
                                    "1": "FR-M21S-40",
                                    "2": "16"
                                },
                                {
                                    "0": "Touring-2000 Blue, 60",
                                    "1": "BK-T44U-60",
                                    "2": "7"
                                },
                                {
                                    "0": "Touring-1000 Yellow, 46",
                                    "1": "BK-T79Y-46",
                                    "2": "7"
                                },
                                {
                                    "0": "Touring-1000 Yellow, 50",
                                    "1": "BK-T79Y-50",
                                    "2": "7"
                                },
                                {
                                    "0": "Touring-1000 Yellow, 54",
                                    "1": "BK-T79Y-54",
                                    "2": "7"
                                },
                                {
                                    "0": "Touring-1000 Yellow, 60",
                                    "1": "BK-T79Y-60",
                                    "2": "7"
                                },
                                {
                                    "0": "Touring-3000 Blue, 54",
                                    "1": "BK-T18U-54",
                                    "2": "7"
                                },
                                {
                                    "0": "Touring-3000 Blue, 58",
                                    "1": "BK-T18U-58",
                                    "2": "7"
                                },
                                {
                                    "0": "Touring-3000 Blue, 62",
                                    "1": "BK-T18U-62",
                                    "2": "7"
                                },
                                {
                                    "0": "Touring-3000 Yellow, 44",
                                    "1": "BK-T18Y-44",
                                    "2": "7"
                                },
                                {
                                    "0": "Touring-3000 Yellow, 50",
                                    "1": "BK-T18Y-50",
                                    "2": "7"
                                },
                                {
                                    "0": "Touring-3000 Yellow, 54",
                                    "1": "BK-T18Y-54",
                                    "2": "7"
                                },
                                {
                                    "0": "Touring-3000 Yellow, 58",
                                    "1": "BK-T18Y-58",
                                    "2": "7"
                                },
                                {
                                    "0": "Touring-3000 Yellow, 62",
                                    "1": "BK-T18Y-62",
                                    "2": "7"
                                },
                                {
                                    "0": "Touring-1000 Blue, 46",
                                    "1": "BK-T79U-46",
                                    "2": "7"
                                },
                                {
                                    "0": "Touring-1000 Blue, 50",
                                    "1": "BK-T79U-50",
                                    "2": "7"
                                },
                                {
                                    "0": "Touring-1000 Blue, 54",
                                    "1": "BK-T79U-54",
                                    "2": "7"
                                },
                                {
                                    "0": "Touring-1000 Blue, 60",
                                    "1": "BK-T79U-60",
                                    "2": "7"
                                },
                                {
                                    "0": "Touring-2000 Blue, 46",
                                    "1": "BK-T44U-46",
                                    "2": "7"
                                },
                                {
                                    "0": "Touring-2000 Blue, 50",
                                    "1": "BK-T44U-50",
                                    "2": "7"
                                },
                                {
                                    "0": "Touring-2000 Blue, 54",
                                    "1": "BK-T44U-54",
                                    "2": "7"
                                },
                                {
                                    "0": "Road-350-W Yellow, 40",
                                    "1": "BK-R79Y-40",
                                    "2": "6"
                                },
                                {
                                    "0": "Road-350-W Yellow, 42",
                                    "1": "BK-R79Y-42",
                                    "2": "6"
                                },
                                {
                                    "0": "Road-350-W Yellow, 44",
                                    "1": "BK-R79Y-44",
                                    "2": "6"
                                },
                                {
                                    "0": "Road-350-W Yellow, 48",
                                    "1": "BK-R79Y-48",
                                    "2": "6"
                                },
                                {
                                    "0": "Road-750 Black, 58",
                                    "1": "BK-R19B-58",
                                    "2": "6"
                                },
                                {
                                    "0": "Touring-3000 Blue, 44",
                                    "1": "BK-T18U-44",
                                    "2": "7"
                                },
                                {
                                    "0": "Touring-3000 Blue, 50",
                                    "1": "BK-T18U-50",
                                    "2": "7"
                                },
                                {
                                    "0": "Mountain-400-W Silver, 38",
                                    "1": "BK-M38S-38",
                                    "2": "5"
                                },
                                {
                                    "0": "Mountain-400-W Silver, 40",
                                    "1": "BK-M38S-40",
                                    "2": "5"
                                },
                                {
                                    "0": "Mountain-400-W Silver, 42",
                                    "1": "BK-M38S-42",
                                    "2": "5"
                                },
                                {
                                    "0": "Mountain-400-W Silver, 46",
                                    "1": "BK-M38S-46",
                                    "2": "5"
                                },
                                {
                                    "0": "Mountain-500 Silver, 40",
                                    "1": "BK-M18S-40",
                                    "2": "5"
                                },
                                {
                                    "0": "Mountain-500 Silver, 42",
                                    "1": "BK-M18S-42",
                                    "2": "5"
                                },
                                {
                                    "0": "Mountain-500 Silver, 44",
                                    "1": "BK-M18S-44",
                                    "2": "5"
                                },
                                {
                                    "0": "Mountain-500 Silver, 48",
                                    "1": "BK-M18S-48",
                                    "2": "5"
                                },
                                {
                                    "0": "Mountain-500 Silver, 52",
                                    "1": "BK-M18S-52",
                                    "2": "5"
                                },
                                {
                                    "0": "Mountain-500 Black, 40",
                                    "1": "BK-M18B-40",
                                    "2": "5"
                                },
                                {
                                    "0": "Mountain-500 Black, 42",
                                    "1": "BK-M18B-42",
                                    "2": "5"
                                },
                                {
                                    "0": "Mountain-500 Black, 44",
                                    "1": "BK-M18B-44",
                                    "2": "5"
                                },
                                {
                                    "0": "Mountain-500 Black, 48",
                                    "1": "BK-M18B-48",
                                    "2": "5"
                                },
                                {
                                    "0": "Mountain-500 Black, 52",
                                    "1": "BK-M18B-52",
                                    "2": "5"
                                },
                                {
                                    "0": "Road-750 Black, 44",
                                    "1": "BK-R19B-44",
                                    "2": "6"
                                },
                                {
                                    "0": "Road-750 Black, 48",
                                    "1": "BK-R19B-48",
                                    "2": "6"
                                },
                                {
                                    "0": "Road-750 Black, 52",
                                    "1": "BK-R19B-52",
                                    "2": "6"
                                }
                            ]
                        },
                        "text/html": "<table><tr><th>Name</th><th>ProductNumber</th><th>ProductCategoryID</th></tr><tr><td>HL Road Frame - Black, 58</td><td>FR-R92B-58</td><td>18</td></tr><tr><td>HL Road Frame - Red, 58</td><td>FR-R92R-58</td><td>18</td></tr><tr><td>HL Road Frame - Red, 62</td><td>FR-R92R-62</td><td>18</td></tr><tr><td>HL Road Frame - Red, 44</td><td>FR-R92R-44</td><td>18</td></tr><tr><td>HL Road Frame - Red, 48</td><td>FR-R92R-48</td><td>18</td></tr><tr><td>HL Road Frame - Red, 52</td><td>FR-R92R-52</td><td>18</td></tr><tr><td>HL Road Frame - Red, 56</td><td>FR-R92R-56</td><td>18</td></tr><tr><td>LL Road Frame - Black, 58</td><td>FR-R38B-58</td><td>18</td></tr><tr><td>LL Road Frame - Black, 60</td><td>FR-R38B-60</td><td>18</td></tr><tr><td>LL Road Frame - Black, 62</td><td>FR-R38B-62</td><td>18</td></tr><tr><td>LL Road Frame - Red, 44</td><td>FR-R38R-44</td><td>18</td></tr><tr><td>LL Road Frame - Red, 48</td><td>FR-R38R-48</td><td>18</td></tr><tr><td>LL Road Frame - Red, 52</td><td>FR-R38R-52</td><td>18</td></tr><tr><td>LL Road Frame - Red, 58</td><td>FR-R38R-58</td><td>18</td></tr><tr><td>LL Road Frame - Red, 60</td><td>FR-R38R-60</td><td>18</td></tr><tr><td>LL Road Frame - Red, 62</td><td>FR-R38R-62</td><td>18</td></tr><tr><td>ML Road Frame - Red, 44</td><td>FR-R72R-44</td><td>18</td></tr><tr><td>ML Road Frame - Red, 48</td><td>FR-R72R-48</td><td>18</td></tr><tr><td>ML Road Frame - Red, 52</td><td>FR-R72R-52</td><td>18</td></tr><tr><td>ML Road Frame - Red, 58</td><td>FR-R72R-58</td><td>18</td></tr><tr><td>ML Road Frame - Red, 60</td><td>FR-R72R-60</td><td>18</td></tr><tr><td>LL Road Frame - Black, 44</td><td>FR-R38B-44</td><td>18</td></tr><tr><td>LL Road Frame - Black, 48</td><td>FR-R38B-48</td><td>18</td></tr><tr><td>LL Road Frame - Black, 52</td><td>FR-R38B-52</td><td>18</td></tr><tr><td>HL Mountain Frame - Silver, 42</td><td>FR-M94S-42</td><td>16</td></tr><tr><td>HL Mountain Frame - Silver, 44</td><td>FR-M94S-44</td><td>16</td></tr><tr><td>HL Mountain Frame - Silver, 48</td><td>FR-M94S-52</td><td>16</td></tr><tr><td>HL Mountain Frame - Silver, 46</td><td>FR-M94S-46</td><td>16</td></tr><tr><td>HL Mountain Frame - Black, 42</td><td>FR-M94B-42</td><td>16</td></tr><tr><td>HL Mountain Frame - Black, 44</td><td>FR-M94B-44</td><td>16</td></tr><tr><td>HL Mountain Frame - Black, 48</td><td>FR-M94B-48</td><td>16</td></tr><tr><td>HL Mountain Frame - Black, 46</td><td>FR-M94B-46</td><td>16</td></tr><tr><td>HL Mountain Frame - Black, 38</td><td>FR-M94B-38</td><td>16</td></tr><tr><td>HL Mountain Frame - Silver, 38</td><td>FR-M94S-38</td><td>16</td></tr><tr><td>Road-150 Red, 62</td><td>BK-R93R-62</td><td>6</td></tr><tr><td>Road-150 Red, 44</td><td>BK-R93R-44</td><td>6</td></tr><tr><td>Road-150 Red, 48</td><td>BK-R93R-48</td><td>6</td></tr><tr><td>Road-150 Red, 52</td><td>BK-R93R-52</td><td>6</td></tr><tr><td>Road-150 Red, 56</td><td>BK-R93R-56</td><td>6</td></tr><tr><td>Road-450 Red, 58</td><td>BK-R68R-58</td><td>6</td></tr><tr><td>Road-450 Red, 60</td><td>BK-R68R-60</td><td>6</td></tr><tr><td>Road-450 Red, 44</td><td>BK-R68R-44</td><td>6</td></tr><tr><td>Road-450 Red, 48</td><td>BK-R68R-48</td><td>6</td></tr><tr><td>Road-450 Red, 52</td><td>BK-R68R-52</td><td>6</td></tr><tr><td>Road-650 Red, 58</td><td>BK-R50R-58</td><td>6</td></tr><tr><td>Road-650 Red, 60</td><td>BK-R50R-60</td><td>6</td></tr><tr><td>Road-650 Red, 62</td><td>BK-R50R-62</td><td>6</td></tr><tr><td>Road-650 Red, 44</td><td>BK-R50R-44</td><td>6</td></tr><tr><td>Road-650 Red, 48</td><td>BK-R50R-48</td><td>6</td></tr><tr><td>Road-650 Red, 52</td><td>BK-R50R-52</td><td>6</td></tr><tr><td>Road-650 Black, 58</td><td>BK-R50B-58</td><td>6</td></tr><tr><td>Road-650 Black, 60</td><td>BK-R50B-60</td><td>6</td></tr><tr><td>Road-650 Black, 62</td><td>BK-R50B-62</td><td>6</td></tr><tr><td>Road-650 Black, 44</td><td>BK-R50B-44</td><td>6</td></tr><tr><td>Road-650 Black, 48</td><td>BK-R50B-48</td><td>6</td></tr><tr><td>Road-650 Black, 52</td><td>BK-R50B-52</td><td>6</td></tr><tr><td>Mountain-100 Silver, 38</td><td>BK-M82S-38</td><td>5</td></tr><tr><td>Mountain-100 Silver, 42</td><td>BK-M82S-42</td><td>5</td></tr><tr><td>Mountain-100 Silver, 44</td><td>BK-M82S-44</td><td>5</td></tr><tr><td>Mountain-100 Silver, 48</td><td>BK-M82S-48</td><td>5</td></tr><tr><td>Mountain-100 Black, 38</td><td>BK-M82B-38</td><td>5</td></tr><tr><td>Mountain-100 Black, 42</td><td>BK-M82B-42</td><td>5</td></tr><tr><td>Mountain-100 Black, 44</td><td>BK-M82B-44</td><td>5</td></tr><tr><td>Mountain-100 Black, 48</td><td>BK-M82B-48</td><td>5</td></tr><tr><td>Mountain-200 Silver, 38</td><td>BK-M68S-38</td><td>5</td></tr><tr><td>Mountain-200 Silver, 42</td><td>BK-M68S-42</td><td>5</td></tr><tr><td>Mountain-200 Silver, 46</td><td>BK-M68S-46</td><td>5</td></tr><tr><td>Mountain-200 Black, 38</td><td>BK-M68B-38</td><td>5</td></tr><tr><td>Mountain-200 Black, 42</td><td>BK-M68B-42</td><td>5</td></tr><tr><td>Mountain-200 Black, 46</td><td>BK-M68B-46</td><td>5</td></tr><tr><td>Mountain-300 Black, 38</td><td>BK-M47B-38</td><td>5</td></tr><tr><td>Mountain-300 Black, 40</td><td>BK-M47B-40</td><td>5</td></tr><tr><td>Mountain-300 Black, 44</td><td>BK-M47B-44</td><td>5</td></tr><tr><td>Mountain-300 Black, 48</td><td>BK-M47B-48</td><td>5</td></tr><tr><td>Road-250 Red, 44</td><td>BK-R89R-44</td><td>6</td></tr><tr><td>Road-250 Red, 48</td><td>BK-R89R-48</td><td>6</td></tr><tr><td>Road-250 Red, 52</td><td>BK-R89R-52</td><td>6</td></tr><tr><td>Road-250 Red, 58</td><td>BK-R89R-58</td><td>6</td></tr><tr><td>Road-250 Black, 44</td><td>BK-R89B-44</td><td>6</td></tr><tr><td>Road-250 Black, 48</td><td>BK-R89B-48</td><td>6</td></tr><tr><td>Road-250 Black, 52</td><td>BK-R89B-52</td><td>6</td></tr><tr><td>Road-250 Black, 58</td><td>BK-R89B-58</td><td>6</td></tr><tr><td>Road-550-W Yellow, 38</td><td>BK-R64Y-38</td><td>6</td></tr><tr><td>Road-550-W Yellow, 40</td><td>BK-R64Y-40</td><td>6</td></tr><tr><td>Road-550-W Yellow, 42</td><td>BK-R64Y-42</td><td>6</td></tr><tr><td>Road-550-W Yellow, 44</td><td>BK-R64Y-44</td><td>6</td></tr><tr><td>Road-550-W Yellow, 48</td><td>BK-R64Y-48</td><td>6</td></tr><tr><td>ML Mountain Frame - Black, 38</td><td>FR-M63B-38</td><td>16</td></tr><tr><td>ML Road Frame-W - Yellow, 38</td><td>FR-R72Y-38</td><td>18</td></tr><tr><td>ML Mountain Frame - Black, 40</td><td>FR-M63B-40</td><td>16</td></tr><tr><td>ML Mountain Frame - Black, 44</td><td>FR-M63B-44</td><td>16</td></tr><tr><td>ML Mountain Frame - Black, 48</td><td>FR-M63B-48</td><td>16</td></tr><tr><td>ML Road Frame-W - Yellow, 40</td><td>FR-R72Y-40</td><td>18</td></tr><tr><td>ML Road Frame-W - Yellow, 42</td><td>FR-R72Y-42</td><td>18</td></tr><tr><td>ML Road Frame-W - Yellow, 44</td><td>FR-R72Y-44</td><td>18</td></tr><tr><td>ML Road Frame-W - Yellow, 48</td><td>FR-R72Y-48</td><td>18</td></tr><tr><td>HL Road Frame - Black, 62</td><td>FR-R92B-62</td><td>18</td></tr><tr><td>HL Road Frame - Black, 44</td><td>FR-R92B-44</td><td>18</td></tr><tr><td>HL Road Frame - Black, 48</td><td>FR-R92B-48</td><td>18</td></tr><tr><td>HL Road Frame - Black, 52</td><td>FR-R92B-52</td><td>18</td></tr><tr><td>HL Touring Frame - Yellow, 60</td><td>FR-T98Y-60</td><td>20</td></tr><tr><td>LL Touring Frame - Yellow, 62</td><td>FR-T67Y-62</td><td>20</td></tr><tr><td>HL Touring Frame - Yellow, 46</td><td>FR-T98Y-46</td><td>20</td></tr><tr><td>HL Touring Frame - Yellow, 50</td><td>FR-T98Y-50</td><td>20</td></tr><tr><td>HL Touring Frame - Yellow, 54</td><td>FR-T98Y-54</td><td>20</td></tr><tr><td>HL Touring Frame - Blue, 46</td><td>FR-T98U-46</td><td>20</td></tr><tr><td>HL Touring Frame - Blue, 50</td><td>FR-T98U-50</td><td>20</td></tr><tr><td>HL Touring Frame - Blue, 54</td><td>FR-T98U-54</td><td>20</td></tr><tr><td>HL Touring Frame - Blue, 60</td><td>FR-T98U-60</td><td>20</td></tr><tr><td>LL Touring Frame - Blue, 50</td><td>FR-T67U-50</td><td>20</td></tr><tr><td>LL Touring Frame - Blue, 54</td><td>FR-T67U-54</td><td>20</td></tr><tr><td>LL Touring Frame - Blue, 58</td><td>FR-T67U-58</td><td>20</td></tr><tr><td>LL Touring Frame - Blue, 62</td><td>FR-T67U-62</td><td>20</td></tr><tr><td>LL Touring Frame - Yellow, 44</td><td>FR-T67Y-44</td><td>20</td></tr><tr><td>LL Touring Frame - Yellow, 50</td><td>FR-T67Y-50</td><td>20</td></tr><tr><td>LL Touring Frame - Yellow, 54</td><td>FR-T67Y-54</td><td>20</td></tr><tr><td>LL Touring Frame - Yellow, 58</td><td>FR-T67Y-58</td><td>20</td></tr><tr><td>LL Touring Frame - Blue, 44</td><td>FR-T67U-44</td><td>20</td></tr><tr><td>ML Mountain Frame-W - Silver, 40</td><td>FR-M63S-40</td><td>16</td></tr><tr><td>ML Mountain Frame-W - Silver, 42</td><td>FR-M63S-42</td><td>16</td></tr><tr><td>ML Mountain Frame-W - Silver, 46</td><td>FR-M63S-46</td><td>16</td></tr><tr><td>LL Mountain Frame - Silver, 42</td><td>FR-M21S-42</td><td>16</td></tr><tr><td>LL Mountain Frame - Silver, 44</td><td>FR-M21S-44</td><td>16</td></tr><tr><td>LL Mountain Frame - Silver, 48</td><td>FR-M21S-48</td><td>16</td></tr><tr><td>LL Mountain Frame - Silver, 52</td><td>FR-M21S-52</td><td>16</td></tr><tr><td>LL Mountain Frame - Black, 42</td><td>FR-M21B-42</td><td>16</td></tr><tr><td>LL Mountain Frame - Black, 44</td><td>FR-M21B-44</td><td>16</td></tr><tr><td>LL Mountain Frame - Black, 48</td><td>FR-M21B-48</td><td>16</td></tr><tr><td>LL Mountain Frame - Black, 52</td><td>FR-M21B-52</td><td>16</td></tr><tr><td>ML Mountain Frame-W - Silver, 38</td><td>FR-M63S-38</td><td>16</td></tr><tr><td>LL Mountain Frame - Black, 40</td><td>FR-M21B-40</td><td>16</td></tr><tr><td>LL Mountain Frame - Silver, 40</td><td>FR-M21S-40</td><td>16</td></tr><tr><td>Touring-2000 Blue, 60</td><td>BK-T44U-60</td><td>7</td></tr><tr><td>Touring-1000 Yellow, 46</td><td>BK-T79Y-46</td><td>7</td></tr><tr><td>Touring-1000 Yellow, 50</td><td>BK-T79Y-50</td><td>7</td></tr><tr><td>Touring-1000 Yellow, 54</td><td>BK-T79Y-54</td><td>7</td></tr><tr><td>Touring-1000 Yellow, 60</td><td>BK-T79Y-60</td><td>7</td></tr><tr><td>Touring-3000 Blue, 54</td><td>BK-T18U-54</td><td>7</td></tr><tr><td>Touring-3000 Blue, 58</td><td>BK-T18U-58</td><td>7</td></tr><tr><td>Touring-3000 Blue, 62</td><td>BK-T18U-62</td><td>7</td></tr><tr><td>Touring-3000 Yellow, 44</td><td>BK-T18Y-44</td><td>7</td></tr><tr><td>Touring-3000 Yellow, 50</td><td>BK-T18Y-50</td><td>7</td></tr><tr><td>Touring-3000 Yellow, 54</td><td>BK-T18Y-54</td><td>7</td></tr><tr><td>Touring-3000 Yellow, 58</td><td>BK-T18Y-58</td><td>7</td></tr><tr><td>Touring-3000 Yellow, 62</td><td>BK-T18Y-62</td><td>7</td></tr><tr><td>Touring-1000 Blue, 46</td><td>BK-T79U-46</td><td>7</td></tr><tr><td>Touring-1000 Blue, 50</td><td>BK-T79U-50</td><td>7</td></tr><tr><td>Touring-1000 Blue, 54</td><td>BK-T79U-54</td><td>7</td></tr><tr><td>Touring-1000 Blue, 60</td><td>BK-T79U-60</td><td>7</td></tr><tr><td>Touring-2000 Blue, 46</td><td>BK-T44U-46</td><td>7</td></tr><tr><td>Touring-2000 Blue, 50</td><td>BK-T44U-50</td><td>7</td></tr><tr><td>Touring-2000 Blue, 54</td><td>BK-T44U-54</td><td>7</td></tr><tr><td>Road-350-W Yellow, 40</td><td>BK-R79Y-40</td><td>6</td></tr><tr><td>Road-350-W Yellow, 42</td><td>BK-R79Y-42</td><td>6</td></tr><tr><td>Road-350-W Yellow, 44</td><td>BK-R79Y-44</td><td>6</td></tr><tr><td>Road-350-W Yellow, 48</td><td>BK-R79Y-48</td><td>6</td></tr><tr><td>Road-750 Black, 58</td><td>BK-R19B-58</td><td>6</td></tr><tr><td>Touring-3000 Blue, 44</td><td>BK-T18U-44</td><td>7</td></tr><tr><td>Touring-3000 Blue, 50</td><td>BK-T18U-50</td><td>7</td></tr><tr><td>Mountain-400-W Silver, 38</td><td>BK-M38S-38</td><td>5</td></tr><tr><td>Mountain-400-W Silver, 40</td><td>BK-M38S-40</td><td>5</td></tr><tr><td>Mountain-400-W Silver, 42</td><td>BK-M38S-42</td><td>5</td></tr><tr><td>Mountain-400-W Silver, 46</td><td>BK-M38S-46</td><td>5</td></tr><tr><td>Mountain-500 Silver, 40</td><td>BK-M18S-40</td><td>5</td></tr><tr><td>Mountain-500 Silver, 42</td><td>BK-M18S-42</td><td>5</td></tr><tr><td>Mountain-500 Silver, 44</td><td>BK-M18S-44</td><td>5</td></tr><tr><td>Mountain-500 Silver, 48</td><td>BK-M18S-48</td><td>5</td></tr><tr><td>Mountain-500 Silver, 52</td><td>BK-M18S-52</td><td>5</td></tr><tr><td>Mountain-500 Black, 40</td><td>BK-M18B-40</td><td>5</td></tr><tr><td>Mountain-500 Black, 42</td><td>BK-M18B-42</td><td>5</td></tr><tr><td>Mountain-500 Black, 44</td><td>BK-M18B-44</td><td>5</td></tr><tr><td>Mountain-500 Black, 48</td><td>BK-M18B-48</td><td>5</td></tr><tr><td>Mountain-500 Black, 52</td><td>BK-M18B-52</td><td>5</td></tr><tr><td>Road-750 Black, 44</td><td>BK-R19B-44</td><td>6</td></tr><tr><td>Road-750 Black, 48</td><td>BK-R19B-48</td><td>6</td></tr><tr><td>Road-750 Black, 52</td><td>BK-R19B-52</td><td>6</td></tr></table>"
                    }
                }
            ],
            "execution_count": 51
        }
    ]
}