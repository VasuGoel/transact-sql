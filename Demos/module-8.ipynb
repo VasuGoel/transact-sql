{
    "metadata": {
        "kernelspec": {
            "name": "SQL",
            "display_name": "SQL",
            "language": "sql"
        },
        "language_info": {
            "name": "sql",
            "version": ""
        }
    },
    "nbformat_minor": 2,
    "nbformat": 4,
    "cells": [
        {
            "cell_type": "markdown",
            "source": [
                "# Grouping Sets"
            ],
            "metadata": {
                "azdata_cell_guid": "ad09504b-1a5a-4cc5-a094-819de7173eca"
            }
        },
        {
            "cell_type": "code",
            "source": [
                "SELECT gac.ParentProductCategoryName, gac.ProductCategoryName, COUNT(p.ProductID) AS Products\n",
                "FROM SalesLT.Product AS p\n",
                "JOIN SalesLT.vGetAllCategories AS gac \n",
                "ON p.ProductCategoryID = gac.ProductCategoryID\n",
                "GROUP BY gac.ParentProductCategoryName, gac.ProductCategoryName \n",
                "-- GROUP BY GROUPING SETS(gac.ParentProductCategoryName, gac.ProductCategoryName, ())   -- Grouping sets are used to define custom groupings\n",
                "-- GROUP BY ROLLUP(gac.ParentProductCategoryName, gac.ProductCategoryName)  -- ROLLUP includes subtotals and a grand total for hierarchical groupings\n",
                "-- GROUP BY CUBE(gac.ParentProductCategoryName, gac.ProductCategoryName)   -- CUBE includes all possible groupings\n",
                "ORDER BY gac.ParentProductCategoryName, gac.ProductCategoryName"
            ],
            "metadata": {
                "azdata_cell_guid": "29f8e640-58f3-44e7-a5da-39292833e2c9"
            },
            "outputs": [
                {
                    "output_type": "display_data",
                    "data": {
                        "text/html": "(37 rows affected)"
                    },
                    "metadata": {}
                },
                {
                    "output_type": "display_data",
                    "data": {
                        "text/html": "Total execution time: 00:00:00.013"
                    },
                    "metadata": {}
                },
                {
                    "output_type": "execute_result",
                    "metadata": {},
                    "execution_count": 11,
                    "data": {
                        "application/vnd.dataresource+json": {
                            "schema": {
                                "fields": [
                                    {
                                        "name": "ParentProductCategoryName"
                                    },
                                    {
                                        "name": "ProductCategoryName"
                                    },
                                    {
                                        "name": "Products"
                                    }
                                ]
                            },
                            "data": [
                                {
                                    "0": "Accessories",
                                    "1": "Bike Racks",
                                    "2": "1"
                                },
                                {
                                    "0": "Accessories",
                                    "1": "Bike Stands",
                                    "2": "1"
                                },
                                {
                                    "0": "Accessories",
                                    "1": "Bottles and Cages",
                                    "2": "3"
                                },
                                {
                                    "0": "Accessories",
                                    "1": "Cleaners",
                                    "2": "1"
                                },
                                {
                                    "0": "Accessories",
                                    "1": "Fenders",
                                    "2": "1"
                                },
                                {
                                    "0": "Accessories",
                                    "1": "Helmets",
                                    "2": "3"
                                },
                                {
                                    "0": "Accessories",
                                    "1": "Hydration Packs",
                                    "2": "1"
                                },
                                {
                                    "0": "Accessories",
                                    "1": "Lights",
                                    "2": "3"
                                },
                                {
                                    "0": "Accessories",
                                    "1": "Locks",
                                    "2": "1"
                                },
                                {
                                    "0": "Accessories",
                                    "1": "Panniers",
                                    "2": "1"
                                },
                                {
                                    "0": "Accessories",
                                    "1": "Pumps",
                                    "2": "2"
                                },
                                {
                                    "0": "Accessories",
                                    "1": "Tires and Tubes",
                                    "2": "11"
                                },
                                {
                                    "0": "Bikes",
                                    "1": "Mountain Bikes",
                                    "2": "32"
                                },
                                {
                                    "0": "Bikes",
                                    "1": "Road Bikes",
                                    "2": "43"
                                },
                                {
                                    "0": "Bikes",
                                    "1": "Touring Bikes",
                                    "2": "22"
                                },
                                {
                                    "0": "Clothing",
                                    "1": "Bib-Shorts",
                                    "2": "3"
                                },
                                {
                                    "0": "Clothing",
                                    "1": "Caps",
                                    "2": "1"
                                },
                                {
                                    "0": "Clothing",
                                    "1": "Gloves",
                                    "2": "6"
                                },
                                {
                                    "0": "Clothing",
                                    "1": "Jerseys",
                                    "2": "8"
                                },
                                {
                                    "0": "Clothing",
                                    "1": "Shorts",
                                    "2": "7"
                                },
                                {
                                    "0": "Clothing",
                                    "1": "Socks",
                                    "2": "4"
                                },
                                {
                                    "0": "Clothing",
                                    "1": "Tights",
                                    "2": "3"
                                },
                                {
                                    "0": "Clothing",
                                    "1": "Vests",
                                    "2": "3"
                                },
                                {
                                    "0": "Components",
                                    "1": "Bottom Brackets",
                                    "2": "3"
                                },
                                {
                                    "0": "Components",
                                    "1": "Brakes",
                                    "2": "2"
                                },
                                {
                                    "0": "Components",
                                    "1": "Chains",
                                    "2": "1"
                                },
                                {
                                    "0": "Components",
                                    "1": "Cranksets",
                                    "2": "3"
                                },
                                {
                                    "0": "Components",
                                    "1": "Derailleurs",
                                    "2": "2"
                                },
                                {
                                    "0": "Components",
                                    "1": "Forks",
                                    "2": "3"
                                },
                                {
                                    "0": "Components",
                                    "1": "Handlebars",
                                    "2": "8"
                                },
                                {
                                    "0": "Components",
                                    "1": "Headsets",
                                    "2": "3"
                                },
                                {
                                    "0": "Components",
                                    "1": "Mountain Frames",
                                    "2": "28"
                                },
                                {
                                    "0": "Components",
                                    "1": "Pedals",
                                    "2": "7"
                                },
                                {
                                    "0": "Components",
                                    "1": "Road Frames",
                                    "2": "33"
                                },
                                {
                                    "0": "Components",
                                    "1": "Saddles",
                                    "2": "9"
                                },
                                {
                                    "0": "Components",
                                    "1": "Touring Frames",
                                    "2": "18"
                                },
                                {
                                    "0": "Components",
                                    "1": "Wheels",
                                    "2": "14"
                                }
                            ]
                        },
                        "text/html": "<table><tr><th>ParentProductCategoryName</th><th>ProductCategoryName</th><th>Products</th></tr><tr><td>Accessories</td><td>Bike Racks</td><td>1</td></tr><tr><td>Accessories</td><td>Bike Stands</td><td>1</td></tr><tr><td>Accessories</td><td>Bottles and Cages</td><td>3</td></tr><tr><td>Accessories</td><td>Cleaners</td><td>1</td></tr><tr><td>Accessories</td><td>Fenders</td><td>1</td></tr><tr><td>Accessories</td><td>Helmets</td><td>3</td></tr><tr><td>Accessories</td><td>Hydration Packs</td><td>1</td></tr><tr><td>Accessories</td><td>Lights</td><td>3</td></tr><tr><td>Accessories</td><td>Locks</td><td>1</td></tr><tr><td>Accessories</td><td>Panniers</td><td>1</td></tr><tr><td>Accessories</td><td>Pumps</td><td>2</td></tr><tr><td>Accessories</td><td>Tires and Tubes</td><td>11</td></tr><tr><td>Bikes</td><td>Mountain Bikes</td><td>32</td></tr><tr><td>Bikes</td><td>Road Bikes</td><td>43</td></tr><tr><td>Bikes</td><td>Touring Bikes</td><td>22</td></tr><tr><td>Clothing</td><td>Bib-Shorts</td><td>3</td></tr><tr><td>Clothing</td><td>Caps</td><td>1</td></tr><tr><td>Clothing</td><td>Gloves</td><td>6</td></tr><tr><td>Clothing</td><td>Jerseys</td><td>8</td></tr><tr><td>Clothing</td><td>Shorts</td><td>7</td></tr><tr><td>Clothing</td><td>Socks</td><td>4</td></tr><tr><td>Clothing</td><td>Tights</td><td>3</td></tr><tr><td>Clothing</td><td>Vests</td><td>3</td></tr><tr><td>Components</td><td>Bottom Brackets</td><td>3</td></tr><tr><td>Components</td><td>Brakes</td><td>2</td></tr><tr><td>Components</td><td>Chains</td><td>1</td></tr><tr><td>Components</td><td>Cranksets</td><td>3</td></tr><tr><td>Components</td><td>Derailleurs</td><td>2</td></tr><tr><td>Components</td><td>Forks</td><td>3</td></tr><tr><td>Components</td><td>Handlebars</td><td>8</td></tr><tr><td>Components</td><td>Headsets</td><td>3</td></tr><tr><td>Components</td><td>Mountain Frames</td><td>28</td></tr><tr><td>Components</td><td>Pedals</td><td>7</td></tr><tr><td>Components</td><td>Road Frames</td><td>33</td></tr><tr><td>Components</td><td>Saddles</td><td>9</td></tr><tr><td>Components</td><td>Touring Frames</td><td>18</td></tr><tr><td>Components</td><td>Wheels</td><td>14</td></tr></table>"
                    }
                }
            ],
            "execution_count": 11
        },
        {
            "cell_type": "markdown",
            "source": [
                "# Pivoting Data"
            ],
            "metadata": {
                "azdata_cell_guid": "919bff57-18ad-4abb-b3d1-44d057f3761e"
            }
        },
        {
            "cell_type": "code",
            "source": [
                "SELECT * FROM (\n",
                "    SELECT p.ProductID, pc.Name AS Category, ISNULL(p.Color, 'Uncolored') AS Color\n",
                "    FROM SalesLT.Product AS p\n",
                "    JOIN SalesLT.ProductCategory AS pc \n",
                "    ON p.ProductCategoryID = pc.ProductCategoryID\n",
                ") AS ProdCats\n",
                "PIVOT (COUNT(ProductID) FOR Color IN ([Black], [Blue], [Grey], [Red], [Silver], [Silver/Black], [White], [Yellow], [Multi], [Uncolored])) AS PivotTable\n",
                "ORDER BY Category"
            ],
            "metadata": {
                "azdata_cell_guid": "08618fe6-3c42-4c6e-a7ba-3aa678d39266"
            },
            "outputs": [
                {
                    "output_type": "display_data",
                    "data": {
                        "text/html": "(37 rows affected)"
                    },
                    "metadata": {}
                },
                {
                    "output_type": "display_data",
                    "data": {
                        "text/html": "Total execution time: 00:00:00.007"
                    },
                    "metadata": {}
                },
                {
                    "output_type": "execute_result",
                    "metadata": {},
                    "execution_count": 43,
                    "data": {
                        "application/vnd.dataresource+json": {
                            "schema": {
                                "fields": [
                                    {
                                        "name": "Category"
                                    },
                                    {
                                        "name": "Black"
                                    },
                                    {
                                        "name": "Blue"
                                    },
                                    {
                                        "name": "Grey"
                                    },
                                    {
                                        "name": "Red"
                                    },
                                    {
                                        "name": "Silver"
                                    },
                                    {
                                        "name": "Silver/Black"
                                    },
                                    {
                                        "name": "White"
                                    },
                                    {
                                        "name": "Yellow"
                                    },
                                    {
                                        "name": "Multi"
                                    },
                                    {
                                        "name": "Uncolored"
                                    }
                                ]
                            },
                            "data": [
                                {
                                    "0": "Bib-Shorts",
                                    "1": "0",
                                    "2": "0",
                                    "3": "0",
                                    "4": "0",
                                    "5": "0",
                                    "6": "0",
                                    "7": "0",
                                    "8": "0",
                                    "9": "3",
                                    "10": "0"
                                },
                                {
                                    "0": "Bike Racks",
                                    "1": "0",
                                    "2": "0",
                                    "3": "0",
                                    "4": "0",
                                    "5": "0",
                                    "6": "0",
                                    "7": "0",
                                    "8": "0",
                                    "9": "0",
                                    "10": "1"
                                },
                                {
                                    "0": "Bike Stands",
                                    "1": "0",
                                    "2": "0",
                                    "3": "0",
                                    "4": "0",
                                    "5": "0",
                                    "6": "0",
                                    "7": "0",
                                    "8": "0",
                                    "9": "0",
                                    "10": "1"
                                },
                                {
                                    "0": "Bottles and Cages",
                                    "1": "0",
                                    "2": "0",
                                    "3": "0",
                                    "4": "0",
                                    "5": "0",
                                    "6": "0",
                                    "7": "0",
                                    "8": "0",
                                    "9": "0",
                                    "10": "3"
                                },
                                {
                                    "0": "Bottom Brackets",
                                    "1": "0",
                                    "2": "0",
                                    "3": "0",
                                    "4": "0",
                                    "5": "0",
                                    "6": "0",
                                    "7": "0",
                                    "8": "0",
                                    "9": "0",
                                    "10": "3"
                                },
                                {
                                    "0": "Brakes",
                                    "1": "0",
                                    "2": "0",
                                    "3": "0",
                                    "4": "0",
                                    "5": "2",
                                    "6": "0",
                                    "7": "0",
                                    "8": "0",
                                    "9": "0",
                                    "10": "0"
                                },
                                {
                                    "0": "Caps",
                                    "1": "0",
                                    "2": "0",
                                    "3": "0",
                                    "4": "0",
                                    "5": "0",
                                    "6": "0",
                                    "7": "0",
                                    "8": "0",
                                    "9": "1",
                                    "10": "0"
                                },
                                {
                                    "0": "Chains",
                                    "1": "0",
                                    "2": "0",
                                    "3": "0",
                                    "4": "0",
                                    "5": "1",
                                    "6": "0",
                                    "7": "0",
                                    "8": "0",
                                    "9": "0",
                                    "10": "0"
                                },
                                {
                                    "0": "Cleaners",
                                    "1": "0",
                                    "2": "0",
                                    "3": "0",
                                    "4": "0",
                                    "5": "0",
                                    "6": "0",
                                    "7": "0",
                                    "8": "0",
                                    "9": "0",
                                    "10": "1"
                                },
                                {
                                    "0": "Cranksets",
                                    "1": "3",
                                    "2": "0",
                                    "3": "0",
                                    "4": "0",
                                    "5": "0",
                                    "6": "0",
                                    "7": "0",
                                    "8": "0",
                                    "9": "0",
                                    "10": "0"
                                },
                                {
                                    "0": "Derailleurs",
                                    "1": "0",
                                    "2": "0",
                                    "3": "0",
                                    "4": "0",
                                    "5": "2",
                                    "6": "0",
                                    "7": "0",
                                    "8": "0",
                                    "9": "0",
                                    "10": "0"
                                },
                                {
                                    "0": "Fenders",
                                    "1": "0",
                                    "2": "0",
                                    "3": "0",
                                    "4": "0",
                                    "5": "0",
                                    "6": "0",
                                    "7": "0",
                                    "8": "0",
                                    "9": "0",
                                    "10": "1"
                                },
                                {
                                    "0": "Forks",
                                    "1": "0",
                                    "2": "0",
                                    "3": "0",
                                    "4": "0",
                                    "5": "0",
                                    "6": "0",
                                    "7": "0",
                                    "8": "0",
                                    "9": "0",
                                    "10": "3"
                                },
                                {
                                    "0": "Gloves",
                                    "1": "6",
                                    "2": "0",
                                    "3": "0",
                                    "4": "0",
                                    "5": "0",
                                    "6": "0",
                                    "7": "0",
                                    "8": "0",
                                    "9": "0",
                                    "10": "0"
                                },
                                {
                                    "0": "Handlebars",
                                    "1": "0",
                                    "2": "0",
                                    "3": "0",
                                    "4": "0",
                                    "5": "0",
                                    "6": "0",
                                    "7": "0",
                                    "8": "0",
                                    "9": "0",
                                    "10": "8"
                                },
                                {
                                    "0": "Headsets",
                                    "1": "0",
                                    "2": "0",
                                    "3": "0",
                                    "4": "0",
                                    "5": "0",
                                    "6": "0",
                                    "7": "0",
                                    "8": "0",
                                    "9": "0",
                                    "10": "3"
                                },
                                {
                                    "0": "Helmets",
                                    "1": "1",
                                    "2": "1",
                                    "3": "0",
                                    "4": "1",
                                    "5": "0",
                                    "6": "0",
                                    "7": "0",
                                    "8": "0",
                                    "9": "0",
                                    "10": "0"
                                },
                                {
                                    "0": "Hydration Packs",
                                    "1": "0",
                                    "2": "0",
                                    "3": "0",
                                    "4": "0",
                                    "5": "1",
                                    "6": "0",
                                    "7": "0",
                                    "8": "0",
                                    "9": "0",
                                    "10": "0"
                                },
                                {
                                    "0": "Jerseys",
                                    "1": "0",
                                    "2": "0",
                                    "3": "0",
                                    "4": "0",
                                    "5": "0",
                                    "6": "0",
                                    "7": "0",
                                    "8": "4",
                                    "9": "4",
                                    "10": "0"
                                },
                                {
                                    "0": "Lights",
                                    "1": "0",
                                    "2": "0",
                                    "3": "0",
                                    "4": "0",
                                    "5": "0",
                                    "6": "0",
                                    "7": "0",
                                    "8": "0",
                                    "9": "0",
                                    "10": "3"
                                },
                                {
                                    "0": "Locks",
                                    "1": "0",
                                    "2": "0",
                                    "3": "0",
                                    "4": "0",
                                    "5": "0",
                                    "6": "0",
                                    "7": "0",
                                    "8": "0",
                                    "9": "0",
                                    "10": "1"
                                },
                                {
                                    "0": "Mountain Bikes",
                                    "1": "16",
                                    "2": "0",
                                    "3": "0",
                                    "4": "0",
                                    "5": "16",
                                    "6": "0",
                                    "7": "0",
                                    "8": "0",
                                    "9": "0",
                                    "10": "0"
                                },
                                {
                                    "0": "Mountain Frames",
                                    "1": "14",
                                    "2": "0",
                                    "3": "0",
                                    "4": "0",
                                    "5": "14",
                                    "6": "0",
                                    "7": "0",
                                    "8": "0",
                                    "9": "0",
                                    "10": "0"
                                },
                                {
                                    "0": "Panniers",
                                    "1": "0",
                                    "2": "0",
                                    "3": "1",
                                    "4": "0",
                                    "5": "0",
                                    "6": "0",
                                    "7": "0",
                                    "8": "0",
                                    "9": "0",
                                    "10": "0"
                                },
                                {
                                    "0": "Pedals",
                                    "1": "0",
                                    "2": "0",
                                    "3": "0",
                                    "4": "0",
                                    "5": "0",
                                    "6": "7",
                                    "7": "0",
                                    "8": "0",
                                    "9": "0",
                                    "10": "0"
                                },
                                {
                                    "0": "Pumps",
                                    "1": "0",
                                    "2": "0",
                                    "3": "0",
                                    "4": "0",
                                    "5": "0",
                                    "6": "0",
                                    "7": "0",
                                    "8": "0",
                                    "9": "0",
                                    "10": "2"
                                },
                                {
                                    "0": "Road Bikes",
                                    "1": "14",
                                    "2": "0",
                                    "3": "0",
                                    "4": "20",
                                    "5": "0",
                                    "6": "0",
                                    "7": "0",
                                    "8": "9",
                                    "9": "0",
                                    "10": "0"
                                },
                                {
                                    "0": "Road Frames",
                                    "1": "11",
                                    "2": "0",
                                    "3": "0",
                                    "4": "17",
                                    "5": "0",
                                    "6": "0",
                                    "7": "0",
                                    "8": "5",
                                    "9": "0",
                                    "10": "0"
                                },
                                {
                                    "0": "Saddles",
                                    "1": "0",
                                    "2": "0",
                                    "3": "0",
                                    "4": "0",
                                    "5": "0",
                                    "6": "0",
                                    "7": "0",
                                    "8": "0",
                                    "9": "0",
                                    "10": "9"
                                },
                                {
                                    "0": "Shorts",
                                    "1": "7",
                                    "2": "0",
                                    "3": "0",
                                    "4": "0",
                                    "5": "0",
                                    "6": "0",
                                    "7": "0",
                                    "8": "0",
                                    "9": "0",
                                    "10": "0"
                                },
                                {
                                    "0": "Socks",
                                    "1": "0",
                                    "2": "0",
                                    "3": "0",
                                    "4": "0",
                                    "5": "0",
                                    "6": "0",
                                    "7": "4",
                                    "8": "0",
                                    "9": "0",
                                    "10": "0"
                                },
                                {
                                    "0": "Tights",
                                    "1": "3",
                                    "2": "0",
                                    "3": "0",
                                    "4": "0",
                                    "5": "0",
                                    "6": "0",
                                    "7": "0",
                                    "8": "0",
                                    "9": "0",
                                    "10": "0"
                                },
                                {
                                    "0": "Tires and Tubes",
                                    "1": "0",
                                    "2": "0",
                                    "3": "0",
                                    "4": "0",
                                    "5": "0",
                                    "6": "0",
                                    "7": "0",
                                    "8": "0",
                                    "9": "0",
                                    "10": "11"
                                },
                                {
                                    "0": "Touring Bikes",
                                    "1": "0",
                                    "2": "13",
                                    "3": "0",
                                    "4": "0",
                                    "5": "0",
                                    "6": "0",
                                    "7": "0",
                                    "8": "9",
                                    "9": "0",
                                    "10": "0"
                                },
                                {
                                    "0": "Touring Frames",
                                    "1": "0",
                                    "2": "9",
                                    "3": "0",
                                    "4": "0",
                                    "5": "0",
                                    "6": "0",
                                    "7": "0",
                                    "8": "9",
                                    "9": "0",
                                    "10": "0"
                                },
                                {
                                    "0": "Vests",
                                    "1": "0",
                                    "2": "3",
                                    "3": "0",
                                    "4": "0",
                                    "5": "0",
                                    "6": "0",
                                    "7": "0",
                                    "8": "0",
                                    "9": "0",
                                    "10": "0"
                                },
                                {
                                    "0": "Wheels",
                                    "1": "14",
                                    "2": "0",
                                    "3": "0",
                                    "4": "0",
                                    "5": "0",
                                    "6": "0",
                                    "7": "0",
                                    "8": "0",
                                    "9": "0",
                                    "10": "0"
                                }
                            ]
                        },
                        "text/html": "<table><tr><th>Category</th><th>Black</th><th>Blue</th><th>Grey</th><th>Red</th><th>Silver</th><th>Silver/Black</th><th>White</th><th>Yellow</th><th>Multi</th><th>Uncolored</th></tr><tr><td>Bib-Shorts</td><td>0</td><td>0</td><td>0</td><td>0</td><td>0</td><td>0</td><td>0</td><td>0</td><td>3</td><td>0</td></tr><tr><td>Bike Racks</td><td>0</td><td>0</td><td>0</td><td>0</td><td>0</td><td>0</td><td>0</td><td>0</td><td>0</td><td>1</td></tr><tr><td>Bike Stands</td><td>0</td><td>0</td><td>0</td><td>0</td><td>0</td><td>0</td><td>0</td><td>0</td><td>0</td><td>1</td></tr><tr><td>Bottles and Cages</td><td>0</td><td>0</td><td>0</td><td>0</td><td>0</td><td>0</td><td>0</td><td>0</td><td>0</td><td>3</td></tr><tr><td>Bottom Brackets</td><td>0</td><td>0</td><td>0</td><td>0</td><td>0</td><td>0</td><td>0</td><td>0</td><td>0</td><td>3</td></tr><tr><td>Brakes</td><td>0</td><td>0</td><td>0</td><td>0</td><td>2</td><td>0</td><td>0</td><td>0</td><td>0</td><td>0</td></tr><tr><td>Caps</td><td>0</td><td>0</td><td>0</td><td>0</td><td>0</td><td>0</td><td>0</td><td>0</td><td>1</td><td>0</td></tr><tr><td>Chains</td><td>0</td><td>0</td><td>0</td><td>0</td><td>1</td><td>0</td><td>0</td><td>0</td><td>0</td><td>0</td></tr><tr><td>Cleaners</td><td>0</td><td>0</td><td>0</td><td>0</td><td>0</td><td>0</td><td>0</td><td>0</td><td>0</td><td>1</td></tr><tr><td>Cranksets</td><td>3</td><td>0</td><td>0</td><td>0</td><td>0</td><td>0</td><td>0</td><td>0</td><td>0</td><td>0</td></tr><tr><td>Derailleurs</td><td>0</td><td>0</td><td>0</td><td>0</td><td>2</td><td>0</td><td>0</td><td>0</td><td>0</td><td>0</td></tr><tr><td>Fenders</td><td>0</td><td>0</td><td>0</td><td>0</td><td>0</td><td>0</td><td>0</td><td>0</td><td>0</td><td>1</td></tr><tr><td>Forks</td><td>0</td><td>0</td><td>0</td><td>0</td><td>0</td><td>0</td><td>0</td><td>0</td><td>0</td><td>3</td></tr><tr><td>Gloves</td><td>6</td><td>0</td><td>0</td><td>0</td><td>0</td><td>0</td><td>0</td><td>0</td><td>0</td><td>0</td></tr><tr><td>Handlebars</td><td>0</td><td>0</td><td>0</td><td>0</td><td>0</td><td>0</td><td>0</td><td>0</td><td>0</td><td>8</td></tr><tr><td>Headsets</td><td>0</td><td>0</td><td>0</td><td>0</td><td>0</td><td>0</td><td>0</td><td>0</td><td>0</td><td>3</td></tr><tr><td>Helmets</td><td>1</td><td>1</td><td>0</td><td>1</td><td>0</td><td>0</td><td>0</td><td>0</td><td>0</td><td>0</td></tr><tr><td>Hydration Packs</td><td>0</td><td>0</td><td>0</td><td>0</td><td>1</td><td>0</td><td>0</td><td>0</td><td>0</td><td>0</td></tr><tr><td>Jerseys</td><td>0</td><td>0</td><td>0</td><td>0</td><td>0</td><td>0</td><td>0</td><td>4</td><td>4</td><td>0</td></tr><tr><td>Lights</td><td>0</td><td>0</td><td>0</td><td>0</td><td>0</td><td>0</td><td>0</td><td>0</td><td>0</td><td>3</td></tr><tr><td>Locks</td><td>0</td><td>0</td><td>0</td><td>0</td><td>0</td><td>0</td><td>0</td><td>0</td><td>0</td><td>1</td></tr><tr><td>Mountain Bikes</td><td>16</td><td>0</td><td>0</td><td>0</td><td>16</td><td>0</td><td>0</td><td>0</td><td>0</td><td>0</td></tr><tr><td>Mountain Frames</td><td>14</td><td>0</td><td>0</td><td>0</td><td>14</td><td>0</td><td>0</td><td>0</td><td>0</td><td>0</td></tr><tr><td>Panniers</td><td>0</td><td>0</td><td>1</td><td>0</td><td>0</td><td>0</td><td>0</td><td>0</td><td>0</td><td>0</td></tr><tr><td>Pedals</td><td>0</td><td>0</td><td>0</td><td>0</td><td>0</td><td>7</td><td>0</td><td>0</td><td>0</td><td>0</td></tr><tr><td>Pumps</td><td>0</td><td>0</td><td>0</td><td>0</td><td>0</td><td>0</td><td>0</td><td>0</td><td>0</td><td>2</td></tr><tr><td>Road Bikes</td><td>14</td><td>0</td><td>0</td><td>20</td><td>0</td><td>0</td><td>0</td><td>9</td><td>0</td><td>0</td></tr><tr><td>Road Frames</td><td>11</td><td>0</td><td>0</td><td>17</td><td>0</td><td>0</td><td>0</td><td>5</td><td>0</td><td>0</td></tr><tr><td>Saddles</td><td>0</td><td>0</td><td>0</td><td>0</td><td>0</td><td>0</td><td>0</td><td>0</td><td>0</td><td>9</td></tr><tr><td>Shorts</td><td>7</td><td>0</td><td>0</td><td>0</td><td>0</td><td>0</td><td>0</td><td>0</td><td>0</td><td>0</td></tr><tr><td>Socks</td><td>0</td><td>0</td><td>0</td><td>0</td><td>0</td><td>0</td><td>4</td><td>0</td><td>0</td><td>0</td></tr><tr><td>Tights</td><td>3</td><td>0</td><td>0</td><td>0</td><td>0</td><td>0</td><td>0</td><td>0</td><td>0</td><td>0</td></tr><tr><td>Tires and Tubes</td><td>0</td><td>0</td><td>0</td><td>0</td><td>0</td><td>0</td><td>0</td><td>0</td><td>0</td><td>11</td></tr><tr><td>Touring Bikes</td><td>0</td><td>13</td><td>0</td><td>0</td><td>0</td><td>0</td><td>0</td><td>9</td><td>0</td><td>0</td></tr><tr><td>Touring Frames</td><td>0</td><td>9</td><td>0</td><td>0</td><td>0</td><td>0</td><td>0</td><td>9</td><td>0</td><td>0</td></tr><tr><td>Vests</td><td>0</td><td>3</td><td>0</td><td>0</td><td>0</td><td>0</td><td>0</td><td>0</td><td>0</td><td>0</td></tr><tr><td>Wheels</td><td>14</td><td>0</td><td>0</td><td>0</td><td>0</td><td>0</td><td>0</td><td>0</td><td>0</td><td>0</td></tr></table>"
                    }
                }
            ],
            "execution_count": 43
        },
        {
            "cell_type": "code",
            "source": [
                "-- Unpivoting looses some details from original table\n",
                "\n",
                "-- Create temporary table to archive the pivoted table\n",
                "CREATE TABLE #ProductColorPivot\n",
                "(Category varchar(20), Black int, Blue int, Grey int, Red int, Silver int, [Silver/Black] int, White int, Yellow int, Multi int, Uncolored int)\n",
                "\n",
                "INSERT INTO #ProductColorPivot\n",
                "SELECT * FROM (\n",
                "    SELECT p.ProductID, pc.Name AS Category, ISNULL(p.Color, 'Uncolored') AS Color\n",
                "    FROM SalesLT.Product AS p\n",
                "    JOIN SalesLT.ProductCategory AS pc \n",
                "    ON p.ProductCategoryID = pc.ProductCategoryID\n",
                ") AS ProdCats\n",
                "PIVOT (COUNT(ProductID) FOR Color IN ([Black], [Blue], [Grey], [Red], [Silver], [Silver/Black], [White], [Yellow], [Multi], [Uncolored])) AS PivotTable\n",
                "ORDER BY Category"
            ],
            "metadata": {
                "azdata_cell_guid": "4be8b10c-6949-48cf-9549-57c731d9b47e"
            },
            "outputs": [
                {
                    "output_type": "display_data",
                    "data": {
                        "text/html": "(37 rows affected)"
                    },
                    "metadata": {}
                },
                {
                    "output_type": "display_data",
                    "data": {
                        "text/html": "Total execution time: 00:00:00.013"
                    },
                    "metadata": {}
                }
            ],
            "execution_count": 47
        },
        {
            "cell_type": "code",
            "source": [
                "-- Unpivot using temporary table\n",
                "SELECT Category, Color, ProductCount FROM (\n",
                "    SELECT Category, Black, Blue, Grey, Red , Silver, [Silver/Black], White, Yellow, Multi, Uncolored\n",
                "    FROM #ProductColorPivot\n",
                ") AS ProdColorCounts\n",
                "UNPIVOT(ProductCount FOR Color IN ([Black], [Blue], [Grey], [Red], [Silver], [Silver/Black], [White], [Yellow], [Multi], [Uncolored])) AS ProductCount"
            ],
            "metadata": {
                "azdata_cell_guid": "f5ee77fa-0a34-4bdd-b8ed-af95a5b5d531"
            },
            "outputs": [
                {
                    "output_type": "display_data",
                    "data": {
                        "text/html": "(370 rows affected)"
                    },
                    "metadata": {}
                },
                {
                    "output_type": "display_data",
                    "data": {
                        "text/html": "Total execution time: 00:00:00.028"
                    },
                    "metadata": {}
                },
                {
                    "output_type": "execute_result",
                    "metadata": {},
                    "execution_count": 52,
                    "data": {
                        "application/vnd.dataresource+json": {
                            "schema": {
                                "fields": [
                                    {
                                        "name": "Category"
                                    },
                                    {
                                        "name": "Color"
                                    },
                                    {
                                        "name": "ProductCount"
                                    }
                                ]
                            },
                            "data": [
                                {
                                    "0": "Bib-Shorts",
                                    "1": "Black",
                                    "2": "0"
                                },
                                {
                                    "0": "Bib-Shorts",
                                    "1": "Blue",
                                    "2": "0"
                                },
                                {
                                    "0": "Bib-Shorts",
                                    "1": "Grey",
                                    "2": "0"
                                },
                                {
                                    "0": "Bib-Shorts",
                                    "1": "Red",
                                    "2": "0"
                                },
                                {
                                    "0": "Bib-Shorts",
                                    "1": "Silver",
                                    "2": "0"
                                },
                                {
                                    "0": "Bib-Shorts",
                                    "1": "Silver/Black",
                                    "2": "0"
                                },
                                {
                                    "0": "Bib-Shorts",
                                    "1": "White",
                                    "2": "0"
                                },
                                {
                                    "0": "Bib-Shorts",
                                    "1": "Yellow",
                                    "2": "0"
                                },
                                {
                                    "0": "Bib-Shorts",
                                    "1": "Multi",
                                    "2": "3"
                                },
                                {
                                    "0": "Bib-Shorts",
                                    "1": "Uncolored",
                                    "2": "0"
                                },
                                {
                                    "0": "Bike Racks",
                                    "1": "Black",
                                    "2": "0"
                                },
                                {
                                    "0": "Bike Racks",
                                    "1": "Blue",
                                    "2": "0"
                                },
                                {
                                    "0": "Bike Racks",
                                    "1": "Grey",
                                    "2": "0"
                                },
                                {
                                    "0": "Bike Racks",
                                    "1": "Red",
                                    "2": "0"
                                },
                                {
                                    "0": "Bike Racks",
                                    "1": "Silver",
                                    "2": "0"
                                },
                                {
                                    "0": "Bike Racks",
                                    "1": "Silver/Black",
                                    "2": "0"
                                },
                                {
                                    "0": "Bike Racks",
                                    "1": "White",
                                    "2": "0"
                                },
                                {
                                    "0": "Bike Racks",
                                    "1": "Yellow",
                                    "2": "0"
                                },
                                {
                                    "0": "Bike Racks",
                                    "1": "Multi",
                                    "2": "0"
                                },
                                {
                                    "0": "Bike Racks",
                                    "1": "Uncolored",
                                    "2": "1"
                                },
                                {
                                    "0": "Bike Stands",
                                    "1": "Black",
                                    "2": "0"
                                },
                                {
                                    "0": "Bike Stands",
                                    "1": "Blue",
                                    "2": "0"
                                },
                                {
                                    "0": "Bike Stands",
                                    "1": "Grey",
                                    "2": "0"
                                },
                                {
                                    "0": "Bike Stands",
                                    "1": "Red",
                                    "2": "0"
                                },
                                {
                                    "0": "Bike Stands",
                                    "1": "Silver",
                                    "2": "0"
                                },
                                {
                                    "0": "Bike Stands",
                                    "1": "Silver/Black",
                                    "2": "0"
                                },
                                {
                                    "0": "Bike Stands",
                                    "1": "White",
                                    "2": "0"
                                },
                                {
                                    "0": "Bike Stands",
                                    "1": "Yellow",
                                    "2": "0"
                                },
                                {
                                    "0": "Bike Stands",
                                    "1": "Multi",
                                    "2": "0"
                                },
                                {
                                    "0": "Bike Stands",
                                    "1": "Uncolored",
                                    "2": "1"
                                },
                                {
                                    "0": "Bottles and Cages",
                                    "1": "Black",
                                    "2": "0"
                                },
                                {
                                    "0": "Bottles and Cages",
                                    "1": "Blue",
                                    "2": "0"
                                },
                                {
                                    "0": "Bottles and Cages",
                                    "1": "Grey",
                                    "2": "0"
                                },
                                {
                                    "0": "Bottles and Cages",
                                    "1": "Red",
                                    "2": "0"
                                },
                                {
                                    "0": "Bottles and Cages",
                                    "1": "Silver",
                                    "2": "0"
                                },
                                {
                                    "0": "Bottles and Cages",
                                    "1": "Silver/Black",
                                    "2": "0"
                                },
                                {
                                    "0": "Bottles and Cages",
                                    "1": "White",
                                    "2": "0"
                                },
                                {
                                    "0": "Bottles and Cages",
                                    "1": "Yellow",
                                    "2": "0"
                                },
                                {
                                    "0": "Bottles and Cages",
                                    "1": "Multi",
                                    "2": "0"
                                },
                                {
                                    "0": "Bottles and Cages",
                                    "1": "Uncolored",
                                    "2": "3"
                                },
                                {
                                    "0": "Bottom Brackets",
                                    "1": "Black",
                                    "2": "0"
                                },
                                {
                                    "0": "Bottom Brackets",
                                    "1": "Blue",
                                    "2": "0"
                                },
                                {
                                    "0": "Bottom Brackets",
                                    "1": "Grey",
                                    "2": "0"
                                },
                                {
                                    "0": "Bottom Brackets",
                                    "1": "Red",
                                    "2": "0"
                                },
                                {
                                    "0": "Bottom Brackets",
                                    "1": "Silver",
                                    "2": "0"
                                },
                                {
                                    "0": "Bottom Brackets",
                                    "1": "Silver/Black",
                                    "2": "0"
                                },
                                {
                                    "0": "Bottom Brackets",
                                    "1": "White",
                                    "2": "0"
                                },
                                {
                                    "0": "Bottom Brackets",
                                    "1": "Yellow",
                                    "2": "0"
                                },
                                {
                                    "0": "Bottom Brackets",
                                    "1": "Multi",
                                    "2": "0"
                                },
                                {
                                    "0": "Bottom Brackets",
                                    "1": "Uncolored",
                                    "2": "3"
                                },
                                {
                                    "0": "Brakes",
                                    "1": "Black",
                                    "2": "0"
                                },
                                {
                                    "0": "Brakes",
                                    "1": "Blue",
                                    "2": "0"
                                },
                                {
                                    "0": "Brakes",
                                    "1": "Grey",
                                    "2": "0"
                                },
                                {
                                    "0": "Brakes",
                                    "1": "Red",
                                    "2": "0"
                                },
                                {
                                    "0": "Brakes",
                                    "1": "Silver",
                                    "2": "2"
                                },
                                {
                                    "0": "Brakes",
                                    "1": "Silver/Black",
                                    "2": "0"
                                },
                                {
                                    "0": "Brakes",
                                    "1": "White",
                                    "2": "0"
                                },
                                {
                                    "0": "Brakes",
                                    "1": "Yellow",
                                    "2": "0"
                                },
                                {
                                    "0": "Brakes",
                                    "1": "Multi",
                                    "2": "0"
                                },
                                {
                                    "0": "Brakes",
                                    "1": "Uncolored",
                                    "2": "0"
                                },
                                {
                                    "0": "Caps",
                                    "1": "Black",
                                    "2": "0"
                                },
                                {
                                    "0": "Caps",
                                    "1": "Blue",
                                    "2": "0"
                                },
                                {
                                    "0": "Caps",
                                    "1": "Grey",
                                    "2": "0"
                                },
                                {
                                    "0": "Caps",
                                    "1": "Red",
                                    "2": "0"
                                },
                                {
                                    "0": "Caps",
                                    "1": "Silver",
                                    "2": "0"
                                },
                                {
                                    "0": "Caps",
                                    "1": "Silver/Black",
                                    "2": "0"
                                },
                                {
                                    "0": "Caps",
                                    "1": "White",
                                    "2": "0"
                                },
                                {
                                    "0": "Caps",
                                    "1": "Yellow",
                                    "2": "0"
                                },
                                {
                                    "0": "Caps",
                                    "1": "Multi",
                                    "2": "1"
                                },
                                {
                                    "0": "Caps",
                                    "1": "Uncolored",
                                    "2": "0"
                                },
                                {
                                    "0": "Chains",
                                    "1": "Black",
                                    "2": "0"
                                },
                                {
                                    "0": "Chains",
                                    "1": "Blue",
                                    "2": "0"
                                },
                                {
                                    "0": "Chains",
                                    "1": "Grey",
                                    "2": "0"
                                },
                                {
                                    "0": "Chains",
                                    "1": "Red",
                                    "2": "0"
                                },
                                {
                                    "0": "Chains",
                                    "1": "Silver",
                                    "2": "1"
                                },
                                {
                                    "0": "Chains",
                                    "1": "Silver/Black",
                                    "2": "0"
                                },
                                {
                                    "0": "Chains",
                                    "1": "White",
                                    "2": "0"
                                },
                                {
                                    "0": "Chains",
                                    "1": "Yellow",
                                    "2": "0"
                                },
                                {
                                    "0": "Chains",
                                    "1": "Multi",
                                    "2": "0"
                                },
                                {
                                    "0": "Chains",
                                    "1": "Uncolored",
                                    "2": "0"
                                },
                                {
                                    "0": "Cleaners",
                                    "1": "Black",
                                    "2": "0"
                                },
                                {
                                    "0": "Cleaners",
                                    "1": "Blue",
                                    "2": "0"
                                },
                                {
                                    "0": "Cleaners",
                                    "1": "Grey",
                                    "2": "0"
                                },
                                {
                                    "0": "Cleaners",
                                    "1": "Red",
                                    "2": "0"
                                },
                                {
                                    "0": "Cleaners",
                                    "1": "Silver",
                                    "2": "0"
                                },
                                {
                                    "0": "Cleaners",
                                    "1": "Silver/Black",
                                    "2": "0"
                                },
                                {
                                    "0": "Cleaners",
                                    "1": "White",
                                    "2": "0"
                                },
                                {
                                    "0": "Cleaners",
                                    "1": "Yellow",
                                    "2": "0"
                                },
                                {
                                    "0": "Cleaners",
                                    "1": "Multi",
                                    "2": "0"
                                },
                                {
                                    "0": "Cleaners",
                                    "1": "Uncolored",
                                    "2": "1"
                                },
                                {
                                    "0": "Cranksets",
                                    "1": "Black",
                                    "2": "3"
                                },
                                {
                                    "0": "Cranksets",
                                    "1": "Blue",
                                    "2": "0"
                                },
                                {
                                    "0": "Cranksets",
                                    "1": "Grey",
                                    "2": "0"
                                },
                                {
                                    "0": "Cranksets",
                                    "1": "Red",
                                    "2": "0"
                                },
                                {
                                    "0": "Cranksets",
                                    "1": "Silver",
                                    "2": "0"
                                },
                                {
                                    "0": "Cranksets",
                                    "1": "Silver/Black",
                                    "2": "0"
                                },
                                {
                                    "0": "Cranksets",
                                    "1": "White",
                                    "2": "0"
                                },
                                {
                                    "0": "Cranksets",
                                    "1": "Yellow",
                                    "2": "0"
                                },
                                {
                                    "0": "Cranksets",
                                    "1": "Multi",
                                    "2": "0"
                                },
                                {
                                    "0": "Cranksets",
                                    "1": "Uncolored",
                                    "2": "0"
                                },
                                {
                                    "0": "Derailleurs",
                                    "1": "Black",
                                    "2": "0"
                                },
                                {
                                    "0": "Derailleurs",
                                    "1": "Blue",
                                    "2": "0"
                                },
                                {
                                    "0": "Derailleurs",
                                    "1": "Grey",
                                    "2": "0"
                                },
                                {
                                    "0": "Derailleurs",
                                    "1": "Red",
                                    "2": "0"
                                },
                                {
                                    "0": "Derailleurs",
                                    "1": "Silver",
                                    "2": "2"
                                },
                                {
                                    "0": "Derailleurs",
                                    "1": "Silver/Black",
                                    "2": "0"
                                },
                                {
                                    "0": "Derailleurs",
                                    "1": "White",
                                    "2": "0"
                                },
                                {
                                    "0": "Derailleurs",
                                    "1": "Yellow",
                                    "2": "0"
                                },
                                {
                                    "0": "Derailleurs",
                                    "1": "Multi",
                                    "2": "0"
                                },
                                {
                                    "0": "Derailleurs",
                                    "1": "Uncolored",
                                    "2": "0"
                                },
                                {
                                    "0": "Fenders",
                                    "1": "Black",
                                    "2": "0"
                                },
                                {
                                    "0": "Fenders",
                                    "1": "Blue",
                                    "2": "0"
                                },
                                {
                                    "0": "Fenders",
                                    "1": "Grey",
                                    "2": "0"
                                },
                                {
                                    "0": "Fenders",
                                    "1": "Red",
                                    "2": "0"
                                },
                                {
                                    "0": "Fenders",
                                    "1": "Silver",
                                    "2": "0"
                                },
                                {
                                    "0": "Fenders",
                                    "1": "Silver/Black",
                                    "2": "0"
                                },
                                {
                                    "0": "Fenders",
                                    "1": "White",
                                    "2": "0"
                                },
                                {
                                    "0": "Fenders",
                                    "1": "Yellow",
                                    "2": "0"
                                },
                                {
                                    "0": "Fenders",
                                    "1": "Multi",
                                    "2": "0"
                                },
                                {
                                    "0": "Fenders",
                                    "1": "Uncolored",
                                    "2": "1"
                                },
                                {
                                    "0": "Forks",
                                    "1": "Black",
                                    "2": "0"
                                },
                                {
                                    "0": "Forks",
                                    "1": "Blue",
                                    "2": "0"
                                },
                                {
                                    "0": "Forks",
                                    "1": "Grey",
                                    "2": "0"
                                },
                                {
                                    "0": "Forks",
                                    "1": "Red",
                                    "2": "0"
                                },
                                {
                                    "0": "Forks",
                                    "1": "Silver",
                                    "2": "0"
                                },
                                {
                                    "0": "Forks",
                                    "1": "Silver/Black",
                                    "2": "0"
                                },
                                {
                                    "0": "Forks",
                                    "1": "White",
                                    "2": "0"
                                },
                                {
                                    "0": "Forks",
                                    "1": "Yellow",
                                    "2": "0"
                                },
                                {
                                    "0": "Forks",
                                    "1": "Multi",
                                    "2": "0"
                                },
                                {
                                    "0": "Forks",
                                    "1": "Uncolored",
                                    "2": "3"
                                },
                                {
                                    "0": "Gloves",
                                    "1": "Black",
                                    "2": "6"
                                },
                                {
                                    "0": "Gloves",
                                    "1": "Blue",
                                    "2": "0"
                                },
                                {
                                    "0": "Gloves",
                                    "1": "Grey",
                                    "2": "0"
                                },
                                {
                                    "0": "Gloves",
                                    "1": "Red",
                                    "2": "0"
                                },
                                {
                                    "0": "Gloves",
                                    "1": "Silver",
                                    "2": "0"
                                },
                                {
                                    "0": "Gloves",
                                    "1": "Silver/Black",
                                    "2": "0"
                                },
                                {
                                    "0": "Gloves",
                                    "1": "White",
                                    "2": "0"
                                },
                                {
                                    "0": "Gloves",
                                    "1": "Yellow",
                                    "2": "0"
                                },
                                {
                                    "0": "Gloves",
                                    "1": "Multi",
                                    "2": "0"
                                },
                                {
                                    "0": "Gloves",
                                    "1": "Uncolored",
                                    "2": "0"
                                },
                                {
                                    "0": "Handlebars",
                                    "1": "Black",
                                    "2": "0"
                                },
                                {
                                    "0": "Handlebars",
                                    "1": "Blue",
                                    "2": "0"
                                },
                                {
                                    "0": "Handlebars",
                                    "1": "Grey",
                                    "2": "0"
                                },
                                {
                                    "0": "Handlebars",
                                    "1": "Red",
                                    "2": "0"
                                },
                                {
                                    "0": "Handlebars",
                                    "1": "Silver",
                                    "2": "0"
                                },
                                {
                                    "0": "Handlebars",
                                    "1": "Silver/Black",
                                    "2": "0"
                                },
                                {
                                    "0": "Handlebars",
                                    "1": "White",
                                    "2": "0"
                                },
                                {
                                    "0": "Handlebars",
                                    "1": "Yellow",
                                    "2": "0"
                                },
                                {
                                    "0": "Handlebars",
                                    "1": "Multi",
                                    "2": "0"
                                },
                                {
                                    "0": "Handlebars",
                                    "1": "Uncolored",
                                    "2": "8"
                                },
                                {
                                    "0": "Headsets",
                                    "1": "Black",
                                    "2": "0"
                                },
                                {
                                    "0": "Headsets",
                                    "1": "Blue",
                                    "2": "0"
                                },
                                {
                                    "0": "Headsets",
                                    "1": "Grey",
                                    "2": "0"
                                },
                                {
                                    "0": "Headsets",
                                    "1": "Red",
                                    "2": "0"
                                },
                                {
                                    "0": "Headsets",
                                    "1": "Silver",
                                    "2": "0"
                                },
                                {
                                    "0": "Headsets",
                                    "1": "Silver/Black",
                                    "2": "0"
                                },
                                {
                                    "0": "Headsets",
                                    "1": "White",
                                    "2": "0"
                                },
                                {
                                    "0": "Headsets",
                                    "1": "Yellow",
                                    "2": "0"
                                },
                                {
                                    "0": "Headsets",
                                    "1": "Multi",
                                    "2": "0"
                                },
                                {
                                    "0": "Headsets",
                                    "1": "Uncolored",
                                    "2": "3"
                                },
                                {
                                    "0": "Helmets",
                                    "1": "Black",
                                    "2": "1"
                                },
                                {
                                    "0": "Helmets",
                                    "1": "Blue",
                                    "2": "1"
                                },
                                {
                                    "0": "Helmets",
                                    "1": "Grey",
                                    "2": "0"
                                },
                                {
                                    "0": "Helmets",
                                    "1": "Red",
                                    "2": "1"
                                },
                                {
                                    "0": "Helmets",
                                    "1": "Silver",
                                    "2": "0"
                                },
                                {
                                    "0": "Helmets",
                                    "1": "Silver/Black",
                                    "2": "0"
                                },
                                {
                                    "0": "Helmets",
                                    "1": "White",
                                    "2": "0"
                                },
                                {
                                    "0": "Helmets",
                                    "1": "Yellow",
                                    "2": "0"
                                },
                                {
                                    "0": "Helmets",
                                    "1": "Multi",
                                    "2": "0"
                                },
                                {
                                    "0": "Helmets",
                                    "1": "Uncolored",
                                    "2": "0"
                                },
                                {
                                    "0": "Hydration Packs",
                                    "1": "Black",
                                    "2": "0"
                                },
                                {
                                    "0": "Hydration Packs",
                                    "1": "Blue",
                                    "2": "0"
                                },
                                {
                                    "0": "Hydration Packs",
                                    "1": "Grey",
                                    "2": "0"
                                },
                                {
                                    "0": "Hydration Packs",
                                    "1": "Red",
                                    "2": "0"
                                },
                                {
                                    "0": "Hydration Packs",
                                    "1": "Silver",
                                    "2": "1"
                                },
                                {
                                    "0": "Hydration Packs",
                                    "1": "Silver/Black",
                                    "2": "0"
                                },
                                {
                                    "0": "Hydration Packs",
                                    "1": "White",
                                    "2": "0"
                                },
                                {
                                    "0": "Hydration Packs",
                                    "1": "Yellow",
                                    "2": "0"
                                },
                                {
                                    "0": "Hydration Packs",
                                    "1": "Multi",
                                    "2": "0"
                                },
                                {
                                    "0": "Hydration Packs",
                                    "1": "Uncolored",
                                    "2": "0"
                                },
                                {
                                    "0": "Jerseys",
                                    "1": "Black",
                                    "2": "0"
                                },
                                {
                                    "0": "Jerseys",
                                    "1": "Blue",
                                    "2": "0"
                                },
                                {
                                    "0": "Jerseys",
                                    "1": "Grey",
                                    "2": "0"
                                },
                                {
                                    "0": "Jerseys",
                                    "1": "Red",
                                    "2": "0"
                                },
                                {
                                    "0": "Jerseys",
                                    "1": "Silver",
                                    "2": "0"
                                },
                                {
                                    "0": "Jerseys",
                                    "1": "Silver/Black",
                                    "2": "0"
                                },
                                {
                                    "0": "Jerseys",
                                    "1": "White",
                                    "2": "0"
                                },
                                {
                                    "0": "Jerseys",
                                    "1": "Yellow",
                                    "2": "4"
                                },
                                {
                                    "0": "Jerseys",
                                    "1": "Multi",
                                    "2": "4"
                                },
                                {
                                    "0": "Jerseys",
                                    "1": "Uncolored",
                                    "2": "0"
                                },
                                {
                                    "0": "Lights",
                                    "1": "Black",
                                    "2": "0"
                                },
                                {
                                    "0": "Lights",
                                    "1": "Blue",
                                    "2": "0"
                                },
                                {
                                    "0": "Lights",
                                    "1": "Grey",
                                    "2": "0"
                                },
                                {
                                    "0": "Lights",
                                    "1": "Red",
                                    "2": "0"
                                },
                                {
                                    "0": "Lights",
                                    "1": "Silver",
                                    "2": "0"
                                },
                                {
                                    "0": "Lights",
                                    "1": "Silver/Black",
                                    "2": "0"
                                },
                                {
                                    "0": "Lights",
                                    "1": "White",
                                    "2": "0"
                                },
                                {
                                    "0": "Lights",
                                    "1": "Yellow",
                                    "2": "0"
                                },
                                {
                                    "0": "Lights",
                                    "1": "Multi",
                                    "2": "0"
                                },
                                {
                                    "0": "Lights",
                                    "1": "Uncolored",
                                    "2": "3"
                                },
                                {
                                    "0": "Locks",
                                    "1": "Black",
                                    "2": "0"
                                },
                                {
                                    "0": "Locks",
                                    "1": "Blue",
                                    "2": "0"
                                },
                                {
                                    "0": "Locks",
                                    "1": "Grey",
                                    "2": "0"
                                },
                                {
                                    "0": "Locks",
                                    "1": "Red",
                                    "2": "0"
                                },
                                {
                                    "0": "Locks",
                                    "1": "Silver",
                                    "2": "0"
                                },
                                {
                                    "0": "Locks",
                                    "1": "Silver/Black",
                                    "2": "0"
                                },
                                {
                                    "0": "Locks",
                                    "1": "White",
                                    "2": "0"
                                },
                                {
                                    "0": "Locks",
                                    "1": "Yellow",
                                    "2": "0"
                                },
                                {
                                    "0": "Locks",
                                    "1": "Multi",
                                    "2": "0"
                                },
                                {
                                    "0": "Locks",
                                    "1": "Uncolored",
                                    "2": "1"
                                },
                                {
                                    "0": "Mountain Bikes",
                                    "1": "Black",
                                    "2": "16"
                                },
                                {
                                    "0": "Mountain Bikes",
                                    "1": "Blue",
                                    "2": "0"
                                },
                                {
                                    "0": "Mountain Bikes",
                                    "1": "Grey",
                                    "2": "0"
                                },
                                {
                                    "0": "Mountain Bikes",
                                    "1": "Red",
                                    "2": "0"
                                },
                                {
                                    "0": "Mountain Bikes",
                                    "1": "Silver",
                                    "2": "16"
                                },
                                {
                                    "0": "Mountain Bikes",
                                    "1": "Silver/Black",
                                    "2": "0"
                                },
                                {
                                    "0": "Mountain Bikes",
                                    "1": "White",
                                    "2": "0"
                                },
                                {
                                    "0": "Mountain Bikes",
                                    "1": "Yellow",
                                    "2": "0"
                                },
                                {
                                    "0": "Mountain Bikes",
                                    "1": "Multi",
                                    "2": "0"
                                },
                                {
                                    "0": "Mountain Bikes",
                                    "1": "Uncolored",
                                    "2": "0"
                                },
                                {
                                    "0": "Mountain Frames",
                                    "1": "Black",
                                    "2": "14"
                                },
                                {
                                    "0": "Mountain Frames",
                                    "1": "Blue",
                                    "2": "0"
                                },
                                {
                                    "0": "Mountain Frames",
                                    "1": "Grey",
                                    "2": "0"
                                },
                                {
                                    "0": "Mountain Frames",
                                    "1": "Red",
                                    "2": "0"
                                },
                                {
                                    "0": "Mountain Frames",
                                    "1": "Silver",
                                    "2": "14"
                                },
                                {
                                    "0": "Mountain Frames",
                                    "1": "Silver/Black",
                                    "2": "0"
                                },
                                {
                                    "0": "Mountain Frames",
                                    "1": "White",
                                    "2": "0"
                                },
                                {
                                    "0": "Mountain Frames",
                                    "1": "Yellow",
                                    "2": "0"
                                },
                                {
                                    "0": "Mountain Frames",
                                    "1": "Multi",
                                    "2": "0"
                                },
                                {
                                    "0": "Mountain Frames",
                                    "1": "Uncolored",
                                    "2": "0"
                                },
                                {
                                    "0": "Panniers",
                                    "1": "Black",
                                    "2": "0"
                                },
                                {
                                    "0": "Panniers",
                                    "1": "Blue",
                                    "2": "0"
                                },
                                {
                                    "0": "Panniers",
                                    "1": "Grey",
                                    "2": "1"
                                },
                                {
                                    "0": "Panniers",
                                    "1": "Red",
                                    "2": "0"
                                },
                                {
                                    "0": "Panniers",
                                    "1": "Silver",
                                    "2": "0"
                                },
                                {
                                    "0": "Panniers",
                                    "1": "Silver/Black",
                                    "2": "0"
                                },
                                {
                                    "0": "Panniers",
                                    "1": "White",
                                    "2": "0"
                                },
                                {
                                    "0": "Panniers",
                                    "1": "Yellow",
                                    "2": "0"
                                },
                                {
                                    "0": "Panniers",
                                    "1": "Multi",
                                    "2": "0"
                                },
                                {
                                    "0": "Panniers",
                                    "1": "Uncolored",
                                    "2": "0"
                                },
                                {
                                    "0": "Pedals",
                                    "1": "Black",
                                    "2": "0"
                                },
                                {
                                    "0": "Pedals",
                                    "1": "Blue",
                                    "2": "0"
                                },
                                {
                                    "0": "Pedals",
                                    "1": "Grey",
                                    "2": "0"
                                },
                                {
                                    "0": "Pedals",
                                    "1": "Red",
                                    "2": "0"
                                },
                                {
                                    "0": "Pedals",
                                    "1": "Silver",
                                    "2": "0"
                                },
                                {
                                    "0": "Pedals",
                                    "1": "Silver/Black",
                                    "2": "7"
                                },
                                {
                                    "0": "Pedals",
                                    "1": "White",
                                    "2": "0"
                                },
                                {
                                    "0": "Pedals",
                                    "1": "Yellow",
                                    "2": "0"
                                },
                                {
                                    "0": "Pedals",
                                    "1": "Multi",
                                    "2": "0"
                                },
                                {
                                    "0": "Pedals",
                                    "1": "Uncolored",
                                    "2": "0"
                                },
                                {
                                    "0": "Pumps",
                                    "1": "Black",
                                    "2": "0"
                                },
                                {
                                    "0": "Pumps",
                                    "1": "Blue",
                                    "2": "0"
                                },
                                {
                                    "0": "Pumps",
                                    "1": "Grey",
                                    "2": "0"
                                },
                                {
                                    "0": "Pumps",
                                    "1": "Red",
                                    "2": "0"
                                },
                                {
                                    "0": "Pumps",
                                    "1": "Silver",
                                    "2": "0"
                                },
                                {
                                    "0": "Pumps",
                                    "1": "Silver/Black",
                                    "2": "0"
                                },
                                {
                                    "0": "Pumps",
                                    "1": "White",
                                    "2": "0"
                                },
                                {
                                    "0": "Pumps",
                                    "1": "Yellow",
                                    "2": "0"
                                },
                                {
                                    "0": "Pumps",
                                    "1": "Multi",
                                    "2": "0"
                                },
                                {
                                    "0": "Pumps",
                                    "1": "Uncolored",
                                    "2": "2"
                                },
                                {
                                    "0": "Road Bikes",
                                    "1": "Black",
                                    "2": "14"
                                },
                                {
                                    "0": "Road Bikes",
                                    "1": "Blue",
                                    "2": "0"
                                },
                                {
                                    "0": "Road Bikes",
                                    "1": "Grey",
                                    "2": "0"
                                },
                                {
                                    "0": "Road Bikes",
                                    "1": "Red",
                                    "2": "20"
                                },
                                {
                                    "0": "Road Bikes",
                                    "1": "Silver",
                                    "2": "0"
                                },
                                {
                                    "0": "Road Bikes",
                                    "1": "Silver/Black",
                                    "2": "0"
                                },
                                {
                                    "0": "Road Bikes",
                                    "1": "White",
                                    "2": "0"
                                },
                                {
                                    "0": "Road Bikes",
                                    "1": "Yellow",
                                    "2": "9"
                                },
                                {
                                    "0": "Road Bikes",
                                    "1": "Multi",
                                    "2": "0"
                                },
                                {
                                    "0": "Road Bikes",
                                    "1": "Uncolored",
                                    "2": "0"
                                },
                                {
                                    "0": "Road Frames",
                                    "1": "Black",
                                    "2": "11"
                                },
                                {
                                    "0": "Road Frames",
                                    "1": "Blue",
                                    "2": "0"
                                },
                                {
                                    "0": "Road Frames",
                                    "1": "Grey",
                                    "2": "0"
                                },
                                {
                                    "0": "Road Frames",
                                    "1": "Red",
                                    "2": "17"
                                },
                                {
                                    "0": "Road Frames",
                                    "1": "Silver",
                                    "2": "0"
                                },
                                {
                                    "0": "Road Frames",
                                    "1": "Silver/Black",
                                    "2": "0"
                                },
                                {
                                    "0": "Road Frames",
                                    "1": "White",
                                    "2": "0"
                                },
                                {
                                    "0": "Road Frames",
                                    "1": "Yellow",
                                    "2": "5"
                                },
                                {
                                    "0": "Road Frames",
                                    "1": "Multi",
                                    "2": "0"
                                },
                                {
                                    "0": "Road Frames",
                                    "1": "Uncolored",
                                    "2": "0"
                                },
                                {
                                    "0": "Saddles",
                                    "1": "Black",
                                    "2": "0"
                                },
                                {
                                    "0": "Saddles",
                                    "1": "Blue",
                                    "2": "0"
                                },
                                {
                                    "0": "Saddles",
                                    "1": "Grey",
                                    "2": "0"
                                },
                                {
                                    "0": "Saddles",
                                    "1": "Red",
                                    "2": "0"
                                },
                                {
                                    "0": "Saddles",
                                    "1": "Silver",
                                    "2": "0"
                                },
                                {
                                    "0": "Saddles",
                                    "1": "Silver/Black",
                                    "2": "0"
                                },
                                {
                                    "0": "Saddles",
                                    "1": "White",
                                    "2": "0"
                                },
                                {
                                    "0": "Saddles",
                                    "1": "Yellow",
                                    "2": "0"
                                },
                                {
                                    "0": "Saddles",
                                    "1": "Multi",
                                    "2": "0"
                                },
                                {
                                    "0": "Saddles",
                                    "1": "Uncolored",
                                    "2": "9"
                                },
                                {
                                    "0": "Shorts",
                                    "1": "Black",
                                    "2": "7"
                                },
                                {
                                    "0": "Shorts",
                                    "1": "Blue",
                                    "2": "0"
                                },
                                {
                                    "0": "Shorts",
                                    "1": "Grey",
                                    "2": "0"
                                },
                                {
                                    "0": "Shorts",
                                    "1": "Red",
                                    "2": "0"
                                },
                                {
                                    "0": "Shorts",
                                    "1": "Silver",
                                    "2": "0"
                                },
                                {
                                    "0": "Shorts",
                                    "1": "Silver/Black",
                                    "2": "0"
                                },
                                {
                                    "0": "Shorts",
                                    "1": "White",
                                    "2": "0"
                                },
                                {
                                    "0": "Shorts",
                                    "1": "Yellow",
                                    "2": "0"
                                },
                                {
                                    "0": "Shorts",
                                    "1": "Multi",
                                    "2": "0"
                                },
                                {
                                    "0": "Shorts",
                                    "1": "Uncolored",
                                    "2": "0"
                                },
                                {
                                    "0": "Socks",
                                    "1": "Black",
                                    "2": "0"
                                },
                                {
                                    "0": "Socks",
                                    "1": "Blue",
                                    "2": "0"
                                },
                                {
                                    "0": "Socks",
                                    "1": "Grey",
                                    "2": "0"
                                },
                                {
                                    "0": "Socks",
                                    "1": "Red",
                                    "2": "0"
                                },
                                {
                                    "0": "Socks",
                                    "1": "Silver",
                                    "2": "0"
                                },
                                {
                                    "0": "Socks",
                                    "1": "Silver/Black",
                                    "2": "0"
                                },
                                {
                                    "0": "Socks",
                                    "1": "White",
                                    "2": "4"
                                },
                                {
                                    "0": "Socks",
                                    "1": "Yellow",
                                    "2": "0"
                                },
                                {
                                    "0": "Socks",
                                    "1": "Multi",
                                    "2": "0"
                                },
                                {
                                    "0": "Socks",
                                    "1": "Uncolored",
                                    "2": "0"
                                },
                                {
                                    "0": "Tights",
                                    "1": "Black",
                                    "2": "3"
                                },
                                {
                                    "0": "Tights",
                                    "1": "Blue",
                                    "2": "0"
                                },
                                {
                                    "0": "Tights",
                                    "1": "Grey",
                                    "2": "0"
                                },
                                {
                                    "0": "Tights",
                                    "1": "Red",
                                    "2": "0"
                                },
                                {
                                    "0": "Tights",
                                    "1": "Silver",
                                    "2": "0"
                                },
                                {
                                    "0": "Tights",
                                    "1": "Silver/Black",
                                    "2": "0"
                                },
                                {
                                    "0": "Tights",
                                    "1": "White",
                                    "2": "0"
                                },
                                {
                                    "0": "Tights",
                                    "1": "Yellow",
                                    "2": "0"
                                },
                                {
                                    "0": "Tights",
                                    "1": "Multi",
                                    "2": "0"
                                },
                                {
                                    "0": "Tights",
                                    "1": "Uncolored",
                                    "2": "0"
                                },
                                {
                                    "0": "Tires and Tubes",
                                    "1": "Black",
                                    "2": "0"
                                },
                                {
                                    "0": "Tires and Tubes",
                                    "1": "Blue",
                                    "2": "0"
                                },
                                {
                                    "0": "Tires and Tubes",
                                    "1": "Grey",
                                    "2": "0"
                                },
                                {
                                    "0": "Tires and Tubes",
                                    "1": "Red",
                                    "2": "0"
                                },
                                {
                                    "0": "Tires and Tubes",
                                    "1": "Silver",
                                    "2": "0"
                                },
                                {
                                    "0": "Tires and Tubes",
                                    "1": "Silver/Black",
                                    "2": "0"
                                },
                                {
                                    "0": "Tires and Tubes",
                                    "1": "White",
                                    "2": "0"
                                },
                                {
                                    "0": "Tires and Tubes",
                                    "1": "Yellow",
                                    "2": "0"
                                },
                                {
                                    "0": "Tires and Tubes",
                                    "1": "Multi",
                                    "2": "0"
                                },
                                {
                                    "0": "Tires and Tubes",
                                    "1": "Uncolored",
                                    "2": "11"
                                },
                                {
                                    "0": "Touring Bikes",
                                    "1": "Black",
                                    "2": "0"
                                },
                                {
                                    "0": "Touring Bikes",
                                    "1": "Blue",
                                    "2": "13"
                                },
                                {
                                    "0": "Touring Bikes",
                                    "1": "Grey",
                                    "2": "0"
                                },
                                {
                                    "0": "Touring Bikes",
                                    "1": "Red",
                                    "2": "0"
                                },
                                {
                                    "0": "Touring Bikes",
                                    "1": "Silver",
                                    "2": "0"
                                },
                                {
                                    "0": "Touring Bikes",
                                    "1": "Silver/Black",
                                    "2": "0"
                                },
                                {
                                    "0": "Touring Bikes",
                                    "1": "White",
                                    "2": "0"
                                },
                                {
                                    "0": "Touring Bikes",
                                    "1": "Yellow",
                                    "2": "9"
                                },
                                {
                                    "0": "Touring Bikes",
                                    "1": "Multi",
                                    "2": "0"
                                },
                                {
                                    "0": "Touring Bikes",
                                    "1": "Uncolored",
                                    "2": "0"
                                },
                                {
                                    "0": "Touring Frames",
                                    "1": "Black",
                                    "2": "0"
                                },
                                {
                                    "0": "Touring Frames",
                                    "1": "Blue",
                                    "2": "9"
                                },
                                {
                                    "0": "Touring Frames",
                                    "1": "Grey",
                                    "2": "0"
                                },
                                {
                                    "0": "Touring Frames",
                                    "1": "Red",
                                    "2": "0"
                                },
                                {
                                    "0": "Touring Frames",
                                    "1": "Silver",
                                    "2": "0"
                                },
                                {
                                    "0": "Touring Frames",
                                    "1": "Silver/Black",
                                    "2": "0"
                                },
                                {
                                    "0": "Touring Frames",
                                    "1": "White",
                                    "2": "0"
                                },
                                {
                                    "0": "Touring Frames",
                                    "1": "Yellow",
                                    "2": "9"
                                },
                                {
                                    "0": "Touring Frames",
                                    "1": "Multi",
                                    "2": "0"
                                },
                                {
                                    "0": "Touring Frames",
                                    "1": "Uncolored",
                                    "2": "0"
                                },
                                {
                                    "0": "Vests",
                                    "1": "Black",
                                    "2": "0"
                                },
                                {
                                    "0": "Vests",
                                    "1": "Blue",
                                    "2": "3"
                                },
                                {
                                    "0": "Vests",
                                    "1": "Grey",
                                    "2": "0"
                                },
                                {
                                    "0": "Vests",
                                    "1": "Red",
                                    "2": "0"
                                },
                                {
                                    "0": "Vests",
                                    "1": "Silver",
                                    "2": "0"
                                },
                                {
                                    "0": "Vests",
                                    "1": "Silver/Black",
                                    "2": "0"
                                },
                                {
                                    "0": "Vests",
                                    "1": "White",
                                    "2": "0"
                                },
                                {
                                    "0": "Vests",
                                    "1": "Yellow",
                                    "2": "0"
                                },
                                {
                                    "0": "Vests",
                                    "1": "Multi",
                                    "2": "0"
                                },
                                {
                                    "0": "Vests",
                                    "1": "Uncolored",
                                    "2": "0"
                                },
                                {
                                    "0": "Wheels",
                                    "1": "Black",
                                    "2": "14"
                                },
                                {
                                    "0": "Wheels",
                                    "1": "Blue",
                                    "2": "0"
                                },
                                {
                                    "0": "Wheels",
                                    "1": "Grey",
                                    "2": "0"
                                },
                                {
                                    "0": "Wheels",
                                    "1": "Red",
                                    "2": "0"
                                },
                                {
                                    "0": "Wheels",
                                    "1": "Silver",
                                    "2": "0"
                                },
                                {
                                    "0": "Wheels",
                                    "1": "Silver/Black",
                                    "2": "0"
                                },
                                {
                                    "0": "Wheels",
                                    "1": "White",
                                    "2": "0"
                                },
                                {
                                    "0": "Wheels",
                                    "1": "Yellow",
                                    "2": "0"
                                },
                                {
                                    "0": "Wheels",
                                    "1": "Multi",
                                    "2": "0"
                                },
                                {
                                    "0": "Wheels",
                                    "1": "Uncolored",
                                    "2": "0"
                                }
                            ]
                        },
                        "text/html": "<table><tr><th>Category</th><th>Color</th><th>ProductCount</th></tr><tr><td>Bib-Shorts</td><td>Black</td><td>0</td></tr><tr><td>Bib-Shorts</td><td>Blue</td><td>0</td></tr><tr><td>Bib-Shorts</td><td>Grey</td><td>0</td></tr><tr><td>Bib-Shorts</td><td>Red</td><td>0</td></tr><tr><td>Bib-Shorts</td><td>Silver</td><td>0</td></tr><tr><td>Bib-Shorts</td><td>Silver/Black</td><td>0</td></tr><tr><td>Bib-Shorts</td><td>White</td><td>0</td></tr><tr><td>Bib-Shorts</td><td>Yellow</td><td>0</td></tr><tr><td>Bib-Shorts</td><td>Multi</td><td>3</td></tr><tr><td>Bib-Shorts</td><td>Uncolored</td><td>0</td></tr><tr><td>Bike Racks</td><td>Black</td><td>0</td></tr><tr><td>Bike Racks</td><td>Blue</td><td>0</td></tr><tr><td>Bike Racks</td><td>Grey</td><td>0</td></tr><tr><td>Bike Racks</td><td>Red</td><td>0</td></tr><tr><td>Bike Racks</td><td>Silver</td><td>0</td></tr><tr><td>Bike Racks</td><td>Silver/Black</td><td>0</td></tr><tr><td>Bike Racks</td><td>White</td><td>0</td></tr><tr><td>Bike Racks</td><td>Yellow</td><td>0</td></tr><tr><td>Bike Racks</td><td>Multi</td><td>0</td></tr><tr><td>Bike Racks</td><td>Uncolored</td><td>1</td></tr><tr><td>Bike Stands</td><td>Black</td><td>0</td></tr><tr><td>Bike Stands</td><td>Blue</td><td>0</td></tr><tr><td>Bike Stands</td><td>Grey</td><td>0</td></tr><tr><td>Bike Stands</td><td>Red</td><td>0</td></tr><tr><td>Bike Stands</td><td>Silver</td><td>0</td></tr><tr><td>Bike Stands</td><td>Silver/Black</td><td>0</td></tr><tr><td>Bike Stands</td><td>White</td><td>0</td></tr><tr><td>Bike Stands</td><td>Yellow</td><td>0</td></tr><tr><td>Bike Stands</td><td>Multi</td><td>0</td></tr><tr><td>Bike Stands</td><td>Uncolored</td><td>1</td></tr><tr><td>Bottles and Cages</td><td>Black</td><td>0</td></tr><tr><td>Bottles and Cages</td><td>Blue</td><td>0</td></tr><tr><td>Bottles and Cages</td><td>Grey</td><td>0</td></tr><tr><td>Bottles and Cages</td><td>Red</td><td>0</td></tr><tr><td>Bottles and Cages</td><td>Silver</td><td>0</td></tr><tr><td>Bottles and Cages</td><td>Silver/Black</td><td>0</td></tr><tr><td>Bottles and Cages</td><td>White</td><td>0</td></tr><tr><td>Bottles and Cages</td><td>Yellow</td><td>0</td></tr><tr><td>Bottles and Cages</td><td>Multi</td><td>0</td></tr><tr><td>Bottles and Cages</td><td>Uncolored</td><td>3</td></tr><tr><td>Bottom Brackets</td><td>Black</td><td>0</td></tr><tr><td>Bottom Brackets</td><td>Blue</td><td>0</td></tr><tr><td>Bottom Brackets</td><td>Grey</td><td>0</td></tr><tr><td>Bottom Brackets</td><td>Red</td><td>0</td></tr><tr><td>Bottom Brackets</td><td>Silver</td><td>0</td></tr><tr><td>Bottom Brackets</td><td>Silver/Black</td><td>0</td></tr><tr><td>Bottom Brackets</td><td>White</td><td>0</td></tr><tr><td>Bottom Brackets</td><td>Yellow</td><td>0</td></tr><tr><td>Bottom Brackets</td><td>Multi</td><td>0</td></tr><tr><td>Bottom Brackets</td><td>Uncolored</td><td>3</td></tr><tr><td>Brakes</td><td>Black</td><td>0</td></tr><tr><td>Brakes</td><td>Blue</td><td>0</td></tr><tr><td>Brakes</td><td>Grey</td><td>0</td></tr><tr><td>Brakes</td><td>Red</td><td>0</td></tr><tr><td>Brakes</td><td>Silver</td><td>2</td></tr><tr><td>Brakes</td><td>Silver/Black</td><td>0</td></tr><tr><td>Brakes</td><td>White</td><td>0</td></tr><tr><td>Brakes</td><td>Yellow</td><td>0</td></tr><tr><td>Brakes</td><td>Multi</td><td>0</td></tr><tr><td>Brakes</td><td>Uncolored</td><td>0</td></tr><tr><td>Caps</td><td>Black</td><td>0</td></tr><tr><td>Caps</td><td>Blue</td><td>0</td></tr><tr><td>Caps</td><td>Grey</td><td>0</td></tr><tr><td>Caps</td><td>Red</td><td>0</td></tr><tr><td>Caps</td><td>Silver</td><td>0</td></tr><tr><td>Caps</td><td>Silver/Black</td><td>0</td></tr><tr><td>Caps</td><td>White</td><td>0</td></tr><tr><td>Caps</td><td>Yellow</td><td>0</td></tr><tr><td>Caps</td><td>Multi</td><td>1</td></tr><tr><td>Caps</td><td>Uncolored</td><td>0</td></tr><tr><td>Chains</td><td>Black</td><td>0</td></tr><tr><td>Chains</td><td>Blue</td><td>0</td></tr><tr><td>Chains</td><td>Grey</td><td>0</td></tr><tr><td>Chains</td><td>Red</td><td>0</td></tr><tr><td>Chains</td><td>Silver</td><td>1</td></tr><tr><td>Chains</td><td>Silver/Black</td><td>0</td></tr><tr><td>Chains</td><td>White</td><td>0</td></tr><tr><td>Chains</td><td>Yellow</td><td>0</td></tr><tr><td>Chains</td><td>Multi</td><td>0</td></tr><tr><td>Chains</td><td>Uncolored</td><td>0</td></tr><tr><td>Cleaners</td><td>Black</td><td>0</td></tr><tr><td>Cleaners</td><td>Blue</td><td>0</td></tr><tr><td>Cleaners</td><td>Grey</td><td>0</td></tr><tr><td>Cleaners</td><td>Red</td><td>0</td></tr><tr><td>Cleaners</td><td>Silver</td><td>0</td></tr><tr><td>Cleaners</td><td>Silver/Black</td><td>0</td></tr><tr><td>Cleaners</td><td>White</td><td>0</td></tr><tr><td>Cleaners</td><td>Yellow</td><td>0</td></tr><tr><td>Cleaners</td><td>Multi</td><td>0</td></tr><tr><td>Cleaners</td><td>Uncolored</td><td>1</td></tr><tr><td>Cranksets</td><td>Black</td><td>3</td></tr><tr><td>Cranksets</td><td>Blue</td><td>0</td></tr><tr><td>Cranksets</td><td>Grey</td><td>0</td></tr><tr><td>Cranksets</td><td>Red</td><td>0</td></tr><tr><td>Cranksets</td><td>Silver</td><td>0</td></tr><tr><td>Cranksets</td><td>Silver/Black</td><td>0</td></tr><tr><td>Cranksets</td><td>White</td><td>0</td></tr><tr><td>Cranksets</td><td>Yellow</td><td>0</td></tr><tr><td>Cranksets</td><td>Multi</td><td>0</td></tr><tr><td>Cranksets</td><td>Uncolored</td><td>0</td></tr><tr><td>Derailleurs</td><td>Black</td><td>0</td></tr><tr><td>Derailleurs</td><td>Blue</td><td>0</td></tr><tr><td>Derailleurs</td><td>Grey</td><td>0</td></tr><tr><td>Derailleurs</td><td>Red</td><td>0</td></tr><tr><td>Derailleurs</td><td>Silver</td><td>2</td></tr><tr><td>Derailleurs</td><td>Silver/Black</td><td>0</td></tr><tr><td>Derailleurs</td><td>White</td><td>0</td></tr><tr><td>Derailleurs</td><td>Yellow</td><td>0</td></tr><tr><td>Derailleurs</td><td>Multi</td><td>0</td></tr><tr><td>Derailleurs</td><td>Uncolored</td><td>0</td></tr><tr><td>Fenders</td><td>Black</td><td>0</td></tr><tr><td>Fenders</td><td>Blue</td><td>0</td></tr><tr><td>Fenders</td><td>Grey</td><td>0</td></tr><tr><td>Fenders</td><td>Red</td><td>0</td></tr><tr><td>Fenders</td><td>Silver</td><td>0</td></tr><tr><td>Fenders</td><td>Silver/Black</td><td>0</td></tr><tr><td>Fenders</td><td>White</td><td>0</td></tr><tr><td>Fenders</td><td>Yellow</td><td>0</td></tr><tr><td>Fenders</td><td>Multi</td><td>0</td></tr><tr><td>Fenders</td><td>Uncolored</td><td>1</td></tr><tr><td>Forks</td><td>Black</td><td>0</td></tr><tr><td>Forks</td><td>Blue</td><td>0</td></tr><tr><td>Forks</td><td>Grey</td><td>0</td></tr><tr><td>Forks</td><td>Red</td><td>0</td></tr><tr><td>Forks</td><td>Silver</td><td>0</td></tr><tr><td>Forks</td><td>Silver/Black</td><td>0</td></tr><tr><td>Forks</td><td>White</td><td>0</td></tr><tr><td>Forks</td><td>Yellow</td><td>0</td></tr><tr><td>Forks</td><td>Multi</td><td>0</td></tr><tr><td>Forks</td><td>Uncolored</td><td>3</td></tr><tr><td>Gloves</td><td>Black</td><td>6</td></tr><tr><td>Gloves</td><td>Blue</td><td>0</td></tr><tr><td>Gloves</td><td>Grey</td><td>0</td></tr><tr><td>Gloves</td><td>Red</td><td>0</td></tr><tr><td>Gloves</td><td>Silver</td><td>0</td></tr><tr><td>Gloves</td><td>Silver/Black</td><td>0</td></tr><tr><td>Gloves</td><td>White</td><td>0</td></tr><tr><td>Gloves</td><td>Yellow</td><td>0</td></tr><tr><td>Gloves</td><td>Multi</td><td>0</td></tr><tr><td>Gloves</td><td>Uncolored</td><td>0</td></tr><tr><td>Handlebars</td><td>Black</td><td>0</td></tr><tr><td>Handlebars</td><td>Blue</td><td>0</td></tr><tr><td>Handlebars</td><td>Grey</td><td>0</td></tr><tr><td>Handlebars</td><td>Red</td><td>0</td></tr><tr><td>Handlebars</td><td>Silver</td><td>0</td></tr><tr><td>Handlebars</td><td>Silver/Black</td><td>0</td></tr><tr><td>Handlebars</td><td>White</td><td>0</td></tr><tr><td>Handlebars</td><td>Yellow</td><td>0</td></tr><tr><td>Handlebars</td><td>Multi</td><td>0</td></tr><tr><td>Handlebars</td><td>Uncolored</td><td>8</td></tr><tr><td>Headsets</td><td>Black</td><td>0</td></tr><tr><td>Headsets</td><td>Blue</td><td>0</td></tr><tr><td>Headsets</td><td>Grey</td><td>0</td></tr><tr><td>Headsets</td><td>Red</td><td>0</td></tr><tr><td>Headsets</td><td>Silver</td><td>0</td></tr><tr><td>Headsets</td><td>Silver/Black</td><td>0</td></tr><tr><td>Headsets</td><td>White</td><td>0</td></tr><tr><td>Headsets</td><td>Yellow</td><td>0</td></tr><tr><td>Headsets</td><td>Multi</td><td>0</td></tr><tr><td>Headsets</td><td>Uncolored</td><td>3</td></tr><tr><td>Helmets</td><td>Black</td><td>1</td></tr><tr><td>Helmets</td><td>Blue</td><td>1</td></tr><tr><td>Helmets</td><td>Grey</td><td>0</td></tr><tr><td>Helmets</td><td>Red</td><td>1</td></tr><tr><td>Helmets</td><td>Silver</td><td>0</td></tr><tr><td>Helmets</td><td>Silver/Black</td><td>0</td></tr><tr><td>Helmets</td><td>White</td><td>0</td></tr><tr><td>Helmets</td><td>Yellow</td><td>0</td></tr><tr><td>Helmets</td><td>Multi</td><td>0</td></tr><tr><td>Helmets</td><td>Uncolored</td><td>0</td></tr><tr><td>Hydration Packs</td><td>Black</td><td>0</td></tr><tr><td>Hydration Packs</td><td>Blue</td><td>0</td></tr><tr><td>Hydration Packs</td><td>Grey</td><td>0</td></tr><tr><td>Hydration Packs</td><td>Red</td><td>0</td></tr><tr><td>Hydration Packs</td><td>Silver</td><td>1</td></tr><tr><td>Hydration Packs</td><td>Silver/Black</td><td>0</td></tr><tr><td>Hydration Packs</td><td>White</td><td>0</td></tr><tr><td>Hydration Packs</td><td>Yellow</td><td>0</td></tr><tr><td>Hydration Packs</td><td>Multi</td><td>0</td></tr><tr><td>Hydration Packs</td><td>Uncolored</td><td>0</td></tr><tr><td>Jerseys</td><td>Black</td><td>0</td></tr><tr><td>Jerseys</td><td>Blue</td><td>0</td></tr><tr><td>Jerseys</td><td>Grey</td><td>0</td></tr><tr><td>Jerseys</td><td>Red</td><td>0</td></tr><tr><td>Jerseys</td><td>Silver</td><td>0</td></tr><tr><td>Jerseys</td><td>Silver/Black</td><td>0</td></tr><tr><td>Jerseys</td><td>White</td><td>0</td></tr><tr><td>Jerseys</td><td>Yellow</td><td>4</td></tr><tr><td>Jerseys</td><td>Multi</td><td>4</td></tr><tr><td>Jerseys</td><td>Uncolored</td><td>0</td></tr><tr><td>Lights</td><td>Black</td><td>0</td></tr><tr><td>Lights</td><td>Blue</td><td>0</td></tr><tr><td>Lights</td><td>Grey</td><td>0</td></tr><tr><td>Lights</td><td>Red</td><td>0</td></tr><tr><td>Lights</td><td>Silver</td><td>0</td></tr><tr><td>Lights</td><td>Silver/Black</td><td>0</td></tr><tr><td>Lights</td><td>White</td><td>0</td></tr><tr><td>Lights</td><td>Yellow</td><td>0</td></tr><tr><td>Lights</td><td>Multi</td><td>0</td></tr><tr><td>Lights</td><td>Uncolored</td><td>3</td></tr><tr><td>Locks</td><td>Black</td><td>0</td></tr><tr><td>Locks</td><td>Blue</td><td>0</td></tr><tr><td>Locks</td><td>Grey</td><td>0</td></tr><tr><td>Locks</td><td>Red</td><td>0</td></tr><tr><td>Locks</td><td>Silver</td><td>0</td></tr><tr><td>Locks</td><td>Silver/Black</td><td>0</td></tr><tr><td>Locks</td><td>White</td><td>0</td></tr><tr><td>Locks</td><td>Yellow</td><td>0</td></tr><tr><td>Locks</td><td>Multi</td><td>0</td></tr><tr><td>Locks</td><td>Uncolored</td><td>1</td></tr><tr><td>Mountain Bikes</td><td>Black</td><td>16</td></tr><tr><td>Mountain Bikes</td><td>Blue</td><td>0</td></tr><tr><td>Mountain Bikes</td><td>Grey</td><td>0</td></tr><tr><td>Mountain Bikes</td><td>Red</td><td>0</td></tr><tr><td>Mountain Bikes</td><td>Silver</td><td>16</td></tr><tr><td>Mountain Bikes</td><td>Silver/Black</td><td>0</td></tr><tr><td>Mountain Bikes</td><td>White</td><td>0</td></tr><tr><td>Mountain Bikes</td><td>Yellow</td><td>0</td></tr><tr><td>Mountain Bikes</td><td>Multi</td><td>0</td></tr><tr><td>Mountain Bikes</td><td>Uncolored</td><td>0</td></tr><tr><td>Mountain Frames</td><td>Black</td><td>14</td></tr><tr><td>Mountain Frames</td><td>Blue</td><td>0</td></tr><tr><td>Mountain Frames</td><td>Grey</td><td>0</td></tr><tr><td>Mountain Frames</td><td>Red</td><td>0</td></tr><tr><td>Mountain Frames</td><td>Silver</td><td>14</td></tr><tr><td>Mountain Frames</td><td>Silver/Black</td><td>0</td></tr><tr><td>Mountain Frames</td><td>White</td><td>0</td></tr><tr><td>Mountain Frames</td><td>Yellow</td><td>0</td></tr><tr><td>Mountain Frames</td><td>Multi</td><td>0</td></tr><tr><td>Mountain Frames</td><td>Uncolored</td><td>0</td></tr><tr><td>Panniers</td><td>Black</td><td>0</td></tr><tr><td>Panniers</td><td>Blue</td><td>0</td></tr><tr><td>Panniers</td><td>Grey</td><td>1</td></tr><tr><td>Panniers</td><td>Red</td><td>0</td></tr><tr><td>Panniers</td><td>Silver</td><td>0</td></tr><tr><td>Panniers</td><td>Silver/Black</td><td>0</td></tr><tr><td>Panniers</td><td>White</td><td>0</td></tr><tr><td>Panniers</td><td>Yellow</td><td>0</td></tr><tr><td>Panniers</td><td>Multi</td><td>0</td></tr><tr><td>Panniers</td><td>Uncolored</td><td>0</td></tr><tr><td>Pedals</td><td>Black</td><td>0</td></tr><tr><td>Pedals</td><td>Blue</td><td>0</td></tr><tr><td>Pedals</td><td>Grey</td><td>0</td></tr><tr><td>Pedals</td><td>Red</td><td>0</td></tr><tr><td>Pedals</td><td>Silver</td><td>0</td></tr><tr><td>Pedals</td><td>Silver/Black</td><td>7</td></tr><tr><td>Pedals</td><td>White</td><td>0</td></tr><tr><td>Pedals</td><td>Yellow</td><td>0</td></tr><tr><td>Pedals</td><td>Multi</td><td>0</td></tr><tr><td>Pedals</td><td>Uncolored</td><td>0</td></tr><tr><td>Pumps</td><td>Black</td><td>0</td></tr><tr><td>Pumps</td><td>Blue</td><td>0</td></tr><tr><td>Pumps</td><td>Grey</td><td>0</td></tr><tr><td>Pumps</td><td>Red</td><td>0</td></tr><tr><td>Pumps</td><td>Silver</td><td>0</td></tr><tr><td>Pumps</td><td>Silver/Black</td><td>0</td></tr><tr><td>Pumps</td><td>White</td><td>0</td></tr><tr><td>Pumps</td><td>Yellow</td><td>0</td></tr><tr><td>Pumps</td><td>Multi</td><td>0</td></tr><tr><td>Pumps</td><td>Uncolored</td><td>2</td></tr><tr><td>Road Bikes</td><td>Black</td><td>14</td></tr><tr><td>Road Bikes</td><td>Blue</td><td>0</td></tr><tr><td>Road Bikes</td><td>Grey</td><td>0</td></tr><tr><td>Road Bikes</td><td>Red</td><td>20</td></tr><tr><td>Road Bikes</td><td>Silver</td><td>0</td></tr><tr><td>Road Bikes</td><td>Silver/Black</td><td>0</td></tr><tr><td>Road Bikes</td><td>White</td><td>0</td></tr><tr><td>Road Bikes</td><td>Yellow</td><td>9</td></tr><tr><td>Road Bikes</td><td>Multi</td><td>0</td></tr><tr><td>Road Bikes</td><td>Uncolored</td><td>0</td></tr><tr><td>Road Frames</td><td>Black</td><td>11</td></tr><tr><td>Road Frames</td><td>Blue</td><td>0</td></tr><tr><td>Road Frames</td><td>Grey</td><td>0</td></tr><tr><td>Road Frames</td><td>Red</td><td>17</td></tr><tr><td>Road Frames</td><td>Silver</td><td>0</td></tr><tr><td>Road Frames</td><td>Silver/Black</td><td>0</td></tr><tr><td>Road Frames</td><td>White</td><td>0</td></tr><tr><td>Road Frames</td><td>Yellow</td><td>5</td></tr><tr><td>Road Frames</td><td>Multi</td><td>0</td></tr><tr><td>Road Frames</td><td>Uncolored</td><td>0</td></tr><tr><td>Saddles</td><td>Black</td><td>0</td></tr><tr><td>Saddles</td><td>Blue</td><td>0</td></tr><tr><td>Saddles</td><td>Grey</td><td>0</td></tr><tr><td>Saddles</td><td>Red</td><td>0</td></tr><tr><td>Saddles</td><td>Silver</td><td>0</td></tr><tr><td>Saddles</td><td>Silver/Black</td><td>0</td></tr><tr><td>Saddles</td><td>White</td><td>0</td></tr><tr><td>Saddles</td><td>Yellow</td><td>0</td></tr><tr><td>Saddles</td><td>Multi</td><td>0</td></tr><tr><td>Saddles</td><td>Uncolored</td><td>9</td></tr><tr><td>Shorts</td><td>Black</td><td>7</td></tr><tr><td>Shorts</td><td>Blue</td><td>0</td></tr><tr><td>Shorts</td><td>Grey</td><td>0</td></tr><tr><td>Shorts</td><td>Red</td><td>0</td></tr><tr><td>Shorts</td><td>Silver</td><td>0</td></tr><tr><td>Shorts</td><td>Silver/Black</td><td>0</td></tr><tr><td>Shorts</td><td>White</td><td>0</td></tr><tr><td>Shorts</td><td>Yellow</td><td>0</td></tr><tr><td>Shorts</td><td>Multi</td><td>0</td></tr><tr><td>Shorts</td><td>Uncolored</td><td>0</td></tr><tr><td>Socks</td><td>Black</td><td>0</td></tr><tr><td>Socks</td><td>Blue</td><td>0</td></tr><tr><td>Socks</td><td>Grey</td><td>0</td></tr><tr><td>Socks</td><td>Red</td><td>0</td></tr><tr><td>Socks</td><td>Silver</td><td>0</td></tr><tr><td>Socks</td><td>Silver/Black</td><td>0</td></tr><tr><td>Socks</td><td>White</td><td>4</td></tr><tr><td>Socks</td><td>Yellow</td><td>0</td></tr><tr><td>Socks</td><td>Multi</td><td>0</td></tr><tr><td>Socks</td><td>Uncolored</td><td>0</td></tr><tr><td>Tights</td><td>Black</td><td>3</td></tr><tr><td>Tights</td><td>Blue</td><td>0</td></tr><tr><td>Tights</td><td>Grey</td><td>0</td></tr><tr><td>Tights</td><td>Red</td><td>0</td></tr><tr><td>Tights</td><td>Silver</td><td>0</td></tr><tr><td>Tights</td><td>Silver/Black</td><td>0</td></tr><tr><td>Tights</td><td>White</td><td>0</td></tr><tr><td>Tights</td><td>Yellow</td><td>0</td></tr><tr><td>Tights</td><td>Multi</td><td>0</td></tr><tr><td>Tights</td><td>Uncolored</td><td>0</td></tr><tr><td>Tires and Tubes</td><td>Black</td><td>0</td></tr><tr><td>Tires and Tubes</td><td>Blue</td><td>0</td></tr><tr><td>Tires and Tubes</td><td>Grey</td><td>0</td></tr><tr><td>Tires and Tubes</td><td>Red</td><td>0</td></tr><tr><td>Tires and Tubes</td><td>Silver</td><td>0</td></tr><tr><td>Tires and Tubes</td><td>Silver/Black</td><td>0</td></tr><tr><td>Tires and Tubes</td><td>White</td><td>0</td></tr><tr><td>Tires and Tubes</td><td>Yellow</td><td>0</td></tr><tr><td>Tires and Tubes</td><td>Multi</td><td>0</td></tr><tr><td>Tires and Tubes</td><td>Uncolored</td><td>11</td></tr><tr><td>Touring Bikes</td><td>Black</td><td>0</td></tr><tr><td>Touring Bikes</td><td>Blue</td><td>13</td></tr><tr><td>Touring Bikes</td><td>Grey</td><td>0</td></tr><tr><td>Touring Bikes</td><td>Red</td><td>0</td></tr><tr><td>Touring Bikes</td><td>Silver</td><td>0</td></tr><tr><td>Touring Bikes</td><td>Silver/Black</td><td>0</td></tr><tr><td>Touring Bikes</td><td>White</td><td>0</td></tr><tr><td>Touring Bikes</td><td>Yellow</td><td>9</td></tr><tr><td>Touring Bikes</td><td>Multi</td><td>0</td></tr><tr><td>Touring Bikes</td><td>Uncolored</td><td>0</td></tr><tr><td>Touring Frames</td><td>Black</td><td>0</td></tr><tr><td>Touring Frames</td><td>Blue</td><td>9</td></tr><tr><td>Touring Frames</td><td>Grey</td><td>0</td></tr><tr><td>Touring Frames</td><td>Red</td><td>0</td></tr><tr><td>Touring Frames</td><td>Silver</td><td>0</td></tr><tr><td>Touring Frames</td><td>Silver/Black</td><td>0</td></tr><tr><td>Touring Frames</td><td>White</td><td>0</td></tr><tr><td>Touring Frames</td><td>Yellow</td><td>9</td></tr><tr><td>Touring Frames</td><td>Multi</td><td>0</td></tr><tr><td>Touring Frames</td><td>Uncolored</td><td>0</td></tr><tr><td>Vests</td><td>Black</td><td>0</td></tr><tr><td>Vests</td><td>Blue</td><td>3</td></tr><tr><td>Vests</td><td>Grey</td><td>0</td></tr><tr><td>Vests</td><td>Red</td><td>0</td></tr><tr><td>Vests</td><td>Silver</td><td>0</td></tr><tr><td>Vests</td><td>Silver/Black</td><td>0</td></tr><tr><td>Vests</td><td>White</td><td>0</td></tr><tr><td>Vests</td><td>Yellow</td><td>0</td></tr><tr><td>Vests</td><td>Multi</td><td>0</td></tr><tr><td>Vests</td><td>Uncolored</td><td>0</td></tr><tr><td>Wheels</td><td>Black</td><td>14</td></tr><tr><td>Wheels</td><td>Blue</td><td>0</td></tr><tr><td>Wheels</td><td>Grey</td><td>0</td></tr><tr><td>Wheels</td><td>Red</td><td>0</td></tr><tr><td>Wheels</td><td>Silver</td><td>0</td></tr><tr><td>Wheels</td><td>Silver/Black</td><td>0</td></tr><tr><td>Wheels</td><td>White</td><td>0</td></tr><tr><td>Wheels</td><td>Yellow</td><td>0</td></tr><tr><td>Wheels</td><td>Multi</td><td>0</td></tr><tr><td>Wheels</td><td>Uncolored</td><td>0</td></tr></table>"
                    }
                }
            ],
            "execution_count": 52
        }
    ]
}