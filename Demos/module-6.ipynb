{
    "metadata": {
        "kernelspec": {
            "name": "SQL",
            "display_name": "SQL",
            "language": "sql"
        },
        "language_info": {
            "name": "sql",
            "version": ""
        }
    },
    "nbformat_minor": 2,
    "nbformat": 4,
    "cells": [
        {
            "cell_type": "markdown",
            "source": [
                "# Using Subqueries"
            ],
            "metadata": {
                "azdata_cell_guid": "bf438099-d7cd-4836-8dae-b0cd73bf001f"
            }
        },
        {
            "cell_type": "code",
            "source": [
                "-- Display list of products with ListPrice (listed price) greater than max UnitPrice (we've sold)\n",
                "SELECT Name AS Product, ListPrice\n",
                "FROM SalesLT.Product\n",
                "WHERE ListPrice > (SELECT MAX(UnitPrice) FROM SalesLT.SalesOrderDetail)\n",
                "ORDER BY ListPrice DESC;"
            ],
            "metadata": {
                "azdata_cell_guid": "034eda76-d3bd-4b33-ba2e-fce1b06dbaeb"
            },
            "outputs": [
                {
                    "output_type": "display_data",
                    "data": {
                        "text/html": "(39 rows affected)"
                    },
                    "metadata": {}
                },
                {
                    "output_type": "display_data",
                    "data": {
                        "text/html": "Total execution time: 00:00:00.012"
                    },
                    "metadata": {}
                },
                {
                    "output_type": "execute_result",
                    "metadata": {},
                    "execution_count": 5,
                    "data": {
                        "application/vnd.dataresource+json": {
                            "schema": {
                                "fields": [
                                    {
                                        "name": "Product"
                                    },
                                    {
                                        "name": "ListPrice"
                                    }
                                ]
                            },
                            "data": [
                                {
                                    "0": "Road-150 Red, 62",
                                    "1": "3578.2700"
                                },
                                {
                                    "0": "Road-150 Red, 44",
                                    "1": "3578.2700"
                                },
                                {
                                    "0": "Road-150 Red, 48",
                                    "1": "3578.2700"
                                },
                                {
                                    "0": "Road-150 Red, 52",
                                    "1": "3578.2700"
                                },
                                {
                                    "0": "Road-150 Red, 56",
                                    "1": "3578.2700"
                                },
                                {
                                    "0": "Mountain-100 Silver, 38",
                                    "1": "3399.9900"
                                },
                                {
                                    "0": "Mountain-100 Silver, 42",
                                    "1": "3399.9900"
                                },
                                {
                                    "0": "Mountain-100 Silver, 44",
                                    "1": "3399.9900"
                                },
                                {
                                    "0": "Mountain-100 Silver, 48",
                                    "1": "3399.9900"
                                },
                                {
                                    "0": "Mountain-100 Black, 38",
                                    "1": "3374.9900"
                                },
                                {
                                    "0": "Mountain-100 Black, 42",
                                    "1": "3374.9900"
                                },
                                {
                                    "0": "Mountain-100 Black, 44",
                                    "1": "3374.9900"
                                },
                                {
                                    "0": "Mountain-100 Black, 48",
                                    "1": "3374.9900"
                                },
                                {
                                    "0": "Road-250 Red, 44",
                                    "1": "2443.3500"
                                },
                                {
                                    "0": "Road-250 Red, 48",
                                    "1": "2443.3500"
                                },
                                {
                                    "0": "Road-250 Red, 52",
                                    "1": "2443.3500"
                                },
                                {
                                    "0": "Road-250 Red, 58",
                                    "1": "2443.3500"
                                },
                                {
                                    "0": "Road-250 Black, 44",
                                    "1": "2443.3500"
                                },
                                {
                                    "0": "Road-250 Black, 48",
                                    "1": "2443.3500"
                                },
                                {
                                    "0": "Road-250 Black, 52",
                                    "1": "2443.3500"
                                },
                                {
                                    "0": "Road-250 Black, 58",
                                    "1": "2443.3500"
                                },
                                {
                                    "0": "Touring-1000 Yellow, 46",
                                    "1": "2384.0700"
                                },
                                {
                                    "0": "Touring-1000 Yellow, 50",
                                    "1": "2384.0700"
                                },
                                {
                                    "0": "Touring-1000 Yellow, 54",
                                    "1": "2384.0700"
                                },
                                {
                                    "0": "Touring-1000 Yellow, 60",
                                    "1": "2384.0700"
                                },
                                {
                                    "0": "Touring-1000 Blue, 46",
                                    "1": "2384.0700"
                                },
                                {
                                    "0": "Touring-1000 Blue, 50",
                                    "1": "2384.0700"
                                },
                                {
                                    "0": "Touring-1000 Blue, 54",
                                    "1": "2384.0700"
                                },
                                {
                                    "0": "Touring-1000 Blue, 60",
                                    "1": "2384.0700"
                                },
                                {
                                    "0": "Mountain-200 Silver, 38",
                                    "1": "2319.9900"
                                },
                                {
                                    "0": "Mountain-200 Silver, 42",
                                    "1": "2319.9900"
                                },
                                {
                                    "0": "Mountain-200 Silver, 46",
                                    "1": "2319.9900"
                                },
                                {
                                    "0": "Mountain-200 Black, 38",
                                    "1": "2294.9900"
                                },
                                {
                                    "0": "Mountain-200 Black, 42",
                                    "1": "2294.9900"
                                },
                                {
                                    "0": "Mountain-200 Black, 46",
                                    "1": "2294.9900"
                                },
                                {
                                    "0": "Road-350-W Yellow, 40",
                                    "1": "1700.9900"
                                },
                                {
                                    "0": "Road-350-W Yellow, 42",
                                    "1": "1700.9900"
                                },
                                {
                                    "0": "Road-350-W Yellow, 44",
                                    "1": "1700.9900"
                                },
                                {
                                    "0": "Road-350-W Yellow, 48",
                                    "1": "1700.9900"
                                }
                            ]
                        },
                        "text/html": "<table><tr><th>Product</th><th>ListPrice</th></tr><tr><td>Road-150 Red, 62</td><td>3578.2700</td></tr><tr><td>Road-150 Red, 44</td><td>3578.2700</td></tr><tr><td>Road-150 Red, 48</td><td>3578.2700</td></tr><tr><td>Road-150 Red, 52</td><td>3578.2700</td></tr><tr><td>Road-150 Red, 56</td><td>3578.2700</td></tr><tr><td>Mountain-100 Silver, 38</td><td>3399.9900</td></tr><tr><td>Mountain-100 Silver, 42</td><td>3399.9900</td></tr><tr><td>Mountain-100 Silver, 44</td><td>3399.9900</td></tr><tr><td>Mountain-100 Silver, 48</td><td>3399.9900</td></tr><tr><td>Mountain-100 Black, 38</td><td>3374.9900</td></tr><tr><td>Mountain-100 Black, 42</td><td>3374.9900</td></tr><tr><td>Mountain-100 Black, 44</td><td>3374.9900</td></tr><tr><td>Mountain-100 Black, 48</td><td>3374.9900</td></tr><tr><td>Road-250 Red, 44</td><td>2443.3500</td></tr><tr><td>Road-250 Red, 48</td><td>2443.3500</td></tr><tr><td>Road-250 Red, 52</td><td>2443.3500</td></tr><tr><td>Road-250 Red, 58</td><td>2443.3500</td></tr><tr><td>Road-250 Black, 44</td><td>2443.3500</td></tr><tr><td>Road-250 Black, 48</td><td>2443.3500</td></tr><tr><td>Road-250 Black, 52</td><td>2443.3500</td></tr><tr><td>Road-250 Black, 58</td><td>2443.3500</td></tr><tr><td>Touring-1000 Yellow, 46</td><td>2384.0700</td></tr><tr><td>Touring-1000 Yellow, 50</td><td>2384.0700</td></tr><tr><td>Touring-1000 Yellow, 54</td><td>2384.0700</td></tr><tr><td>Touring-1000 Yellow, 60</td><td>2384.0700</td></tr><tr><td>Touring-1000 Blue, 46</td><td>2384.0700</td></tr><tr><td>Touring-1000 Blue, 50</td><td>2384.0700</td></tr><tr><td>Touring-1000 Blue, 54</td><td>2384.0700</td></tr><tr><td>Touring-1000 Blue, 60</td><td>2384.0700</td></tr><tr><td>Mountain-200 Silver, 38</td><td>2319.9900</td></tr><tr><td>Mountain-200 Silver, 42</td><td>2319.9900</td></tr><tr><td>Mountain-200 Silver, 46</td><td>2319.9900</td></tr><tr><td>Mountain-200 Black, 38</td><td>2294.9900</td></tr><tr><td>Mountain-200 Black, 42</td><td>2294.9900</td></tr><tr><td>Mountain-200 Black, 46</td><td>2294.9900</td></tr><tr><td>Road-350-W Yellow, 40</td><td>1700.9900</td></tr><tr><td>Road-350-W Yellow, 42</td><td>1700.9900</td></tr><tr><td>Road-350-W Yellow, 44</td><td>1700.9900</td></tr><tr><td>Road-350-W Yellow, 48</td><td>1700.9900</td></tr></table>"
                    }
                }
            ],
            "execution_count": 5
        },
        {
            "cell_type": "code",
            "source": [
                "-- List customers where OrderDate is max i.e, Customers on latest OrderDate\n",
                "SELECT CustomerID, SalesOrderNumber, OrderDate\n",
                "FROM SalesLT.SalesOrderHeader\n",
                "WHERE OrderDate = (SELECT MAX(OrderDate) FROM SalesLT.SalesOrderHeader)\n",
                "ORDER BY CustomerID"
            ],
            "metadata": {
                "azdata_cell_guid": "393f44d5-89c3-4490-b1c2-dfb79fc26815",
                "tags": []
            },
            "outputs": [
                {
                    "output_type": "display_data",
                    "data": {
                        "text/html": "(32 rows affected)"
                    },
                    "metadata": {}
                },
                {
                    "output_type": "display_data",
                    "data": {
                        "text/html": "Total execution time: 00:00:00.008"
                    },
                    "metadata": {}
                },
                {
                    "output_type": "execute_result",
                    "metadata": {},
                    "execution_count": 16,
                    "data": {
                        "application/vnd.dataresource+json": {
                            "schema": {
                                "fields": [
                                    {
                                        "name": "CustomerID"
                                    },
                                    {
                                        "name": "SalesOrderNumber"
                                    },
                                    {
                                        "name": "OrderDate"
                                    }
                                ]
                            },
                            "data": [
                                {
                                    "0": "29485",
                                    "1": "SO71782",
                                    "2": "2004-06-01 00:00:00.000"
                                },
                                {
                                    "0": "29531",
                                    "1": "SO71935",
                                    "2": "2004-06-01 00:00:00.000"
                                },
                                {
                                    "0": "29546",
                                    "1": "SO71938",
                                    "2": "2004-06-01 00:00:00.000"
                                },
                                {
                                    "0": "29568",
                                    "1": "SO71899",
                                    "2": "2004-06-01 00:00:00.000"
                                },
                                {
                                    "0": "29584",
                                    "1": "SO71895",
                                    "2": "2004-06-01 00:00:00.000"
                                },
                                {
                                    "0": "29612",
                                    "1": "SO71885",
                                    "2": "2004-06-01 00:00:00.000"
                                },
                                {
                                    "0": "29638",
                                    "1": "SO71915",
                                    "2": "2004-06-01 00:00:00.000"
                                },
                                {
                                    "0": "29644",
                                    "1": "SO71867",
                                    "2": "2004-06-01 00:00:00.000"
                                },
                                {
                                    "0": "29653",
                                    "1": "SO71858",
                                    "2": "2004-06-01 00:00:00.000"
                                },
                                {
                                    "0": "29660",
                                    "1": "SO71796",
                                    "2": "2004-06-01 00:00:00.000"
                                },
                                {
                                    "0": "29736",
                                    "1": "SO71784",
                                    "2": "2004-06-01 00:00:00.000"
                                },
                                {
                                    "0": "29741",
                                    "1": "SO71946",
                                    "2": "2004-06-01 00:00:00.000"
                                },
                                {
                                    "0": "29781",
                                    "1": "SO71923",
                                    "2": "2004-06-01 00:00:00.000"
                                },
                                {
                                    "0": "29796",
                                    "1": "SO71797",
                                    "2": "2004-06-01 00:00:00.000"
                                },
                                {
                                    "0": "29847",
                                    "1": "SO71774",
                                    "2": "2004-06-01 00:00:00.000"
                                },
                                {
                                    "0": "29877",
                                    "1": "SO71897",
                                    "2": "2004-06-01 00:00:00.000"
                                },
                                {
                                    "0": "29922",
                                    "1": "SO71832",
                                    "2": "2004-06-01 00:00:00.000"
                                },
                                {
                                    "0": "29929",
                                    "1": "SO71902",
                                    "2": "2004-06-01 00:00:00.000"
                                },
                                {
                                    "0": "29932",
                                    "1": "SO71898",
                                    "2": "2004-06-01 00:00:00.000"
                                },
                                {
                                    "0": "29938",
                                    "1": "SO71845",
                                    "2": "2004-06-01 00:00:00.000"
                                },
                                {
                                    "0": "29957",
                                    "1": "SO71783",
                                    "2": "2004-06-01 00:00:00.000"
                                },
                                {
                                    "0": "29975",
                                    "1": "SO71863",
                                    "2": "2004-06-01 00:00:00.000"
                                },
                                {
                                    "0": "29982",
                                    "1": "SO71920",
                                    "2": "2004-06-01 00:00:00.000"
                                },
                                {
                                    "0": "30019",
                                    "1": "SO71831",
                                    "2": "2004-06-01 00:00:00.000"
                                },
                                {
                                    "0": "30025",
                                    "1": "SO71917",
                                    "2": "2004-06-01 00:00:00.000"
                                },
                                {
                                    "0": "30027",
                                    "1": "SO71816",
                                    "2": "2004-06-01 00:00:00.000"
                                },
                                {
                                    "0": "30033",
                                    "1": "SO71856",
                                    "2": "2004-06-01 00:00:00.000"
                                },
                                {
                                    "0": "30050",
                                    "1": "SO71936",
                                    "2": "2004-06-01 00:00:00.000"
                                },
                                {
                                    "0": "30072",
                                    "1": "SO71776",
                                    "2": "2004-06-01 00:00:00.000"
                                },
                                {
                                    "0": "30089",
                                    "1": "SO71815",
                                    "2": "2004-06-01 00:00:00.000"
                                },
                                {
                                    "0": "30102",
                                    "1": "SO71846",
                                    "2": "2004-06-01 00:00:00.000"
                                },
                                {
                                    "0": "30113",
                                    "1": "SO71780",
                                    "2": "2004-06-01 00:00:00.000"
                                }
                            ]
                        },
                        "text/html": "<table><tr><th>CustomerID</th><th>SalesOrderNumber</th><th>OrderDate</th></tr><tr><td>29485</td><td>SO71782</td><td>2004-06-01 00:00:00.000</td></tr><tr><td>29531</td><td>SO71935</td><td>2004-06-01 00:00:00.000</td></tr><tr><td>29546</td><td>SO71938</td><td>2004-06-01 00:00:00.000</td></tr><tr><td>29568</td><td>SO71899</td><td>2004-06-01 00:00:00.000</td></tr><tr><td>29584</td><td>SO71895</td><td>2004-06-01 00:00:00.000</td></tr><tr><td>29612</td><td>SO71885</td><td>2004-06-01 00:00:00.000</td></tr><tr><td>29638</td><td>SO71915</td><td>2004-06-01 00:00:00.000</td></tr><tr><td>29644</td><td>SO71867</td><td>2004-06-01 00:00:00.000</td></tr><tr><td>29653</td><td>SO71858</td><td>2004-06-01 00:00:00.000</td></tr><tr><td>29660</td><td>SO71796</td><td>2004-06-01 00:00:00.000</td></tr><tr><td>29736</td><td>SO71784</td><td>2004-06-01 00:00:00.000</td></tr><tr><td>29741</td><td>SO71946</td><td>2004-06-01 00:00:00.000</td></tr><tr><td>29781</td><td>SO71923</td><td>2004-06-01 00:00:00.000</td></tr><tr><td>29796</td><td>SO71797</td><td>2004-06-01 00:00:00.000</td></tr><tr><td>29847</td><td>SO71774</td><td>2004-06-01 00:00:00.000</td></tr><tr><td>29877</td><td>SO71897</td><td>2004-06-01 00:00:00.000</td></tr><tr><td>29922</td><td>SO71832</td><td>2004-06-01 00:00:00.000</td></tr><tr><td>29929</td><td>SO71902</td><td>2004-06-01 00:00:00.000</td></tr><tr><td>29932</td><td>SO71898</td><td>2004-06-01 00:00:00.000</td></tr><tr><td>29938</td><td>SO71845</td><td>2004-06-01 00:00:00.000</td></tr><tr><td>29957</td><td>SO71783</td><td>2004-06-01 00:00:00.000</td></tr><tr><td>29975</td><td>SO71863</td><td>2004-06-01 00:00:00.000</td></tr><tr><td>29982</td><td>SO71920</td><td>2004-06-01 00:00:00.000</td></tr><tr><td>30019</td><td>SO71831</td><td>2004-06-01 00:00:00.000</td></tr><tr><td>30025</td><td>SO71917</td><td>2004-06-01 00:00:00.000</td></tr><tr><td>30027</td><td>SO71816</td><td>2004-06-01 00:00:00.000</td></tr><tr><td>30033</td><td>SO71856</td><td>2004-06-01 00:00:00.000</td></tr><tr><td>30050</td><td>SO71936</td><td>2004-06-01 00:00:00.000</td></tr><tr><td>30072</td><td>SO71776</td><td>2004-06-01 00:00:00.000</td></tr><tr><td>30089</td><td>SO71815</td><td>2004-06-01 00:00:00.000</td></tr><tr><td>30102</td><td>SO71846</td><td>2004-06-01 00:00:00.000</td></tr><tr><td>30113</td><td>SO71780</td><td>2004-06-01 00:00:00.000</td></tr></table>"
                    }
                }
            ],
            "execution_count": 16
        },
        {
            "cell_type": "markdown",
            "source": [
                "# Using Correlated Queries"
            ],
            "metadata": {
                "azdata_cell_guid": "8cb12c9e-963c-4e67-a57c-9184b27fd30f"
            }
        },
        {
            "cell_type": "code",
            "source": [
                "-- Display for each Customer their max (or latest) OrderDate\n",
                "SELECT CustomerID, SalesOrderNumber, OrderDate\n",
                "FROM SalesLT.SalesOrderHeader AS soh1\n",
                "WHERE OrderDate = \n",
                "(SELECT MAX(OrderDate)\n",
                "FROM SalesLT.SalesOrderHeader AS soh2\n",
                "WHERE soh1.CustomerID = soh2.CustomerID)\n",
                "ORDER BY CustomerID"
            ],
            "metadata": {
                "azdata_cell_guid": "6d6e05a3-5e27-49be-bd54-c173a059b8fb",
                "tags": []
            },
            "outputs": [
                {
                    "output_type": "display_data",
                    "data": {
                        "text/html": "(32 rows affected)"
                    },
                    "metadata": {}
                },
                {
                    "output_type": "display_data",
                    "data": {
                        "text/html": "Total execution time: 00:00:00.004"
                    },
                    "metadata": {}
                },
                {
                    "output_type": "execute_result",
                    "metadata": {},
                    "execution_count": 37,
                    "data": {
                        "application/vnd.dataresource+json": {
                            "schema": {
                                "fields": [
                                    {
                                        "name": "CustomerID"
                                    },
                                    {
                                        "name": "SalesOrderNumber"
                                    },
                                    {
                                        "name": "OrderDate"
                                    }
                                ]
                            },
                            "data": [
                                {
                                    "0": "29485",
                                    "1": "SO71782",
                                    "2": "2004-06-01 00:00:00.000"
                                },
                                {
                                    "0": "29531",
                                    "1": "SO71935",
                                    "2": "2004-06-01 00:00:00.000"
                                },
                                {
                                    "0": "29546",
                                    "1": "SO71938",
                                    "2": "2004-06-01 00:00:00.000"
                                },
                                {
                                    "0": "29568",
                                    "1": "SO71899",
                                    "2": "2004-06-01 00:00:00.000"
                                },
                                {
                                    "0": "29584",
                                    "1": "SO71895",
                                    "2": "2004-06-01 00:00:00.000"
                                },
                                {
                                    "0": "29612",
                                    "1": "SO71885",
                                    "2": "2004-06-01 00:00:00.000"
                                },
                                {
                                    "0": "29638",
                                    "1": "SO71915",
                                    "2": "2004-06-01 00:00:00.000"
                                },
                                {
                                    "0": "29644",
                                    "1": "SO71867",
                                    "2": "2004-06-01 00:00:00.000"
                                },
                                {
                                    "0": "29653",
                                    "1": "SO71858",
                                    "2": "2004-06-01 00:00:00.000"
                                },
                                {
                                    "0": "29660",
                                    "1": "SO71796",
                                    "2": "2004-06-01 00:00:00.000"
                                },
                                {
                                    "0": "29736",
                                    "1": "SO71784",
                                    "2": "2004-06-01 00:00:00.000"
                                },
                                {
                                    "0": "29741",
                                    "1": "SO71946",
                                    "2": "2004-06-01 00:00:00.000"
                                },
                                {
                                    "0": "29781",
                                    "1": "SO71923",
                                    "2": "2004-06-01 00:00:00.000"
                                },
                                {
                                    "0": "29796",
                                    "1": "SO71797",
                                    "2": "2004-06-01 00:00:00.000"
                                },
                                {
                                    "0": "29847",
                                    "1": "SO71774",
                                    "2": "2004-06-01 00:00:00.000"
                                },
                                {
                                    "0": "29877",
                                    "1": "SO71897",
                                    "2": "2004-06-01 00:00:00.000"
                                },
                                {
                                    "0": "29922",
                                    "1": "SO71832",
                                    "2": "2004-06-01 00:00:00.000"
                                },
                                {
                                    "0": "29929",
                                    "1": "SO71902",
                                    "2": "2004-06-01 00:00:00.000"
                                },
                                {
                                    "0": "29932",
                                    "1": "SO71898",
                                    "2": "2004-06-01 00:00:00.000"
                                },
                                {
                                    "0": "29938",
                                    "1": "SO71845",
                                    "2": "2004-06-01 00:00:00.000"
                                },
                                {
                                    "0": "29957",
                                    "1": "SO71783",
                                    "2": "2004-06-01 00:00:00.000"
                                },
                                {
                                    "0": "29975",
                                    "1": "SO71863",
                                    "2": "2004-06-01 00:00:00.000"
                                },
                                {
                                    "0": "29982",
                                    "1": "SO71920",
                                    "2": "2004-06-01 00:00:00.000"
                                },
                                {
                                    "0": "30019",
                                    "1": "SO71831",
                                    "2": "2004-06-01 00:00:00.000"
                                },
                                {
                                    "0": "30025",
                                    "1": "SO71917",
                                    "2": "2004-06-01 00:00:00.000"
                                },
                                {
                                    "0": "30027",
                                    "1": "SO71816",
                                    "2": "2004-06-01 00:00:00.000"
                                },
                                {
                                    "0": "30033",
                                    "1": "SO71856",
                                    "2": "2004-06-01 00:00:00.000"
                                },
                                {
                                    "0": "30050",
                                    "1": "SO71936",
                                    "2": "2004-06-01 00:00:00.000"
                                },
                                {
                                    "0": "30072",
                                    "1": "SO71776",
                                    "2": "2004-06-01 00:00:00.000"
                                },
                                {
                                    "0": "30089",
                                    "1": "SO71815",
                                    "2": "2004-06-01 00:00:00.000"
                                },
                                {
                                    "0": "30102",
                                    "1": "SO71846",
                                    "2": "2004-06-01 00:00:00.000"
                                },
                                {
                                    "0": "30113",
                                    "1": "SO71780",
                                    "2": "2004-06-01 00:00:00.000"
                                }
                            ]
                        },
                        "text/html": "<table><tr><th>CustomerID</th><th>SalesOrderNumber</th><th>OrderDate</th></tr><tr><td>29485</td><td>SO71782</td><td>2004-06-01 00:00:00.000</td></tr><tr><td>29531</td><td>SO71935</td><td>2004-06-01 00:00:00.000</td></tr><tr><td>29546</td><td>SO71938</td><td>2004-06-01 00:00:00.000</td></tr><tr><td>29568</td><td>SO71899</td><td>2004-06-01 00:00:00.000</td></tr><tr><td>29584</td><td>SO71895</td><td>2004-06-01 00:00:00.000</td></tr><tr><td>29612</td><td>SO71885</td><td>2004-06-01 00:00:00.000</td></tr><tr><td>29638</td><td>SO71915</td><td>2004-06-01 00:00:00.000</td></tr><tr><td>29644</td><td>SO71867</td><td>2004-06-01 00:00:00.000</td></tr><tr><td>29653</td><td>SO71858</td><td>2004-06-01 00:00:00.000</td></tr><tr><td>29660</td><td>SO71796</td><td>2004-06-01 00:00:00.000</td></tr><tr><td>29736</td><td>SO71784</td><td>2004-06-01 00:00:00.000</td></tr><tr><td>29741</td><td>SO71946</td><td>2004-06-01 00:00:00.000</td></tr><tr><td>29781</td><td>SO71923</td><td>2004-06-01 00:00:00.000</td></tr><tr><td>29796</td><td>SO71797</td><td>2004-06-01 00:00:00.000</td></tr><tr><td>29847</td><td>SO71774</td><td>2004-06-01 00:00:00.000</td></tr><tr><td>29877</td><td>SO71897</td><td>2004-06-01 00:00:00.000</td></tr><tr><td>29922</td><td>SO71832</td><td>2004-06-01 00:00:00.000</td></tr><tr><td>29929</td><td>SO71902</td><td>2004-06-01 00:00:00.000</td></tr><tr><td>29932</td><td>SO71898</td><td>2004-06-01 00:00:00.000</td></tr><tr><td>29938</td><td>SO71845</td><td>2004-06-01 00:00:00.000</td></tr><tr><td>29957</td><td>SO71783</td><td>2004-06-01 00:00:00.000</td></tr><tr><td>29975</td><td>SO71863</td><td>2004-06-01 00:00:00.000</td></tr><tr><td>29982</td><td>SO71920</td><td>2004-06-01 00:00:00.000</td></tr><tr><td>30019</td><td>SO71831</td><td>2004-06-01 00:00:00.000</td></tr><tr><td>30025</td><td>SO71917</td><td>2004-06-01 00:00:00.000</td></tr><tr><td>30027</td><td>SO71816</td><td>2004-06-01 00:00:00.000</td></tr><tr><td>30033</td><td>SO71856</td><td>2004-06-01 00:00:00.000</td></tr><tr><td>30050</td><td>SO71936</td><td>2004-06-01 00:00:00.000</td></tr><tr><td>30072</td><td>SO71776</td><td>2004-06-01 00:00:00.000</td></tr><tr><td>30089</td><td>SO71815</td><td>2004-06-01 00:00:00.000</td></tr><tr><td>30102</td><td>SO71846</td><td>2004-06-01 00:00:00.000</td></tr><tr><td>30113</td><td>SO71780</td><td>2004-06-01 00:00:00.000</td></tr></table>"
                    }
                }
            ],
            "execution_count": 37
        }
    ]
}