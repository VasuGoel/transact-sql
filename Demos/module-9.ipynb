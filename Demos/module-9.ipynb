{
    "metadata": {
        "kernelspec": {
            "name": "SQL",
            "display_name": "SQL",
            "language": "sql"
        },
        "language_info": {
            "name": "sql",
            "version": ""
        }
    },
    "nbformat_minor": 2,
    "nbformat": 4,
    "cells": [
        {
            "cell_type": "markdown",
            "source": [
                "# Inserting Data"
            ],
            "metadata": {
                "azdata_cell_guid": "56a303b5-56a3-43c8-80e2-1624fe838cb3"
            }
        },
        {
            "cell_type": "code",
            "source": [
                "-- Create a table CallLog which logs information about calls made to Customers by SalesPerson\n",
                "CREATE TABLE SalesLT.CallLog (\n",
                "    CallID int IDENTITY PRIMARY KEY NOT NULL,\n",
                "    CallTime datetime NOT NULL DEFAULT GETDATE(),\n",
                "    SalesPerson nvarchar(256) NOT NULL,\n",
                "    CustomerID int NOT NULL REFERENCES SalesLT.Customer(CustomerID),\n",
                "    PhoneNumber nvarchar(25) NOT NULL, \n",
                "    Notes nvarchar(max) NULL\n",
                ");\n",
                "GO\n",
                "\n",
                "SELECT * FROM SalesLT.CallLog"
            ],
            "metadata": {
                "azdata_cell_guid": "6b138df1-3ae0-45c8-9d0e-489bdc8fc614"
            },
            "outputs": [
                {
                    "output_type": "execute_result",
                    "metadata": {},
                    "execution_count": 3,
                    "data": {
                        "application/vnd.dataresource+json": {
                            "schema": {
                                "fields": [
                                    {
                                        "name": "CallID"
                                    },
                                    {
                                        "name": "CallTime"
                                    },
                                    {
                                        "name": "SalesPerson"
                                    },
                                    {
                                        "name": "CustomerID"
                                    },
                                    {
                                        "name": "PhoneNumber"
                                    },
                                    {
                                        "name": "Notes"
                                    }
                                ]
                            },
                            "data": []
                        },
                        "text/html": "<table><tr><th>CallID</th><th>CallTime</th><th>SalesPerson</th><th>CustomerID</th><th>PhoneNumber</th><th>Notes</th></tr></table>"
                    }
                },
                {
                    "output_type": "display_data",
                    "data": {
                        "text/html": "Commands completed successfully."
                    },
                    "metadata": {}
                },
                {
                    "output_type": "display_data",
                    "data": {
                        "text/html": "(0 rows affected)"
                    },
                    "metadata": {}
                },
                {
                    "output_type": "display_data",
                    "data": {
                        "text/html": "Total execution time: 00:00:00.091"
                    },
                    "metadata": {}
                }
            ],
            "execution_count": 3
        },
        {
            "cell_type": "code",
            "source": [
                "-- Insert a row\n",
                "INSERT INTO SalesLT.CallLog\n",
                "VALUES ('2020-01-01T12:30:00', 'adventure-works\\pamela0', 1, '245-555-0173', 'Returning call re: enquiry about delivery');\n",
                "\n",
                "SELECT * FROM SalesLT.CallLog"
            ],
            "metadata": {
                "azdata_cell_guid": "88cf466c-865b-4791-8d51-834191ed8227"
            },
            "outputs": [
                {
                    "output_type": "display_data",
                    "data": {
                        "text/html": "(1 row affected)"
                    },
                    "metadata": {}
                },
                {
                    "output_type": "display_data",
                    "data": {
                        "text/html": "(1 row affected)"
                    },
                    "metadata": {}
                },
                {
                    "output_type": "display_data",
                    "data": {
                        "text/html": "Total execution time: 00:00:00.017"
                    },
                    "metadata": {}
                },
                {
                    "output_type": "execute_result",
                    "metadata": {},
                    "execution_count": 4,
                    "data": {
                        "application/vnd.dataresource+json": {
                            "schema": {
                                "fields": [
                                    {
                                        "name": "CallID"
                                    },
                                    {
                                        "name": "CallTime"
                                    },
                                    {
                                        "name": "SalesPerson"
                                    },
                                    {
                                        "name": "CustomerID"
                                    },
                                    {
                                        "name": "PhoneNumber"
                                    },
                                    {
                                        "name": "Notes"
                                    }
                                ]
                            },
                            "data": [
                                {
                                    "0": "1",
                                    "1": "2020-01-01 12:30:00.000",
                                    "2": "adventure-works\\pamela0",
                                    "3": "1",
                                    "4": "245-555-0173",
                                    "5": "Returning call re: enquiry about delivery"
                                }
                            ]
                        },
                        "text/html": "<table><tr><th>CallID</th><th>CallTime</th><th>SalesPerson</th><th>CustomerID</th><th>PhoneNumber</th><th>Notes</th></tr><tr><td>1</td><td>2020-01-01 12:30:00.000</td><td>adventure-works\\pamela0</td><td>1</td><td>245-555-0173</td><td>Returning call re: enquiry about delivery</td></tr></table>"
                    }
                }
            ],
            "execution_count": 4
        },
        {
            "cell_type": "code",
            "source": [
                "-- Insert defaults and nulls\n",
                "INSERT INTO SalesLT.CallLog\n",
                "VALUES (DEFAULT, 'adventure-works\\david8', 2, '170-555-0127', NULL);\n",
                "\n",
                "SELECT * FROM SalesLT.CallLog"
            ],
            "metadata": {
                "azdata_cell_guid": "7d2edd73-14d4-4d6a-9504-99a2b940a59b"
            },
            "outputs": [
                {
                    "output_type": "display_data",
                    "data": {
                        "text/html": "(1 row affected)"
                    },
                    "metadata": {}
                },
                {
                    "output_type": "display_data",
                    "data": {
                        "text/html": "(2 rows affected)"
                    },
                    "metadata": {}
                },
                {
                    "output_type": "display_data",
                    "data": {
                        "text/html": "Total execution time: 00:00:00.011"
                    },
                    "metadata": {}
                },
                {
                    "output_type": "execute_result",
                    "metadata": {},
                    "execution_count": 5,
                    "data": {
                        "application/vnd.dataresource+json": {
                            "schema": {
                                "fields": [
                                    {
                                        "name": "CallID"
                                    },
                                    {
                                        "name": "CallTime"
                                    },
                                    {
                                        "name": "SalesPerson"
                                    },
                                    {
                                        "name": "CustomerID"
                                    },
                                    {
                                        "name": "PhoneNumber"
                                    },
                                    {
                                        "name": "Notes"
                                    }
                                ]
                            },
                            "data": [
                                {
                                    "0": "1",
                                    "1": "2020-01-01 12:30:00.000",
                                    "2": "adventure-works\\pamela0",
                                    "3": "1",
                                    "4": "245-555-0173",
                                    "5": "Returning call re: enquiry about delivery"
                                },
                                {
                                    "0": "2",
                                    "1": "2020-04-25 09:44:28.140",
                                    "2": "adventure-works\\david8",
                                    "3": "2",
                                    "4": "170-555-0127",
                                    "5": "NULL"
                                }
                            ]
                        },
                        "text/html": "<table><tr><th>CallID</th><th>CallTime</th><th>SalesPerson</th><th>CustomerID</th><th>PhoneNumber</th><th>Notes</th></tr><tr><td>1</td><td>2020-01-01 12:30:00.000</td><td>adventure-works\\pamela0</td><td>1</td><td>245-555-0173</td><td>Returning call re: enquiry about delivery</td></tr><tr><td>2</td><td>2020-04-25 09:44:28.140</td><td>adventure-works\\david8</td><td>2</td><td>170-555-0127</td><td>NULL</td></tr></table>"
                    }
                }
            ],
            "execution_count": 5
        },
        {
            "cell_type": "code",
            "source": [
                "-- Insert row with explicit columns\n",
                "INSERT INTO SalesLT.CallLog (SalesPerson, CustomerID, PhoneNumber)\n",
                "VALUES ('adventure-works\\jillian0', 3, '279-555-0130');\n",
                "\n",
                "SELECT * FROM SalesLT.CallLog"
            ],
            "metadata": {
                "azdata_cell_guid": "ce285f26-06a3-4c73-aae4-f29140f3ed8b"
            },
            "outputs": [
                {
                    "output_type": "display_data",
                    "data": {
                        "text/html": "(1 row affected)"
                    },
                    "metadata": {}
                },
                {
                    "output_type": "display_data",
                    "data": {
                        "text/html": "(3 rows affected)"
                    },
                    "metadata": {}
                },
                {
                    "output_type": "display_data",
                    "data": {
                        "text/html": "Total execution time: 00:00:00.011"
                    },
                    "metadata": {}
                },
                {
                    "output_type": "execute_result",
                    "metadata": {},
                    "execution_count": 6,
                    "data": {
                        "application/vnd.dataresource+json": {
                            "schema": {
                                "fields": [
                                    {
                                        "name": "CallID"
                                    },
                                    {
                                        "name": "CallTime"
                                    },
                                    {
                                        "name": "SalesPerson"
                                    },
                                    {
                                        "name": "CustomerID"
                                    },
                                    {
                                        "name": "PhoneNumber"
                                    },
                                    {
                                        "name": "Notes"
                                    }
                                ]
                            },
                            "data": [
                                {
                                    "0": "1",
                                    "1": "2020-01-01 12:30:00.000",
                                    "2": "adventure-works\\pamela0",
                                    "3": "1",
                                    "4": "245-555-0173",
                                    "5": "Returning call re: enquiry about delivery"
                                },
                                {
                                    "0": "2",
                                    "1": "2020-04-25 09:44:28.140",
                                    "2": "adventure-works\\david8",
                                    "3": "2",
                                    "4": "170-555-0127",
                                    "5": "NULL"
                                },
                                {
                                    "0": "3",
                                    "1": "2020-04-25 09:46:46.197",
                                    "2": "adventure-works\\jillian0",
                                    "3": "3",
                                    "4": "279-555-0130",
                                    "5": "NULL"
                                }
                            ]
                        },
                        "text/html": "<table><tr><th>CallID</th><th>CallTime</th><th>SalesPerson</th><th>CustomerID</th><th>PhoneNumber</th><th>Notes</th></tr><tr><td>1</td><td>2020-01-01 12:30:00.000</td><td>adventure-works\\pamela0</td><td>1</td><td>245-555-0173</td><td>Returning call re: enquiry about delivery</td></tr><tr><td>2</td><td>2020-04-25 09:44:28.140</td><td>adventure-works\\david8</td><td>2</td><td>170-555-0127</td><td>NULL</td></tr><tr><td>3</td><td>2020-04-25 09:46:46.197</td><td>adventure-works\\jillian0</td><td>3</td><td>279-555-0130</td><td>NULL</td></tr></table>"
                    }
                }
            ],
            "execution_count": 6
        },
        {
            "cell_type": "code",
            "source": [
                "-- Insert multiple rows\n",
                "INSERT INTO SalesLT.CallLog\n",
                "VALUES\n",
                "(DATEADD(mi, -2, GETDATE()), 'adventure-works\\jillian0', 4, '710-555-0173', NULL),\n",
                "(DEFAULT, 'adventure-works\\shu0', 5, '828-555-0186', 'Call to arrange delivery of order 10987');\n",
                "\n",
                "SELECT * FROM SalesLT.CallLog;"
            ],
            "metadata": {
                "azdata_cell_guid": "11f664c0-48a0-4b31-9742-5fb9330bd1bb"
            },
            "outputs": [
                {
                    "output_type": "display_data",
                    "data": {
                        "text/html": "(2 rows affected)"
                    },
                    "metadata": {}
                },
                {
                    "output_type": "display_data",
                    "data": {
                        "text/html": "(5 rows affected)"
                    },
                    "metadata": {}
                },
                {
                    "output_type": "display_data",
                    "data": {
                        "text/html": "Total execution time: 00:00:00.014"
                    },
                    "metadata": {}
                },
                {
                    "output_type": "execute_result",
                    "metadata": {},
                    "execution_count": 8,
                    "data": {
                        "application/vnd.dataresource+json": {
                            "schema": {
                                "fields": [
                                    {
                                        "name": "CallID"
                                    },
                                    {
                                        "name": "CallTime"
                                    },
                                    {
                                        "name": "SalesPerson"
                                    },
                                    {
                                        "name": "CustomerID"
                                    },
                                    {
                                        "name": "PhoneNumber"
                                    },
                                    {
                                        "name": "Notes"
                                    }
                                ]
                            },
                            "data": [
                                {
                                    "0": "1",
                                    "1": "2020-01-01 12:30:00.000",
                                    "2": "adventure-works\\pamela0",
                                    "3": "1",
                                    "4": "245-555-0173",
                                    "5": "Returning call re: enquiry about delivery"
                                },
                                {
                                    "0": "2",
                                    "1": "2020-04-25 09:44:28.140",
                                    "2": "adventure-works\\david8",
                                    "3": "2",
                                    "4": "170-555-0127",
                                    "5": "NULL"
                                },
                                {
                                    "0": "3",
                                    "1": "2020-04-25 09:46:46.197",
                                    "2": "adventure-works\\jillian0",
                                    "3": "3",
                                    "4": "279-555-0130",
                                    "5": "NULL"
                                },
                                {
                                    "0": "4",
                                    "1": "2020-04-25 09:48:28.327",
                                    "2": "adventure-works\\jillian0",
                                    "3": "4",
                                    "4": "710-555-0173",
                                    "5": "NULL"
                                },
                                {
                                    "0": "5",
                                    "1": "2020-04-25 09:50:28.327",
                                    "2": "adventure-works\\shu0",
                                    "3": "5",
                                    "4": "828-555-0186",
                                    "5": "Call to arrange delivery of order 10987"
                                }
                            ]
                        },
                        "text/html": "<table><tr><th>CallID</th><th>CallTime</th><th>SalesPerson</th><th>CustomerID</th><th>PhoneNumber</th><th>Notes</th></tr><tr><td>1</td><td>2020-01-01 12:30:00.000</td><td>adventure-works\\pamela0</td><td>1</td><td>245-555-0173</td><td>Returning call re: enquiry about delivery</td></tr><tr><td>2</td><td>2020-04-25 09:44:28.140</td><td>adventure-works\\david8</td><td>2</td><td>170-555-0127</td><td>NULL</td></tr><tr><td>3</td><td>2020-04-25 09:46:46.197</td><td>adventure-works\\jillian0</td><td>3</td><td>279-555-0130</td><td>NULL</td></tr><tr><td>4</td><td>2020-04-25 09:48:28.327</td><td>adventure-works\\jillian0</td><td>4</td><td>710-555-0173</td><td>NULL</td></tr><tr><td>5</td><td>2020-04-25 09:50:28.327</td><td>adventure-works\\shu0</td><td>5</td><td>828-555-0186</td><td>Call to arrange delivery of order 10987</td></tr></table>"
                    }
                }
            ],
            "execution_count": 8
        },
        {
            "cell_type": "code",
            "source": [
                "-- Insert the results of a query\n",
                "INSERT INTO SalesLT.CallLog (SalesPerson, CustomerID, PhoneNumber, Notes)\n",
                "SELECT SalesPerson, CustomerID, Phone, 'Sales promotion call'\n",
                "FROM SalesLT.Customer\n",
                "WHERE CompanyName = 'Big-Time Bike Store';\n",
                "\n",
                "SELECT * FROM SalesLT.CallLog;"
            ],
            "metadata": {
                "azdata_cell_guid": "0d75fe76-bf2f-40f0-8a27-417a203651f5"
            },
            "outputs": [
                {
                    "output_type": "display_data",
                    "data": {
                        "text/html": "(2 rows affected)"
                    },
                    "metadata": {}
                },
                {
                    "output_type": "display_data",
                    "data": {
                        "text/html": "(7 rows affected)"
                    },
                    "metadata": {}
                },
                {
                    "output_type": "display_data",
                    "data": {
                        "text/html": "Total execution time: 00:00:00.008"
                    },
                    "metadata": {}
                },
                {
                    "output_type": "execute_result",
                    "metadata": {},
                    "execution_count": 10,
                    "data": {
                        "application/vnd.dataresource+json": {
                            "schema": {
                                "fields": [
                                    {
                                        "name": "CallID"
                                    },
                                    {
                                        "name": "CallTime"
                                    },
                                    {
                                        "name": "SalesPerson"
                                    },
                                    {
                                        "name": "CustomerID"
                                    },
                                    {
                                        "name": "PhoneNumber"
                                    },
                                    {
                                        "name": "Notes"
                                    }
                                ]
                            },
                            "data": [
                                {
                                    "0": "1",
                                    "1": "2020-01-01 12:30:00.000",
                                    "2": "adventure-works\\pamela0",
                                    "3": "1",
                                    "4": "245-555-0173",
                                    "5": "Returning call re: enquiry about delivery"
                                },
                                {
                                    "0": "2",
                                    "1": "2020-04-25 09:44:28.140",
                                    "2": "adventure-works\\david8",
                                    "3": "2",
                                    "4": "170-555-0127",
                                    "5": "NULL"
                                },
                                {
                                    "0": "3",
                                    "1": "2020-04-25 09:46:46.197",
                                    "2": "adventure-works\\jillian0",
                                    "3": "3",
                                    "4": "279-555-0130",
                                    "5": "NULL"
                                },
                                {
                                    "0": "4",
                                    "1": "2020-04-25 09:48:28.327",
                                    "2": "adventure-works\\jillian0",
                                    "3": "4",
                                    "4": "710-555-0173",
                                    "5": "NULL"
                                },
                                {
                                    "0": "5",
                                    "1": "2020-04-25 09:50:28.327",
                                    "2": "adventure-works\\shu0",
                                    "3": "5",
                                    "4": "828-555-0186",
                                    "5": "Call to arrange delivery of order 10987"
                                },
                                {
                                    "0": "6",
                                    "1": "2020-04-25 09:52:48.617",
                                    "2": "adventure-works\\shu0",
                                    "3": "529",
                                    "4": "669-555-0149",
                                    "5": "Sales promotion call"
                                },
                                {
                                    "0": "7",
                                    "1": "2020-04-25 09:52:48.617",
                                    "2": "adventure-works\\shu0",
                                    "3": "29784",
                                    "4": "669-555-0149",
                                    "5": "Sales promotion call"
                                }
                            ]
                        },
                        "text/html": "<table><tr><th>CallID</th><th>CallTime</th><th>SalesPerson</th><th>CustomerID</th><th>PhoneNumber</th><th>Notes</th></tr><tr><td>1</td><td>2020-01-01 12:30:00.000</td><td>adventure-works\\pamela0</td><td>1</td><td>245-555-0173</td><td>Returning call re: enquiry about delivery</td></tr><tr><td>2</td><td>2020-04-25 09:44:28.140</td><td>adventure-works\\david8</td><td>2</td><td>170-555-0127</td><td>NULL</td></tr><tr><td>3</td><td>2020-04-25 09:46:46.197</td><td>adventure-works\\jillian0</td><td>3</td><td>279-555-0130</td><td>NULL</td></tr><tr><td>4</td><td>2020-04-25 09:48:28.327</td><td>adventure-works\\jillian0</td><td>4</td><td>710-555-0173</td><td>NULL</td></tr><tr><td>5</td><td>2020-04-25 09:50:28.327</td><td>adventure-works\\shu0</td><td>5</td><td>828-555-0186</td><td>Call to arrange delivery of order 10987</td></tr><tr><td>6</td><td>2020-04-25 09:52:48.617</td><td>adventure-works\\shu0</td><td>529</td><td>669-555-0149</td><td>Sales promotion call</td></tr><tr><td>7</td><td>2020-04-25 09:52:48.617</td><td>adventure-works\\shu0</td><td>29784</td><td>669-555-0149</td><td>Sales promotion call</td></tr></table>"
                    }
                }
            ],
            "execution_count": 10
        },
        {
            "cell_type": "code",
            "source": [
                "-- Retrieving inserted identity\n",
                "INSERT INTO SalesLT.CallLog (SalesPerson, CustomerID, PhoneNumber)\n",
                "VALUES ('adventure-works\\josé1', 10, '150-555-0127');\n",
                "GO\n",
                "SELECT SCOPE_IDENTITY();\n",
                "\n",
                "SELECT * FROM SalesLT.CallLog;"
            ],
            "metadata": {
                "azdata_cell_guid": "07a777fc-2eae-4bd1-895e-02c7e784814e"
            },
            "outputs": [
                {
                    "output_type": "display_data",
                    "data": {
                        "text/html": "(1 row affected)"
                    },
                    "metadata": {}
                },
                {
                    "output_type": "display_data",
                    "data": {
                        "text/html": "(1 row affected)"
                    },
                    "metadata": {}
                },
                {
                    "output_type": "display_data",
                    "data": {
                        "text/html": "(8 rows affected)"
                    },
                    "metadata": {}
                },
                {
                    "output_type": "display_data",
                    "data": {
                        "text/html": "Total execution time: 00:00:00.014"
                    },
                    "metadata": {}
                },
                {
                    "output_type": "execute_result",
                    "metadata": {},
                    "execution_count": 11,
                    "data": {
                        "application/vnd.dataresource+json": {
                            "schema": {
                                "fields": [
                                    {
                                        "name": "(No column name)"
                                    }
                                ]
                            },
                            "data": [
                                {
                                    "0": "8"
                                }
                            ]
                        },
                        "text/html": "<table><tr><th>(No column name)</th></tr><tr><td>8</td></tr></table>"
                    }
                },
                {
                    "output_type": "execute_result",
                    "metadata": {},
                    "execution_count": 11,
                    "data": {
                        "application/vnd.dataresource+json": {
                            "schema": {
                                "fields": [
                                    {
                                        "name": "CallID"
                                    },
                                    {
                                        "name": "CallTime"
                                    },
                                    {
                                        "name": "SalesPerson"
                                    },
                                    {
                                        "name": "CustomerID"
                                    },
                                    {
                                        "name": "PhoneNumber"
                                    },
                                    {
                                        "name": "Notes"
                                    }
                                ]
                            },
                            "data": [
                                {
                                    "0": "1",
                                    "1": "2020-01-01 12:30:00.000",
                                    "2": "adventure-works\\pamela0",
                                    "3": "1",
                                    "4": "245-555-0173",
                                    "5": "Returning call re: enquiry about delivery"
                                },
                                {
                                    "0": "2",
                                    "1": "2020-04-25 09:44:28.140",
                                    "2": "adventure-works\\david8",
                                    "3": "2",
                                    "4": "170-555-0127",
                                    "5": "NULL"
                                },
                                {
                                    "0": "3",
                                    "1": "2020-04-25 09:46:46.197",
                                    "2": "adventure-works\\jillian0",
                                    "3": "3",
                                    "4": "279-555-0130",
                                    "5": "NULL"
                                },
                                {
                                    "0": "4",
                                    "1": "2020-04-25 09:48:28.327",
                                    "2": "adventure-works\\jillian0",
                                    "3": "4",
                                    "4": "710-555-0173",
                                    "5": "NULL"
                                },
                                {
                                    "0": "5",
                                    "1": "2020-04-25 09:50:28.327",
                                    "2": "adventure-works\\shu0",
                                    "3": "5",
                                    "4": "828-555-0186",
                                    "5": "Call to arrange delivery of order 10987"
                                },
                                {
                                    "0": "6",
                                    "1": "2020-04-25 09:52:48.617",
                                    "2": "adventure-works\\shu0",
                                    "3": "529",
                                    "4": "669-555-0149",
                                    "5": "Sales promotion call"
                                },
                                {
                                    "0": "7",
                                    "1": "2020-04-25 09:52:48.617",
                                    "2": "adventure-works\\shu0",
                                    "3": "29784",
                                    "4": "669-555-0149",
                                    "5": "Sales promotion call"
                                },
                                {
                                    "0": "8",
                                    "1": "2020-04-25 09:55:39.150",
                                    "2": "adventure-works\\josé1",
                                    "3": "10",
                                    "4": "150-555-0127",
                                    "5": "NULL"
                                }
                            ]
                        },
                        "text/html": "<table><tr><th>CallID</th><th>CallTime</th><th>SalesPerson</th><th>CustomerID</th><th>PhoneNumber</th><th>Notes</th></tr><tr><td>1</td><td>2020-01-01 12:30:00.000</td><td>adventure-works\\pamela0</td><td>1</td><td>245-555-0173</td><td>Returning call re: enquiry about delivery</td></tr><tr><td>2</td><td>2020-04-25 09:44:28.140</td><td>adventure-works\\david8</td><td>2</td><td>170-555-0127</td><td>NULL</td></tr><tr><td>3</td><td>2020-04-25 09:46:46.197</td><td>adventure-works\\jillian0</td><td>3</td><td>279-555-0130</td><td>NULL</td></tr><tr><td>4</td><td>2020-04-25 09:48:28.327</td><td>adventure-works\\jillian0</td><td>4</td><td>710-555-0173</td><td>NULL</td></tr><tr><td>5</td><td>2020-04-25 09:50:28.327</td><td>adventure-works\\shu0</td><td>5</td><td>828-555-0186</td><td>Call to arrange delivery of order 10987</td></tr><tr><td>6</td><td>2020-04-25 09:52:48.617</td><td>adventure-works\\shu0</td><td>529</td><td>669-555-0149</td><td>Sales promotion call</td></tr><tr><td>7</td><td>2020-04-25 09:52:48.617</td><td>adventure-works\\shu0</td><td>29784</td><td>669-555-0149</td><td>Sales promotion call</td></tr><tr><td>8</td><td>2020-04-25 09:55:39.150</td><td>adventure-works\\josé1</td><td>10</td><td>150-555-0127</td><td>NULL</td></tr></table>"
                    }
                }
            ],
            "execution_count": 11
        },
        {
            "cell_type": "code",
            "source": [
                "-- Overriding identity\n",
                "SET IDENTITY_INSERT SalesLT.CallLog ON;\n",
                "\n",
                "INSERT INTO SalesLT.CallLog (CallID, SalesPerson, CustomerID, PhoneNumber)\n",
                "VALUES (10, 'adventure-works\\josé1', 11, '926-555-0159');\n",
                "\n",
                "SET IDENTITY_INSERT SalesLT.CallLog OFF;\n",
                "\n",
                "SELECT * FROM SalesLT.CallLog;"
            ],
            "metadata": {
                "azdata_cell_guid": "0cfca31f-33eb-4772-8f57-ebc363029139"
            },
            "outputs": [
                {
                    "output_type": "display_data",
                    "data": {
                        "text/html": "(1 row affected)"
                    },
                    "metadata": {}
                },
                {
                    "output_type": "display_data",
                    "data": {
                        "text/html": "(9 rows affected)"
                    },
                    "metadata": {}
                },
                {
                    "output_type": "display_data",
                    "data": {
                        "text/html": "Total execution time: 00:00:00.010"
                    },
                    "metadata": {}
                },
                {
                    "output_type": "execute_result",
                    "metadata": {},
                    "execution_count": 16,
                    "data": {
                        "application/vnd.dataresource+json": {
                            "schema": {
                                "fields": [
                                    {
                                        "name": "CallID"
                                    },
                                    {
                                        "name": "CallTime"
                                    },
                                    {
                                        "name": "SalesPerson"
                                    },
                                    {
                                        "name": "CustomerID"
                                    },
                                    {
                                        "name": "PhoneNumber"
                                    },
                                    {
                                        "name": "Notes"
                                    }
                                ]
                            },
                            "data": [
                                {
                                    "0": "1",
                                    "1": "2020-01-01 12:30:00.000",
                                    "2": "adventure-works\\pamela0",
                                    "3": "1",
                                    "4": "245-555-0173",
                                    "5": "Returning call re: enquiry about delivery"
                                },
                                {
                                    "0": "2",
                                    "1": "2020-04-25 09:44:28.140",
                                    "2": "adventure-works\\david8",
                                    "3": "2",
                                    "4": "170-555-0127",
                                    "5": "NULL"
                                },
                                {
                                    "0": "3",
                                    "1": "2020-04-25 09:46:46.197",
                                    "2": "adventure-works\\jillian0",
                                    "3": "3",
                                    "4": "279-555-0130",
                                    "5": "NULL"
                                },
                                {
                                    "0": "4",
                                    "1": "2020-04-25 09:48:28.327",
                                    "2": "adventure-works\\jillian0",
                                    "3": "4",
                                    "4": "710-555-0173",
                                    "5": "NULL"
                                },
                                {
                                    "0": "5",
                                    "1": "2020-04-25 09:50:28.327",
                                    "2": "adventure-works\\shu0",
                                    "3": "5",
                                    "4": "828-555-0186",
                                    "5": "Call to arrange delivery of order 10987"
                                },
                                {
                                    "0": "6",
                                    "1": "2020-04-25 09:52:48.617",
                                    "2": "adventure-works\\shu0",
                                    "3": "529",
                                    "4": "669-555-0149",
                                    "5": "Sales promotion call"
                                },
                                {
                                    "0": "7",
                                    "1": "2020-04-25 09:52:48.617",
                                    "2": "adventure-works\\shu0",
                                    "3": "29784",
                                    "4": "669-555-0149",
                                    "5": "Sales promotion call"
                                },
                                {
                                    "0": "8",
                                    "1": "2020-04-25 09:55:39.150",
                                    "2": "adventure-works\\josé1",
                                    "3": "10",
                                    "4": "150-555-0127",
                                    "5": "NULL"
                                },
                                {
                                    "0": "10",
                                    "1": "2020-04-25 10:00:14.833",
                                    "2": "adventure-works\\josé1",
                                    "3": "11",
                                    "4": "926-555-0159",
                                    "5": "NULL"
                                }
                            ]
                        },
                        "text/html": "<table><tr><th>CallID</th><th>CallTime</th><th>SalesPerson</th><th>CustomerID</th><th>PhoneNumber</th><th>Notes</th></tr><tr><td>1</td><td>2020-01-01 12:30:00.000</td><td>adventure-works\\pamela0</td><td>1</td><td>245-555-0173</td><td>Returning call re: enquiry about delivery</td></tr><tr><td>2</td><td>2020-04-25 09:44:28.140</td><td>adventure-works\\david8</td><td>2</td><td>170-555-0127</td><td>NULL</td></tr><tr><td>3</td><td>2020-04-25 09:46:46.197</td><td>adventure-works\\jillian0</td><td>3</td><td>279-555-0130</td><td>NULL</td></tr><tr><td>4</td><td>2020-04-25 09:48:28.327</td><td>adventure-works\\jillian0</td><td>4</td><td>710-555-0173</td><td>NULL</td></tr><tr><td>5</td><td>2020-04-25 09:50:28.327</td><td>adventure-works\\shu0</td><td>5</td><td>828-555-0186</td><td>Call to arrange delivery of order 10987</td></tr><tr><td>6</td><td>2020-04-25 09:52:48.617</td><td>adventure-works\\shu0</td><td>529</td><td>669-555-0149</td><td>Sales promotion call</td></tr><tr><td>7</td><td>2020-04-25 09:52:48.617</td><td>adventure-works\\shu0</td><td>29784</td><td>669-555-0149</td><td>Sales promotion call</td></tr><tr><td>8</td><td>2020-04-25 09:55:39.150</td><td>adventure-works\\josé1</td><td>10</td><td>150-555-0127</td><td>NULL</td></tr><tr><td>10</td><td>2020-04-25 10:00:14.833</td><td>adventure-works\\josé1</td><td>11</td><td>926-555-0159</td><td>NULL</td></tr></table>"
                    }
                }
            ],
            "execution_count": 16
        },
        {
            "cell_type": "markdown",
            "source": [
                "# Updating and Deleting Data"
            ],
            "metadata": {
                "azdata_cell_guid": "0fe5b76b-d111-4de7-87f6-88b81a744709"
            }
        },
        {
            "cell_type": "code",
            "source": [
                "-- Update Notes column in CallLog table to say 'No Notes' where Notes is null\n",
                "UPDATE SalesLT.CallLog\n",
                "SET Notes = 'No Notes'\n",
                "WHERE Notes IS NULL;\n",
                "\n",
                "SELECT * FROM SalesLT.CallLog;"
            ],
            "metadata": {
                "azdata_cell_guid": "d106f7f8-0a6f-4008-b759-9335d6313e63"
            },
            "outputs": [
                {
                    "output_type": "display_data",
                    "data": {
                        "text/html": "(5 rows affected)"
                    },
                    "metadata": {}
                },
                {
                    "output_type": "display_data",
                    "data": {
                        "text/html": "(9 rows affected)"
                    },
                    "metadata": {}
                },
                {
                    "output_type": "display_data",
                    "data": {
                        "text/html": "Total execution time: 00:00:00.024"
                    },
                    "metadata": {}
                },
                {
                    "output_type": "execute_result",
                    "metadata": {},
                    "execution_count": 17,
                    "data": {
                        "application/vnd.dataresource+json": {
                            "schema": {
                                "fields": [
                                    {
                                        "name": "CallID"
                                    },
                                    {
                                        "name": "CallTime"
                                    },
                                    {
                                        "name": "SalesPerson"
                                    },
                                    {
                                        "name": "CustomerID"
                                    },
                                    {
                                        "name": "PhoneNumber"
                                    },
                                    {
                                        "name": "Notes"
                                    }
                                ]
                            },
                            "data": [
                                {
                                    "0": "1",
                                    "1": "2020-01-01 12:30:00.000",
                                    "2": "adventure-works\\pamela0",
                                    "3": "1",
                                    "4": "245-555-0173",
                                    "5": "Returning call re: enquiry about delivery"
                                },
                                {
                                    "0": "2",
                                    "1": "2020-04-25 09:44:28.140",
                                    "2": "adventure-works\\david8",
                                    "3": "2",
                                    "4": "170-555-0127",
                                    "5": "No Notes"
                                },
                                {
                                    "0": "3",
                                    "1": "2020-04-25 09:46:46.197",
                                    "2": "adventure-works\\jillian0",
                                    "3": "3",
                                    "4": "279-555-0130",
                                    "5": "No Notes"
                                },
                                {
                                    "0": "4",
                                    "1": "2020-04-25 09:48:28.327",
                                    "2": "adventure-works\\jillian0",
                                    "3": "4",
                                    "4": "710-555-0173",
                                    "5": "No Notes"
                                },
                                {
                                    "0": "5",
                                    "1": "2020-04-25 09:50:28.327",
                                    "2": "adventure-works\\shu0",
                                    "3": "5",
                                    "4": "828-555-0186",
                                    "5": "Call to arrange delivery of order 10987"
                                },
                                {
                                    "0": "6",
                                    "1": "2020-04-25 09:52:48.617",
                                    "2": "adventure-works\\shu0",
                                    "3": "529",
                                    "4": "669-555-0149",
                                    "5": "Sales promotion call"
                                },
                                {
                                    "0": "7",
                                    "1": "2020-04-25 09:52:48.617",
                                    "2": "adventure-works\\shu0",
                                    "3": "29784",
                                    "4": "669-555-0149",
                                    "5": "Sales promotion call"
                                },
                                {
                                    "0": "8",
                                    "1": "2020-04-25 09:55:39.150",
                                    "2": "adventure-works\\josé1",
                                    "3": "10",
                                    "4": "150-555-0127",
                                    "5": "No Notes"
                                },
                                {
                                    "0": "10",
                                    "1": "2020-04-25 10:00:14.833",
                                    "2": "adventure-works\\josé1",
                                    "3": "11",
                                    "4": "926-555-0159",
                                    "5": "No Notes"
                                }
                            ]
                        },
                        "text/html": "<table><tr><th>CallID</th><th>CallTime</th><th>SalesPerson</th><th>CustomerID</th><th>PhoneNumber</th><th>Notes</th></tr><tr><td>1</td><td>2020-01-01 12:30:00.000</td><td>adventure-works\\pamela0</td><td>1</td><td>245-555-0173</td><td>Returning call re: enquiry about delivery</td></tr><tr><td>2</td><td>2020-04-25 09:44:28.140</td><td>adventure-works\\david8</td><td>2</td><td>170-555-0127</td><td>No Notes</td></tr><tr><td>3</td><td>2020-04-25 09:46:46.197</td><td>adventure-works\\jillian0</td><td>3</td><td>279-555-0130</td><td>No Notes</td></tr><tr><td>4</td><td>2020-04-25 09:48:28.327</td><td>adventure-works\\jillian0</td><td>4</td><td>710-555-0173</td><td>No Notes</td></tr><tr><td>5</td><td>2020-04-25 09:50:28.327</td><td>adventure-works\\shu0</td><td>5</td><td>828-555-0186</td><td>Call to arrange delivery of order 10987</td></tr><tr><td>6</td><td>2020-04-25 09:52:48.617</td><td>adventure-works\\shu0</td><td>529</td><td>669-555-0149</td><td>Sales promotion call</td></tr><tr><td>7</td><td>2020-04-25 09:52:48.617</td><td>adventure-works\\shu0</td><td>29784</td><td>669-555-0149</td><td>Sales promotion call</td></tr><tr><td>8</td><td>2020-04-25 09:55:39.150</td><td>adventure-works\\josé1</td><td>10</td><td>150-555-0127</td><td>No Notes</td></tr><tr><td>10</td><td>2020-04-25 10:00:14.833</td><td>adventure-works\\josé1</td><td>11</td><td>926-555-0159</td><td>No Notes</td></tr></table>"
                    }
                }
            ],
            "execution_count": 17
        },
        {
            "cell_type": "code",
            "source": [
                "-- Update multiple columns\n",
                "UPDATE SalesLT.CallLog\n",
                "SET SalesPerson = ' ', PhoneNumber = ' ';\n",
                "\n",
                "SELECT * FROM SalesLT.CallLog;"
            ],
            "metadata": {
                "azdata_cell_guid": "38bd050e-dae3-42c2-b335-4fa11a0ac185"
            },
            "outputs": [
                {
                    "output_type": "display_data",
                    "data": {
                        "text/html": "(9 rows affected)"
                    },
                    "metadata": {}
                },
                {
                    "output_type": "display_data",
                    "data": {
                        "text/html": "(9 rows affected)"
                    },
                    "metadata": {}
                },
                {
                    "output_type": "display_data",
                    "data": {
                        "text/html": "Total execution time: 00:00:00.015"
                    },
                    "metadata": {}
                },
                {
                    "output_type": "execute_result",
                    "metadata": {},
                    "execution_count": 19,
                    "data": {
                        "application/vnd.dataresource+json": {
                            "schema": {
                                "fields": [
                                    {
                                        "name": "CallID"
                                    },
                                    {
                                        "name": "CallTime"
                                    },
                                    {
                                        "name": "SalesPerson"
                                    },
                                    {
                                        "name": "CustomerID"
                                    },
                                    {
                                        "name": "PhoneNumber"
                                    },
                                    {
                                        "name": "Notes"
                                    }
                                ]
                            },
                            "data": [
                                {
                                    "0": "1",
                                    "1": "2020-01-01 12:30:00.000",
                                    "2": " ",
                                    "3": "1",
                                    "4": " ",
                                    "5": "Returning call re: enquiry about delivery"
                                },
                                {
                                    "0": "2",
                                    "1": "2020-04-25 09:44:28.140",
                                    "2": " ",
                                    "3": "2",
                                    "4": " ",
                                    "5": "No Notes"
                                },
                                {
                                    "0": "3",
                                    "1": "2020-04-25 09:46:46.197",
                                    "2": " ",
                                    "3": "3",
                                    "4": " ",
                                    "5": "No Notes"
                                },
                                {
                                    "0": "4",
                                    "1": "2020-04-25 09:48:28.327",
                                    "2": " ",
                                    "3": "4",
                                    "4": " ",
                                    "5": "No Notes"
                                },
                                {
                                    "0": "5",
                                    "1": "2020-04-25 09:50:28.327",
                                    "2": " ",
                                    "3": "5",
                                    "4": " ",
                                    "5": "Call to arrange delivery of order 10987"
                                },
                                {
                                    "0": "6",
                                    "1": "2020-04-25 09:52:48.617",
                                    "2": " ",
                                    "3": "529",
                                    "4": " ",
                                    "5": "Sales promotion call"
                                },
                                {
                                    "0": "7",
                                    "1": "2020-04-25 09:52:48.617",
                                    "2": " ",
                                    "3": "29784",
                                    "4": " ",
                                    "5": "Sales promotion call"
                                },
                                {
                                    "0": "8",
                                    "1": "2020-04-25 09:55:39.150",
                                    "2": " ",
                                    "3": "10",
                                    "4": " ",
                                    "5": "No Notes"
                                },
                                {
                                    "0": "10",
                                    "1": "2020-04-25 10:00:14.833",
                                    "2": " ",
                                    "3": "11",
                                    "4": " ",
                                    "5": "No Notes"
                                }
                            ]
                        },
                        "text/html": "<table><tr><th>CallID</th><th>CallTime</th><th>SalesPerson</th><th>CustomerID</th><th>PhoneNumber</th><th>Notes</th></tr><tr><td>1</td><td>2020-01-01 12:30:00.000</td><td> </td><td>1</td><td> </td><td>Returning call re: enquiry about delivery</td></tr><tr><td>2</td><td>2020-04-25 09:44:28.140</td><td> </td><td>2</td><td> </td><td>No Notes</td></tr><tr><td>3</td><td>2020-04-25 09:46:46.197</td><td> </td><td>3</td><td> </td><td>No Notes</td></tr><tr><td>4</td><td>2020-04-25 09:48:28.327</td><td> </td><td>4</td><td> </td><td>No Notes</td></tr><tr><td>5</td><td>2020-04-25 09:50:28.327</td><td> </td><td>5</td><td> </td><td>Call to arrange delivery of order 10987</td></tr><tr><td>6</td><td>2020-04-25 09:52:48.617</td><td> </td><td>529</td><td> </td><td>Sales promotion call</td></tr><tr><td>7</td><td>2020-04-25 09:52:48.617</td><td> </td><td>29784</td><td> </td><td>Sales promotion call</td></tr><tr><td>8</td><td>2020-04-25 09:55:39.150</td><td> </td><td>10</td><td> </td><td>No Notes</td></tr><tr><td>10</td><td>2020-04-25 10:00:14.833</td><td> </td><td>11</td><td> </td><td>No Notes</td></tr></table>"
                    }
                }
            ],
            "execution_count": 19
        },
        {
            "cell_type": "code",
            "source": [
                "-- Update from results of select query\n",
                "UPDATE SalesLT.CallLog\n",
                "SET SalesPerson = c.SalesPerson, PhoneNumber = c.Phone \n",
                "FROM SalesLT.Customer AS c \n",
                "WHERE c.CustomerID = SalesLT.CallLog.CustomerID;\n",
                "\n",
                "SELECT * FROM SalesLT.CallLog;"
            ],
            "metadata": {
                "azdata_cell_guid": "fd2f1940-3b19-4df3-9163-909153efb24f"
            },
            "outputs": [
                {
                    "output_type": "display_data",
                    "data": {
                        "text/html": "(9 rows affected)"
                    },
                    "metadata": {}
                },
                {
                    "output_type": "display_data",
                    "data": {
                        "text/html": "(9 rows affected)"
                    },
                    "metadata": {}
                },
                {
                    "output_type": "display_data",
                    "data": {
                        "text/html": "Total execution time: 00:00:00.023"
                    },
                    "metadata": {}
                },
                {
                    "output_type": "execute_result",
                    "metadata": {},
                    "execution_count": 21,
                    "data": {
                        "application/vnd.dataresource+json": {
                            "schema": {
                                "fields": [
                                    {
                                        "name": "CallID"
                                    },
                                    {
                                        "name": "CallTime"
                                    },
                                    {
                                        "name": "SalesPerson"
                                    },
                                    {
                                        "name": "CustomerID"
                                    },
                                    {
                                        "name": "PhoneNumber"
                                    },
                                    {
                                        "name": "Notes"
                                    }
                                ]
                            },
                            "data": [
                                {
                                    "0": "1",
                                    "1": "2020-01-01 12:30:00.000",
                                    "2": "adventure-works\\pamela0",
                                    "3": "1",
                                    "4": "245-555-0173",
                                    "5": "Returning call re: enquiry about delivery"
                                },
                                {
                                    "0": "2",
                                    "1": "2020-04-25 09:44:28.140",
                                    "2": "adventure-works\\david8",
                                    "3": "2",
                                    "4": "170-555-0127",
                                    "5": "No Notes"
                                },
                                {
                                    "0": "3",
                                    "1": "2020-04-25 09:46:46.197",
                                    "2": "adventure-works\\jillian0",
                                    "3": "3",
                                    "4": "279-555-0130",
                                    "5": "No Notes"
                                },
                                {
                                    "0": "4",
                                    "1": "2020-04-25 09:48:28.327",
                                    "2": "adventure-works\\jillian0",
                                    "3": "4",
                                    "4": "710-555-0173",
                                    "5": "No Notes"
                                },
                                {
                                    "0": "5",
                                    "1": "2020-04-25 09:50:28.327",
                                    "2": "adventure-works\\shu0",
                                    "3": "5",
                                    "4": "828-555-0186",
                                    "5": "Call to arrange delivery of order 10987"
                                },
                                {
                                    "0": "6",
                                    "1": "2020-04-25 09:52:48.617",
                                    "2": "adventure-works\\shu0",
                                    "3": "529",
                                    "4": "669-555-0149",
                                    "5": "Sales promotion call"
                                },
                                {
                                    "0": "7",
                                    "1": "2020-04-25 09:52:48.617",
                                    "2": "adventure-works\\shu0",
                                    "3": "29784",
                                    "4": "669-555-0149",
                                    "5": "Sales promotion call"
                                },
                                {
                                    "0": "8",
                                    "1": "2020-04-25 09:55:39.150",
                                    "2": "adventure-works\\josé1",
                                    "3": "10",
                                    "4": "150-555-0127",
                                    "5": "No Notes"
                                },
                                {
                                    "0": "10",
                                    "1": "2020-04-25 10:00:14.833",
                                    "2": "adventure-works\\josé1",
                                    "3": "11",
                                    "4": "926-555-0159",
                                    "5": "No Notes"
                                }
                            ]
                        },
                        "text/html": "<table><tr><th>CallID</th><th>CallTime</th><th>SalesPerson</th><th>CustomerID</th><th>PhoneNumber</th><th>Notes</th></tr><tr><td>1</td><td>2020-01-01 12:30:00.000</td><td>adventure-works\\pamela0</td><td>1</td><td>245-555-0173</td><td>Returning call re: enquiry about delivery</td></tr><tr><td>2</td><td>2020-04-25 09:44:28.140</td><td>adventure-works\\david8</td><td>2</td><td>170-555-0127</td><td>No Notes</td></tr><tr><td>3</td><td>2020-04-25 09:46:46.197</td><td>adventure-works\\jillian0</td><td>3</td><td>279-555-0130</td><td>No Notes</td></tr><tr><td>4</td><td>2020-04-25 09:48:28.327</td><td>adventure-works\\jillian0</td><td>4</td><td>710-555-0173</td><td>No Notes</td></tr><tr><td>5</td><td>2020-04-25 09:50:28.327</td><td>adventure-works\\shu0</td><td>5</td><td>828-555-0186</td><td>Call to arrange delivery of order 10987</td></tr><tr><td>6</td><td>2020-04-25 09:52:48.617</td><td>adventure-works\\shu0</td><td>529</td><td>669-555-0149</td><td>Sales promotion call</td></tr><tr><td>7</td><td>2020-04-25 09:52:48.617</td><td>adventure-works\\shu0</td><td>29784</td><td>669-555-0149</td><td>Sales promotion call</td></tr><tr><td>8</td><td>2020-04-25 09:55:39.150</td><td>adventure-works\\josé1</td><td>10</td><td>150-555-0127</td><td>No Notes</td></tr><tr><td>10</td><td>2020-04-25 10:00:14.833</td><td>adventure-works\\josé1</td><td>11</td><td>926-555-0159</td><td>No Notes</td></tr></table>"
                    }
                }
            ],
            "execution_count": 21
        },
        {
            "cell_type": "code",
            "source": [
                "-- Delete records from CallLog with week old CallTime from today\n",
                "DELETE FROM SalesLT.CallLog\n",
                "WHERE CallTime < DATEADD(dd, -7, GETDATE());\n",
                "\n",
                "SELECT * FROM SalesLT.CallLog;"
            ],
            "metadata": {
                "azdata_cell_guid": "759f5086-16ec-4f9f-b21b-b0783e5a0e64"
            },
            "outputs": [
                {
                    "output_type": "display_data",
                    "data": {
                        "text/html": "(1 row affected)"
                    },
                    "metadata": {}
                },
                {
                    "output_type": "display_data",
                    "data": {
                        "text/html": "(8 rows affected)"
                    },
                    "metadata": {}
                },
                {
                    "output_type": "display_data",
                    "data": {
                        "text/html": "Total execution time: 00:00:00.011"
                    },
                    "metadata": {}
                },
                {
                    "output_type": "execute_result",
                    "metadata": {},
                    "execution_count": 22,
                    "data": {
                        "application/vnd.dataresource+json": {
                            "schema": {
                                "fields": [
                                    {
                                        "name": "CallID"
                                    },
                                    {
                                        "name": "CallTime"
                                    },
                                    {
                                        "name": "SalesPerson"
                                    },
                                    {
                                        "name": "CustomerID"
                                    },
                                    {
                                        "name": "PhoneNumber"
                                    },
                                    {
                                        "name": "Notes"
                                    }
                                ]
                            },
                            "data": [
                                {
                                    "0": "2",
                                    "1": "2020-04-25 09:44:28.140",
                                    "2": "adventure-works\\david8",
                                    "3": "2",
                                    "4": "170-555-0127",
                                    "5": "No Notes"
                                },
                                {
                                    "0": "3",
                                    "1": "2020-04-25 09:46:46.197",
                                    "2": "adventure-works\\jillian0",
                                    "3": "3",
                                    "4": "279-555-0130",
                                    "5": "No Notes"
                                },
                                {
                                    "0": "4",
                                    "1": "2020-04-25 09:48:28.327",
                                    "2": "adventure-works\\jillian0",
                                    "3": "4",
                                    "4": "710-555-0173",
                                    "5": "No Notes"
                                },
                                {
                                    "0": "5",
                                    "1": "2020-04-25 09:50:28.327",
                                    "2": "adventure-works\\shu0",
                                    "3": "5",
                                    "4": "828-555-0186",
                                    "5": "Call to arrange delivery of order 10987"
                                },
                                {
                                    "0": "6",
                                    "1": "2020-04-25 09:52:48.617",
                                    "2": "adventure-works\\shu0",
                                    "3": "529",
                                    "4": "669-555-0149",
                                    "5": "Sales promotion call"
                                },
                                {
                                    "0": "7",
                                    "1": "2020-04-25 09:52:48.617",
                                    "2": "adventure-works\\shu0",
                                    "3": "29784",
                                    "4": "669-555-0149",
                                    "5": "Sales promotion call"
                                },
                                {
                                    "0": "8",
                                    "1": "2020-04-25 09:55:39.150",
                                    "2": "adventure-works\\josé1",
                                    "3": "10",
                                    "4": "150-555-0127",
                                    "5": "No Notes"
                                },
                                {
                                    "0": "10",
                                    "1": "2020-04-25 10:00:14.833",
                                    "2": "adventure-works\\josé1",
                                    "3": "11",
                                    "4": "926-555-0159",
                                    "5": "No Notes"
                                }
                            ]
                        },
                        "text/html": "<table><tr><th>CallID</th><th>CallTime</th><th>SalesPerson</th><th>CustomerID</th><th>PhoneNumber</th><th>Notes</th></tr><tr><td>2</td><td>2020-04-25 09:44:28.140</td><td>adventure-works\\david8</td><td>2</td><td>170-555-0127</td><td>No Notes</td></tr><tr><td>3</td><td>2020-04-25 09:46:46.197</td><td>adventure-works\\jillian0</td><td>3</td><td>279-555-0130</td><td>No Notes</td></tr><tr><td>4</td><td>2020-04-25 09:48:28.327</td><td>adventure-works\\jillian0</td><td>4</td><td>710-555-0173</td><td>No Notes</td></tr><tr><td>5</td><td>2020-04-25 09:50:28.327</td><td>adventure-works\\shu0</td><td>5</td><td>828-555-0186</td><td>Call to arrange delivery of order 10987</td></tr><tr><td>6</td><td>2020-04-25 09:52:48.617</td><td>adventure-works\\shu0</td><td>529</td><td>669-555-0149</td><td>Sales promotion call</td></tr><tr><td>7</td><td>2020-04-25 09:52:48.617</td><td>adventure-works\\shu0</td><td>29784</td><td>669-555-0149</td><td>Sales promotion call</td></tr><tr><td>8</td><td>2020-04-25 09:55:39.150</td><td>adventure-works\\josé1</td><td>10</td><td>150-555-0127</td><td>No Notes</td></tr><tr><td>10</td><td>2020-04-25 10:00:14.833</td><td>adventure-works\\josé1</td><td>11</td><td>926-555-0159</td><td>No Notes</td></tr></table>"
                    }
                }
            ],
            "execution_count": 22
        },
        {
            "cell_type": "code",
            "source": [
                "-- Truncate the table to deallocate its space\n",
                "TRUNCATE TABLE SalesLT.CallLog;\n",
                "\n",
                "SELECT * FROM SalesLT.CallLog;"
            ],
            "metadata": {
                "azdata_cell_guid": "f40f19a1-9c6b-4758-92f4-5db1caf25a7e"
            },
            "outputs": [
                {
                    "output_type": "display_data",
                    "data": {
                        "text/html": "(0 rows affected)"
                    },
                    "metadata": {}
                },
                {
                    "output_type": "execute_result",
                    "metadata": {},
                    "execution_count": 24,
                    "data": {
                        "application/vnd.dataresource+json": {
                            "schema": {
                                "fields": [
                                    {
                                        "name": "CallID"
                                    },
                                    {
                                        "name": "CallTime"
                                    },
                                    {
                                        "name": "SalesPerson"
                                    },
                                    {
                                        "name": "CustomerID"
                                    },
                                    {
                                        "name": "PhoneNumber"
                                    },
                                    {
                                        "name": "Notes"
                                    }
                                ]
                            },
                            "data": []
                        },
                        "text/html": "<table><tr><th>CallID</th><th>CallTime</th><th>SalesPerson</th><th>CustomerID</th><th>PhoneNumber</th><th>Notes</th></tr></table>"
                    }
                },
                {
                    "output_type": "display_data",
                    "data": {
                        "text/html": "Total execution time: 00:00:00.007"
                    },
                    "metadata": {}
                }
            ],
            "execution_count": 24
        }
    ]
}